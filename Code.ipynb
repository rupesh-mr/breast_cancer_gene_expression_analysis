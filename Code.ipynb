{
  "cells": [
    {
      "cell_type": "markdown",
      "metadata": {
        "id": "3kXwCHvK8Euo"
      },
      "source": [
        "#Clustering Analysis of Breast Cancer Gene Expression Data\n",
        "\n",
        "## 1. Introduction\n",
        "The objective of this project is to apply unsupervised learning techniques such as clustering to explore subgroup classifications of breast cancer based on gene expression similarities.\n",
        "<!-- By leveraging clustering methods, we aim to identify patterns that may reveal biologically relevant insights, which can contribute to diagnosis, treatment, personalized medicine. -->\n",
        "The dataset consists of 151 samples with gene expression\n",
        "profiles of 54,676 genes, categorized into six distinct classes of breast cancer."
      ]
    },
    {
      "cell_type": "markdown",
      "metadata": {
        "id": "ba3TfhBV8fxs"
      },
      "source": [
        "1. Data Preprocessing"
      ]
    },
    {
      "cell_type": "code",
      "execution_count": 2,
      "metadata": {
        "colab": {
          "base_uri": "https://localhost:8080/"
        },
        "id": "sFS6fx0UqH0Y",
        "outputId": "a36d4dfc-3873-4d11-f7c3-75ee3fd5c633"
      },
      "outputs": [
        {
          "name": "stdout",
          "output_type": "stream",
          "text": [
            "Requirement already satisfied: kagglehub in /Library/Frameworks/Python.framework/Versions/3.12/lib/python3.12/site-packages (0.3.11)\n",
            "Requirement already satisfied: packaging in /Library/Frameworks/Python.framework/Versions/3.12/lib/python3.12/site-packages (from kagglehub) (24.1)\n",
            "Requirement already satisfied: pyyaml in /Library/Frameworks/Python.framework/Versions/3.12/lib/python3.12/site-packages (from kagglehub) (6.0.1)\n",
            "Requirement already satisfied: requests in /Library/Frameworks/Python.framework/Versions/3.12/lib/python3.12/site-packages (from kagglehub) (2.32.3)\n",
            "Requirement already satisfied: tqdm in /Library/Frameworks/Python.framework/Versions/3.12/lib/python3.12/site-packages (from kagglehub) (4.66.5)\n",
            "Requirement already satisfied: charset-normalizer<4,>=2 in /Library/Frameworks/Python.framework/Versions/3.12/lib/python3.12/site-packages (from requests->kagglehub) (3.3.2)\n",
            "Requirement already satisfied: idna<4,>=2.5 in /Library/Frameworks/Python.framework/Versions/3.12/lib/python3.12/site-packages (from requests->kagglehub) (3.7)\n",
            "Requirement already satisfied: urllib3<3,>=1.21.1 in /Library/Frameworks/Python.framework/Versions/3.12/lib/python3.12/site-packages (from requests->kagglehub) (2.2.1)\n",
            "Requirement already satisfied: certifi>=2017.4.17 in /Library/Frameworks/Python.framework/Versions/3.12/lib/python3.12/site-packages (from requests->kagglehub) (2024.12.14)\n"
          ]
        }
      ],
      "source": [
        "!pip install kagglehub"
      ]
    },
    {
      "cell_type": "code",
      "execution_count": 3,
      "metadata": {
        "colab": {
          "base_uri": "https://localhost:8080/"
        },
        "id": "dkHlwb8a34Tg",
        "outputId": "cfbf79be-4d91-4ffe-a5a0-ad812bd1fa72"
      },
      "outputs": [
        {
          "name": "stderr",
          "output_type": "stream",
          "text": [
            "/var/folders/yf/rvvbj6714bs0q18v1_01bdf00000gn/T/ipykernel_24344/3681515386.py:6: DeprecationWarning: load_dataset is deprecated and will be removed in future version.\n",
            "  df = kagglehub.load_dataset(\n"
          ]
        },
        {
          "name": "stdout",
          "output_type": "stream",
          "text": [
            "Warning: Looks like you're using an outdated `kagglehub` version (installed: 0.3.11), please consider upgrading to the latest version (0.3.12).\n"
          ]
        }
      ],
      "source": [
        "import pandas as pd\n",
        "from sklearn.preprocessing import StandardScaler\n",
        "import kagglehub\n",
        "from kagglehub import KaggleDatasetAdapter\n",
        "file_path = \"Breast_GSE45827.csv\"\n",
        "df = kagglehub.load_dataset(\n",
        "  KaggleDatasetAdapter.PANDAS,\n",
        "  \"brunogrisci/breast-cancer-gene-expression-cumida\",\n",
        "  file_path\n",
        ")"
      ]
    },
    {
      "cell_type": "code",
      "execution_count": 4,
      "metadata": {
        "id": "Cs2Segh5NBMi"
      },
      "outputs": [],
      "source": [
        "df=df.set_index(\"samples\")"
      ]
    },
    {
      "cell_type": "code",
      "execution_count": 5,
      "metadata": {
        "colab": {
          "base_uri": "https://localhost:8080/"
        },
        "id": "zFMtevUY8-C-",
        "outputId": "b8d85325-0efe-4cc9-869b-e155b1164312"
      },
      "outputs": [
        {
          "name": "stdout",
          "output_type": "stream",
          "text": [
            "Number of missing values in each attribute:\n",
            "type               0\n",
            "1007_s_at          0\n",
            "1053_at            0\n",
            "117_at             0\n",
            "121_at             0\n",
            "                  ..\n",
            "AFFX-ThrX-5_at     0\n",
            "AFFX-ThrX-M_at     0\n",
            "AFFX-TrpnX-3_at    0\n",
            "AFFX-TrpnX-5_at    0\n",
            "AFFX-TrpnX-M_at    0\n",
            "Length: 54676, dtype: int64\n",
            "\n",
            " Total number of missing values in the file: 0\n"
          ]
        }
      ],
      "source": [
        "missing_values_per_column = df.isnull().sum()\n",
        "total_missing_values = df.isnull().sum().sum()\n",
        "\n",
        "print(\"Number of missing values in each attribute:\")\n",
        "print(missing_values_per_column)\n",
        "\n",
        "print(\"\\n Total number of missing values in the file:\", total_missing_values)"
      ]
    },
    {
      "cell_type": "code",
      "execution_count": 6,
      "metadata": {
        "colab": {
          "base_uri": "https://localhost:8080/"
        },
        "id": "mBa8XZmO9GLL",
        "outputId": "d40c97ef-9114-470d-e9cc-39274a73c13e"
      },
      "outputs": [
        {
          "name": "stdout",
          "output_type": "stream",
          "text": [
            "Number of duplicate rows: 0\n"
          ]
        }
      ],
      "source": [
        "duplicates = df[df.duplicated()]\n",
        "print(f\"Number of duplicate rows: {duplicates.shape[0]}\")"
      ]
    },
    {
      "cell_type": "code",
      "execution_count": 7,
      "metadata": {
        "id": "ci8t1H_S9KFR"
      },
      "outputs": [],
      "source": [
        "num_cols = df.select_dtypes(include=['number']).columns\n",
        "for col in num_cols:\n",
        "    if (df[col] < 0).any():\n",
        "        print(f\"Column '{col}' contains negative values.\")"
      ]
    },
    {
      "cell_type": "markdown",
      "metadata": {
        "id": "oPTnPXdXBdWL"
      },
      "source": [
        "Encoding Cancer Type"
      ]
    },
    {
      "cell_type": "code",
      "execution_count": 8,
      "metadata": {
        "colab": {
          "base_uri": "https://localhost:8080/",
          "height": 339
        },
        "id": "yO0H4CRJ-BPp",
        "outputId": "e7f30690-6119-4421-d898-176359dc7efd"
      },
      "outputs": [
        {
          "data": {
            "text/html": [
              "<div>\n",
              "<style scoped>\n",
              "    .dataframe tbody tr th:only-of-type {\n",
              "        vertical-align: middle;\n",
              "    }\n",
              "\n",
              "    .dataframe tbody tr th {\n",
              "        vertical-align: top;\n",
              "    }\n",
              "\n",
              "    .dataframe thead th {\n",
              "        text-align: right;\n",
              "    }\n",
              "</style>\n",
              "<table border=\"1\" class=\"dataframe\">\n",
              "  <thead>\n",
              "    <tr style=\"text-align: right;\">\n",
              "      <th></th>\n",
              "      <th>type</th>\n",
              "      <th>1007_s_at</th>\n",
              "      <th>1053_at</th>\n",
              "      <th>117_at</th>\n",
              "      <th>121_at</th>\n",
              "      <th>1255_g_at</th>\n",
              "      <th>1294_at</th>\n",
              "      <th>1316_at</th>\n",
              "      <th>1320_at</th>\n",
              "      <th>1405_i_at</th>\n",
              "      <th>...</th>\n",
              "      <th>AFFX-r2-Ec-bioD-3_at</th>\n",
              "      <th>AFFX-r2-Ec-bioD-5_at</th>\n",
              "      <th>AFFX-r2-P1-cre-3_at</th>\n",
              "      <th>AFFX-r2-P1-cre-5_at</th>\n",
              "      <th>AFFX-ThrX-3_at</th>\n",
              "      <th>AFFX-ThrX-5_at</th>\n",
              "      <th>AFFX-ThrX-M_at</th>\n",
              "      <th>AFFX-TrpnX-3_at</th>\n",
              "      <th>AFFX-TrpnX-5_at</th>\n",
              "      <th>AFFX-TrpnX-M_at</th>\n",
              "    </tr>\n",
              "    <tr>\n",
              "      <th>samples</th>\n",
              "      <th></th>\n",
              "      <th></th>\n",
              "      <th></th>\n",
              "      <th></th>\n",
              "      <th></th>\n",
              "      <th></th>\n",
              "      <th></th>\n",
              "      <th></th>\n",
              "      <th></th>\n",
              "      <th></th>\n",
              "      <th></th>\n",
              "      <th></th>\n",
              "      <th></th>\n",
              "      <th></th>\n",
              "      <th></th>\n",
              "      <th></th>\n",
              "      <th></th>\n",
              "      <th></th>\n",
              "      <th></th>\n",
              "      <th></th>\n",
              "      <th></th>\n",
              "    </tr>\n",
              "  </thead>\n",
              "  <tbody>\n",
              "    <tr>\n",
              "      <th>84</th>\n",
              "      <td>1</td>\n",
              "      <td>9.850040</td>\n",
              "      <td>8.097927</td>\n",
              "      <td>6.424728</td>\n",
              "      <td>7.353027</td>\n",
              "      <td>3.029122</td>\n",
              "      <td>6.880079</td>\n",
              "      <td>4.963740</td>\n",
              "      <td>4.408328</td>\n",
              "      <td>8.870780</td>\n",
              "      <td>...</td>\n",
              "      <td>12.229711</td>\n",
              "      <td>11.852955</td>\n",
              "      <td>13.658701</td>\n",
              "      <td>13.477698</td>\n",
              "      <td>6.265781</td>\n",
              "      <td>5.016196</td>\n",
              "      <td>4.901594</td>\n",
              "      <td>2.966657</td>\n",
              "      <td>3.508495</td>\n",
              "      <td>3.301999</td>\n",
              "    </tr>\n",
              "    <tr>\n",
              "      <th>85</th>\n",
              "      <td>1</td>\n",
              "      <td>9.861357</td>\n",
              "      <td>8.212222</td>\n",
              "      <td>7.062593</td>\n",
              "      <td>7.685578</td>\n",
              "      <td>3.149468</td>\n",
              "      <td>7.542283</td>\n",
              "      <td>5.129607</td>\n",
              "      <td>4.584418</td>\n",
              "      <td>7.767646</td>\n",
              "      <td>...</td>\n",
              "      <td>12.178531</td>\n",
              "      <td>11.809408</td>\n",
              "      <td>13.750086</td>\n",
              "      <td>13.470146</td>\n",
              "      <td>6.771853</td>\n",
              "      <td>5.291005</td>\n",
              "      <td>5.405839</td>\n",
              "      <td>2.934763</td>\n",
              "      <td>3.687666</td>\n",
              "      <td>3.064299</td>\n",
              "    </tr>\n",
              "    <tr>\n",
              "      <th>87</th>\n",
              "      <td>1</td>\n",
              "      <td>10.103478</td>\n",
              "      <td>8.936137</td>\n",
              "      <td>5.735970</td>\n",
              "      <td>7.687822</td>\n",
              "      <td>3.125931</td>\n",
              "      <td>6.562369</td>\n",
              "      <td>4.813449</td>\n",
              "      <td>4.425195</td>\n",
              "      <td>9.417956</td>\n",
              "      <td>...</td>\n",
              "      <td>12.125108</td>\n",
              "      <td>11.725766</td>\n",
              "      <td>13.621732</td>\n",
              "      <td>13.295080</td>\n",
              "      <td>6.346952</td>\n",
              "      <td>5.171403</td>\n",
              "      <td>5.184286</td>\n",
              "      <td>2.847684</td>\n",
              "      <td>3.550597</td>\n",
              "      <td>3.158535</td>\n",
              "    </tr>\n",
              "    <tr>\n",
              "      <th>90</th>\n",
              "      <td>1</td>\n",
              "      <td>9.756875</td>\n",
              "      <td>7.357148</td>\n",
              "      <td>6.479183</td>\n",
              "      <td>6.986624</td>\n",
              "      <td>3.181638</td>\n",
              "      <td>7.802344</td>\n",
              "      <td>5.490982</td>\n",
              "      <td>4.567956</td>\n",
              "      <td>9.022345</td>\n",
              "      <td>...</td>\n",
              "      <td>12.111235</td>\n",
              "      <td>11.719215</td>\n",
              "      <td>13.743108</td>\n",
              "      <td>13.508861</td>\n",
              "      <td>6.610284</td>\n",
              "      <td>5.193356</td>\n",
              "      <td>5.086569</td>\n",
              "      <td>3.031602</td>\n",
              "      <td>3.524981</td>\n",
              "      <td>3.272665</td>\n",
              "    </tr>\n",
              "    <tr>\n",
              "      <th>91</th>\n",
              "      <td>1</td>\n",
              "      <td>9.408330</td>\n",
              "      <td>7.746404</td>\n",
              "      <td>6.693980</td>\n",
              "      <td>7.333426</td>\n",
              "      <td>3.169923</td>\n",
              "      <td>7.610457</td>\n",
              "      <td>5.372469</td>\n",
              "      <td>4.424426</td>\n",
              "      <td>9.400056</td>\n",
              "      <td>...</td>\n",
              "      <td>12.173642</td>\n",
              "      <td>11.861296</td>\n",
              "      <td>13.797774</td>\n",
              "      <td>13.542206</td>\n",
              "      <td>6.414354</td>\n",
              "      <td>5.040202</td>\n",
              "      <td>5.235318</td>\n",
              "      <td>2.956232</td>\n",
              "      <td>3.445501</td>\n",
              "      <td>3.193947</td>\n",
              "    </tr>\n",
              "  </tbody>\n",
              "</table>\n",
              "<p>5 rows × 54676 columns</p>\n",
              "</div>"
            ],
            "text/plain": [
              "         type  1007_s_at   1053_at    117_at    121_at  1255_g_at   1294_at  \\\n",
              "samples                                                                       \n",
              "84          1   9.850040  8.097927  6.424728  7.353027   3.029122  6.880079   \n",
              "85          1   9.861357  8.212222  7.062593  7.685578   3.149468  7.542283   \n",
              "87          1  10.103478  8.936137  5.735970  7.687822   3.125931  6.562369   \n",
              "90          1   9.756875  7.357148  6.479183  6.986624   3.181638  7.802344   \n",
              "91          1   9.408330  7.746404  6.693980  7.333426   3.169923  7.610457   \n",
              "\n",
              "          1316_at   1320_at  1405_i_at  ...  AFFX-r2-Ec-bioD-3_at  \\\n",
              "samples                                 ...                         \n",
              "84       4.963740  4.408328   8.870780  ...             12.229711   \n",
              "85       5.129607  4.584418   7.767646  ...             12.178531   \n",
              "87       4.813449  4.425195   9.417956  ...             12.125108   \n",
              "90       5.490982  4.567956   9.022345  ...             12.111235   \n",
              "91       5.372469  4.424426   9.400056  ...             12.173642   \n",
              "\n",
              "         AFFX-r2-Ec-bioD-5_at  AFFX-r2-P1-cre-3_at  AFFX-r2-P1-cre-5_at  \\\n",
              "samples                                                                   \n",
              "84                  11.852955            13.658701            13.477698   \n",
              "85                  11.809408            13.750086            13.470146   \n",
              "87                  11.725766            13.621732            13.295080   \n",
              "90                  11.719215            13.743108            13.508861   \n",
              "91                  11.861296            13.797774            13.542206   \n",
              "\n",
              "         AFFX-ThrX-3_at  AFFX-ThrX-5_at  AFFX-ThrX-M_at  AFFX-TrpnX-3_at  \\\n",
              "samples                                                                    \n",
              "84             6.265781        5.016196        4.901594         2.966657   \n",
              "85             6.771853        5.291005        5.405839         2.934763   \n",
              "87             6.346952        5.171403        5.184286         2.847684   \n",
              "90             6.610284        5.193356        5.086569         3.031602   \n",
              "91             6.414354        5.040202        5.235318         2.956232   \n",
              "\n",
              "         AFFX-TrpnX-5_at  AFFX-TrpnX-M_at  \n",
              "samples                                    \n",
              "84              3.508495         3.301999  \n",
              "85              3.687666         3.064299  \n",
              "87              3.550597         3.158535  \n",
              "90              3.524981         3.272665  \n",
              "91              3.445501         3.193947  \n",
              "\n",
              "[5 rows x 54676 columns]"
            ]
          },
          "execution_count": 8,
          "metadata": {},
          "output_type": "execute_result"
        }
      ],
      "source": [
        "from sklearn.preprocessing import OrdinalEncoder\n",
        "column = \"type\"\n",
        "\n",
        "# Initialize and fit the encoder\n",
        "encoder = OrdinalEncoder()\n",
        "df[[column]] = encoder.fit_transform(df[[column]])\n",
        "\n",
        "df[column] = df[column].astype(int)\n",
        "labels=df[\"type\"]\n",
        "encoded_file_path = \"Breast_GSE45827_encoded.csv\"\n",
        "df.to_csv(encoded_file_path, index=True)\n",
        "df.head()"
      ]
    },
    {
      "cell_type": "code",
      "execution_count": 9,
      "metadata": {
        "colab": {
          "base_uri": "https://localhost:8080/"
        },
        "id": "PAdgMaE0-NhT",
        "outputId": "3b970c8c-8595-4dc7-935a-85414ba010c9"
      },
      "outputs": [
        {
          "name": "stdout",
          "output_type": "stream",
          "text": [
            "Encoding Mapping: {0: 'HER', 1: 'basal', 2: 'cell_line', 3: 'luminal_A', 4: 'luminal_B', 5: 'normal'}\n"
          ]
        }
      ],
      "source": [
        "encoding_map = {i: category for i, category in enumerate(encoder.categories_[0])}\n",
        "print(\"Encoding Mapping:\", encoding_map)"
      ]
    },
    {
      "cell_type": "markdown",
      "metadata": {
        "id": "wiZnhpZfDTUz"
      },
      "source": [
        "##Feature Selection and Dimension Reduction"
      ]
    },
    {
      "cell_type": "markdown",
      "metadata": {
        "id": "mUIWbaCYhuBg"
      },
      "source": [
        "Identification of most relevant genes contributing to breast cancer classification using ANOVA F-TEST"
      ]
    },
    {
      "cell_type": "code",
      "execution_count": 10,
      "metadata": {
        "colab": {
          "base_uri": "https://localhost:8080/"
        },
        "id": "KKkNlS5G41GN",
        "outputId": "a0867820-ce31-4c62-f0a4-6b4f9aea30fc"
      },
      "outputs": [
        {
          "name": "stdout",
          "output_type": "stream",
          "text": [
            "Index(['200795_at', '202878_s_at', '205225_at', '210052_s_at', '210809_s_at',\n",
            "       '216836_s_at', '222358_x_at', '222608_s_at', '232814_x_at',\n",
            "       '240205_x_at'],\n",
            "      dtype='object')\n"
          ]
        }
      ],
      "source": [
        "from sklearn.feature_selection import SelectKBest, f_classif\n",
        "\n",
        "# X=pd.DataFrame(X_s, columns=df.columns, index=df.index)\n",
        "skb = SelectKBest(f_classif, k=10)\n",
        "X_sel = skb.fit_transform(df[df.columns[1:]], labels)\n",
        "mask = skb.get_support()\n",
        "selected_features = df.columns[1:][mask]\n",
        "print(selected_features)"
      ]
    },
    {
      "cell_type": "markdown",
      "metadata": {
        "id": "-okeGuOG6zso"
      },
      "source": [
        "The problem statement stated that we needed to identify the most relevant genes contributing to breast cancer classification.The top 10 discriminative genes are the ones mentioned above.This analysis was not used for clustering analysis as labels were used to determine these genes"
      ]
    },
    {
      "cell_type": "markdown",
      "metadata": {
        "id": "O94siHwmA7_Q"
      },
      "source": [
        "Low variance genes contribute little to the analysis"
      ]
    },
    {
      "cell_type": "code",
      "execution_count": 11,
      "metadata": {
        "colab": {
          "base_uri": "https://localhost:8080/"
        },
        "id": "paLH83HJ6dnu",
        "outputId": "e237bf19-a330-4e62-9c34-78bf984505f8"
      },
      "outputs": [
        {
          "name": "stdout",
          "output_type": "stream",
          "text": [
            "Kept 27337 high‑variance genes\n"
          ]
        }
      ],
      "source": [
        "expr=df\n",
        "labels=df[\"type\"]\n",
        "expr=expr.iloc[:,1:]\n",
        "expr=expr.T\n",
        "var = expr.var(axis=1)\n",
        "expr_filt = expr.loc[var > var.quantile(0.5)]\n",
        "print(f\"Kept {expr_filt.shape[0]} high‑variance genes\")"
      ]
    },
    {
      "cell_type": "code",
      "execution_count": 12,
      "metadata": {
        "id": "taqgu29c4vXa"
      },
      "outputs": [],
      "source": [
        "scaler = StandardScaler()\n",
        "X_scaled = scaler.fit_transform(expr_filt.T)"
      ]
    },
    {
      "cell_type": "code",
      "execution_count": 13,
      "metadata": {
        "colab": {
          "base_uri": "https://localhost:8080/"
        },
        "id": "FUqz49Sr7GIl",
        "outputId": "9c8dcd2c-2b51-4ef5-ae95-f4296ab6fe29"
      },
      "outputs": [
        {
          "data": {
            "text/plain": [
              "(151, 27337)"
            ]
          },
          "execution_count": 13,
          "metadata": {},
          "output_type": "execute_result"
        }
      ],
      "source": [
        "X_scaled.shape"
      ]
    },
    {
      "cell_type": "code",
      "execution_count": 14,
      "metadata": {
        "colab": {
          "base_uri": "https://localhost:8080/",
          "height": 300
        },
        "id": "1ORf7q30NCb0",
        "outputId": "9c9205af-f93e-4885-878b-616123dd966d"
      },
      "outputs": [
        {
          "data": {
            "image/png": "[encoded data removed]",
            "text/plain": [
              "<Figure size 2600x600 with 1 Axes>"
            ]
          },
          "metadata": {},
          "output_type": "display_data"
        }
      ],
      "source": [
        "from sklearn.decomposition import PCA\n",
        "import matplotlib.pyplot as plt\n",
        "pca = PCA()\n",
        "pca1 = pca.fit_transform(X_scaled)\n",
        "\n",
        "eigenvalues = pca.explained_variance_\n",
        "eigenvectors = pca.components_\n",
        "\n",
        "plt.figure(figsize=(26, 6))\n",
        "plt.plot(range(1, len(eigenvalues) + 1), eigenvalues, marker='o')\n",
        "plt.title('Eigenvalues in Descending Order')\n",
        "plt.xlabel('Principal Component')\n",
        "plt.ylabel('Eigenvalue')\n",
        "plt.grid(True)\n",
        "plt.show()"
      ]
    },
    {
      "cell_type": "code",
      "execution_count": 15,
      "metadata": {
        "colab": {
          "base_uri": "https://localhost:8080/"
        },
        "id": "8Q0Wz2uVDy0o",
        "outputId": "f1a2cb84-73bb-42f6-8981-de2134ec084a"
      },
      "outputs": [
        {
          "name": "stdout",
          "output_type": "stream",
          "text": [
            "Optimal number of components: 115\n"
          ]
        }
      ],
      "source": [
        "from sklearn.decomposition import PCA\n",
        "import numpy as np\n",
        "\n",
        "pca = PCA().fit(X_scaled)\n",
        "cumulative_variance = pca.explained_variance_ratio_.cumsum()  # Cumulative sum of explained variance\n",
        "num_components = np.argmax(cumulative_variance >= 0.95) + 1  # First index where variance reaches 95%\n",
        "print(f\"Optimal number of components: {num_components}\")"
      ]
    },
    {
      "cell_type": "markdown",
      "metadata": {
        "id": "lcdUuOgCEbil"
      },
      "source": [
        "115 features too high for 151 samples"
      ]
    },
    {
      "cell_type": "code",
      "execution_count": 16,
      "metadata": {
        "colab": {
          "base_uri": "https://localhost:8080/"
        },
        "id": "-vawaeWvEiKS",
        "outputId": "a1dbc304-3a2e-4407-9c9f-8ce8284ea325"
      },
      "outputs": [
        {
          "name": "stdout",
          "output_type": "stream",
          "text": [
            "Optimal number of components: 74\n"
          ]
        }
      ],
      "source": [
        "num_components = np.argmax(cumulative_variance >= 0.85) + 1  # First index where variance reaches 85%\n",
        "print(f\"Optimal number of components: {num_components}\")"
      ]
    },
    {
      "cell_type": "code",
      "execution_count": 17,
      "metadata": {
        "colab": {
          "base_uri": "https://localhost:8080/",
          "height": 472
        },
        "id": "lJv9p1nyo3Ea",
        "outputId": "406c5311-1169-4c47-c50d-faeb69d54b21"
      },
      "outputs": [
        {
          "data": {
            "image/png": "[encoded data removed]",
            "text/plain": [
              "<Figure size 640x480 with 1 Axes>"
            ]
          },
          "metadata": {},
          "output_type": "display_data"
        }
      ],
      "source": [
        "import matplotlib.pyplot as plt\n",
        "\n",
        "plt.plot(range(1, len(cumulative_variance) + 1), cumulative_variance, marker='o')\n",
        "plt.xlabel(\"Number of Components\")\n",
        "plt.ylabel(\"Cumulative Explained Variance\")\n",
        "plt.title(\"Scree Plot\")\n",
        "plt.show()"
      ]
    },
    {
      "cell_type": "code",
      "execution_count": 18,
      "metadata": {
        "colab": {
          "base_uri": "https://localhost:8080/"
        },
        "id": "RNCv-6Bs6vZM",
        "outputId": "ebe38885-80d6-4bf2-ebfa-d3ea60dba507"
      },
      "outputs": [
        {
          "name": "stdout",
          "output_type": "stream",
          "text": [
            "PCA retained 74 components\n"
          ]
        }
      ],
      "source": [
        "from sklearn.decomposition import PCA\n",
        "\n",
        "\n",
        "pca = PCA(n_components=74, svd_solver=\"full\", random_state=0)\n",
        "X_pca_full = pca.fit_transform(X_scaled)\n",
        "print(f\"PCA retained {X_pca_full.shape[1]} components\")\n",
        "\n",
        "# For 3D plotting:\n",
        "X_pca3 = X_pca_full[:, :3]"
      ]
    },
    {
      "cell_type": "code",
      "execution_count": 19,
      "metadata": {
        "colab": {
          "base_uri": "https://localhost:8080/",
          "height": 542
        },
        "id": "9dlPtJpk7VIS",
        "outputId": "998e7798-95b1-4c87-f630-ee302daa2cb5"
      },
      "outputs": [
        {
          "data": {
            "application/vnd.plotly.v1+json": {
              "config": {
                "plotlyServerURL": "https://plot.ly"
              },
              "data": [
                {
                  "hovertemplate": "PC1=%{x}<br>PC2=%{y}<br>PC3=%{z}<br>cluster=%{marker.color}<extra></extra>",
                  "legendgroup": "",
                  "marker": {
                    "color": {
                      "bdata": "AQEBAQEBAQEBAQEBAQEBAQEBAQEBAQEBAQEBAQEBAQEBAQEBAQEBAQEAAAAAAAAAAAAAAAAAAAAAAAAAAAAAAAAAAAAAAAACAgICAgICAgICAgICAgUFBQUFBQUDAwMDAwMDAwMDAwMDAwMDAwMDAwMDAwMDAwMDAwQEBAQEBAQEBAQEBAQEBAQEBAQEBAQEBAQEBAQEBA==",
                      "dtype": "i1"
                    },
                    "coloraxis": "coloraxis",
                    "opacity": 0.8,
                    "symbol": "circle"
                  },
                  "mode": "markers",
                  "name": "",
                  "scene": "scene",
                  "showlegend": false,
                  "type": "scatter3d",
                  "x": {
                    "bdata": "9Z32lsYVWcAKOtef/qhRwL3VuLubyl7AMzdC8cZAT8BRJmyTnARRwMHzy9PFBk3AI/SCqxHUUcDnh9QaWnJOwHsUf5crnVHAaGJs0JHWUsChVpKqi/9HwDVZ9USe5kHAH943aq6nNcCvPJmC7kJJwGFC0xuTY0DAx65bsf1TSMCwwy/E/XQ0wB2gBSl8G1DAasq6xgQEPsCEF8f5aolAwPzI/PCaP1LAJlAySv3M9b9Cv2aG14pVwIxs5JAKA0PApMIiXHwaQcDVBF54jTM/wL/Um1xxG0HAAoUeMNmgTMCIInRJG504wD3YhTGFYUPAZjoYlrMsRMBBGzUr6LtKwG6i91LUKzHArCzgP5ByRMBsH1y2ka/iP3dtzwraOkXAFWXdEyEAJsBTjWf1oJI8wJYy2NK5HkbAWklDTGKkMMCgulGaIHhHwDIivTDZXwbAvUM6i0dORcB+58OXv7QYwLp65oedBzLAeDb68B9YScBMopC/IXImwPL0BaMtgz7ARWBlDMpiKsAnyYsv1B04wM3p6U/kTT3AHzmYDt4QLsBCOJMrDXZCQDNcpOsu6SLA2VWO5K7SE8DfmmM3feEQwOxZ21iz+DlAFN5AVfRiFUA6MdY8zWs4wCC03zubhjtAqel7Vkn3MED/8vAMx4MmwNz8rsH2lApAwT/5gB7pKUBp6BTAr9k8QNWRt8uRYztAl02pzQw1TMCwExVJ7OUuQONbUtlctUNAhEIkcqXY+r+HGQDtGX0gwOme+bsOF2LA3zNA7qsyYcBsV89d/xhawOd0TqxNbF/A6wOouI1KYMCJvfxM7TFhwBR1IGnQCl7AMCtYLeAuXcA57xkGpoViwEH7fgnU/1rApP+ATY59YsCqAJmotVlYwC0Kj9DzqGDAcCDgMsklX8BaoEki5HhYQD2OkHEfplhAhlsr7nBdXUC+pP9sK+9aQI9sPsOf8llAr5av7J7dWkCfjoTblgZZQIL8uqAD805AoZwE59xrT0B28wzKXHBQQMYE7oT/YExA3dBir2F5UEDsjHyRJDRHQEI5owRzgVJAEff8KCxGUEBmrQVlpmlTQHIK3LSNAlNAFEnBhC+nVkAayq1013dQQN2ah/3vtVJAoojcyljeUECq14R3IZ9SQL9LxFqnb1NA6qQEqKwRSkBSZMEaBhxIQEp3ApyzLFRAjcde/vNjV0BdQY2cPjBDQP+Gxm0ODFBACFFl/8D6VUCJdCiI+5ZNQLwTp/iuPElASOCAK/psTkCPrOg2ZfpWQNSxAZaAzkpAIemyf1hTTUBDLVduluhOQAdv2LtESArAsRhGT8ECP0AZMb6N9VJBQEFz0cmUjkVAIh1peuwL9r8woxzIkVNVQA2OO/m69UVA+pr7z/JfR0BlqdTWSU5OQId9+1l3DlJAbo6Nk/bFSEBX0PGsA6pHQA6iPwFIbUZAUWp07v6tNECbYNEAtxBJQMncxXa1YUtA+67MtrfDN0DKcF6c1+UxQBjBW9x4xk1AlmXxU2gHJcCYlxNYkag7QCi2oXbwnzhAkv0QZOrqRkCPexZNbVZCQIjyKeEaA01AdMQe0KMdMUA8T8Dd3ZgiQBGWBOSW5kNAsF/7trtzQ0A=",
                    "dtype": "f8"
                  },
                  "y": {
                    "bdata": "vIreEvd0SEDWe1lhJahNQGYpAUkdHzBA8sRR/PUbUEB/g0bQ1t1OQFl0REktIjtAE/KPDFPcRUCExhC+wYBQQHCmgz+8ZFJAr8X4J/1OVEDug8dibztKQJGIscbKlTpAmtgd67oTNUBtR5mkygVTQCUqvvFV3zNAIPnN6S5INUA+0AJRkpwUQFjw6jVUKUtARmIqghe3TkAxXqE5XAxUQJdWLuXAIThAgipazpqjTUBP9+liRtBIQKREJ7MztlFAhuKw0EKrRUB7rDOukqNCQCVF7AyHSkFATQuRd5ykSUDf5Q50qbZFQF0b2HIqhFNAW5wByRHaIUA7zt0qOto0QOaUyHnQFz9AslgQw75/NkAVq/metqpGQNMVXDIRkkdAyJMuYOdwKkDrlM3Jf59MQMdzq9BkYENArKuA8EUxHkApEZpQ8sswQIDM8Ig14kBA4msXw+MvOUCr+ywvFk5DQD9NEWgfRkdAuL3Qy+5yOED8Byn0at5LQCZx0SriCUpAVkO4PMayOkBUVLByoQFLQNvNyOdfgVBAMjY2JSmdPkCCYJvPJ7tCQHRW1kGXp/k/pplm3REnQUCvKPoKE41IQBQFD2SxSkRAaS3qTzM5QUBEN+7JcJMnwJ56TjAxbuA/jcDjt9DuTUB/F0XrtbY9QNKjsD55Q0FAwAuMZCZDQUBMUrG6v6gRwLHQte7RCyxAdmU2w+Q7SEAY0+MRcaJMQM7b354Z+y1AeXErBmIEIkBLTmIC7ZVDQERjY+9fyVnAVSMfAckzUsB5uBetKwBdwBRM5YOZQlTA4R3tTtAKXcCeyMv6btFWwC7PAZu1zFXAQd6MWuziXcAYdrPn9L5YwJMvDQnnFVzAr1jNX1unXMAttmTz8RJewCrV5Wx7xV3A1erwMNVMX8D9SSUvqURRwM0sM062fUTAn7rNLxBBRsBo7eyPk15RwLZvBwbQeU/A2rEM7sInVMBbpHgNmH1RwGLcYKAN9SRAiEGTbZ2NIkD4U5WcTKEiwMJj0OLrkSXAlFeVFSOIJ0DPs7tigUMlwIEb+wB4Ag3AnrWcIN7KF0AUJoNoC+ZFwJIOiXyIdRnAyrtJzc77QMC5biCzszQ9wEYUd3qDaDHAz2A93tO2KMAbJjySnFwmwAx0Eq3spjfANHjNkt7gI8DCVdPP2DktwCNGAPlGCkfAvzR+xpNI5T/fymLrkhgyQF3y+79Ys0TA31nHTFCqQMCxiXid5SdGwMbQ/IpEAzFABMniT72pIcCfqzSugD8pQHd1Ljxx+izA83F/lt9K+r9gUkJOPxMqwEP91ZlpWyBAleTk0moRBsAxGS1ovKc5wKcyqCfnpSXANpU1UFzPMsCLmKf3LhVFwDb76eIyoyDA0+eOR0DGKsDynNuZVZQ5wFbAu30viEnAp/I2FVOxPsBiOBHKq8Q1QB3W3ZicAkTAoP8s94ESOMBS+y2Ipxo9wMTKMszhvwhAFur0Ms3cOMDkthGNLoQkwA6vpLTYREHALno6zhcCMMCVxbjxDgBAQAOlqrcK5irA77xIZ+HuQEB4E+oasbsqwOfM+KALB0nAX2M9SdGFJ8CRSCuD+Sc6wPLtd47hZSbARJnGq1Q5QcA=",
                    "dtype": "f8"
                  },
                  "z": {
                    "bdata": "1tZrsf2dAMCXx1Sl9CclwPuqztmyiyHAi0O+ik0rHMClu1kth5Tpv+VxII2QsSHAthydROL+4z9ZzgLCApwUwFPnaUnFLSTAMY0o5Mo4HMAGiy/M/WY0wHou/aBhW07AKN9MNIzvAMD66qhmx3g2wHX1rAPNlEjAAYgELoy9U8AQcQdj6OtRwJV9DXcrp0PAO3ANIc/EPMBlZ1eMMWFGwCEMfNK+0zvALBKLS9fRQ8CEpGvpDjU2wN5rjj5LMjvANO4kBDXvLcBFITmOL9VDwAjszeCI0iRA0IJmNEEmR8AH7UBLOcNDwJuZJxnq50DAtsSn3hOwUcC8gr6QYyVQwEIbel/vLEnAfurYGST3ScApTBY9LldNwOu3VeaJd0vAdtJHeMZeE8ClWM7exos8wKfh9MiyI07A5RTDmMpaRsAzzgG+mPJNwO+8mAPZpkhAj6sFbS8kUkAhd4gh6b1AQMQ1Ww5I501AJy47gBg/SkBkq+E0mWpDQJVfQQq+8lBAlG+vByZ2RkBrhE9EffRHQOZRSp1BVVFALxN1M3MsTED0bAjqHNMaQPfAc4t7kDhA5Gprs07IDcCOgZNEx0A4QAwtYVfCdSBAzP6AOk1DB8DPni2683pCQFazpP6kBTzAFsUoc1GaM0DNMnaNXfI2QLS0dp7aevQ/7CRuzN5zOcARGqGmaa0VQB72L8aZLEzAWCrUYvIhQsDCliY5yuUowCK8lj7ssBXAKYs1ht92N0B1qRAd2380QAsA7aWjgUJApRtdTLKkMEBeE9zJQS0qwA5EspWdJQtAdIWWRxhm9r/1mFj1QxAZQKDfPqm6ECFAZoj+7rFLGEBs127AwMEwQGM40lJEuRpAK42T6Yi8B0DNDk379AYkwGBS9GIq/Na/E+yWJ8ezB0DSbhQ7H0JZwGjfIS2QfVTAi+RFC7dNWMCDUk5ob95cwNhyKJBL4FrA6TzfiqrQWcCc9sMCswBewFo96oJ2oEBALU2ReHmTNUAr7hK7GhUyQC1ZYJo7ND5AKZQ71APw9b/59TDjTEo/QAGU0XQa5CVA/uiwEkzxOUDaX4NZLpY1QJxckGab7TVAy/xjVivRF8AcOqTiWuQnwGJfHyB0WDpA02kQ4bjWMkCxrWhycAoeQDmC8kggnDtApA/oymL9SkDLq+RrlQVEQCTVrqF11SjAL/OzSX/O1D+Oc/aija88QFxKpePEFD3A8mV2avUBKcCllpAwhZpDQJUdLpcscEVArKlCZY8uQEB+G/C2y/s5QI39DfrNCUdA8A4gD9TiQECEfxfA+IQ1wGOzSQK14lBA3bKL5aNjAUAF+bOC3l9HQOZMObLXMzZAGOKs8CY/QkA4wjCktP9BQPU1hfxPqTBA9lDIYfoiP0C8yzCskLI1QAUCFOf3fSHAeLhPcyzQSUBLv9j7nfQ1QMBnI2KUVU1ArUPEr68sQ0DRPCauIBQ9QHoJ9sM/YgzAA4RXMdTzNUC3zdk/PJ1IQBlZEzXHn/K/iqLnLcb3UECK4ovJsc04QLUJPZPEk0BAO9qDY25oHsCsxbWr7P01QMC//lS7diLAlcB0KZzFSUCdGBUsTzk8QIkQ79wBKTxAVfPdP2FXL0A=",
                    "dtype": "f8"
                  }
                }
              ],
              "layout": {
                "coloraxis": {
                  "colorbar": {
                    "title": {
                      "text": "cluster"
                    }
                  },
                  "colorscale": [
                    [
                      0,
                      "#0d0887"
                    ],
                    [
                      0.1111111111111111,
                      "#46039f"
                    ],
                    [
                      0.2222222222222222,
                      "#7201a8"
                    ],
                    [
                      0.3333333333333333,
                      "#9c179e"
                    ],
                    [
                      0.4444444444444444,
                      "#bd3786"
                    ],
                    [
                      0.5555555555555556,
                      "#d8576b"
                    ],
                    [
                      0.6666666666666666,
                      "#ed7953"
                    ],
                    [
                      0.7777777777777778,
                      "#fb9f3a"
                    ],
                    [
                      0.8888888888888888,
                      "#fdca26"
                    ],
                    [
                      1,
                      "#f0f921"
                    ]
                  ]
                },
                "legend": {
                  "tracegroupgap": 0
                },
                "scene": {
                  "domain": {
                    "x": [
                      0,
                      1
                    ],
                    "y": [
                      0,
                      1
                    ]
                  },
                  "xaxis": {
                    "title": {
                      "text": "PC1"
                    }
                  },
                  "yaxis": {
                    "title": {
                      "text": "PC2"
                    }
                  },
                  "zaxis": {
                    "title": {
                      "text": "PC3"
                    }
                  }
                },
                "template": {
                  "data": {
                    "bar": [
                      {
                        "error_x": {
                          "color": "#2a3f5f"
                        },
                        "error_y": {
                          "color": "#2a3f5f"
                        },
                        "marker": {
                          "line": {
                            "color": "#E5ECF6",
                            "width": 0.5
                          },
                          "pattern": {
                            "fillmode": "overlay",
                            "size": 10,
                            "solidity": 0.2
                          }
                        },
                        "type": "bar"
                      }
                    ],
                    "barpolar": [
                      {
                        "marker": {
                          "line": {
                            "color": "#E5ECF6",
                            "width": 0.5
                          },
                          "pattern": {
                            "fillmode": "overlay",
                            "size": 10,
                            "solidity": 0.2
                          }
                        },
                        "type": "barpolar"
                      }
                    ],
                    "carpet": [
                      {
                        "aaxis": {
                          "endlinecolor": "#2a3f5f",
                          "gridcolor": "white",
                          "linecolor": "white",
                          "minorgridcolor": "white",
                          "startlinecolor": "#2a3f5f"
                        },
                        "baxis": {
                          "endlinecolor": "#2a3f5f",
                          "gridcolor": "white",
                          "linecolor": "white",
                          "minorgridcolor": "white",
                          "startlinecolor": "#2a3f5f"
                        },
                        "type": "carpet"
                      }
                    ],
                    "choropleth": [
                      {
                        "colorbar": {
                          "outlinewidth": 0,
                          "ticks": ""
                        },
                        "type": "choropleth"
                      }
                    ],
                    "contour": [
                      {
                        "colorbar": {
                          "outlinewidth": 0,
                          "ticks": ""
                        },
                        "colorscale": [
                          [
                            0,
                            "#0d0887"
                          ],
                          [
                            0.1111111111111111,
                            "#46039f"
                          ],
                          [
                            0.2222222222222222,
                            "#7201a8"
                          ],
                          [
                            0.3333333333333333,
                            "#9c179e"
                          ],
                          [
                            0.4444444444444444,
                            "#bd3786"
                          ],
                          [
                            0.5555555555555556,
                            "#d8576b"
                          ],
                          [
                            0.6666666666666666,
                            "#ed7953"
                          ],
                          [
                            0.7777777777777778,
                            "#fb9f3a"
                          ],
                          [
                            0.8888888888888888,
                            "#fdca26"
                          ],
                          [
                            1,
                            "#f0f921"
                          ]
                        ],
                        "type": "contour"
                      }
                    ],
                    "contourcarpet": [
                      {
                        "colorbar": {
                          "outlinewidth": 0,
                          "ticks": ""
                        },
                        "type": "contourcarpet"
                      }
                    ],
                    "heatmap": [
                      {
                        "colorbar": {
                          "outlinewidth": 0,
                          "ticks": ""
                        },
                        "colorscale": [
                          [
                            0,
                            "#0d0887"
                          ],
                          [
                            0.1111111111111111,
                            "#46039f"
                          ],
                          [
                            0.2222222222222222,
                            "#7201a8"
                          ],
                          [
                            0.3333333333333333,
                            "#9c179e"
                          ],
                          [
                            0.4444444444444444,
                            "#bd3786"
                          ],
                          [
                            0.5555555555555556,
                            "#d8576b"
                          ],
                          [
                            0.6666666666666666,
                            "#ed7953"
                          ],
                          [
                            0.7777777777777778,
                            "#fb9f3a"
                          ],
                          [
                            0.8888888888888888,
                            "#fdca26"
                          ],
                          [
                            1,
                            "#f0f921"
                          ]
                        ],
                        "type": "heatmap"
                      }
                    ],
                    "histogram": [
                      {
                        "marker": {
                          "pattern": {
                            "fillmode": "overlay",
                            "size": 10,
                            "solidity": 0.2
                          }
                        },
                        "type": "histogram"
                      }
                    ],
                    "histogram2d": [
                      {
                        "colorbar": {
                          "outlinewidth": 0,
                          "ticks": ""
                        },
                        "colorscale": [
                          [
                            0,
                            "#0d0887"
                          ],
                          [
                            0.1111111111111111,
                            "#46039f"
                          ],
                          [
                            0.2222222222222222,
                            "#7201a8"
                          ],
                          [
                            0.3333333333333333,
                            "#9c179e"
                          ],
                          [
                            0.4444444444444444,
                            "#bd3786"
                          ],
                          [
                            0.5555555555555556,
                            "#d8576b"
                          ],
                          [
                            0.6666666666666666,
                            "#ed7953"
                          ],
                          [
                            0.7777777777777778,
                            "#fb9f3a"
                          ],
                          [
                            0.8888888888888888,
                            "#fdca26"
                          ],
                          [
                            1,
                            "#f0f921"
                          ]
                        ],
                        "type": "histogram2d"
                      }
                    ],
                    "histogram2dcontour": [
                      {
                        "colorbar": {
                          "outlinewidth": 0,
                          "ticks": ""
                        },
                        "colorscale": [
                          [
                            0,
                            "#0d0887"
                          ],
                          [
                            0.1111111111111111,
                            "#46039f"
                          ],
                          [
                            0.2222222222222222,
                            "#7201a8"
                          ],
                          [
                            0.3333333333333333,
                            "#9c179e"
                          ],
                          [
                            0.4444444444444444,
                            "#bd3786"
                          ],
                          [
                            0.5555555555555556,
                            "#d8576b"
                          ],
                          [
                            0.6666666666666666,
                            "#ed7953"
                          ],
                          [
                            0.7777777777777778,
                            "#fb9f3a"
                          ],
                          [
                            0.8888888888888888,
                            "#fdca26"
                          ],
                          [
                            1,
                            "#f0f921"
                          ]
                        ],
                        "type": "histogram2dcontour"
                      }
                    ],
                    "mesh3d": [
                      {
                        "colorbar": {
                          "outlinewidth": 0,
                          "ticks": ""
                        },
                        "type": "mesh3d"
                      }
                    ],
                    "parcoords": [
                      {
                        "line": {
                          "colorbar": {
                            "outlinewidth": 0,
                            "ticks": ""
                          }
                        },
                        "type": "parcoords"
                      }
                    ],
                    "pie": [
                      {
                        "automargin": true,
                        "type": "pie"
                      }
                    ],
                    "scatter": [
                      {
                        "fillpattern": {
                          "fillmode": "overlay",
                          "size": 10,
                          "solidity": 0.2
                        },
                        "type": "scatter"
                      }
                    ],
                    "scatter3d": [
                      {
                        "line": {
                          "colorbar": {
                            "outlinewidth": 0,
                            "ticks": ""
                          }
                        },
                        "marker": {
                          "colorbar": {
                            "outlinewidth": 0,
                            "ticks": ""
                          }
                        },
                        "type": "scatter3d"
                      }
                    ],
                    "scattercarpet": [
                      {
                        "marker": {
                          "colorbar": {
                            "outlinewidth": 0,
                            "ticks": ""
                          }
                        },
                        "type": "scattercarpet"
                      }
                    ],
                    "scattergeo": [
                      {
                        "marker": {
                          "colorbar": {
                            "outlinewidth": 0,
                            "ticks": ""
                          }
                        },
                        "type": "scattergeo"
                      }
                    ],
                    "scattergl": [
                      {
                        "marker": {
                          "colorbar": {
                            "outlinewidth": 0,
                            "ticks": ""
                          }
                        },
                        "type": "scattergl"
                      }
                    ],
                    "scattermap": [
                      {
                        "marker": {
                          "colorbar": {
                            "outlinewidth": 0,
                            "ticks": ""
                          }
                        },
                        "type": "scattermap"
                      }
                    ],
                    "scattermapbox": [
                      {
                        "marker": {
                          "colorbar": {
                            "outlinewidth": 0,
                            "ticks": ""
                          }
                        },
                        "type": "scattermapbox"
                      }
                    ],
                    "scatterpolar": [
                      {
                        "marker": {
                          "colorbar": {
                            "outlinewidth": 0,
                            "ticks": ""
                          }
                        },
                        "type": "scatterpolar"
                      }
                    ],
                    "scatterpolargl": [
                      {
                        "marker": {
                          "colorbar": {
                            "outlinewidth": 0,
                            "ticks": ""
                          }
                        },
                        "type": "scatterpolargl"
                      }
                    ],
                    "scatterternary": [
                      {
                        "marker": {
                          "colorbar": {
                            "outlinewidth": 0,
                            "ticks": ""
                          }
                        },
                        "type": "scatterternary"
                      }
                    ],
                    "surface": [
                      {
                        "colorbar": {
                          "outlinewidth": 0,
                          "ticks": ""
                        },
                        "colorscale": [
                          [
                            0,
                            "#0d0887"
                          ],
                          [
                            0.1111111111111111,
                            "#46039f"
                          ],
                          [
                            0.2222222222222222,
                            "#7201a8"
                          ],
                          [
                            0.3333333333333333,
                            "#9c179e"
                          ],
                          [
                            0.4444444444444444,
                            "#bd3786"
                          ],
                          [
                            0.5555555555555556,
                            "#d8576b"
                          ],
                          [
                            0.6666666666666666,
                            "#ed7953"
                          ],
                          [
                            0.7777777777777778,
                            "#fb9f3a"
                          ],
                          [
                            0.8888888888888888,
                            "#fdca26"
                          ],
                          [
                            1,
                            "#f0f921"
                          ]
                        ],
                        "type": "surface"
                      }
                    ],
                    "table": [
                      {
                        "cells": {
                          "fill": {
                            "color": "#EBF0F8"
                          },
                          "line": {
                            "color": "white"
                          }
                        },
                        "header": {
                          "fill": {
                            "color": "#C8D4E3"
                          },
                          "line": {
                            "color": "white"
                          }
                        },
                        "type": "table"
                      }
                    ]
                  },
                  "layout": {
                    "annotationdefaults": {
                      "arrowcolor": "#2a3f5f",
                      "arrowhead": 0,
                      "arrowwidth": 1
                    },
                    "autotypenumbers": "strict",
                    "coloraxis": {
                      "colorbar": {
                        "outlinewidth": 0,
                        "ticks": ""
                      }
                    },
                    "colorscale": {
                      "diverging": [
                        [
                          0,
                          "#8e0152"
                        ],
                        [
                          0.1,
                          "#c51b7d"
                        ],
                        [
                          0.2,
                          "#de77ae"
                        ],
                        [
                          0.3,
                          "#f1b6da"
                        ],
                        [
                          0.4,
                          "#fde0ef"
                        ],
                        [
                          0.5,
                          "#f7f7f7"
                        ],
                        [
                          0.6,
                          "#e6f5d0"
                        ],
                        [
                          0.7,
                          "#b8e186"
                        ],
                        [
                          0.8,
                          "#7fbc41"
                        ],
                        [
                          0.9,
                          "#4d9221"
                        ],
                        [
                          1,
                          "#276419"
                        ]
                      ],
                      "sequential": [
                        [
                          0,
                          "#0d0887"
                        ],
                        [
                          0.1111111111111111,
                          "#46039f"
                        ],
                        [
                          0.2222222222222222,
                          "#7201a8"
                        ],
                        [
                          0.3333333333333333,
                          "#9c179e"
                        ],
                        [
                          0.4444444444444444,
                          "#bd3786"
                        ],
                        [
                          0.5555555555555556,
                          "#d8576b"
                        ],
                        [
                          0.6666666666666666,
                          "#ed7953"
                        ],
                        [
                          0.7777777777777778,
                          "#fb9f3a"
                        ],
                        [
                          0.8888888888888888,
                          "#fdca26"
                        ],
                        [
                          1,
                          "#f0f921"
                        ]
                      ],
                      "sequentialminus": [
                        [
                          0,
                          "#0d0887"
                        ],
                        [
                          0.1111111111111111,
                          "#46039f"
                        ],
                        [
                          0.2222222222222222,
                          "#7201a8"
                        ],
                        [
                          0.3333333333333333,
                          "#9c179e"
                        ],
                        [
                          0.4444444444444444,
                          "#bd3786"
                        ],
                        [
                          0.5555555555555556,
                          "#d8576b"
                        ],
                        [
                          0.6666666666666666,
                          "#ed7953"
                        ],
                        [
                          0.7777777777777778,
                          "#fb9f3a"
                        ],
                        [
                          0.8888888888888888,
                          "#fdca26"
                        ],
                        [
                          1,
                          "#f0f921"
                        ]
                      ]
                    },
                    "colorway": [
                      "#636efa",
                      "#EF553B",
                      "#00cc96",
                      "#ab63fa",
                      "#FFA15A",
                      "#19d3f3",
                      "#FF6692",
                      "#B6E880",
                      "#FF97FF",
                      "#FECB52"
                    ],
                    "font": {
                      "color": "#2a3f5f"
                    },
                    "geo": {
                      "bgcolor": "white",
                      "lakecolor": "white",
                      "landcolor": "#E5ECF6",
                      "showlakes": true,
                      "showland": true,
                      "subunitcolor": "white"
                    },
                    "hoverlabel": {
                      "align": "left"
                    },
                    "hovermode": "closest",
                    "mapbox": {
                      "style": "light"
                    },
                    "paper_bgcolor": "white",
                    "plot_bgcolor": "#E5ECF6",
                    "polar": {
                      "angularaxis": {
                        "gridcolor": "white",
                        "linecolor": "white",
                        "ticks": ""
                      },
                      "bgcolor": "#E5ECF6",
                      "radialaxis": {
                        "gridcolor": "white",
                        "linecolor": "white",
                        "ticks": ""
                      }
                    },
                    "scene": {
                      "xaxis": {
                        "backgroundcolor": "#E5ECF6",
                        "gridcolor": "white",
                        "gridwidth": 2,
                        "linecolor": "white",
                        "showbackground": true,
                        "ticks": "",
                        "zerolinecolor": "white"
                      },
                      "yaxis": {
                        "backgroundcolor": "#E5ECF6",
                        "gridcolor": "white",
                        "gridwidth": 2,
                        "linecolor": "white",
                        "showbackground": true,
                        "ticks": "",
                        "zerolinecolor": "white"
                      },
                      "zaxis": {
                        "backgroundcolor": "#E5ECF6",
                        "gridcolor": "white",
                        "gridwidth": 2,
                        "linecolor": "white",
                        "showbackground": true,
                        "ticks": "",
                        "zerolinecolor": "white"
                      }
                    },
                    "shapedefaults": {
                      "line": {
                        "color": "#2a3f5f"
                      }
                    },
                    "ternary": {
                      "aaxis": {
                        "gridcolor": "white",
                        "linecolor": "white",
                        "ticks": ""
                      },
                      "baxis": {
                        "gridcolor": "white",
                        "linecolor": "white",
                        "ticks": ""
                      },
                      "bgcolor": "#E5ECF6",
                      "caxis": {
                        "gridcolor": "white",
                        "linecolor": "white",
                        "ticks": ""
                      }
                    },
                    "title": {
                      "x": 0.05
                    },
                    "xaxis": {
                      "automargin": true,
                      "gridcolor": "white",
                      "linecolor": "white",
                      "ticks": "",
                      "title": {
                        "standoff": 15
                      },
                      "zerolinecolor": "white",
                      "zerolinewidth": 2
                    },
                    "yaxis": {
                      "automargin": true,
                      "gridcolor": "white",
                      "linecolor": "white",
                      "ticks": "",
                      "title": {
                        "standoff": 15
                      },
                      "zerolinecolor": "white",
                      "zerolinewidth": 2
                    }
                  }
                },
                "title": {
                  "text": "Original Clusters on PCA Space"
                }
              }
            }
          },
          "metadata": {},
          "output_type": "display_data"
        }
      ],
      "source": [
        "import plotly.express as px\n",
        "df1 = pd.DataFrame(X_pca3, columns=[\"PC1\",\"PC2\",\"PC3\"])\n",
        "df1[\"cluster\"] = labels.reset_index(drop=True)\n",
        "fig = px.scatter_3d(df1, x=\"PC1\", y=\"PC2\", z=\"PC3\",\n",
        "                    color=\"cluster\", opacity=0.8,\n",
        "                    title=\"Original Clusters on PCA Space\")\n",
        "fig.show()"
      ]
    },
    {
      "cell_type": "code",
      "execution_count": 20,
      "metadata": {
        "colab": {
          "base_uri": "https://localhost:8080/"
        },
        "id": "XLBgqIJYDgB6",
        "outputId": "2bcbe51b-6485-49a1-996b-30a56c343ba0"
      },
      "outputs": [
        {
          "name": "stderr",
          "output_type": "stream",
          "text": [
            "/Library/Frameworks/Python.framework/Versions/3.12/lib/python3.12/site-packages/umap/umap_.py:1952: UserWarning:\n",
            "\n",
            "n_jobs value 1 overridden to 1 by setting random_state. Use no seed for parallelism.\n",
            "\n",
            "OMP: Info #276: omp_set_nested routine deprecated, please use omp_set_max_active_levels instead.\n"
          ]
        }
      ],
      "source": [
        "import umap\n",
        "X_umap = umap.UMAP(n_components=5, random_state=0).fit_transform(X_pca_full)"
      ]
    },
    {
      "cell_type": "code",
      "execution_count": 21,
      "metadata": {
        "colab": {
          "base_uri": "https://localhost:8080/"
        },
        "id": "VKcnjpoyBMRw",
        "outputId": "e582e9a8-ebb2-4427-a8f8-677f58407ead"
      },
      "outputs": [
        {
          "data": {
            "text/plain": [
              "(151, 5)"
            ]
          },
          "execution_count": 21,
          "metadata": {},
          "output_type": "execute_result"
        }
      ],
      "source": [
        "X_umap.shape"
      ]
    },
    {
      "cell_type": "markdown",
      "metadata": {
        "id": "GahbUTRXCfLy"
      },
      "source": [
        "#Model Training"
      ]
    },
    {
      "cell_type": "markdown",
      "metadata": {
        "id": "KTYgS6ygC06_"
      },
      "source": [
        "##Kmeans For k=6"
      ]
    },
    {
      "cell_type": "code",
      "execution_count": 22,
      "metadata": {
        "id": "QeG0lQBW936I"
      },
      "outputs": [],
      "source": [
        "from sklearn.cluster import KMeans\n",
        "from sklearn.cluster import AgglomerativeClustering\n",
        "from sklearn.mixture import GaussianMixture"
      ]
    },
    {
      "cell_type": "code",
      "execution_count": 23,
      "metadata": {
        "colab": {
          "base_uri": "https://localhost:8080/",
          "height": 542
        },
        "id": "yQOUUeHnCq5X",
        "outputId": "df16a457-9080-4282-f1ac-b9f3b569eafa"
      },
      "outputs": [
        {
          "data": {
            "application/vnd.plotly.v1+json": {
              "config": {
                "plotlyServerURL": "https://plot.ly"
              },
              "data": [
                {
                  "hovertemplate": "PC1=%{x}<br>PC2=%{y}<br>PC3=%{z}<br>cluster=%{marker.color}<extra></extra>",
                  "legendgroup": "",
                  "marker": {
                    "color": {
                      "bdata": "AgAAAAIAAAACAAAAAgAAAAIAAAACAAAAAgAAAAIAAAACAAAAAgAAAAIAAAACAAAAAAAAAAIAAAACAAAAAgAAAAIAAAACAAAAAgAAAAIAAAACAAAAAgAAAAIAAAACAAAAAAAAAAIAAAAAAAAAAgAAAAIAAAACAAAAAgAAAAIAAAACAAAAAgAAAAIAAAACAAAAAAAAAAIAAAACAAAAAgAAAAIAAAAFAAAABQAAAAUAAAAFAAAABQAAAAUAAAAFAAAABQAAAAUAAAAFAAAABQAAAAAAAAAAAAAAAAAAAAAAAAAAAAAAAAAAAAAAAAAAAAAAAAAAAAAAAAAAAAAAAAAAAAAAAAAAAAAAAgAAAAAAAAAAAAAAAAAAAAAAAAADAAAAAwAAAAMAAAADAAAAAwAAAAMAAAADAAAAAwAAAAMAAAADAAAAAwAAAAMAAAADAAAAAwAAAAQAAAAEAAAABAAAAAQAAAAEAAAABAAAAAQAAAABAAAAAQAAAAEAAAABAAAAAQAAAAEAAAABAAAAAQAAAAEAAAABAAAAAQAAAAEAAAABAAAAAQAAAAEAAAABAAAAAQAAAAEAAAABAAAAAQAAAAEAAAABAAAAAQAAAAEAAAABAAAAAQAAAAEAAAABAAAAAQAAAAEAAAAFAAAAAQAAAAEAAAABAAAAAQAAAAEAAAABAAAAAQAAAAEAAAABAAAAAQAAAAEAAAABAAAAAQAAAAEAAAABAAAAAQAAAAEAAAABAAAAAQAAAAUAAAABAAAAAQAAAAEAAAABAAAAAQAAAAEAAAABAAAAAQAAAA==",
                      "dtype": "i4"
                    },
                    "coloraxis": "coloraxis",
                    "opacity": 0.7,
                    "symbol": "circle"
                  },
                  "mode": "markers",
                  "name": "",
                  "scene": "scene",
                  "showlegend": false,
                  "type": "scatter3d",
                  "x": {
                    "bdata": "9Z32lsYVWcAKOtef/qhRwL3VuLubyl7AMzdC8cZAT8BRJmyTnARRwMHzy9PFBk3AI/SCqxHUUcDnh9QaWnJOwHsUf5crnVHAaGJs0JHWUsChVpKqi/9HwDVZ9USe5kHAH943aq6nNcCvPJmC7kJJwGFC0xuTY0DAx65bsf1TSMCwwy/E/XQ0wB2gBSl8G1DAasq6xgQEPsCEF8f5aolAwPzI/PCaP1LAJlAySv3M9b9Cv2aG14pVwIxs5JAKA0PApMIiXHwaQcDVBF54jTM/wL/Um1xxG0HAAoUeMNmgTMCIInRJG504wD3YhTGFYUPAZjoYlrMsRMBBGzUr6LtKwG6i91LUKzHArCzgP5ByRMBsH1y2ka/iP3dtzwraOkXAFWXdEyEAJsBTjWf1oJI8wJYy2NK5HkbAWklDTGKkMMCgulGaIHhHwDIivTDZXwbAvUM6i0dORcB+58OXv7QYwLp65oedBzLAeDb68B9YScBMopC/IXImwPL0BaMtgz7ARWBlDMpiKsAnyYsv1B04wM3p6U/kTT3AHzmYDt4QLsBCOJMrDXZCQDNcpOsu6SLA2VWO5K7SE8DfmmM3feEQwOxZ21iz+DlAFN5AVfRiFUA6MdY8zWs4wCC03zubhjtAqel7Vkn3MED/8vAMx4MmwNz8rsH2lApAwT/5gB7pKUBp6BTAr9k8QNWRt8uRYztAl02pzQw1TMCwExVJ7OUuQONbUtlctUNAhEIkcqXY+r+HGQDtGX0gwOme+bsOF2LA3zNA7qsyYcBsV89d/xhawOd0TqxNbF/A6wOouI1KYMCJvfxM7TFhwBR1IGnQCl7AMCtYLeAuXcA57xkGpoViwEH7fgnU/1rApP+ATY59YsCqAJmotVlYwC0Kj9DzqGDAcCDgMsklX8BaoEki5HhYQD2OkHEfplhAhlsr7nBdXUC+pP9sK+9aQI9sPsOf8llAr5av7J7dWkCfjoTblgZZQIL8uqAD805AoZwE59xrT0B28wzKXHBQQMYE7oT/YExA3dBir2F5UEDsjHyRJDRHQEI5owRzgVJAEff8KCxGUEBmrQVlpmlTQHIK3LSNAlNAFEnBhC+nVkAayq1013dQQN2ah/3vtVJAoojcyljeUECq14R3IZ9SQL9LxFqnb1NA6qQEqKwRSkBSZMEaBhxIQEp3ApyzLFRAjcde/vNjV0BdQY2cPjBDQP+Gxm0ODFBACFFl/8D6VUCJdCiI+5ZNQLwTp/iuPElASOCAK/psTkCPrOg2ZfpWQNSxAZaAzkpAIemyf1hTTUBDLVduluhOQAdv2LtESArAsRhGT8ECP0AZMb6N9VJBQEFz0cmUjkVAIh1peuwL9r8woxzIkVNVQA2OO/m69UVA+pr7z/JfR0BlqdTWSU5OQId9+1l3DlJAbo6Nk/bFSEBX0PGsA6pHQA6iPwFIbUZAUWp07v6tNECbYNEAtxBJQMncxXa1YUtA+67MtrfDN0DKcF6c1+UxQBjBW9x4xk1AlmXxU2gHJcCYlxNYkag7QCi2oXbwnzhAkv0QZOrqRkCPexZNbVZCQIjyKeEaA01AdMQe0KMdMUA8T8Dd3ZgiQBGWBOSW5kNAsF/7trtzQ0A=",
                    "dtype": "f8"
                  },
                  "y": {
                    "bdata": "vIreEvd0SEDWe1lhJahNQGYpAUkdHzBA8sRR/PUbUEB/g0bQ1t1OQFl0REktIjtAE/KPDFPcRUCExhC+wYBQQHCmgz+8ZFJAr8X4J/1OVEDug8dibztKQJGIscbKlTpAmtgd67oTNUBtR5mkygVTQCUqvvFV3zNAIPnN6S5INUA+0AJRkpwUQFjw6jVUKUtARmIqghe3TkAxXqE5XAxUQJdWLuXAIThAgipazpqjTUBP9+liRtBIQKREJ7MztlFAhuKw0EKrRUB7rDOukqNCQCVF7AyHSkFATQuRd5ykSUDf5Q50qbZFQF0b2HIqhFNAW5wByRHaIUA7zt0qOto0QOaUyHnQFz9AslgQw75/NkAVq/metqpGQNMVXDIRkkdAyJMuYOdwKkDrlM3Jf59MQMdzq9BkYENArKuA8EUxHkApEZpQ8sswQIDM8Ig14kBA4msXw+MvOUCr+ywvFk5DQD9NEWgfRkdAuL3Qy+5yOED8Byn0at5LQCZx0SriCUpAVkO4PMayOkBUVLByoQFLQNvNyOdfgVBAMjY2JSmdPkCCYJvPJ7tCQHRW1kGXp/k/pplm3REnQUCvKPoKE41IQBQFD2SxSkRAaS3qTzM5QUBEN+7JcJMnwJ56TjAxbuA/jcDjt9DuTUB/F0XrtbY9QNKjsD55Q0FAwAuMZCZDQUBMUrG6v6gRwLHQte7RCyxAdmU2w+Q7SEAY0+MRcaJMQM7b354Z+y1AeXErBmIEIkBLTmIC7ZVDQERjY+9fyVnAVSMfAckzUsB5uBetKwBdwBRM5YOZQlTA4R3tTtAKXcCeyMv6btFWwC7PAZu1zFXAQd6MWuziXcAYdrPn9L5YwJMvDQnnFVzAr1jNX1unXMAttmTz8RJewCrV5Wx7xV3A1erwMNVMX8D9SSUvqURRwM0sM062fUTAn7rNLxBBRsBo7eyPk15RwLZvBwbQeU/A2rEM7sInVMBbpHgNmH1RwGLcYKAN9SRAiEGTbZ2NIkD4U5WcTKEiwMJj0OLrkSXAlFeVFSOIJ0DPs7tigUMlwIEb+wB4Ag3AnrWcIN7KF0AUJoNoC+ZFwJIOiXyIdRnAyrtJzc77QMC5biCzszQ9wEYUd3qDaDHAz2A93tO2KMAbJjySnFwmwAx0Eq3spjfANHjNkt7gI8DCVdPP2DktwCNGAPlGCkfAvzR+xpNI5T/fymLrkhgyQF3y+79Ys0TA31nHTFCqQMCxiXid5SdGwMbQ/IpEAzFABMniT72pIcCfqzSugD8pQHd1Ljxx+izA83F/lt9K+r9gUkJOPxMqwEP91ZlpWyBAleTk0moRBsAxGS1ovKc5wKcyqCfnpSXANpU1UFzPMsCLmKf3LhVFwDb76eIyoyDA0+eOR0DGKsDynNuZVZQ5wFbAu30viEnAp/I2FVOxPsBiOBHKq8Q1QB3W3ZicAkTAoP8s94ESOMBS+y2Ipxo9wMTKMszhvwhAFur0Ms3cOMDkthGNLoQkwA6vpLTYREHALno6zhcCMMCVxbjxDgBAQAOlqrcK5irA77xIZ+HuQEB4E+oasbsqwOfM+KALB0nAX2M9SdGFJ8CRSCuD+Sc6wPLtd47hZSbARJnGq1Q5QcA=",
                    "dtype": "f8"
                  },
                  "z": {
                    "bdata": "1tZrsf2dAMCXx1Sl9CclwPuqztmyiyHAi0O+ik0rHMClu1kth5Tpv+VxII2QsSHAthydROL+4z9ZzgLCApwUwFPnaUnFLSTAMY0o5Mo4HMAGiy/M/WY0wHou/aBhW07AKN9MNIzvAMD66qhmx3g2wHX1rAPNlEjAAYgELoy9U8AQcQdj6OtRwJV9DXcrp0PAO3ANIc/EPMBlZ1eMMWFGwCEMfNK+0zvALBKLS9fRQ8CEpGvpDjU2wN5rjj5LMjvANO4kBDXvLcBFITmOL9VDwAjszeCI0iRA0IJmNEEmR8AH7UBLOcNDwJuZJxnq50DAtsSn3hOwUcC8gr6QYyVQwEIbel/vLEnAfurYGST3ScApTBY9LldNwOu3VeaJd0vAdtJHeMZeE8ClWM7exos8wKfh9MiyI07A5RTDmMpaRsAzzgG+mPJNwO+8mAPZpkhAj6sFbS8kUkAhd4gh6b1AQMQ1Ww5I501AJy47gBg/SkBkq+E0mWpDQJVfQQq+8lBAlG+vByZ2RkBrhE9EffRHQOZRSp1BVVFALxN1M3MsTED0bAjqHNMaQPfAc4t7kDhA5Gprs07IDcCOgZNEx0A4QAwtYVfCdSBAzP6AOk1DB8DPni2683pCQFazpP6kBTzAFsUoc1GaM0DNMnaNXfI2QLS0dp7aevQ/7CRuzN5zOcARGqGmaa0VQB72L8aZLEzAWCrUYvIhQsDCliY5yuUowCK8lj7ssBXAKYs1ht92N0B1qRAd2380QAsA7aWjgUJApRtdTLKkMEBeE9zJQS0qwA5EspWdJQtAdIWWRxhm9r/1mFj1QxAZQKDfPqm6ECFAZoj+7rFLGEBs127AwMEwQGM40lJEuRpAK42T6Yi8B0DNDk379AYkwGBS9GIq/Na/E+yWJ8ezB0DSbhQ7H0JZwGjfIS2QfVTAi+RFC7dNWMCDUk5ob95cwNhyKJBL4FrA6TzfiqrQWcCc9sMCswBewFo96oJ2oEBALU2ReHmTNUAr7hK7GhUyQC1ZYJo7ND5AKZQ71APw9b/59TDjTEo/QAGU0XQa5CVA/uiwEkzxOUDaX4NZLpY1QJxckGab7TVAy/xjVivRF8AcOqTiWuQnwGJfHyB0WDpA02kQ4bjWMkCxrWhycAoeQDmC8kggnDtApA/oymL9SkDLq+RrlQVEQCTVrqF11SjAL/OzSX/O1D+Oc/aija88QFxKpePEFD3A8mV2avUBKcCllpAwhZpDQJUdLpcscEVArKlCZY8uQEB+G/C2y/s5QI39DfrNCUdA8A4gD9TiQECEfxfA+IQ1wGOzSQK14lBA3bKL5aNjAUAF+bOC3l9HQOZMObLXMzZAGOKs8CY/QkA4wjCktP9BQPU1hfxPqTBA9lDIYfoiP0C8yzCskLI1QAUCFOf3fSHAeLhPcyzQSUBLv9j7nfQ1QMBnI2KUVU1ArUPEr68sQ0DRPCauIBQ9QHoJ9sM/YgzAA4RXMdTzNUC3zdk/PJ1IQBlZEzXHn/K/iqLnLcb3UECK4ovJsc04QLUJPZPEk0BAO9qDY25oHsCsxbWr7P01QMC//lS7diLAlcB0KZzFSUCdGBUsTzk8QIkQ79wBKTxAVfPdP2FXL0A=",
                    "dtype": "f8"
                  }
                }
              ],
              "layout": {
                "coloraxis": {
                  "colorbar": {
                    "title": {
                      "text": "cluster"
                    }
                  },
                  "colorscale": [
                    [
                      0,
                      "#0d0887"
                    ],
                    [
                      0.1111111111111111,
                      "#46039f"
                    ],
                    [
                      0.2222222222222222,
                      "#7201a8"
                    ],
                    [
                      0.3333333333333333,
                      "#9c179e"
                    ],
                    [
                      0.4444444444444444,
                      "#bd3786"
                    ],
                    [
                      0.5555555555555556,
                      "#d8576b"
                    ],
                    [
                      0.6666666666666666,
                      "#ed7953"
                    ],
                    [
                      0.7777777777777778,
                      "#fb9f3a"
                    ],
                    [
                      0.8888888888888888,
                      "#fdca26"
                    ],
                    [
                      1,
                      "#f0f921"
                    ]
                  ]
                },
                "legend": {
                  "tracegroupgap": 0
                },
                "scene": {
                  "domain": {
                    "x": [
                      0,
                      1
                    ],
                    "y": [
                      0,
                      1
                    ]
                  },
                  "xaxis": {
                    "title": {
                      "text": "PC1"
                    }
                  },
                  "yaxis": {
                    "title": {
                      "text": "PC2"
                    }
                  },
                  "zaxis": {
                    "title": {
                      "text": "PC3"
                    }
                  }
                },
                "template": {
                  "data": {
                    "bar": [
                      {
                        "error_x": {
                          "color": "#2a3f5f"
                        },
                        "error_y": {
                          "color": "#2a3f5f"
                        },
                        "marker": {
                          "line": {
                            "color": "#E5ECF6",
                            "width": 0.5
                          },
                          "pattern": {
                            "fillmode": "overlay",
                            "size": 10,
                            "solidity": 0.2
                          }
                        },
                        "type": "bar"
                      }
                    ],
                    "barpolar": [
                      {
                        "marker": {
                          "line": {
                            "color": "#E5ECF6",
                            "width": 0.5
                          },
                          "pattern": {
                            "fillmode": "overlay",
                            "size": 10,
                            "solidity": 0.2
                          }
                        },
                        "type": "barpolar"
                      }
                    ],
                    "carpet": [
                      {
                        "aaxis": {
                          "endlinecolor": "#2a3f5f",
                          "gridcolor": "white",
                          "linecolor": "white",
                          "minorgridcolor": "white",
                          "startlinecolor": "#2a3f5f"
                        },
                        "baxis": {
                          "endlinecolor": "#2a3f5f",
                          "gridcolor": "white",
                          "linecolor": "white",
                          "minorgridcolor": "white",
                          "startlinecolor": "#2a3f5f"
                        },
                        "type": "carpet"
                      }
                    ],
                    "choropleth": [
                      {
                        "colorbar": {
                          "outlinewidth": 0,
                          "ticks": ""
                        },
                        "type": "choropleth"
                      }
                    ],
                    "contour": [
                      {
                        "colorbar": {
                          "outlinewidth": 0,
                          "ticks": ""
                        },
                        "colorscale": [
                          [
                            0,
                            "#0d0887"
                          ],
                          [
                            0.1111111111111111,
                            "#46039f"
                          ],
                          [
                            0.2222222222222222,
                            "#7201a8"
                          ],
                          [
                            0.3333333333333333,
                            "#9c179e"
                          ],
                          [
                            0.4444444444444444,
                            "#bd3786"
                          ],
                          [
                            0.5555555555555556,
                            "#d8576b"
                          ],
                          [
                            0.6666666666666666,
                            "#ed7953"
                          ],
                          [
                            0.7777777777777778,
                            "#fb9f3a"
                          ],
                          [
                            0.8888888888888888,
                            "#fdca26"
                          ],
                          [
                            1,
                            "#f0f921"
                          ]
                        ],
                        "type": "contour"
                      }
                    ],
                    "contourcarpet": [
                      {
                        "colorbar": {
                          "outlinewidth": 0,
                          "ticks": ""
                        },
                        "type": "contourcarpet"
                      }
                    ],
                    "heatmap": [
                      {
                        "colorbar": {
                          "outlinewidth": 0,
                          "ticks": ""
                        },
                        "colorscale": [
                          [
                            0,
                            "#0d0887"
                          ],
                          [
                            0.1111111111111111,
                            "#46039f"
                          ],
                          [
                            0.2222222222222222,
                            "#7201a8"
                          ],
                          [
                            0.3333333333333333,
                            "#9c179e"
                          ],
                          [
                            0.4444444444444444,
                            "#bd3786"
                          ],
                          [
                            0.5555555555555556,
                            "#d8576b"
                          ],
                          [
                            0.6666666666666666,
                            "#ed7953"
                          ],
                          [
                            0.7777777777777778,
                            "#fb9f3a"
                          ],
                          [
                            0.8888888888888888,
                            "#fdca26"
                          ],
                          [
                            1,
                            "#f0f921"
                          ]
                        ],
                        "type": "heatmap"
                      }
                    ],
                    "histogram": [
                      {
                        "marker": {
                          "pattern": {
                            "fillmode": "overlay",
                            "size": 10,
                            "solidity": 0.2
                          }
                        },
                        "type": "histogram"
                      }
                    ],
                    "histogram2d": [
                      {
                        "colorbar": {
                          "outlinewidth": 0,
                          "ticks": ""
                        },
                        "colorscale": [
                          [
                            0,
                            "#0d0887"
                          ],
                          [
                            0.1111111111111111,
                            "#46039f"
                          ],
                          [
                            0.2222222222222222,
                            "#7201a8"
                          ],
                          [
                            0.3333333333333333,
                            "#9c179e"
                          ],
                          [
                            0.4444444444444444,
                            "#bd3786"
                          ],
                          [
                            0.5555555555555556,
                            "#d8576b"
                          ],
                          [
                            0.6666666666666666,
                            "#ed7953"
                          ],
                          [
                            0.7777777777777778,
                            "#fb9f3a"
                          ],
                          [
                            0.8888888888888888,
                            "#fdca26"
                          ],
                          [
                            1,
                            "#f0f921"
                          ]
                        ],
                        "type": "histogram2d"
                      }
                    ],
                    "histogram2dcontour": [
                      {
                        "colorbar": {
                          "outlinewidth": 0,
                          "ticks": ""
                        },
                        "colorscale": [
                          [
                            0,
                            "#0d0887"
                          ],
                          [
                            0.1111111111111111,
                            "#46039f"
                          ],
                          [
                            0.2222222222222222,
                            "#7201a8"
                          ],
                          [
                            0.3333333333333333,
                            "#9c179e"
                          ],
                          [
                            0.4444444444444444,
                            "#bd3786"
                          ],
                          [
                            0.5555555555555556,
                            "#d8576b"
                          ],
                          [
                            0.6666666666666666,
                            "#ed7953"
                          ],
                          [
                            0.7777777777777778,
                            "#fb9f3a"
                          ],
                          [
                            0.8888888888888888,
                            "#fdca26"
                          ],
                          [
                            1,
                            "#f0f921"
                          ]
                        ],
                        "type": "histogram2dcontour"
                      }
                    ],
                    "mesh3d": [
                      {
                        "colorbar": {
                          "outlinewidth": 0,
                          "ticks": ""
                        },
                        "type": "mesh3d"
                      }
                    ],
                    "parcoords": [
                      {
                        "line": {
                          "colorbar": {
                            "outlinewidth": 0,
                            "ticks": ""
                          }
                        },
                        "type": "parcoords"
                      }
                    ],
                    "pie": [
                      {
                        "automargin": true,
                        "type": "pie"
                      }
                    ],
                    "scatter": [
                      {
                        "fillpattern": {
                          "fillmode": "overlay",
                          "size": 10,
                          "solidity": 0.2
                        },
                        "type": "scatter"
                      }
                    ],
                    "scatter3d": [
                      {
                        "line": {
                          "colorbar": {
                            "outlinewidth": 0,
                            "ticks": ""
                          }
                        },
                        "marker": {
                          "colorbar": {
                            "outlinewidth": 0,
                            "ticks": ""
                          }
                        },
                        "type": "scatter3d"
                      }
                    ],
                    "scattercarpet": [
                      {
                        "marker": {
                          "colorbar": {
                            "outlinewidth": 0,
                            "ticks": ""
                          }
                        },
                        "type": "scattercarpet"
                      }
                    ],
                    "scattergeo": [
                      {
                        "marker": {
                          "colorbar": {
                            "outlinewidth": 0,
                            "ticks": ""
                          }
                        },
                        "type": "scattergeo"
                      }
                    ],
                    "scattergl": [
                      {
                        "marker": {
                          "colorbar": {
                            "outlinewidth": 0,
                            "ticks": ""
                          }
                        },
                        "type": "scattergl"
                      }
                    ],
                    "scattermap": [
                      {
                        "marker": {
                          "colorbar": {
                            "outlinewidth": 0,
                            "ticks": ""
                          }
                        },
                        "type": "scattermap"
                      }
                    ],
                    "scattermapbox": [
                      {
                        "marker": {
                          "colorbar": {
                            "outlinewidth": 0,
                            "ticks": ""
                          }
                        },
                        "type": "scattermapbox"
                      }
                    ],
                    "scatterpolar": [
                      {
                        "marker": {
                          "colorbar": {
                            "outlinewidth": 0,
                            "ticks": ""
                          }
                        },
                        "type": "scatterpolar"
                      }
                    ],
                    "scatterpolargl": [
                      {
                        "marker": {
                          "colorbar": {
                            "outlinewidth": 0,
                            "ticks": ""
                          }
                        },
                        "type": "scatterpolargl"
                      }
                    ],
                    "scatterternary": [
                      {
                        "marker": {
                          "colorbar": {
                            "outlinewidth": 0,
                            "ticks": ""
                          }
                        },
                        "type": "scatterternary"
                      }
                    ],
                    "surface": [
                      {
                        "colorbar": {
                          "outlinewidth": 0,
                          "ticks": ""
                        },
                        "colorscale": [
                          [
                            0,
                            "#0d0887"
                          ],
                          [
                            0.1111111111111111,
                            "#46039f"
                          ],
                          [
                            0.2222222222222222,
                            "#7201a8"
                          ],
                          [
                            0.3333333333333333,
                            "#9c179e"
                          ],
                          [
                            0.4444444444444444,
                            "#bd3786"
                          ],
                          [
                            0.5555555555555556,
                            "#d8576b"
                          ],
                          [
                            0.6666666666666666,
                            "#ed7953"
                          ],
                          [
                            0.7777777777777778,
                            "#fb9f3a"
                          ],
                          [
                            0.8888888888888888,
                            "#fdca26"
                          ],
                          [
                            1,
                            "#f0f921"
                          ]
                        ],
                        "type": "surface"
                      }
                    ],
                    "table": [
                      {
                        "cells": {
                          "fill": {
                            "color": "#EBF0F8"
                          },
                          "line": {
                            "color": "white"
                          }
                        },
                        "header": {
                          "fill": {
                            "color": "#C8D4E3"
                          },
                          "line": {
                            "color": "white"
                          }
                        },
                        "type": "table"
                      }
                    ]
                  },
                  "layout": {
                    "annotationdefaults": {
                      "arrowcolor": "#2a3f5f",
                      "arrowhead": 0,
                      "arrowwidth": 1
                    },
                    "autotypenumbers": "strict",
                    "coloraxis": {
                      "colorbar": {
                        "outlinewidth": 0,
                        "ticks": ""
                      }
                    },
                    "colorscale": {
                      "diverging": [
                        [
                          0,
                          "#8e0152"
                        ],
                        [
                          0.1,
                          "#c51b7d"
                        ],
                        [
                          0.2,
                          "#de77ae"
                        ],
                        [
                          0.3,
                          "#f1b6da"
                        ],
                        [
                          0.4,
                          "#fde0ef"
                        ],
                        [
                          0.5,
                          "#f7f7f7"
                        ],
                        [
                          0.6,
                          "#e6f5d0"
                        ],
                        [
                          0.7,
                          "#b8e186"
                        ],
                        [
                          0.8,
                          "#7fbc41"
                        ],
                        [
                          0.9,
                          "#4d9221"
                        ],
                        [
                          1,
                          "#276419"
                        ]
                      ],
                      "sequential": [
                        [
                          0,
                          "#0d0887"
                        ],
                        [
                          0.1111111111111111,
                          "#46039f"
                        ],
                        [
                          0.2222222222222222,
                          "#7201a8"
                        ],
                        [
                          0.3333333333333333,
                          "#9c179e"
                        ],
                        [
                          0.4444444444444444,
                          "#bd3786"
                        ],
                        [
                          0.5555555555555556,
                          "#d8576b"
                        ],
                        [
                          0.6666666666666666,
                          "#ed7953"
                        ],
                        [
                          0.7777777777777778,
                          "#fb9f3a"
                        ],
                        [
                          0.8888888888888888,
                          "#fdca26"
                        ],
                        [
                          1,
                          "#f0f921"
                        ]
                      ],
                      "sequentialminus": [
                        [
                          0,
                          "#0d0887"
                        ],
                        [
                          0.1111111111111111,
                          "#46039f"
                        ],
                        [
                          0.2222222222222222,
                          "#7201a8"
                        ],
                        [
                          0.3333333333333333,
                          "#9c179e"
                        ],
                        [
                          0.4444444444444444,
                          "#bd3786"
                        ],
                        [
                          0.5555555555555556,
                          "#d8576b"
                        ],
                        [
                          0.6666666666666666,
                          "#ed7953"
                        ],
                        [
                          0.7777777777777778,
                          "#fb9f3a"
                        ],
                        [
                          0.8888888888888888,
                          "#fdca26"
                        ],
                        [
                          1,
                          "#f0f921"
                        ]
                      ]
                    },
                    "colorway": [
                      "#636efa",
                      "#EF553B",
                      "#00cc96",
                      "#ab63fa",
                      "#FFA15A",
                      "#19d3f3",
                      "#FF6692",
                      "#B6E880",
                      "#FF97FF",
                      "#FECB52"
                    ],
                    "font": {
                      "color": "#2a3f5f"
                    },
                    "geo": {
                      "bgcolor": "white",
                      "lakecolor": "white",
                      "landcolor": "#E5ECF6",
                      "showlakes": true,
                      "showland": true,
                      "subunitcolor": "white"
                    },
                    "hoverlabel": {
                      "align": "left"
                    },
                    "hovermode": "closest",
                    "mapbox": {
                      "style": "light"
                    },
                    "paper_bgcolor": "white",
                    "plot_bgcolor": "#E5ECF6",
                    "polar": {
                      "angularaxis": {
                        "gridcolor": "white",
                        "linecolor": "white",
                        "ticks": ""
                      },
                      "bgcolor": "#E5ECF6",
                      "radialaxis": {
                        "gridcolor": "white",
                        "linecolor": "white",
                        "ticks": ""
                      }
                    },
                    "scene": {
                      "xaxis": {
                        "backgroundcolor": "#E5ECF6",
                        "gridcolor": "white",
                        "gridwidth": 2,
                        "linecolor": "white",
                        "showbackground": true,
                        "ticks": "",
                        "zerolinecolor": "white"
                      },
                      "yaxis": {
                        "backgroundcolor": "#E5ECF6",
                        "gridcolor": "white",
                        "gridwidth": 2,
                        "linecolor": "white",
                        "showbackground": true,
                        "ticks": "",
                        "zerolinecolor": "white"
                      },
                      "zaxis": {
                        "backgroundcolor": "#E5ECF6",
                        "gridcolor": "white",
                        "gridwidth": 2,
                        "linecolor": "white",
                        "showbackground": true,
                        "ticks": "",
                        "zerolinecolor": "white"
                      }
                    },
                    "shapedefaults": {
                      "line": {
                        "color": "#2a3f5f"
                      }
                    },
                    "ternary": {
                      "aaxis": {
                        "gridcolor": "white",
                        "linecolor": "white",
                        "ticks": ""
                      },
                      "baxis": {
                        "gridcolor": "white",
                        "linecolor": "white",
                        "ticks": ""
                      },
                      "bgcolor": "#E5ECF6",
                      "caxis": {
                        "gridcolor": "white",
                        "linecolor": "white",
                        "ticks": ""
                      }
                    },
                    "title": {
                      "x": 0.05
                    },
                    "xaxis": {
                      "automargin": true,
                      "gridcolor": "white",
                      "linecolor": "white",
                      "ticks": "",
                      "title": {
                        "standoff": 15
                      },
                      "zerolinecolor": "white",
                      "zerolinewidth": 2
                    },
                    "yaxis": {
                      "automargin": true,
                      "gridcolor": "white",
                      "linecolor": "white",
                      "ticks": "",
                      "title": {
                        "standoff": 15
                      },
                      "zerolinecolor": "white",
                      "zerolinewidth": 2
                    }
                  }
                },
                "title": {
                  "text": "Kmeans Clusters(k=6) on PCA Space"
                }
              }
            }
          },
          "metadata": {},
          "output_type": "display_data"
        }
      ],
      "source": [
        "kmeans = KMeans(n_clusters=6,random_state=42).fit(X_umap)\n",
        "km_labels1 = kmeans.labels_\n",
        "df2 = pd.DataFrame(X_pca3, columns=[\"PC1\",\"PC2\",\"PC3\"])\n",
        "df2[\"cluster\"] = km_labels1\n",
        "fig = px.scatter_3d(df2, x=\"PC1\", y=\"PC2\", z=\"PC3\",\n",
        "                    color=\"cluster\", opacity=0.7,\n",
        "                    title=\"Kmeans Clusters(k=6) on PCA Space\")\n",
        "fig.show()"
      ]
    },
    {
      "cell_type": "code",
      "execution_count": 24,
      "metadata": {
        "colab": {
          "base_uri": "https://localhost:8080/"
        },
        "id": "cnQqsnjSCFcX",
        "outputId": "748f02eb-f2f8-4a99-d9c4-2f34ad6d7df7"
      },
      "outputs": [
        {
          "name": "stdout",
          "output_type": "stream",
          "text": [
            "K=3, Silhouette Score: 0.6189\n",
            "K=4, Silhouette Score: 0.4894\n",
            "K=5, Silhouette Score: 0.5671\n",
            "K=6, Silhouette Score: 0.5853\n",
            "K=7, Silhouette Score: 0.5092\n",
            "K=8, Silhouette Score: 0.4846\n",
            "Best K: 3 with Silhouette Score: 0.6189\n"
          ]
        }
      ],
      "source": [
        "from sklearn.metrics import silhouette_score\n",
        "\n",
        "best_k = None\n",
        "best_score = -1\n",
        "for k in range(3, 9):\n",
        "    kmeans = KMeans(n_clusters=k, random_state=42)\n",
        "    y_kmeans = kmeans.fit_predict(X_umap)\n",
        "    score = silhouette_score(X_umap, y_kmeans)\n",
        "    print(f\"K={k}, Silhouette Score: {score:.4f}\")\n",
        "\n",
        "    if score > best_score:\n",
        "        best_score = score\n",
        "        best_k = k\n",
        "\n",
        "print(f\"Best K: {best_k} with Silhouette Score: {best_score:.4f}\")"
      ]
    },
    {
      "cell_type": "markdown",
      "metadata": {
        "id": "8HNQKz64DK3g"
      },
      "source": [
        "##For optimal K determined using Silhouette score"
      ]
    },
    {
      "cell_type": "code",
      "execution_count": 25,
      "metadata": {
        "colab": {
          "base_uri": "https://localhost:8080/",
          "height": 542
        },
        "id": "0DVpxw9LCSEs",
        "outputId": "adccf5f7-aaaf-4e7f-b97e-dc645882b0eb"
      },
      "outputs": [
        {
          "data": {
            "application/vnd.plotly.v1+json": {
              "config": {
                "plotlyServerURL": "https://plot.ly"
              },
              "data": [
                {
                  "hovertemplate": "PC1=%{x}<br>PC2=%{y}<br>PC3=%{z}<br>cluster=%{marker.color}<extra></extra>",
                  "legendgroup": "",
                  "marker": {
                    "color": {
                      "bdata": "AAAAAAAAAAAAAAAAAAAAAAAAAAAAAAAAAAAAAAAAAAAAAAAAAAAAAAAAAAAAAAAAAAAAAAAAAAAAAAAAAAAAAAAAAAAAAAAAAAAAAAAAAAAAAAAAAAAAAAAAAAAAAAAAAAAAAAAAAAAAAAAAAAAAAAAAAAAAAAAAAAAAAAAAAAAAAAAAAAAAAAAAAAAAAAAAAAAAAAAAAAAAAAAAAAAAAAAAAAAAAAAAAAAAAAAAAAAAAAAAAAAAAAAAAAAAAAAAAAAAAAAAAAAAAAAAAAAAAAAAAAAAAAAAAAAAAAAAAAAAAAAAAAAAAAAAAAAAAAAAAAAAAAAAAAAAAAAAAAAAAAAAAAAAAAAAAAAAAAAAAAAAAAAAAAAAAAAAAAACAAAAAgAAAAIAAAACAAAAAgAAAAIAAAACAAAAAgAAAAIAAAACAAAAAgAAAAIAAAACAAAAAgAAAAEAAAABAAAAAQAAAAEAAAABAAAAAQAAAAEAAAABAAAAAQAAAAEAAAABAAAAAQAAAAEAAAABAAAAAQAAAAEAAAABAAAAAQAAAAEAAAABAAAAAQAAAAEAAAABAAAAAQAAAAEAAAABAAAAAQAAAAEAAAABAAAAAQAAAAEAAAABAAAAAQAAAAEAAAABAAAAAQAAAAEAAAABAAAAAQAAAAEAAAABAAAAAQAAAAEAAAABAAAAAQAAAAEAAAABAAAAAQAAAAEAAAABAAAAAQAAAAEAAAABAAAAAQAAAAEAAAABAAAAAQAAAAEAAAABAAAAAQAAAAEAAAABAAAAAQAAAAEAAAABAAAAAQAAAA==",
                      "dtype": "i4"
                    },
                    "coloraxis": "coloraxis",
                    "opacity": 0.7,
                    "symbol": "circle"
                  },
                  "mode": "markers",
                  "name": "",
                  "scene": "scene",
                  "showlegend": false,
                  "type": "scatter3d",
                  "x": {
                    "bdata": "9Z32lsYVWcAKOtef/qhRwL3VuLubyl7AMzdC8cZAT8BRJmyTnARRwMHzy9PFBk3AI/SCqxHUUcDnh9QaWnJOwHsUf5crnVHAaGJs0JHWUsChVpKqi/9HwDVZ9USe5kHAH943aq6nNcCvPJmC7kJJwGFC0xuTY0DAx65bsf1TSMCwwy/E/XQ0wB2gBSl8G1DAasq6xgQEPsCEF8f5aolAwPzI/PCaP1LAJlAySv3M9b9Cv2aG14pVwIxs5JAKA0PApMIiXHwaQcDVBF54jTM/wL/Um1xxG0HAAoUeMNmgTMCIInRJG504wD3YhTGFYUPAZjoYlrMsRMBBGzUr6LtKwG6i91LUKzHArCzgP5ByRMBsH1y2ka/iP3dtzwraOkXAFWXdEyEAJsBTjWf1oJI8wJYy2NK5HkbAWklDTGKkMMCgulGaIHhHwDIivTDZXwbAvUM6i0dORcB+58OXv7QYwLp65oedBzLAeDb68B9YScBMopC/IXImwPL0BaMtgz7ARWBlDMpiKsAnyYsv1B04wM3p6U/kTT3AHzmYDt4QLsBCOJMrDXZCQDNcpOsu6SLA2VWO5K7SE8DfmmM3feEQwOxZ21iz+DlAFN5AVfRiFUA6MdY8zWs4wCC03zubhjtAqel7Vkn3MED/8vAMx4MmwNz8rsH2lApAwT/5gB7pKUBp6BTAr9k8QNWRt8uRYztAl02pzQw1TMCwExVJ7OUuQONbUtlctUNAhEIkcqXY+r+HGQDtGX0gwOme+bsOF2LA3zNA7qsyYcBsV89d/xhawOd0TqxNbF/A6wOouI1KYMCJvfxM7TFhwBR1IGnQCl7AMCtYLeAuXcA57xkGpoViwEH7fgnU/1rApP+ATY59YsCqAJmotVlYwC0Kj9DzqGDAcCDgMsklX8BaoEki5HhYQD2OkHEfplhAhlsr7nBdXUC+pP9sK+9aQI9sPsOf8llAr5av7J7dWkCfjoTblgZZQIL8uqAD805AoZwE59xrT0B28wzKXHBQQMYE7oT/YExA3dBir2F5UEDsjHyRJDRHQEI5owRzgVJAEff8KCxGUEBmrQVlpmlTQHIK3LSNAlNAFEnBhC+nVkAayq1013dQQN2ah/3vtVJAoojcyljeUECq14R3IZ9SQL9LxFqnb1NA6qQEqKwRSkBSZMEaBhxIQEp3ApyzLFRAjcde/vNjV0BdQY2cPjBDQP+Gxm0ODFBACFFl/8D6VUCJdCiI+5ZNQLwTp/iuPElASOCAK/psTkCPrOg2ZfpWQNSxAZaAzkpAIemyf1hTTUBDLVduluhOQAdv2LtESArAsRhGT8ECP0AZMb6N9VJBQEFz0cmUjkVAIh1peuwL9r8woxzIkVNVQA2OO/m69UVA+pr7z/JfR0BlqdTWSU5OQId9+1l3DlJAbo6Nk/bFSEBX0PGsA6pHQA6iPwFIbUZAUWp07v6tNECbYNEAtxBJQMncxXa1YUtA+67MtrfDN0DKcF6c1+UxQBjBW9x4xk1AlmXxU2gHJcCYlxNYkag7QCi2oXbwnzhAkv0QZOrqRkCPexZNbVZCQIjyKeEaA01AdMQe0KMdMUA8T8Dd3ZgiQBGWBOSW5kNAsF/7trtzQ0A=",
                    "dtype": "f8"
                  },
                  "y": {
                    "bdata": "vIreEvd0SEDWe1lhJahNQGYpAUkdHzBA8sRR/PUbUEB/g0bQ1t1OQFl0REktIjtAE/KPDFPcRUCExhC+wYBQQHCmgz+8ZFJAr8X4J/1OVEDug8dibztKQJGIscbKlTpAmtgd67oTNUBtR5mkygVTQCUqvvFV3zNAIPnN6S5INUA+0AJRkpwUQFjw6jVUKUtARmIqghe3TkAxXqE5XAxUQJdWLuXAIThAgipazpqjTUBP9+liRtBIQKREJ7MztlFAhuKw0EKrRUB7rDOukqNCQCVF7AyHSkFATQuRd5ykSUDf5Q50qbZFQF0b2HIqhFNAW5wByRHaIUA7zt0qOto0QOaUyHnQFz9AslgQw75/NkAVq/metqpGQNMVXDIRkkdAyJMuYOdwKkDrlM3Jf59MQMdzq9BkYENArKuA8EUxHkApEZpQ8sswQIDM8Ig14kBA4msXw+MvOUCr+ywvFk5DQD9NEWgfRkdAuL3Qy+5yOED8Byn0at5LQCZx0SriCUpAVkO4PMayOkBUVLByoQFLQNvNyOdfgVBAMjY2JSmdPkCCYJvPJ7tCQHRW1kGXp/k/pplm3REnQUCvKPoKE41IQBQFD2SxSkRAaS3qTzM5QUBEN+7JcJMnwJ56TjAxbuA/jcDjt9DuTUB/F0XrtbY9QNKjsD55Q0FAwAuMZCZDQUBMUrG6v6gRwLHQte7RCyxAdmU2w+Q7SEAY0+MRcaJMQM7b354Z+y1AeXErBmIEIkBLTmIC7ZVDQERjY+9fyVnAVSMfAckzUsB5uBetKwBdwBRM5YOZQlTA4R3tTtAKXcCeyMv6btFWwC7PAZu1zFXAQd6MWuziXcAYdrPn9L5YwJMvDQnnFVzAr1jNX1unXMAttmTz8RJewCrV5Wx7xV3A1erwMNVMX8D9SSUvqURRwM0sM062fUTAn7rNLxBBRsBo7eyPk15RwLZvBwbQeU/A2rEM7sInVMBbpHgNmH1RwGLcYKAN9SRAiEGTbZ2NIkD4U5WcTKEiwMJj0OLrkSXAlFeVFSOIJ0DPs7tigUMlwIEb+wB4Ag3AnrWcIN7KF0AUJoNoC+ZFwJIOiXyIdRnAyrtJzc77QMC5biCzszQ9wEYUd3qDaDHAz2A93tO2KMAbJjySnFwmwAx0Eq3spjfANHjNkt7gI8DCVdPP2DktwCNGAPlGCkfAvzR+xpNI5T/fymLrkhgyQF3y+79Ys0TA31nHTFCqQMCxiXid5SdGwMbQ/IpEAzFABMniT72pIcCfqzSugD8pQHd1Ljxx+izA83F/lt9K+r9gUkJOPxMqwEP91ZlpWyBAleTk0moRBsAxGS1ovKc5wKcyqCfnpSXANpU1UFzPMsCLmKf3LhVFwDb76eIyoyDA0+eOR0DGKsDynNuZVZQ5wFbAu30viEnAp/I2FVOxPsBiOBHKq8Q1QB3W3ZicAkTAoP8s94ESOMBS+y2Ipxo9wMTKMszhvwhAFur0Ms3cOMDkthGNLoQkwA6vpLTYREHALno6zhcCMMCVxbjxDgBAQAOlqrcK5irA77xIZ+HuQEB4E+oasbsqwOfM+KALB0nAX2M9SdGFJ8CRSCuD+Sc6wPLtd47hZSbARJnGq1Q5QcA=",
                    "dtype": "f8"
                  },
                  "z": {
                    "bdata": "1tZrsf2dAMCXx1Sl9CclwPuqztmyiyHAi0O+ik0rHMClu1kth5Tpv+VxII2QsSHAthydROL+4z9ZzgLCApwUwFPnaUnFLSTAMY0o5Mo4HMAGiy/M/WY0wHou/aBhW07AKN9MNIzvAMD66qhmx3g2wHX1rAPNlEjAAYgELoy9U8AQcQdj6OtRwJV9DXcrp0PAO3ANIc/EPMBlZ1eMMWFGwCEMfNK+0zvALBKLS9fRQ8CEpGvpDjU2wN5rjj5LMjvANO4kBDXvLcBFITmOL9VDwAjszeCI0iRA0IJmNEEmR8AH7UBLOcNDwJuZJxnq50DAtsSn3hOwUcC8gr6QYyVQwEIbel/vLEnAfurYGST3ScApTBY9LldNwOu3VeaJd0vAdtJHeMZeE8ClWM7exos8wKfh9MiyI07A5RTDmMpaRsAzzgG+mPJNwO+8mAPZpkhAj6sFbS8kUkAhd4gh6b1AQMQ1Ww5I501AJy47gBg/SkBkq+E0mWpDQJVfQQq+8lBAlG+vByZ2RkBrhE9EffRHQOZRSp1BVVFALxN1M3MsTED0bAjqHNMaQPfAc4t7kDhA5Gprs07IDcCOgZNEx0A4QAwtYVfCdSBAzP6AOk1DB8DPni2683pCQFazpP6kBTzAFsUoc1GaM0DNMnaNXfI2QLS0dp7aevQ/7CRuzN5zOcARGqGmaa0VQB72L8aZLEzAWCrUYvIhQsDCliY5yuUowCK8lj7ssBXAKYs1ht92N0B1qRAd2380QAsA7aWjgUJApRtdTLKkMEBeE9zJQS0qwA5EspWdJQtAdIWWRxhm9r/1mFj1QxAZQKDfPqm6ECFAZoj+7rFLGEBs127AwMEwQGM40lJEuRpAK42T6Yi8B0DNDk379AYkwGBS9GIq/Na/E+yWJ8ezB0DSbhQ7H0JZwGjfIS2QfVTAi+RFC7dNWMCDUk5ob95cwNhyKJBL4FrA6TzfiqrQWcCc9sMCswBewFo96oJ2oEBALU2ReHmTNUAr7hK7GhUyQC1ZYJo7ND5AKZQ71APw9b/59TDjTEo/QAGU0XQa5CVA/uiwEkzxOUDaX4NZLpY1QJxckGab7TVAy/xjVivRF8AcOqTiWuQnwGJfHyB0WDpA02kQ4bjWMkCxrWhycAoeQDmC8kggnDtApA/oymL9SkDLq+RrlQVEQCTVrqF11SjAL/OzSX/O1D+Oc/aija88QFxKpePEFD3A8mV2avUBKcCllpAwhZpDQJUdLpcscEVArKlCZY8uQEB+G/C2y/s5QI39DfrNCUdA8A4gD9TiQECEfxfA+IQ1wGOzSQK14lBA3bKL5aNjAUAF+bOC3l9HQOZMObLXMzZAGOKs8CY/QkA4wjCktP9BQPU1hfxPqTBA9lDIYfoiP0C8yzCskLI1QAUCFOf3fSHAeLhPcyzQSUBLv9j7nfQ1QMBnI2KUVU1ArUPEr68sQ0DRPCauIBQ9QHoJ9sM/YgzAA4RXMdTzNUC3zdk/PJ1IQBlZEzXHn/K/iqLnLcb3UECK4ovJsc04QLUJPZPEk0BAO9qDY25oHsCsxbWr7P01QMC//lS7diLAlcB0KZzFSUCdGBUsTzk8QIkQ79wBKTxAVfPdP2FXL0A=",
                    "dtype": "f8"
                  }
                }
              ],
              "layout": {
                "coloraxis": {
                  "colorbar": {
                    "title": {
                      "text": "cluster"
                    }
                  },
                  "colorscale": [
                    [
                      0,
                      "#0d0887"
                    ],
                    [
                      0.1111111111111111,
                      "#46039f"
                    ],
                    [
                      0.2222222222222222,
                      "#7201a8"
                    ],
                    [
                      0.3333333333333333,
                      "#9c179e"
                    ],
                    [
                      0.4444444444444444,
                      "#bd3786"
                    ],
                    [
                      0.5555555555555556,
                      "#d8576b"
                    ],
                    [
                      0.6666666666666666,
                      "#ed7953"
                    ],
                    [
                      0.7777777777777778,
                      "#fb9f3a"
                    ],
                    [
                      0.8888888888888888,
                      "#fdca26"
                    ],
                    [
                      1,
                      "#f0f921"
                    ]
                  ]
                },
                "legend": {
                  "tracegroupgap": 0
                },
                "scene": {
                  "domain": {
                    "x": [
                      0,
                      1
                    ],
                    "y": [
                      0,
                      1
                    ]
                  },
                  "xaxis": {
                    "title": {
                      "text": "PC1"
                    }
                  },
                  "yaxis": {
                    "title": {
                      "text": "PC2"
                    }
                  },
                  "zaxis": {
                    "title": {
                      "text": "PC3"
                    }
                  }
                },
                "template": {
                  "data": {
                    "bar": [
                      {
                        "error_x": {
                          "color": "#2a3f5f"
                        },
                        "error_y": {
                          "color": "#2a3f5f"
                        },
                        "marker": {
                          "line": {
                            "color": "#E5ECF6",
                            "width": 0.5
                          },
                          "pattern": {
                            "fillmode": "overlay",
                            "size": 10,
                            "solidity": 0.2
                          }
                        },
                        "type": "bar"
                      }
                    ],
                    "barpolar": [
                      {
                        "marker": {
                          "line": {
                            "color": "#E5ECF6",
                            "width": 0.5
                          },
                          "pattern": {
                            "fillmode": "overlay",
                            "size": 10,
                            "solidity": 0.2
                          }
                        },
                        "type": "barpolar"
                      }
                    ],
                    "carpet": [
                      {
                        "aaxis": {
                          "endlinecolor": "#2a3f5f",
                          "gridcolor": "white",
                          "linecolor": "white",
                          "minorgridcolor": "white",
                          "startlinecolor": "#2a3f5f"
                        },
                        "baxis": {
                          "endlinecolor": "#2a3f5f",
                          "gridcolor": "white",
                          "linecolor": "white",
                          "minorgridcolor": "white",
                          "startlinecolor": "#2a3f5f"
                        },
                        "type": "carpet"
                      }
                    ],
                    "choropleth": [
                      {
                        "colorbar": {
                          "outlinewidth": 0,
                          "ticks": ""
                        },
                        "type": "choropleth"
                      }
                    ],
                    "contour": [
                      {
                        "colorbar": {
                          "outlinewidth": 0,
                          "ticks": ""
                        },
                        "colorscale": [
                          [
                            0,
                            "#0d0887"
                          ],
                          [
                            0.1111111111111111,
                            "#46039f"
                          ],
                          [
                            0.2222222222222222,
                            "#7201a8"
                          ],
                          [
                            0.3333333333333333,
                            "#9c179e"
                          ],
                          [
                            0.4444444444444444,
                            "#bd3786"
                          ],
                          [
                            0.5555555555555556,
                            "#d8576b"
                          ],
                          [
                            0.6666666666666666,
                            "#ed7953"
                          ],
                          [
                            0.7777777777777778,
                            "#fb9f3a"
                          ],
                          [
                            0.8888888888888888,
                            "#fdca26"
                          ],
                          [
                            1,
                            "#f0f921"
                          ]
                        ],
                        "type": "contour"
                      }
                    ],
                    "contourcarpet": [
                      {
                        "colorbar": {
                          "outlinewidth": 0,
                          "ticks": ""
                        },
                        "type": "contourcarpet"
                      }
                    ],
                    "heatmap": [
                      {
                        "colorbar": {
                          "outlinewidth": 0,
                          "ticks": ""
                        },
                        "colorscale": [
                          [
                            0,
                            "#0d0887"
                          ],
                          [
                            0.1111111111111111,
                            "#46039f"
                          ],
                          [
                            0.2222222222222222,
                            "#7201a8"
                          ],
                          [
                            0.3333333333333333,
                            "#9c179e"
                          ],
                          [
                            0.4444444444444444,
                            "#bd3786"
                          ],
                          [
                            0.5555555555555556,
                            "#d8576b"
                          ],
                          [
                            0.6666666666666666,
                            "#ed7953"
                          ],
                          [
                            0.7777777777777778,
                            "#fb9f3a"
                          ],
                          [
                            0.8888888888888888,
                            "#fdca26"
                          ],
                          [
                            1,
                            "#f0f921"
                          ]
                        ],
                        "type": "heatmap"
                      }
                    ],
                    "histogram": [
                      {
                        "marker": {
                          "pattern": {
                            "fillmode": "overlay",
                            "size": 10,
                            "solidity": 0.2
                          }
                        },
                        "type": "histogram"
                      }
                    ],
                    "histogram2d": [
                      {
                        "colorbar": {
                          "outlinewidth": 0,
                          "ticks": ""
                        },
                        "colorscale": [
                          [
                            0,
                            "#0d0887"
                          ],
                          [
                            0.1111111111111111,
                            "#46039f"
                          ],
                          [
                            0.2222222222222222,
                            "#7201a8"
                          ],
                          [
                            0.3333333333333333,
                            "#9c179e"
                          ],
                          [
                            0.4444444444444444,
                            "#bd3786"
                          ],
                          [
                            0.5555555555555556,
                            "#d8576b"
                          ],
                          [
                            0.6666666666666666,
                            "#ed7953"
                          ],
                          [
                            0.7777777777777778,
                            "#fb9f3a"
                          ],
                          [
                            0.8888888888888888,
                            "#fdca26"
                          ],
                          [
                            1,
                            "#f0f921"
                          ]
                        ],
                        "type": "histogram2d"
                      }
                    ],
                    "histogram2dcontour": [
                      {
                        "colorbar": {
                          "outlinewidth": 0,
                          "ticks": ""
                        },
                        "colorscale": [
                          [
                            0,
                            "#0d0887"
                          ],
                          [
                            0.1111111111111111,
                            "#46039f"
                          ],
                          [
                            0.2222222222222222,
                            "#7201a8"
                          ],
                          [
                            0.3333333333333333,
                            "#9c179e"
                          ],
                          [
                            0.4444444444444444,
                            "#bd3786"
                          ],
                          [
                            0.5555555555555556,
                            "#d8576b"
                          ],
                          [
                            0.6666666666666666,
                            "#ed7953"
                          ],
                          [
                            0.7777777777777778,
                            "#fb9f3a"
                          ],
                          [
                            0.8888888888888888,
                            "#fdca26"
                          ],
                          [
                            1,
                            "#f0f921"
                          ]
                        ],
                        "type": "histogram2dcontour"
                      }
                    ],
                    "mesh3d": [
                      {
                        "colorbar": {
                          "outlinewidth": 0,
                          "ticks": ""
                        },
                        "type": "mesh3d"
                      }
                    ],
                    "parcoords": [
                      {
                        "line": {
                          "colorbar": {
                            "outlinewidth": 0,
                            "ticks": ""
                          }
                        },
                        "type": "parcoords"
                      }
                    ],
                    "pie": [
                      {
                        "automargin": true,
                        "type": "pie"
                      }
                    ],
                    "scatter": [
                      {
                        "fillpattern": {
                          "fillmode": "overlay",
                          "size": 10,
                          "solidity": 0.2
                        },
                        "type": "scatter"
                      }
                    ],
                    "scatter3d": [
                      {
                        "line": {
                          "colorbar": {
                            "outlinewidth": 0,
                            "ticks": ""
                          }
                        },
                        "marker": {
                          "colorbar": {
                            "outlinewidth": 0,
                            "ticks": ""
                          }
                        },
                        "type": "scatter3d"
                      }
                    ],
                    "scattercarpet": [
                      {
                        "marker": {
                          "colorbar": {
                            "outlinewidth": 0,
                            "ticks": ""
                          }
                        },
                        "type": "scattercarpet"
                      }
                    ],
                    "scattergeo": [
                      {
                        "marker": {
                          "colorbar": {
                            "outlinewidth": 0,
                            "ticks": ""
                          }
                        },
                        "type": "scattergeo"
                      }
                    ],
                    "scattergl": [
                      {
                        "marker": {
                          "colorbar": {
                            "outlinewidth": 0,
                            "ticks": ""
                          }
                        },
                        "type": "scattergl"
                      }
                    ],
                    "scattermap": [
                      {
                        "marker": {
                          "colorbar": {
                            "outlinewidth": 0,
                            "ticks": ""
                          }
                        },
                        "type": "scattermap"
                      }
                    ],
                    "scattermapbox": [
                      {
                        "marker": {
                          "colorbar": {
                            "outlinewidth": 0,
                            "ticks": ""
                          }
                        },
                        "type": "scattermapbox"
                      }
                    ],
                    "scatterpolar": [
                      {
                        "marker": {
                          "colorbar": {
                            "outlinewidth": 0,
                            "ticks": ""
                          }
                        },
                        "type": "scatterpolar"
                      }
                    ],
                    "scatterpolargl": [
                      {
                        "marker": {
                          "colorbar": {
                            "outlinewidth": 0,
                            "ticks": ""
                          }
                        },
                        "type": "scatterpolargl"
                      }
                    ],
                    "scatterternary": [
                      {
                        "marker": {
                          "colorbar": {
                            "outlinewidth": 0,
                            "ticks": ""
                          }
                        },
                        "type": "scatterternary"
                      }
                    ],
                    "surface": [
                      {
                        "colorbar": {
                          "outlinewidth": 0,
                          "ticks": ""
                        },
                        "colorscale": [
                          [
                            0,
                            "#0d0887"
                          ],
                          [
                            0.1111111111111111,
                            "#46039f"
                          ],
                          [
                            0.2222222222222222,
                            "#7201a8"
                          ],
                          [
                            0.3333333333333333,
                            "#9c179e"
                          ],
                          [
                            0.4444444444444444,
                            "#bd3786"
                          ],
                          [
                            0.5555555555555556,
                            "#d8576b"
                          ],
                          [
                            0.6666666666666666,
                            "#ed7953"
                          ],
                          [
                            0.7777777777777778,
                            "#fb9f3a"
                          ],
                          [
                            0.8888888888888888,
                            "#fdca26"
                          ],
                          [
                            1,
                            "#f0f921"
                          ]
                        ],
                        "type": "surface"
                      }
                    ],
                    "table": [
                      {
                        "cells": {
                          "fill": {
                            "color": "#EBF0F8"
                          },
                          "line": {
                            "color": "white"
                          }
                        },
                        "header": {
                          "fill": {
                            "color": "#C8D4E3"
                          },
                          "line": {
                            "color": "white"
                          }
                        },
                        "type": "table"
                      }
                    ]
                  },
                  "layout": {
                    "annotationdefaults": {
                      "arrowcolor": "#2a3f5f",
                      "arrowhead": 0,
                      "arrowwidth": 1
                    },
                    "autotypenumbers": "strict",
                    "coloraxis": {
                      "colorbar": {
                        "outlinewidth": 0,
                        "ticks": ""
                      }
                    },
                    "colorscale": {
                      "diverging": [
                        [
                          0,
                          "#8e0152"
                        ],
                        [
                          0.1,
                          "#c51b7d"
                        ],
                        [
                          0.2,
                          "#de77ae"
                        ],
                        [
                          0.3,
                          "#f1b6da"
                        ],
                        [
                          0.4,
                          "#fde0ef"
                        ],
                        [
                          0.5,
                          "#f7f7f7"
                        ],
                        [
                          0.6,
                          "#e6f5d0"
                        ],
                        [
                          0.7,
                          "#b8e186"
                        ],
                        [
                          0.8,
                          "#7fbc41"
                        ],
                        [
                          0.9,
                          "#4d9221"
                        ],
                        [
                          1,
                          "#276419"
                        ]
                      ],
                      "sequential": [
                        [
                          0,
                          "#0d0887"
                        ],
                        [
                          0.1111111111111111,
                          "#46039f"
                        ],
                        [
                          0.2222222222222222,
                          "#7201a8"
                        ],
                        [
                          0.3333333333333333,
                          "#9c179e"
                        ],
                        [
                          0.4444444444444444,
                          "#bd3786"
                        ],
                        [
                          0.5555555555555556,
                          "#d8576b"
                        ],
                        [
                          0.6666666666666666,
                          "#ed7953"
                        ],
                        [
                          0.7777777777777778,
                          "#fb9f3a"
                        ],
                        [
                          0.8888888888888888,
                          "#fdca26"
                        ],
                        [
                          1,
                          "#f0f921"
                        ]
                      ],
                      "sequentialminus": [
                        [
                          0,
                          "#0d0887"
                        ],
                        [
                          0.1111111111111111,
                          "#46039f"
                        ],
                        [
                          0.2222222222222222,
                          "#7201a8"
                        ],
                        [
                          0.3333333333333333,
                          "#9c179e"
                        ],
                        [
                          0.4444444444444444,
                          "#bd3786"
                        ],
                        [
                          0.5555555555555556,
                          "#d8576b"
                        ],
                        [
                          0.6666666666666666,
                          "#ed7953"
                        ],
                        [
                          0.7777777777777778,
                          "#fb9f3a"
                        ],
                        [
                          0.8888888888888888,
                          "#fdca26"
                        ],
                        [
                          1,
                          "#f0f921"
                        ]
                      ]
                    },
                    "colorway": [
                      "#636efa",
                      "#EF553B",
                      "#00cc96",
                      "#ab63fa",
                      "#FFA15A",
                      "#19d3f3",
                      "#FF6692",
                      "#B6E880",
                      "#FF97FF",
                      "#FECB52"
                    ],
                    "font": {
                      "color": "#2a3f5f"
                    },
                    "geo": {
                      "bgcolor": "white",
                      "lakecolor": "white",
                      "landcolor": "#E5ECF6",
                      "showlakes": true,
                      "showland": true,
                      "subunitcolor": "white"
                    },
                    "hoverlabel": {
                      "align": "left"
                    },
                    "hovermode": "closest",
                    "mapbox": {
                      "style": "light"
                    },
                    "paper_bgcolor": "white",
                    "plot_bgcolor": "#E5ECF6",
                    "polar": {
                      "angularaxis": {
                        "gridcolor": "white",
                        "linecolor": "white",
                        "ticks": ""
                      },
                      "bgcolor": "#E5ECF6",
                      "radialaxis": {
                        "gridcolor": "white",
                        "linecolor": "white",
                        "ticks": ""
                      }
                    },
                    "scene": {
                      "xaxis": {
                        "backgroundcolor": "#E5ECF6",
                        "gridcolor": "white",
                        "gridwidth": 2,
                        "linecolor": "white",
                        "showbackground": true,
                        "ticks": "",
                        "zerolinecolor": "white"
                      },
                      "yaxis": {
                        "backgroundcolor": "#E5ECF6",
                        "gridcolor": "white",
                        "gridwidth": 2,
                        "linecolor": "white",
                        "showbackground": true,
                        "ticks": "",
                        "zerolinecolor": "white"
                      },
                      "zaxis": {
                        "backgroundcolor": "#E5ECF6",
                        "gridcolor": "white",
                        "gridwidth": 2,
                        "linecolor": "white",
                        "showbackground": true,
                        "ticks": "",
                        "zerolinecolor": "white"
                      }
                    },
                    "shapedefaults": {
                      "line": {
                        "color": "#2a3f5f"
                      }
                    },
                    "ternary": {
                      "aaxis": {
                        "gridcolor": "white",
                        "linecolor": "white",
                        "ticks": ""
                      },
                      "baxis": {
                        "gridcolor": "white",
                        "linecolor": "white",
                        "ticks": ""
                      },
                      "bgcolor": "#E5ECF6",
                      "caxis": {
                        "gridcolor": "white",
                        "linecolor": "white",
                        "ticks": ""
                      }
                    },
                    "title": {
                      "x": 0.05
                    },
                    "xaxis": {
                      "automargin": true,
                      "gridcolor": "white",
                      "linecolor": "white",
                      "ticks": "",
                      "title": {
                        "standoff": 15
                      },
                      "zerolinecolor": "white",
                      "zerolinewidth": 2
                    },
                    "yaxis": {
                      "automargin": true,
                      "gridcolor": "white",
                      "linecolor": "white",
                      "ticks": "",
                      "title": {
                        "standoff": 15
                      },
                      "zerolinecolor": "white",
                      "zerolinewidth": 2
                    }
                  }
                },
                "title": {
                  "text": "Kmeans Clusters(k=3) on PCA Space"
                }
              }
            }
          },
          "metadata": {},
          "output_type": "display_data"
        }
      ],
      "source": [
        "kmeans = KMeans(n_clusters=3,random_state=42).fit(X_umap)\n",
        "km_labels2 = kmeans.labels_\n",
        "df2 = pd.DataFrame(X_pca3, columns=[\"PC1\",\"PC2\",\"PC3\"])\n",
        "df2[\"cluster\"] = km_labels2\n",
        "fig = px.scatter_3d(df2, x=\"PC1\", y=\"PC2\", z=\"PC3\",\n",
        "                    color=\"cluster\", opacity=0.7,\n",
        "                    title=\"Kmeans Clusters(k=3) on PCA Space\")\n",
        "fig.show()"
      ]
    },
    {
      "cell_type": "markdown",
      "metadata": {
        "id": "krEwY77iEaD_"
      },
      "source": [
        "#Kmeans With Mahalanobis Distance"
      ]
    },
    {
      "cell_type": "code",
      "execution_count": 26,
      "metadata": {
        "id": "hJFhZuuREZnf"
      },
      "outputs": [],
      "source": [
        "from scipy.spatial.distance import mahalanobis\n",
        "from sklearn.metrics import silhouette_score, adjusted_rand_score\n",
        "\n",
        "# Mahalanobis KMeans Function\n",
        "def kmeans_mahalanobis(X, k, max_iters=100):\n",
        "    centroids = X[np.random.choice(len(X), k, replace=False)]\n",
        "    VI = np.linalg.inv(np.cov(X.T))\n",
        "\n",
        "    for _ in range(max_iters):\n",
        "        labels = np.array([\n",
        "            np.argmin([mahalanobis(x, centroid, VI) for centroid in centroids])\n",
        "            for x in X\n",
        "        ])\n",
        "        new_centroids = np.array([\n",
        "            X[labels == j].mean(axis=0) if np.any(labels == j) else centroids[j]\n",
        "            for j in range(k)\n",
        "        ])\n",
        "        if np.allclose(centroids, new_centroids):\n",
        "            break\n",
        "        centroids = new_centroids\n",
        "\n",
        "    return labels, centroids\n",
        "\n"
      ]
    },
    {
      "cell_type": "markdown",
      "metadata": {
        "id": "nY08TdQLE9gH"
      },
      "source": [
        "##For k=6"
      ]
    },
    {
      "cell_type": "code",
      "execution_count": 27,
      "metadata": {
        "colab": {
          "base_uri": "https://localhost:8080/",
          "height": 542
        },
        "id": "PT798dh4E0TX",
        "outputId": "6e784f3e-749c-49a4-e323-da1225f5e780"
      },
      "outputs": [
        {
          "data": {
            "application/vnd.plotly.v1+json": {
              "config": {
                "plotlyServerURL": "https://plot.ly"
              },
              "data": [
                {
                  "hovertemplate": "PC1=%{x}<br>PC2=%{y}<br>PC3=%{z}<br>cluster=%{marker.color}<extra></extra>",
                  "legendgroup": "",
                  "marker": {
                    "color": {
                      "bdata": "BQUFBQUFBQUFBQUEBAQEAQQEBAEEAQUBBAEEBAQBBAQEBAEEBAEBBAQFBQUFBQUFBQUFBQQEAQEEAQEEBAQEAQEBBAQEBAEDAwMDAwMDAwMDAwMDAwMDAwMDAwMCAgICAgICAAAAAgIAAgIAAAACAAICAgACAgAAAAIFAgICAAICAgICAAQAAAACAgICAAICAgICAAIAAA==",
                      "dtype": "i1"
                    },
                    "coloraxis": "coloraxis",
                    "opacity": 0.7,
                    "symbol": "circle"
                  },
                  "mode": "markers",
                  "name": "",
                  "scene": "scene",
                  "showlegend": false,
                  "type": "scatter3d",
                  "x": {
                    "bdata": "9Z32lsYVWcAKOtef/qhRwL3VuLubyl7AMzdC8cZAT8BRJmyTnARRwMHzy9PFBk3AI/SCqxHUUcDnh9QaWnJOwHsUf5crnVHAaGJs0JHWUsChVpKqi/9HwDVZ9USe5kHAH943aq6nNcCvPJmC7kJJwGFC0xuTY0DAx65bsf1TSMCwwy/E/XQ0wB2gBSl8G1DAasq6xgQEPsCEF8f5aolAwPzI/PCaP1LAJlAySv3M9b9Cv2aG14pVwIxs5JAKA0PApMIiXHwaQcDVBF54jTM/wL/Um1xxG0HAAoUeMNmgTMCIInRJG504wD3YhTGFYUPAZjoYlrMsRMBBGzUr6LtKwG6i91LUKzHArCzgP5ByRMBsH1y2ka/iP3dtzwraOkXAFWXdEyEAJsBTjWf1oJI8wJYy2NK5HkbAWklDTGKkMMCgulGaIHhHwDIivTDZXwbAvUM6i0dORcB+58OXv7QYwLp65oedBzLAeDb68B9YScBMopC/IXImwPL0BaMtgz7ARWBlDMpiKsAnyYsv1B04wM3p6U/kTT3AHzmYDt4QLsBCOJMrDXZCQDNcpOsu6SLA2VWO5K7SE8DfmmM3feEQwOxZ21iz+DlAFN5AVfRiFUA6MdY8zWs4wCC03zubhjtAqel7Vkn3MED/8vAMx4MmwNz8rsH2lApAwT/5gB7pKUBp6BTAr9k8QNWRt8uRYztAl02pzQw1TMCwExVJ7OUuQONbUtlctUNAhEIkcqXY+r+HGQDtGX0gwOme+bsOF2LA3zNA7qsyYcBsV89d/xhawOd0TqxNbF/A6wOouI1KYMCJvfxM7TFhwBR1IGnQCl7AMCtYLeAuXcA57xkGpoViwEH7fgnU/1rApP+ATY59YsCqAJmotVlYwC0Kj9DzqGDAcCDgMsklX8BaoEki5HhYQD2OkHEfplhAhlsr7nBdXUC+pP9sK+9aQI9sPsOf8llAr5av7J7dWkCfjoTblgZZQIL8uqAD805AoZwE59xrT0B28wzKXHBQQMYE7oT/YExA3dBir2F5UEDsjHyRJDRHQEI5owRzgVJAEff8KCxGUEBmrQVlpmlTQHIK3LSNAlNAFEnBhC+nVkAayq1013dQQN2ah/3vtVJAoojcyljeUECq14R3IZ9SQL9LxFqnb1NA6qQEqKwRSkBSZMEaBhxIQEp3ApyzLFRAjcde/vNjV0BdQY2cPjBDQP+Gxm0ODFBACFFl/8D6VUCJdCiI+5ZNQLwTp/iuPElASOCAK/psTkCPrOg2ZfpWQNSxAZaAzkpAIemyf1hTTUBDLVduluhOQAdv2LtESArAsRhGT8ECP0AZMb6N9VJBQEFz0cmUjkVAIh1peuwL9r8woxzIkVNVQA2OO/m69UVA+pr7z/JfR0BlqdTWSU5OQId9+1l3DlJAbo6Nk/bFSEBX0PGsA6pHQA6iPwFIbUZAUWp07v6tNECbYNEAtxBJQMncxXa1YUtA+67MtrfDN0DKcF6c1+UxQBjBW9x4xk1AlmXxU2gHJcCYlxNYkag7QCi2oXbwnzhAkv0QZOrqRkCPexZNbVZCQIjyKeEaA01AdMQe0KMdMUA8T8Dd3ZgiQBGWBOSW5kNAsF/7trtzQ0A=",
                    "dtype": "f8"
                  },
                  "y": {
                    "bdata": "vIreEvd0SEDWe1lhJahNQGYpAUkdHzBA8sRR/PUbUEB/g0bQ1t1OQFl0REktIjtAE/KPDFPcRUCExhC+wYBQQHCmgz+8ZFJAr8X4J/1OVEDug8dibztKQJGIscbKlTpAmtgd67oTNUBtR5mkygVTQCUqvvFV3zNAIPnN6S5INUA+0AJRkpwUQFjw6jVUKUtARmIqghe3TkAxXqE5XAxUQJdWLuXAIThAgipazpqjTUBP9+liRtBIQKREJ7MztlFAhuKw0EKrRUB7rDOukqNCQCVF7AyHSkFATQuRd5ykSUDf5Q50qbZFQF0b2HIqhFNAW5wByRHaIUA7zt0qOto0QOaUyHnQFz9AslgQw75/NkAVq/metqpGQNMVXDIRkkdAyJMuYOdwKkDrlM3Jf59MQMdzq9BkYENArKuA8EUxHkApEZpQ8sswQIDM8Ig14kBA4msXw+MvOUCr+ywvFk5DQD9NEWgfRkdAuL3Qy+5yOED8Byn0at5LQCZx0SriCUpAVkO4PMayOkBUVLByoQFLQNvNyOdfgVBAMjY2JSmdPkCCYJvPJ7tCQHRW1kGXp/k/pplm3REnQUCvKPoKE41IQBQFD2SxSkRAaS3qTzM5QUBEN+7JcJMnwJ56TjAxbuA/jcDjt9DuTUB/F0XrtbY9QNKjsD55Q0FAwAuMZCZDQUBMUrG6v6gRwLHQte7RCyxAdmU2w+Q7SEAY0+MRcaJMQM7b354Z+y1AeXErBmIEIkBLTmIC7ZVDQERjY+9fyVnAVSMfAckzUsB5uBetKwBdwBRM5YOZQlTA4R3tTtAKXcCeyMv6btFWwC7PAZu1zFXAQd6MWuziXcAYdrPn9L5YwJMvDQnnFVzAr1jNX1unXMAttmTz8RJewCrV5Wx7xV3A1erwMNVMX8D9SSUvqURRwM0sM062fUTAn7rNLxBBRsBo7eyPk15RwLZvBwbQeU/A2rEM7sInVMBbpHgNmH1RwGLcYKAN9SRAiEGTbZ2NIkD4U5WcTKEiwMJj0OLrkSXAlFeVFSOIJ0DPs7tigUMlwIEb+wB4Ag3AnrWcIN7KF0AUJoNoC+ZFwJIOiXyIdRnAyrtJzc77QMC5biCzszQ9wEYUd3qDaDHAz2A93tO2KMAbJjySnFwmwAx0Eq3spjfANHjNkt7gI8DCVdPP2DktwCNGAPlGCkfAvzR+xpNI5T/fymLrkhgyQF3y+79Ys0TA31nHTFCqQMCxiXid5SdGwMbQ/IpEAzFABMniT72pIcCfqzSugD8pQHd1Ljxx+izA83F/lt9K+r9gUkJOPxMqwEP91ZlpWyBAleTk0moRBsAxGS1ovKc5wKcyqCfnpSXANpU1UFzPMsCLmKf3LhVFwDb76eIyoyDA0+eOR0DGKsDynNuZVZQ5wFbAu30viEnAp/I2FVOxPsBiOBHKq8Q1QB3W3ZicAkTAoP8s94ESOMBS+y2Ipxo9wMTKMszhvwhAFur0Ms3cOMDkthGNLoQkwA6vpLTYREHALno6zhcCMMCVxbjxDgBAQAOlqrcK5irA77xIZ+HuQEB4E+oasbsqwOfM+KALB0nAX2M9SdGFJ8CRSCuD+Sc6wPLtd47hZSbARJnGq1Q5QcA=",
                    "dtype": "f8"
                  },
                  "z": {
                    "bdata": "1tZrsf2dAMCXx1Sl9CclwPuqztmyiyHAi0O+ik0rHMClu1kth5Tpv+VxII2QsSHAthydROL+4z9ZzgLCApwUwFPnaUnFLSTAMY0o5Mo4HMAGiy/M/WY0wHou/aBhW07AKN9MNIzvAMD66qhmx3g2wHX1rAPNlEjAAYgELoy9U8AQcQdj6OtRwJV9DXcrp0PAO3ANIc/EPMBlZ1eMMWFGwCEMfNK+0zvALBKLS9fRQ8CEpGvpDjU2wN5rjj5LMjvANO4kBDXvLcBFITmOL9VDwAjszeCI0iRA0IJmNEEmR8AH7UBLOcNDwJuZJxnq50DAtsSn3hOwUcC8gr6QYyVQwEIbel/vLEnAfurYGST3ScApTBY9LldNwOu3VeaJd0vAdtJHeMZeE8ClWM7exos8wKfh9MiyI07A5RTDmMpaRsAzzgG+mPJNwO+8mAPZpkhAj6sFbS8kUkAhd4gh6b1AQMQ1Ww5I501AJy47gBg/SkBkq+E0mWpDQJVfQQq+8lBAlG+vByZ2RkBrhE9EffRHQOZRSp1BVVFALxN1M3MsTED0bAjqHNMaQPfAc4t7kDhA5Gprs07IDcCOgZNEx0A4QAwtYVfCdSBAzP6AOk1DB8DPni2683pCQFazpP6kBTzAFsUoc1GaM0DNMnaNXfI2QLS0dp7aevQ/7CRuzN5zOcARGqGmaa0VQB72L8aZLEzAWCrUYvIhQsDCliY5yuUowCK8lj7ssBXAKYs1ht92N0B1qRAd2380QAsA7aWjgUJApRtdTLKkMEBeE9zJQS0qwA5EspWdJQtAdIWWRxhm9r/1mFj1QxAZQKDfPqm6ECFAZoj+7rFLGEBs127AwMEwQGM40lJEuRpAK42T6Yi8B0DNDk379AYkwGBS9GIq/Na/E+yWJ8ezB0DSbhQ7H0JZwGjfIS2QfVTAi+RFC7dNWMCDUk5ob95cwNhyKJBL4FrA6TzfiqrQWcCc9sMCswBewFo96oJ2oEBALU2ReHmTNUAr7hK7GhUyQC1ZYJo7ND5AKZQ71APw9b/59TDjTEo/QAGU0XQa5CVA/uiwEkzxOUDaX4NZLpY1QJxckGab7TVAy/xjVivRF8AcOqTiWuQnwGJfHyB0WDpA02kQ4bjWMkCxrWhycAoeQDmC8kggnDtApA/oymL9SkDLq+RrlQVEQCTVrqF11SjAL/OzSX/O1D+Oc/aija88QFxKpePEFD3A8mV2avUBKcCllpAwhZpDQJUdLpcscEVArKlCZY8uQEB+G/C2y/s5QI39DfrNCUdA8A4gD9TiQECEfxfA+IQ1wGOzSQK14lBA3bKL5aNjAUAF+bOC3l9HQOZMObLXMzZAGOKs8CY/QkA4wjCktP9BQPU1hfxPqTBA9lDIYfoiP0C8yzCskLI1QAUCFOf3fSHAeLhPcyzQSUBLv9j7nfQ1QMBnI2KUVU1ArUPEr68sQ0DRPCauIBQ9QHoJ9sM/YgzAA4RXMdTzNUC3zdk/PJ1IQBlZEzXHn/K/iqLnLcb3UECK4ovJsc04QLUJPZPEk0BAO9qDY25oHsCsxbWr7P01QMC//lS7diLAlcB0KZzFSUCdGBUsTzk8QIkQ79wBKTxAVfPdP2FXL0A=",
                    "dtype": "f8"
                  }
                }
              ],
              "layout": {
                "coloraxis": {
                  "colorbar": {
                    "title": {
                      "text": "cluster"
                    }
                  },
                  "colorscale": [
                    [
                      0,
                      "#0d0887"
                    ],
                    [
                      0.1111111111111111,
                      "#46039f"
                    ],
                    [
                      0.2222222222222222,
                      "#7201a8"
                    ],
                    [
                      0.3333333333333333,
                      "#9c179e"
                    ],
                    [
                      0.4444444444444444,
                      "#bd3786"
                    ],
                    [
                      0.5555555555555556,
                      "#d8576b"
                    ],
                    [
                      0.6666666666666666,
                      "#ed7953"
                    ],
                    [
                      0.7777777777777778,
                      "#fb9f3a"
                    ],
                    [
                      0.8888888888888888,
                      "#fdca26"
                    ],
                    [
                      1,
                      "#f0f921"
                    ]
                  ]
                },
                "legend": {
                  "tracegroupgap": 0
                },
                "scene": {
                  "domain": {
                    "x": [
                      0,
                      1
                    ],
                    "y": [
                      0,
                      1
                    ]
                  },
                  "xaxis": {
                    "title": {
                      "text": "PC1"
                    }
                  },
                  "yaxis": {
                    "title": {
                      "text": "PC2"
                    }
                  },
                  "zaxis": {
                    "title": {
                      "text": "PC3"
                    }
                  }
                },
                "template": {
                  "data": {
                    "bar": [
                      {
                        "error_x": {
                          "color": "#2a3f5f"
                        },
                        "error_y": {
                          "color": "#2a3f5f"
                        },
                        "marker": {
                          "line": {
                            "color": "#E5ECF6",
                            "width": 0.5
                          },
                          "pattern": {
                            "fillmode": "overlay",
                            "size": 10,
                            "solidity": 0.2
                          }
                        },
                        "type": "bar"
                      }
                    ],
                    "barpolar": [
                      {
                        "marker": {
                          "line": {
                            "color": "#E5ECF6",
                            "width": 0.5
                          },
                          "pattern": {
                            "fillmode": "overlay",
                            "size": 10,
                            "solidity": 0.2
                          }
                        },
                        "type": "barpolar"
                      }
                    ],
                    "carpet": [
                      {
                        "aaxis": {
                          "endlinecolor": "#2a3f5f",
                          "gridcolor": "white",
                          "linecolor": "white",
                          "minorgridcolor": "white",
                          "startlinecolor": "#2a3f5f"
                        },
                        "baxis": {
                          "endlinecolor": "#2a3f5f",
                          "gridcolor": "white",
                          "linecolor": "white",
                          "minorgridcolor": "white",
                          "startlinecolor": "#2a3f5f"
                        },
                        "type": "carpet"
                      }
                    ],
                    "choropleth": [
                      {
                        "colorbar": {
                          "outlinewidth": 0,
                          "ticks": ""
                        },
                        "type": "choropleth"
                      }
                    ],
                    "contour": [
                      {
                        "colorbar": {
                          "outlinewidth": 0,
                          "ticks": ""
                        },
                        "colorscale": [
                          [
                            0,
                            "#0d0887"
                          ],
                          [
                            0.1111111111111111,
                            "#46039f"
                          ],
                          [
                            0.2222222222222222,
                            "#7201a8"
                          ],
                          [
                            0.3333333333333333,
                            "#9c179e"
                          ],
                          [
                            0.4444444444444444,
                            "#bd3786"
                          ],
                          [
                            0.5555555555555556,
                            "#d8576b"
                          ],
                          [
                            0.6666666666666666,
                            "#ed7953"
                          ],
                          [
                            0.7777777777777778,
                            "#fb9f3a"
                          ],
                          [
                            0.8888888888888888,
                            "#fdca26"
                          ],
                          [
                            1,
                            "#f0f921"
                          ]
                        ],
                        "type": "contour"
                      }
                    ],
                    "contourcarpet": [
                      {
                        "colorbar": {
                          "outlinewidth": 0,
                          "ticks": ""
                        },
                        "type": "contourcarpet"
                      }
                    ],
                    "heatmap": [
                      {
                        "colorbar": {
                          "outlinewidth": 0,
                          "ticks": ""
                        },
                        "colorscale": [
                          [
                            0,
                            "#0d0887"
                          ],
                          [
                            0.1111111111111111,
                            "#46039f"
                          ],
                          [
                            0.2222222222222222,
                            "#7201a8"
                          ],
                          [
                            0.3333333333333333,
                            "#9c179e"
                          ],
                          [
                            0.4444444444444444,
                            "#bd3786"
                          ],
                          [
                            0.5555555555555556,
                            "#d8576b"
                          ],
                          [
                            0.6666666666666666,
                            "#ed7953"
                          ],
                          [
                            0.7777777777777778,
                            "#fb9f3a"
                          ],
                          [
                            0.8888888888888888,
                            "#fdca26"
                          ],
                          [
                            1,
                            "#f0f921"
                          ]
                        ],
                        "type": "heatmap"
                      }
                    ],
                    "histogram": [
                      {
                        "marker": {
                          "pattern": {
                            "fillmode": "overlay",
                            "size": 10,
                            "solidity": 0.2
                          }
                        },
                        "type": "histogram"
                      }
                    ],
                    "histogram2d": [
                      {
                        "colorbar": {
                          "outlinewidth": 0,
                          "ticks": ""
                        },
                        "colorscale": [
                          [
                            0,
                            "#0d0887"
                          ],
                          [
                            0.1111111111111111,
                            "#46039f"
                          ],
                          [
                            0.2222222222222222,
                            "#7201a8"
                          ],
                          [
                            0.3333333333333333,
                            "#9c179e"
                          ],
                          [
                            0.4444444444444444,
                            "#bd3786"
                          ],
                          [
                            0.5555555555555556,
                            "#d8576b"
                          ],
                          [
                            0.6666666666666666,
                            "#ed7953"
                          ],
                          [
                            0.7777777777777778,
                            "#fb9f3a"
                          ],
                          [
                            0.8888888888888888,
                            "#fdca26"
                          ],
                          [
                            1,
                            "#f0f921"
                          ]
                        ],
                        "type": "histogram2d"
                      }
                    ],
                    "histogram2dcontour": [
                      {
                        "colorbar": {
                          "outlinewidth": 0,
                          "ticks": ""
                        },
                        "colorscale": [
                          [
                            0,
                            "#0d0887"
                          ],
                          [
                            0.1111111111111111,
                            "#46039f"
                          ],
                          [
                            0.2222222222222222,
                            "#7201a8"
                          ],
                          [
                            0.3333333333333333,
                            "#9c179e"
                          ],
                          [
                            0.4444444444444444,
                            "#bd3786"
                          ],
                          [
                            0.5555555555555556,
                            "#d8576b"
                          ],
                          [
                            0.6666666666666666,
                            "#ed7953"
                          ],
                          [
                            0.7777777777777778,
                            "#fb9f3a"
                          ],
                          [
                            0.8888888888888888,
                            "#fdca26"
                          ],
                          [
                            1,
                            "#f0f921"
                          ]
                        ],
                        "type": "histogram2dcontour"
                      }
                    ],
                    "mesh3d": [
                      {
                        "colorbar": {
                          "outlinewidth": 0,
                          "ticks": ""
                        },
                        "type": "mesh3d"
                      }
                    ],
                    "parcoords": [
                      {
                        "line": {
                          "colorbar": {
                            "outlinewidth": 0,
                            "ticks": ""
                          }
                        },
                        "type": "parcoords"
                      }
                    ],
                    "pie": [
                      {
                        "automargin": true,
                        "type": "pie"
                      }
                    ],
                    "scatter": [
                      {
                        "fillpattern": {
                          "fillmode": "overlay",
                          "size": 10,
                          "solidity": 0.2
                        },
                        "type": "scatter"
                      }
                    ],
                    "scatter3d": [
                      {
                        "line": {
                          "colorbar": {
                            "outlinewidth": 0,
                            "ticks": ""
                          }
                        },
                        "marker": {
                          "colorbar": {
                            "outlinewidth": 0,
                            "ticks": ""
                          }
                        },
                        "type": "scatter3d"
                      }
                    ],
                    "scattercarpet": [
                      {
                        "marker": {
                          "colorbar": {
                            "outlinewidth": 0,
                            "ticks": ""
                          }
                        },
                        "type": "scattercarpet"
                      }
                    ],
                    "scattergeo": [
                      {
                        "marker": {
                          "colorbar": {
                            "outlinewidth": 0,
                            "ticks": ""
                          }
                        },
                        "type": "scattergeo"
                      }
                    ],
                    "scattergl": [
                      {
                        "marker": {
                          "colorbar": {
                            "outlinewidth": 0,
                            "ticks": ""
                          }
                        },
                        "type": "scattergl"
                      }
                    ],
                    "scattermap": [
                      {
                        "marker": {
                          "colorbar": {
                            "outlinewidth": 0,
                            "ticks": ""
                          }
                        },
                        "type": "scattermap"
                      }
                    ],
                    "scattermapbox": [
                      {
                        "marker": {
                          "colorbar": {
                            "outlinewidth": 0,
                            "ticks": ""
                          }
                        },
                        "type": "scattermapbox"
                      }
                    ],
                    "scatterpolar": [
                      {
                        "marker": {
                          "colorbar": {
                            "outlinewidth": 0,
                            "ticks": ""
                          }
                        },
                        "type": "scatterpolar"
                      }
                    ],
                    "scatterpolargl": [
                      {
                        "marker": {
                          "colorbar": {
                            "outlinewidth": 0,
                            "ticks": ""
                          }
                        },
                        "type": "scatterpolargl"
                      }
                    ],
                    "scatterternary": [
                      {
                        "marker": {
                          "colorbar": {
                            "outlinewidth": 0,
                            "ticks": ""
                          }
                        },
                        "type": "scatterternary"
                      }
                    ],
                    "surface": [
                      {
                        "colorbar": {
                          "outlinewidth": 0,
                          "ticks": ""
                        },
                        "colorscale": [
                          [
                            0,
                            "#0d0887"
                          ],
                          [
                            0.1111111111111111,
                            "#46039f"
                          ],
                          [
                            0.2222222222222222,
                            "#7201a8"
                          ],
                          [
                            0.3333333333333333,
                            "#9c179e"
                          ],
                          [
                            0.4444444444444444,
                            "#bd3786"
                          ],
                          [
                            0.5555555555555556,
                            "#d8576b"
                          ],
                          [
                            0.6666666666666666,
                            "#ed7953"
                          ],
                          [
                            0.7777777777777778,
                            "#fb9f3a"
                          ],
                          [
                            0.8888888888888888,
                            "#fdca26"
                          ],
                          [
                            1,
                            "#f0f921"
                          ]
                        ],
                        "type": "surface"
                      }
                    ],
                    "table": [
                      {
                        "cells": {
                          "fill": {
                            "color": "#EBF0F8"
                          },
                          "line": {
                            "color": "white"
                          }
                        },
                        "header": {
                          "fill": {
                            "color": "#C8D4E3"
                          },
                          "line": {
                            "color": "white"
                          }
                        },
                        "type": "table"
                      }
                    ]
                  },
                  "layout": {
                    "annotationdefaults": {
                      "arrowcolor": "#2a3f5f",
                      "arrowhead": 0,
                      "arrowwidth": 1
                    },
                    "autotypenumbers": "strict",
                    "coloraxis": {
                      "colorbar": {
                        "outlinewidth": 0,
                        "ticks": ""
                      }
                    },
                    "colorscale": {
                      "diverging": [
                        [
                          0,
                          "#8e0152"
                        ],
                        [
                          0.1,
                          "#c51b7d"
                        ],
                        [
                          0.2,
                          "#de77ae"
                        ],
                        [
                          0.3,
                          "#f1b6da"
                        ],
                        [
                          0.4,
                          "#fde0ef"
                        ],
                        [
                          0.5,
                          "#f7f7f7"
                        ],
                        [
                          0.6,
                          "#e6f5d0"
                        ],
                        [
                          0.7,
                          "#b8e186"
                        ],
                        [
                          0.8,
                          "#7fbc41"
                        ],
                        [
                          0.9,
                          "#4d9221"
                        ],
                        [
                          1,
                          "#276419"
                        ]
                      ],
                      "sequential": [
                        [
                          0,
                          "#0d0887"
                        ],
                        [
                          0.1111111111111111,
                          "#46039f"
                        ],
                        [
                          0.2222222222222222,
                          "#7201a8"
                        ],
                        [
                          0.3333333333333333,
                          "#9c179e"
                        ],
                        [
                          0.4444444444444444,
                          "#bd3786"
                        ],
                        [
                          0.5555555555555556,
                          "#d8576b"
                        ],
                        [
                          0.6666666666666666,
                          "#ed7953"
                        ],
                        [
                          0.7777777777777778,
                          "#fb9f3a"
                        ],
                        [
                          0.8888888888888888,
                          "#fdca26"
                        ],
                        [
                          1,
                          "#f0f921"
                        ]
                      ],
                      "sequentialminus": [
                        [
                          0,
                          "#0d0887"
                        ],
                        [
                          0.1111111111111111,
                          "#46039f"
                        ],
                        [
                          0.2222222222222222,
                          "#7201a8"
                        ],
                        [
                          0.3333333333333333,
                          "#9c179e"
                        ],
                        [
                          0.4444444444444444,
                          "#bd3786"
                        ],
                        [
                          0.5555555555555556,
                          "#d8576b"
                        ],
                        [
                          0.6666666666666666,
                          "#ed7953"
                        ],
                        [
                          0.7777777777777778,
                          "#fb9f3a"
                        ],
                        [
                          0.8888888888888888,
                          "#fdca26"
                        ],
                        [
                          1,
                          "#f0f921"
                        ]
                      ]
                    },
                    "colorway": [
                      "#636efa",
                      "#EF553B",
                      "#00cc96",
                      "#ab63fa",
                      "#FFA15A",
                      "#19d3f3",
                      "#FF6692",
                      "#B6E880",
                      "#FF97FF",
                      "#FECB52"
                    ],
                    "font": {
                      "color": "#2a3f5f"
                    },
                    "geo": {
                      "bgcolor": "white",
                      "lakecolor": "white",
                      "landcolor": "#E5ECF6",
                      "showlakes": true,
                      "showland": true,
                      "subunitcolor": "white"
                    },
                    "hoverlabel": {
                      "align": "left"
                    },
                    "hovermode": "closest",
                    "mapbox": {
                      "style": "light"
                    },
                    "paper_bgcolor": "white",
                    "plot_bgcolor": "#E5ECF6",
                    "polar": {
                      "angularaxis": {
                        "gridcolor": "white",
                        "linecolor": "white",
                        "ticks": ""
                      },
                      "bgcolor": "#E5ECF6",
                      "radialaxis": {
                        "gridcolor": "white",
                        "linecolor": "white",
                        "ticks": ""
                      }
                    },
                    "scene": {
                      "xaxis": {
                        "backgroundcolor": "#E5ECF6",
                        "gridcolor": "white",
                        "gridwidth": 2,
                        "linecolor": "white",
                        "showbackground": true,
                        "ticks": "",
                        "zerolinecolor": "white"
                      },
                      "yaxis": {
                        "backgroundcolor": "#E5ECF6",
                        "gridcolor": "white",
                        "gridwidth": 2,
                        "linecolor": "white",
                        "showbackground": true,
                        "ticks": "",
                        "zerolinecolor": "white"
                      },
                      "zaxis": {
                        "backgroundcolor": "#E5ECF6",
                        "gridcolor": "white",
                        "gridwidth": 2,
                        "linecolor": "white",
                        "showbackground": true,
                        "ticks": "",
                        "zerolinecolor": "white"
                      }
                    },
                    "shapedefaults": {
                      "line": {
                        "color": "#2a3f5f"
                      }
                    },
                    "ternary": {
                      "aaxis": {
                        "gridcolor": "white",
                        "linecolor": "white",
                        "ticks": ""
                      },
                      "baxis": {
                        "gridcolor": "white",
                        "linecolor": "white",
                        "ticks": ""
                      },
                      "bgcolor": "#E5ECF6",
                      "caxis": {
                        "gridcolor": "white",
                        "linecolor": "white",
                        "ticks": ""
                      }
                    },
                    "title": {
                      "x": 0.05
                    },
                    "xaxis": {
                      "automargin": true,
                      "gridcolor": "white",
                      "linecolor": "white",
                      "ticks": "",
                      "title": {
                        "standoff": 15
                      },
                      "zerolinecolor": "white",
                      "zerolinewidth": 2
                    },
                    "yaxis": {
                      "automargin": true,
                      "gridcolor": "white",
                      "linecolor": "white",
                      "ticks": "",
                      "title": {
                        "standoff": 15
                      },
                      "zerolinecolor": "white",
                      "zerolinewidth": 2
                    }
                  }
                },
                "title": {
                  "text": "Kmeans Clusters(k=6) with mahalnobis distance on PCA Space"
                }
              }
            }
          },
          "metadata": {},
          "output_type": "display_data"
        }
      ],
      "source": [
        "labels_maha1, centroids_maha = kmeans_mahalanobis(X_umap, 6)\n",
        "df1 = pd.DataFrame(X_pca3, columns=[\"PC1\",\"PC2\",\"PC3\"])\n",
        "df1[\"cluster\"] = labels_maha1\n",
        "fig = px.scatter_3d(df1, x=\"PC1\", y=\"PC2\", z=\"PC3\",\n",
        "                    color=\"cluster\", opacity=0.7,\n",
        "                    title=\"Kmeans Clusters(k=6) with mahalnobis distance on PCA Space\")\n",
        "fig.show()"
      ]
    },
    {
      "cell_type": "markdown",
      "metadata": {
        "id": "XuToWPczC33E"
      },
      "source": [
        "Optimal K keeps changing due to random initialization of centroids"
      ]
    },
    {
      "cell_type": "code",
      "execution_count": 28,
      "metadata": {
        "colab": {
          "base_uri": "https://localhost:8080/"
        },
        "id": "1hII4dABEyl_",
        "outputId": "0cde4365-85a7-4656-9caa-adbd22a27740"
      },
      "outputs": [
        {
          "name": "stdout",
          "output_type": "stream",
          "text": [
            "K=3, Silhouette Score: 0.2560\n",
            "K=4, Silhouette Score: 0.1862\n",
            "K=5, Silhouette Score: 0.3951\n",
            "K=6, Silhouette Score: 0.0930\n",
            "K=7, Silhouette Score: 0.2796\n",
            "K=8, Silhouette Score: 0.1861\n",
            "Best K: 5 with Silhouette Score: 0.3951\n"
          ]
        }
      ],
      "source": [
        "best_k = None\n",
        "best_score = -1\n",
        "for k in range(3, 9):\n",
        "    y_kmeans_maha,_ = kmeans_mahalanobis(X_umap,k)\n",
        "    score = silhouette_score(X_umap, y_kmeans_maha)\n",
        "    print(f\"K={k}, Silhouette Score: {score:.4f}\")\n",
        "\n",
        "    if score > best_score:\n",
        "        best_score = score\n",
        "        best_k = k\n",
        "        labels_maha2 = y_kmeans_maha\n",
        "\n",
        "print(f\"Best K: {best_k} with Silhouette Score: {best_score:.4f}\")\n",
        "\n"
      ]
    },
    {
      "cell_type": "markdown",
      "metadata": {
        "id": "oMWpV3JBHRl7"
      },
      "source": [
        "##For optimal K determined using Silhouette score"
      ]
    },
    {
      "cell_type": "code",
      "execution_count": 29,
      "metadata": {
        "colab": {
          "base_uri": "https://localhost:8080/",
          "height": 542
        },
        "id": "bxOF2x1ZHQ0-",
        "outputId": "194ae1b1-8105-41d3-d2a4-fc262b0f26e0"
      },
      "outputs": [
        {
          "data": {
            "application/vnd.plotly.v1+json": {
              "config": {
                "plotlyServerURL": "https://plot.ly"
              },
              "data": [
                {
                  "hovertemplate": "PC1=%{x}<br>PC2=%{y}<br>PC3=%{z}<br>cluster=%{marker.color}<extra></extra>",
                  "legendgroup": "",
                  "marker": {
                    "color": {
                      "bdata": "BAQEBAQEBAQEAAQAAAAAAAAAAAAAAAQAAAAAAAAAAAAAAAAAAAAAAAAEBAQEBAQEBAQEBAAAAAAAAAAAAAAAAAAAAAAAAAADAwEBAwEBAwMDAwMDAwICAgICAgICAgICAgICAgICAgICAgICAgICAgICAgICAgICAgIEAgICAgICAgICAgICAgICAgICAgICAgICAgICAg==",
                      "dtype": "i1"
                    },
                    "coloraxis": "coloraxis",
                    "opacity": 0.7,
                    "symbol": "circle"
                  },
                  "mode": "markers",
                  "name": "",
                  "scene": "scene",
                  "showlegend": false,
                  "type": "scatter3d",
                  "x": {
                    "bdata": "9Z32lsYVWcAKOtef/qhRwL3VuLubyl7AMzdC8cZAT8BRJmyTnARRwMHzy9PFBk3AI/SCqxHUUcDnh9QaWnJOwHsUf5crnVHAaGJs0JHWUsChVpKqi/9HwDVZ9USe5kHAH943aq6nNcCvPJmC7kJJwGFC0xuTY0DAx65bsf1TSMCwwy/E/XQ0wB2gBSl8G1DAasq6xgQEPsCEF8f5aolAwPzI/PCaP1LAJlAySv3M9b9Cv2aG14pVwIxs5JAKA0PApMIiXHwaQcDVBF54jTM/wL/Um1xxG0HAAoUeMNmgTMCIInRJG504wD3YhTGFYUPAZjoYlrMsRMBBGzUr6LtKwG6i91LUKzHArCzgP5ByRMBsH1y2ka/iP3dtzwraOkXAFWXdEyEAJsBTjWf1oJI8wJYy2NK5HkbAWklDTGKkMMCgulGaIHhHwDIivTDZXwbAvUM6i0dORcB+58OXv7QYwLp65oedBzLAeDb68B9YScBMopC/IXImwPL0BaMtgz7ARWBlDMpiKsAnyYsv1B04wM3p6U/kTT3AHzmYDt4QLsBCOJMrDXZCQDNcpOsu6SLA2VWO5K7SE8DfmmM3feEQwOxZ21iz+DlAFN5AVfRiFUA6MdY8zWs4wCC03zubhjtAqel7Vkn3MED/8vAMx4MmwNz8rsH2lApAwT/5gB7pKUBp6BTAr9k8QNWRt8uRYztAl02pzQw1TMCwExVJ7OUuQONbUtlctUNAhEIkcqXY+r+HGQDtGX0gwOme+bsOF2LA3zNA7qsyYcBsV89d/xhawOd0TqxNbF/A6wOouI1KYMCJvfxM7TFhwBR1IGnQCl7AMCtYLeAuXcA57xkGpoViwEH7fgnU/1rApP+ATY59YsCqAJmotVlYwC0Kj9DzqGDAcCDgMsklX8BaoEki5HhYQD2OkHEfplhAhlsr7nBdXUC+pP9sK+9aQI9sPsOf8llAr5av7J7dWkCfjoTblgZZQIL8uqAD805AoZwE59xrT0B28wzKXHBQQMYE7oT/YExA3dBir2F5UEDsjHyRJDRHQEI5owRzgVJAEff8KCxGUEBmrQVlpmlTQHIK3LSNAlNAFEnBhC+nVkAayq1013dQQN2ah/3vtVJAoojcyljeUECq14R3IZ9SQL9LxFqnb1NA6qQEqKwRSkBSZMEaBhxIQEp3ApyzLFRAjcde/vNjV0BdQY2cPjBDQP+Gxm0ODFBACFFl/8D6VUCJdCiI+5ZNQLwTp/iuPElASOCAK/psTkCPrOg2ZfpWQNSxAZaAzkpAIemyf1hTTUBDLVduluhOQAdv2LtESArAsRhGT8ECP0AZMb6N9VJBQEFz0cmUjkVAIh1peuwL9r8woxzIkVNVQA2OO/m69UVA+pr7z/JfR0BlqdTWSU5OQId9+1l3DlJAbo6Nk/bFSEBX0PGsA6pHQA6iPwFIbUZAUWp07v6tNECbYNEAtxBJQMncxXa1YUtA+67MtrfDN0DKcF6c1+UxQBjBW9x4xk1AlmXxU2gHJcCYlxNYkag7QCi2oXbwnzhAkv0QZOrqRkCPexZNbVZCQIjyKeEaA01AdMQe0KMdMUA8T8Dd3ZgiQBGWBOSW5kNAsF/7trtzQ0A=",
                    "dtype": "f8"
                  },
                  "y": {
                    "bdata": "vIreEvd0SEDWe1lhJahNQGYpAUkdHzBA8sRR/PUbUEB/g0bQ1t1OQFl0REktIjtAE/KPDFPcRUCExhC+wYBQQHCmgz+8ZFJAr8X4J/1OVEDug8dibztKQJGIscbKlTpAmtgd67oTNUBtR5mkygVTQCUqvvFV3zNAIPnN6S5INUA+0AJRkpwUQFjw6jVUKUtARmIqghe3TkAxXqE5XAxUQJdWLuXAIThAgipazpqjTUBP9+liRtBIQKREJ7MztlFAhuKw0EKrRUB7rDOukqNCQCVF7AyHSkFATQuRd5ykSUDf5Q50qbZFQF0b2HIqhFNAW5wByRHaIUA7zt0qOto0QOaUyHnQFz9AslgQw75/NkAVq/metqpGQNMVXDIRkkdAyJMuYOdwKkDrlM3Jf59MQMdzq9BkYENArKuA8EUxHkApEZpQ8sswQIDM8Ig14kBA4msXw+MvOUCr+ywvFk5DQD9NEWgfRkdAuL3Qy+5yOED8Byn0at5LQCZx0SriCUpAVkO4PMayOkBUVLByoQFLQNvNyOdfgVBAMjY2JSmdPkCCYJvPJ7tCQHRW1kGXp/k/pplm3REnQUCvKPoKE41IQBQFD2SxSkRAaS3qTzM5QUBEN+7JcJMnwJ56TjAxbuA/jcDjt9DuTUB/F0XrtbY9QNKjsD55Q0FAwAuMZCZDQUBMUrG6v6gRwLHQte7RCyxAdmU2w+Q7SEAY0+MRcaJMQM7b354Z+y1AeXErBmIEIkBLTmIC7ZVDQERjY+9fyVnAVSMfAckzUsB5uBetKwBdwBRM5YOZQlTA4R3tTtAKXcCeyMv6btFWwC7PAZu1zFXAQd6MWuziXcAYdrPn9L5YwJMvDQnnFVzAr1jNX1unXMAttmTz8RJewCrV5Wx7xV3A1erwMNVMX8D9SSUvqURRwM0sM062fUTAn7rNLxBBRsBo7eyPk15RwLZvBwbQeU/A2rEM7sInVMBbpHgNmH1RwGLcYKAN9SRAiEGTbZ2NIkD4U5WcTKEiwMJj0OLrkSXAlFeVFSOIJ0DPs7tigUMlwIEb+wB4Ag3AnrWcIN7KF0AUJoNoC+ZFwJIOiXyIdRnAyrtJzc77QMC5biCzszQ9wEYUd3qDaDHAz2A93tO2KMAbJjySnFwmwAx0Eq3spjfANHjNkt7gI8DCVdPP2DktwCNGAPlGCkfAvzR+xpNI5T/fymLrkhgyQF3y+79Ys0TA31nHTFCqQMCxiXid5SdGwMbQ/IpEAzFABMniT72pIcCfqzSugD8pQHd1Ljxx+izA83F/lt9K+r9gUkJOPxMqwEP91ZlpWyBAleTk0moRBsAxGS1ovKc5wKcyqCfnpSXANpU1UFzPMsCLmKf3LhVFwDb76eIyoyDA0+eOR0DGKsDynNuZVZQ5wFbAu30viEnAp/I2FVOxPsBiOBHKq8Q1QB3W3ZicAkTAoP8s94ESOMBS+y2Ipxo9wMTKMszhvwhAFur0Ms3cOMDkthGNLoQkwA6vpLTYREHALno6zhcCMMCVxbjxDgBAQAOlqrcK5irA77xIZ+HuQEB4E+oasbsqwOfM+KALB0nAX2M9SdGFJ8CRSCuD+Sc6wPLtd47hZSbARJnGq1Q5QcA=",
                    "dtype": "f8"
                  },
                  "z": {
                    "bdata": "1tZrsf2dAMCXx1Sl9CclwPuqztmyiyHAi0O+ik0rHMClu1kth5Tpv+VxII2QsSHAthydROL+4z9ZzgLCApwUwFPnaUnFLSTAMY0o5Mo4HMAGiy/M/WY0wHou/aBhW07AKN9MNIzvAMD66qhmx3g2wHX1rAPNlEjAAYgELoy9U8AQcQdj6OtRwJV9DXcrp0PAO3ANIc/EPMBlZ1eMMWFGwCEMfNK+0zvALBKLS9fRQ8CEpGvpDjU2wN5rjj5LMjvANO4kBDXvLcBFITmOL9VDwAjszeCI0iRA0IJmNEEmR8AH7UBLOcNDwJuZJxnq50DAtsSn3hOwUcC8gr6QYyVQwEIbel/vLEnAfurYGST3ScApTBY9LldNwOu3VeaJd0vAdtJHeMZeE8ClWM7exos8wKfh9MiyI07A5RTDmMpaRsAzzgG+mPJNwO+8mAPZpkhAj6sFbS8kUkAhd4gh6b1AQMQ1Ww5I501AJy47gBg/SkBkq+E0mWpDQJVfQQq+8lBAlG+vByZ2RkBrhE9EffRHQOZRSp1BVVFALxN1M3MsTED0bAjqHNMaQPfAc4t7kDhA5Gprs07IDcCOgZNEx0A4QAwtYVfCdSBAzP6AOk1DB8DPni2683pCQFazpP6kBTzAFsUoc1GaM0DNMnaNXfI2QLS0dp7aevQ/7CRuzN5zOcARGqGmaa0VQB72L8aZLEzAWCrUYvIhQsDCliY5yuUowCK8lj7ssBXAKYs1ht92N0B1qRAd2380QAsA7aWjgUJApRtdTLKkMEBeE9zJQS0qwA5EspWdJQtAdIWWRxhm9r/1mFj1QxAZQKDfPqm6ECFAZoj+7rFLGEBs127AwMEwQGM40lJEuRpAK42T6Yi8B0DNDk379AYkwGBS9GIq/Na/E+yWJ8ezB0DSbhQ7H0JZwGjfIS2QfVTAi+RFC7dNWMCDUk5ob95cwNhyKJBL4FrA6TzfiqrQWcCc9sMCswBewFo96oJ2oEBALU2ReHmTNUAr7hK7GhUyQC1ZYJo7ND5AKZQ71APw9b/59TDjTEo/QAGU0XQa5CVA/uiwEkzxOUDaX4NZLpY1QJxckGab7TVAy/xjVivRF8AcOqTiWuQnwGJfHyB0WDpA02kQ4bjWMkCxrWhycAoeQDmC8kggnDtApA/oymL9SkDLq+RrlQVEQCTVrqF11SjAL/OzSX/O1D+Oc/aija88QFxKpePEFD3A8mV2avUBKcCllpAwhZpDQJUdLpcscEVArKlCZY8uQEB+G/C2y/s5QI39DfrNCUdA8A4gD9TiQECEfxfA+IQ1wGOzSQK14lBA3bKL5aNjAUAF+bOC3l9HQOZMObLXMzZAGOKs8CY/QkA4wjCktP9BQPU1hfxPqTBA9lDIYfoiP0C8yzCskLI1QAUCFOf3fSHAeLhPcyzQSUBLv9j7nfQ1QMBnI2KUVU1ArUPEr68sQ0DRPCauIBQ9QHoJ9sM/YgzAA4RXMdTzNUC3zdk/PJ1IQBlZEzXHn/K/iqLnLcb3UECK4ovJsc04QLUJPZPEk0BAO9qDY25oHsCsxbWr7P01QMC//lS7diLAlcB0KZzFSUCdGBUsTzk8QIkQ79wBKTxAVfPdP2FXL0A=",
                    "dtype": "f8"
                  }
                }
              ],
              "layout": {
                "coloraxis": {
                  "colorbar": {
                    "title": {
                      "text": "cluster"
                    }
                  },
                  "colorscale": [
                    [
                      0,
                      "#0d0887"
                    ],
                    [
                      0.1111111111111111,
                      "#46039f"
                    ],
                    [
                      0.2222222222222222,
                      "#7201a8"
                    ],
                    [
                      0.3333333333333333,
                      "#9c179e"
                    ],
                    [
                      0.4444444444444444,
                      "#bd3786"
                    ],
                    [
                      0.5555555555555556,
                      "#d8576b"
                    ],
                    [
                      0.6666666666666666,
                      "#ed7953"
                    ],
                    [
                      0.7777777777777778,
                      "#fb9f3a"
                    ],
                    [
                      0.8888888888888888,
                      "#fdca26"
                    ],
                    [
                      1,
                      "#f0f921"
                    ]
                  ]
                },
                "legend": {
                  "tracegroupgap": 0
                },
                "scene": {
                  "domain": {
                    "x": [
                      0,
                      1
                    ],
                    "y": [
                      0,
                      1
                    ]
                  },
                  "xaxis": {
                    "title": {
                      "text": "PC1"
                    }
                  },
                  "yaxis": {
                    "title": {
                      "text": "PC2"
                    }
                  },
                  "zaxis": {
                    "title": {
                      "text": "PC3"
                    }
                  }
                },
                "template": {
                  "data": {
                    "bar": [
                      {
                        "error_x": {
                          "color": "#2a3f5f"
                        },
                        "error_y": {
                          "color": "#2a3f5f"
                        },
                        "marker": {
                          "line": {
                            "color": "#E5ECF6",
                            "width": 0.5
                          },
                          "pattern": {
                            "fillmode": "overlay",
                            "size": 10,
                            "solidity": 0.2
                          }
                        },
                        "type": "bar"
                      }
                    ],
                    "barpolar": [
                      {
                        "marker": {
                          "line": {
                            "color": "#E5ECF6",
                            "width": 0.5
                          },
                          "pattern": {
                            "fillmode": "overlay",
                            "size": 10,
                            "solidity": 0.2
                          }
                        },
                        "type": "barpolar"
                      }
                    ],
                    "carpet": [
                      {
                        "aaxis": {
                          "endlinecolor": "#2a3f5f",
                          "gridcolor": "white",
                          "linecolor": "white",
                          "minorgridcolor": "white",
                          "startlinecolor": "#2a3f5f"
                        },
                        "baxis": {
                          "endlinecolor": "#2a3f5f",
                          "gridcolor": "white",
                          "linecolor": "white",
                          "minorgridcolor": "white",
                          "startlinecolor": "#2a3f5f"
                        },
                        "type": "carpet"
                      }
                    ],
                    "choropleth": [
                      {
                        "colorbar": {
                          "outlinewidth": 0,
                          "ticks": ""
                        },
                        "type": "choropleth"
                      }
                    ],
                    "contour": [
                      {
                        "colorbar": {
                          "outlinewidth": 0,
                          "ticks": ""
                        },
                        "colorscale": [
                          [
                            0,
                            "#0d0887"
                          ],
                          [
                            0.1111111111111111,
                            "#46039f"
                          ],
                          [
                            0.2222222222222222,
                            "#7201a8"
                          ],
                          [
                            0.3333333333333333,
                            "#9c179e"
                          ],
                          [
                            0.4444444444444444,
                            "#bd3786"
                          ],
                          [
                            0.5555555555555556,
                            "#d8576b"
                          ],
                          [
                            0.6666666666666666,
                            "#ed7953"
                          ],
                          [
                            0.7777777777777778,
                            "#fb9f3a"
                          ],
                          [
                            0.8888888888888888,
                            "#fdca26"
                          ],
                          [
                            1,
                            "#f0f921"
                          ]
                        ],
                        "type": "contour"
                      }
                    ],
                    "contourcarpet": [
                      {
                        "colorbar": {
                          "outlinewidth": 0,
                          "ticks": ""
                        },
                        "type": "contourcarpet"
                      }
                    ],
                    "heatmap": [
                      {
                        "colorbar": {
                          "outlinewidth": 0,
                          "ticks": ""
                        },
                        "colorscale": [
                          [
                            0,
                            "#0d0887"
                          ],
                          [
                            0.1111111111111111,
                            "#46039f"
                          ],
                          [
                            0.2222222222222222,
                            "#7201a8"
                          ],
                          [
                            0.3333333333333333,
                            "#9c179e"
                          ],
                          [
                            0.4444444444444444,
                            "#bd3786"
                          ],
                          [
                            0.5555555555555556,
                            "#d8576b"
                          ],
                          [
                            0.6666666666666666,
                            "#ed7953"
                          ],
                          [
                            0.7777777777777778,
                            "#fb9f3a"
                          ],
                          [
                            0.8888888888888888,
                            "#fdca26"
                          ],
                          [
                            1,
                            "#f0f921"
                          ]
                        ],
                        "type": "heatmap"
                      }
                    ],
                    "histogram": [
                      {
                        "marker": {
                          "pattern": {
                            "fillmode": "overlay",
                            "size": 10,
                            "solidity": 0.2
                          }
                        },
                        "type": "histogram"
                      }
                    ],
                    "histogram2d": [
                      {
                        "colorbar": {
                          "outlinewidth": 0,
                          "ticks": ""
                        },
                        "colorscale": [
                          [
                            0,
                            "#0d0887"
                          ],
                          [
                            0.1111111111111111,
                            "#46039f"
                          ],
                          [
                            0.2222222222222222,
                            "#7201a8"
                          ],
                          [
                            0.3333333333333333,
                            "#9c179e"
                          ],
                          [
                            0.4444444444444444,
                            "#bd3786"
                          ],
                          [
                            0.5555555555555556,
                            "#d8576b"
                          ],
                          [
                            0.6666666666666666,
                            "#ed7953"
                          ],
                          [
                            0.7777777777777778,
                            "#fb9f3a"
                          ],
                          [
                            0.8888888888888888,
                            "#fdca26"
                          ],
                          [
                            1,
                            "#f0f921"
                          ]
                        ],
                        "type": "histogram2d"
                      }
                    ],
                    "histogram2dcontour": [
                      {
                        "colorbar": {
                          "outlinewidth": 0,
                          "ticks": ""
                        },
                        "colorscale": [
                          [
                            0,
                            "#0d0887"
                          ],
                          [
                            0.1111111111111111,
                            "#46039f"
                          ],
                          [
                            0.2222222222222222,
                            "#7201a8"
                          ],
                          [
                            0.3333333333333333,
                            "#9c179e"
                          ],
                          [
                            0.4444444444444444,
                            "#bd3786"
                          ],
                          [
                            0.5555555555555556,
                            "#d8576b"
                          ],
                          [
                            0.6666666666666666,
                            "#ed7953"
                          ],
                          [
                            0.7777777777777778,
                            "#fb9f3a"
                          ],
                          [
                            0.8888888888888888,
                            "#fdca26"
                          ],
                          [
                            1,
                            "#f0f921"
                          ]
                        ],
                        "type": "histogram2dcontour"
                      }
                    ],
                    "mesh3d": [
                      {
                        "colorbar": {
                          "outlinewidth": 0,
                          "ticks": ""
                        },
                        "type": "mesh3d"
                      }
                    ],
                    "parcoords": [
                      {
                        "line": {
                          "colorbar": {
                            "outlinewidth": 0,
                            "ticks": ""
                          }
                        },
                        "type": "parcoords"
                      }
                    ],
                    "pie": [
                      {
                        "automargin": true,
                        "type": "pie"
                      }
                    ],
                    "scatter": [
                      {
                        "fillpattern": {
                          "fillmode": "overlay",
                          "size": 10,
                          "solidity": 0.2
                        },
                        "type": "scatter"
                      }
                    ],
                    "scatter3d": [
                      {
                        "line": {
                          "colorbar": {
                            "outlinewidth": 0,
                            "ticks": ""
                          }
                        },
                        "marker": {
                          "colorbar": {
                            "outlinewidth": 0,
                            "ticks": ""
                          }
                        },
                        "type": "scatter3d"
                      }
                    ],
                    "scattercarpet": [
                      {
                        "marker": {
                          "colorbar": {
                            "outlinewidth": 0,
                            "ticks": ""
                          }
                        },
                        "type": "scattercarpet"
                      }
                    ],
                    "scattergeo": [
                      {
                        "marker": {
                          "colorbar": {
                            "outlinewidth": 0,
                            "ticks": ""
                          }
                        },
                        "type": "scattergeo"
                      }
                    ],
                    "scattergl": [
                      {
                        "marker": {
                          "colorbar": {
                            "outlinewidth": 0,
                            "ticks": ""
                          }
                        },
                        "type": "scattergl"
                      }
                    ],
                    "scattermap": [
                      {
                        "marker": {
                          "colorbar": {
                            "outlinewidth": 0,
                            "ticks": ""
                          }
                        },
                        "type": "scattermap"
                      }
                    ],
                    "scattermapbox": [
                      {
                        "marker": {
                          "colorbar": {
                            "outlinewidth": 0,
                            "ticks": ""
                          }
                        },
                        "type": "scattermapbox"
                      }
                    ],
                    "scatterpolar": [
                      {
                        "marker": {
                          "colorbar": {
                            "outlinewidth": 0,
                            "ticks": ""
                          }
                        },
                        "type": "scatterpolar"
                      }
                    ],
                    "scatterpolargl": [
                      {
                        "marker": {
                          "colorbar": {
                            "outlinewidth": 0,
                            "ticks": ""
                          }
                        },
                        "type": "scatterpolargl"
                      }
                    ],
                    "scatterternary": [
                      {
                        "marker": {
                          "colorbar": {
                            "outlinewidth": 0,
                            "ticks": ""
                          }
                        },
                        "type": "scatterternary"
                      }
                    ],
                    "surface": [
                      {
                        "colorbar": {
                          "outlinewidth": 0,
                          "ticks": ""
                        },
                        "colorscale": [
                          [
                            0,
                            "#0d0887"
                          ],
                          [
                            0.1111111111111111,
                            "#46039f"
                          ],
                          [
                            0.2222222222222222,
                            "#7201a8"
                          ],
                          [
                            0.3333333333333333,
                            "#9c179e"
                          ],
                          [
                            0.4444444444444444,
                            "#bd3786"
                          ],
                          [
                            0.5555555555555556,
                            "#d8576b"
                          ],
                          [
                            0.6666666666666666,
                            "#ed7953"
                          ],
                          [
                            0.7777777777777778,
                            "#fb9f3a"
                          ],
                          [
                            0.8888888888888888,
                            "#fdca26"
                          ],
                          [
                            1,
                            "#f0f921"
                          ]
                        ],
                        "type": "surface"
                      }
                    ],
                    "table": [
                      {
                        "cells": {
                          "fill": {
                            "color": "#EBF0F8"
                          },
                          "line": {
                            "color": "white"
                          }
                        },
                        "header": {
                          "fill": {
                            "color": "#C8D4E3"
                          },
                          "line": {
                            "color": "white"
                          }
                        },
                        "type": "table"
                      }
                    ]
                  },
                  "layout": {
                    "annotationdefaults": {
                      "arrowcolor": "#2a3f5f",
                      "arrowhead": 0,
                      "arrowwidth": 1
                    },
                    "autotypenumbers": "strict",
                    "coloraxis": {
                      "colorbar": {
                        "outlinewidth": 0,
                        "ticks": ""
                      }
                    },
                    "colorscale": {
                      "diverging": [
                        [
                          0,
                          "#8e0152"
                        ],
                        [
                          0.1,
                          "#c51b7d"
                        ],
                        [
                          0.2,
                          "#de77ae"
                        ],
                        [
                          0.3,
                          "#f1b6da"
                        ],
                        [
                          0.4,
                          "#fde0ef"
                        ],
                        [
                          0.5,
                          "#f7f7f7"
                        ],
                        [
                          0.6,
                          "#e6f5d0"
                        ],
                        [
                          0.7,
                          "#b8e186"
                        ],
                        [
                          0.8,
                          "#7fbc41"
                        ],
                        [
                          0.9,
                          "#4d9221"
                        ],
                        [
                          1,
                          "#276419"
                        ]
                      ],
                      "sequential": [
                        [
                          0,
                          "#0d0887"
                        ],
                        [
                          0.1111111111111111,
                          "#46039f"
                        ],
                        [
                          0.2222222222222222,
                          "#7201a8"
                        ],
                        [
                          0.3333333333333333,
                          "#9c179e"
                        ],
                        [
                          0.4444444444444444,
                          "#bd3786"
                        ],
                        [
                          0.5555555555555556,
                          "#d8576b"
                        ],
                        [
                          0.6666666666666666,
                          "#ed7953"
                        ],
                        [
                          0.7777777777777778,
                          "#fb9f3a"
                        ],
                        [
                          0.8888888888888888,
                          "#fdca26"
                        ],
                        [
                          1,
                          "#f0f921"
                        ]
                      ],
                      "sequentialminus": [
                        [
                          0,
                          "#0d0887"
                        ],
                        [
                          0.1111111111111111,
                          "#46039f"
                        ],
                        [
                          0.2222222222222222,
                          "#7201a8"
                        ],
                        [
                          0.3333333333333333,
                          "#9c179e"
                        ],
                        [
                          0.4444444444444444,
                          "#bd3786"
                        ],
                        [
                          0.5555555555555556,
                          "#d8576b"
                        ],
                        [
                          0.6666666666666666,
                          "#ed7953"
                        ],
                        [
                          0.7777777777777778,
                          "#fb9f3a"
                        ],
                        [
                          0.8888888888888888,
                          "#fdca26"
                        ],
                        [
                          1,
                          "#f0f921"
                        ]
                      ]
                    },
                    "colorway": [
                      "#636efa",
                      "#EF553B",
                      "#00cc96",
                      "#ab63fa",
                      "#FFA15A",
                      "#19d3f3",
                      "#FF6692",
                      "#B6E880",
                      "#FF97FF",
                      "#FECB52"
                    ],
                    "font": {
                      "color": "#2a3f5f"
                    },
                    "geo": {
                      "bgcolor": "white",
                      "lakecolor": "white",
                      "landcolor": "#E5ECF6",
                      "showlakes": true,
                      "showland": true,
                      "subunitcolor": "white"
                    },
                    "hoverlabel": {
                      "align": "left"
                    },
                    "hovermode": "closest",
                    "mapbox": {
                      "style": "light"
                    },
                    "paper_bgcolor": "white",
                    "plot_bgcolor": "#E5ECF6",
                    "polar": {
                      "angularaxis": {
                        "gridcolor": "white",
                        "linecolor": "white",
                        "ticks": ""
                      },
                      "bgcolor": "#E5ECF6",
                      "radialaxis": {
                        "gridcolor": "white",
                        "linecolor": "white",
                        "ticks": ""
                      }
                    },
                    "scene": {
                      "xaxis": {
                        "backgroundcolor": "#E5ECF6",
                        "gridcolor": "white",
                        "gridwidth": 2,
                        "linecolor": "white",
                        "showbackground": true,
                        "ticks": "",
                        "zerolinecolor": "white"
                      },
                      "yaxis": {
                        "backgroundcolor": "#E5ECF6",
                        "gridcolor": "white",
                        "gridwidth": 2,
                        "linecolor": "white",
                        "showbackground": true,
                        "ticks": "",
                        "zerolinecolor": "white"
                      },
                      "zaxis": {
                        "backgroundcolor": "#E5ECF6",
                        "gridcolor": "white",
                        "gridwidth": 2,
                        "linecolor": "white",
                        "showbackground": true,
                        "ticks": "",
                        "zerolinecolor": "white"
                      }
                    },
                    "shapedefaults": {
                      "line": {
                        "color": "#2a3f5f"
                      }
                    },
                    "ternary": {
                      "aaxis": {
                        "gridcolor": "white",
                        "linecolor": "white",
                        "ticks": ""
                      },
                      "baxis": {
                        "gridcolor": "white",
                        "linecolor": "white",
                        "ticks": ""
                      },
                      "bgcolor": "#E5ECF6",
                      "caxis": {
                        "gridcolor": "white",
                        "linecolor": "white",
                        "ticks": ""
                      }
                    },
                    "title": {
                      "x": 0.05
                    },
                    "xaxis": {
                      "automargin": true,
                      "gridcolor": "white",
                      "linecolor": "white",
                      "ticks": "",
                      "title": {
                        "standoff": 15
                      },
                      "zerolinecolor": "white",
                      "zerolinewidth": 2
                    },
                    "yaxis": {
                      "automargin": true,
                      "gridcolor": "white",
                      "linecolor": "white",
                      "ticks": "",
                      "title": {
                        "standoff": 15
                      },
                      "zerolinecolor": "white",
                      "zerolinewidth": 2
                    }
                  }
                },
                "title": {
                  "text": "Kmeans Clusters(k=4) with mahalnobis distance on PCA Space"
                }
              }
            }
          },
          "metadata": {},
          "output_type": "display_data"
        }
      ],
      "source": [
        "df1 = pd.DataFrame(X_pca3, columns=[\"PC1\",\"PC2\",\"PC3\"])\n",
        "df1[\"cluster\"] = labels_maha2\n",
        "fig = px.scatter_3d(df1, x=\"PC1\", y=\"PC2\", z=\"PC3\",\n",
        "                    color=\"cluster\", opacity=0.7,\n",
        "                    title=\"Kmeans Clusters(k=4) with mahalnobis distance on PCA Space\")\n",
        "fig.show()"
      ]
    },
    {
      "cell_type": "markdown",
      "metadata": {
        "id": "dXm56k9tH8e3"
      },
      "source": [
        "##GMM for K=6"
      ]
    },
    {
      "cell_type": "code",
      "execution_count": 30,
      "metadata": {
        "colab": {
          "base_uri": "https://localhost:8080/",
          "height": 542
        },
        "id": "jxcxzrPeH0B3",
        "outputId": "22fcabf9-6c3f-4f91-f0f4-5dffa19ca210"
      },
      "outputs": [
        {
          "data": {
            "application/vnd.plotly.v1+json": {
              "config": {
                "plotlyServerURL": "https://plot.ly"
              },
              "data": [
                {
                  "hovertemplate": "PC1=%{x}<br>PC2=%{y}<br>PC3=%{z}<br>cluster=%{marker.color}<extra></extra>",
                  "legendgroup": "",
                  "marker": {
                    "color": {
                      "bdata": "AgICAgICAgICAgICAAICAgICAAICAAICAAAAAgICAgICAgACAAICAgIFBQUFBQUFBQUFBQAAAAAAAAAAAAAAAAAAAgAAAAADAwMDAwMDAwMDAwMDAwQEBAQEBAQBAQEBAQEBAQEBAQEBAQEBAQEBAQEBAQEBAQEBAQEFAQEBAQEBAQEBAQEBAQEBAQEBAQUBAQEBAQEBAQ==",
                      "dtype": "i1"
                    },
                    "coloraxis": "coloraxis",
                    "opacity": 0.7,
                    "symbol": "circle"
                  },
                  "mode": "markers",
                  "name": "",
                  "scene": "scene",
                  "showlegend": false,
                  "type": "scatter3d",
                  "x": {
                    "bdata": "9Z32lsYVWcAKOtef/qhRwL3VuLubyl7AMzdC8cZAT8BRJmyTnARRwMHzy9PFBk3AI/SCqxHUUcDnh9QaWnJOwHsUf5crnVHAaGJs0JHWUsChVpKqi/9HwDVZ9USe5kHAH943aq6nNcCvPJmC7kJJwGFC0xuTY0DAx65bsf1TSMCwwy/E/XQ0wB2gBSl8G1DAasq6xgQEPsCEF8f5aolAwPzI/PCaP1LAJlAySv3M9b9Cv2aG14pVwIxs5JAKA0PApMIiXHwaQcDVBF54jTM/wL/Um1xxG0HAAoUeMNmgTMCIInRJG504wD3YhTGFYUPAZjoYlrMsRMBBGzUr6LtKwG6i91LUKzHArCzgP5ByRMBsH1y2ka/iP3dtzwraOkXAFWXdEyEAJsBTjWf1oJI8wJYy2NK5HkbAWklDTGKkMMCgulGaIHhHwDIivTDZXwbAvUM6i0dORcB+58OXv7QYwLp65oedBzLAeDb68B9YScBMopC/IXImwPL0BaMtgz7ARWBlDMpiKsAnyYsv1B04wM3p6U/kTT3AHzmYDt4QLsBCOJMrDXZCQDNcpOsu6SLA2VWO5K7SE8DfmmM3feEQwOxZ21iz+DlAFN5AVfRiFUA6MdY8zWs4wCC03zubhjtAqel7Vkn3MED/8vAMx4MmwNz8rsH2lApAwT/5gB7pKUBp6BTAr9k8QNWRt8uRYztAl02pzQw1TMCwExVJ7OUuQONbUtlctUNAhEIkcqXY+r+HGQDtGX0gwOme+bsOF2LA3zNA7qsyYcBsV89d/xhawOd0TqxNbF/A6wOouI1KYMCJvfxM7TFhwBR1IGnQCl7AMCtYLeAuXcA57xkGpoViwEH7fgnU/1rApP+ATY59YsCqAJmotVlYwC0Kj9DzqGDAcCDgMsklX8BaoEki5HhYQD2OkHEfplhAhlsr7nBdXUC+pP9sK+9aQI9sPsOf8llAr5av7J7dWkCfjoTblgZZQIL8uqAD805AoZwE59xrT0B28wzKXHBQQMYE7oT/YExA3dBir2F5UEDsjHyRJDRHQEI5owRzgVJAEff8KCxGUEBmrQVlpmlTQHIK3LSNAlNAFEnBhC+nVkAayq1013dQQN2ah/3vtVJAoojcyljeUECq14R3IZ9SQL9LxFqnb1NA6qQEqKwRSkBSZMEaBhxIQEp3ApyzLFRAjcde/vNjV0BdQY2cPjBDQP+Gxm0ODFBACFFl/8D6VUCJdCiI+5ZNQLwTp/iuPElASOCAK/psTkCPrOg2ZfpWQNSxAZaAzkpAIemyf1hTTUBDLVduluhOQAdv2LtESArAsRhGT8ECP0AZMb6N9VJBQEFz0cmUjkVAIh1peuwL9r8woxzIkVNVQA2OO/m69UVA+pr7z/JfR0BlqdTWSU5OQId9+1l3DlJAbo6Nk/bFSEBX0PGsA6pHQA6iPwFIbUZAUWp07v6tNECbYNEAtxBJQMncxXa1YUtA+67MtrfDN0DKcF6c1+UxQBjBW9x4xk1AlmXxU2gHJcCYlxNYkag7QCi2oXbwnzhAkv0QZOrqRkCPexZNbVZCQIjyKeEaA01AdMQe0KMdMUA8T8Dd3ZgiQBGWBOSW5kNAsF/7trtzQ0A=",
                    "dtype": "f8"
                  },
                  "y": {
                    "bdata": "vIreEvd0SEDWe1lhJahNQGYpAUkdHzBA8sRR/PUbUEB/g0bQ1t1OQFl0REktIjtAE/KPDFPcRUCExhC+wYBQQHCmgz+8ZFJAr8X4J/1OVEDug8dibztKQJGIscbKlTpAmtgd67oTNUBtR5mkygVTQCUqvvFV3zNAIPnN6S5INUA+0AJRkpwUQFjw6jVUKUtARmIqghe3TkAxXqE5XAxUQJdWLuXAIThAgipazpqjTUBP9+liRtBIQKREJ7MztlFAhuKw0EKrRUB7rDOukqNCQCVF7AyHSkFATQuRd5ykSUDf5Q50qbZFQF0b2HIqhFNAW5wByRHaIUA7zt0qOto0QOaUyHnQFz9AslgQw75/NkAVq/metqpGQNMVXDIRkkdAyJMuYOdwKkDrlM3Jf59MQMdzq9BkYENArKuA8EUxHkApEZpQ8sswQIDM8Ig14kBA4msXw+MvOUCr+ywvFk5DQD9NEWgfRkdAuL3Qy+5yOED8Byn0at5LQCZx0SriCUpAVkO4PMayOkBUVLByoQFLQNvNyOdfgVBAMjY2JSmdPkCCYJvPJ7tCQHRW1kGXp/k/pplm3REnQUCvKPoKE41IQBQFD2SxSkRAaS3qTzM5QUBEN+7JcJMnwJ56TjAxbuA/jcDjt9DuTUB/F0XrtbY9QNKjsD55Q0FAwAuMZCZDQUBMUrG6v6gRwLHQte7RCyxAdmU2w+Q7SEAY0+MRcaJMQM7b354Z+y1AeXErBmIEIkBLTmIC7ZVDQERjY+9fyVnAVSMfAckzUsB5uBetKwBdwBRM5YOZQlTA4R3tTtAKXcCeyMv6btFWwC7PAZu1zFXAQd6MWuziXcAYdrPn9L5YwJMvDQnnFVzAr1jNX1unXMAttmTz8RJewCrV5Wx7xV3A1erwMNVMX8D9SSUvqURRwM0sM062fUTAn7rNLxBBRsBo7eyPk15RwLZvBwbQeU/A2rEM7sInVMBbpHgNmH1RwGLcYKAN9SRAiEGTbZ2NIkD4U5WcTKEiwMJj0OLrkSXAlFeVFSOIJ0DPs7tigUMlwIEb+wB4Ag3AnrWcIN7KF0AUJoNoC+ZFwJIOiXyIdRnAyrtJzc77QMC5biCzszQ9wEYUd3qDaDHAz2A93tO2KMAbJjySnFwmwAx0Eq3spjfANHjNkt7gI8DCVdPP2DktwCNGAPlGCkfAvzR+xpNI5T/fymLrkhgyQF3y+79Ys0TA31nHTFCqQMCxiXid5SdGwMbQ/IpEAzFABMniT72pIcCfqzSugD8pQHd1Ljxx+izA83F/lt9K+r9gUkJOPxMqwEP91ZlpWyBAleTk0moRBsAxGS1ovKc5wKcyqCfnpSXANpU1UFzPMsCLmKf3LhVFwDb76eIyoyDA0+eOR0DGKsDynNuZVZQ5wFbAu30viEnAp/I2FVOxPsBiOBHKq8Q1QB3W3ZicAkTAoP8s94ESOMBS+y2Ipxo9wMTKMszhvwhAFur0Ms3cOMDkthGNLoQkwA6vpLTYREHALno6zhcCMMCVxbjxDgBAQAOlqrcK5irA77xIZ+HuQEB4E+oasbsqwOfM+KALB0nAX2M9SdGFJ8CRSCuD+Sc6wPLtd47hZSbARJnGq1Q5QcA=",
                    "dtype": "f8"
                  },
                  "z": {
                    "bdata": "1tZrsf2dAMCXx1Sl9CclwPuqztmyiyHAi0O+ik0rHMClu1kth5Tpv+VxII2QsSHAthydROL+4z9ZzgLCApwUwFPnaUnFLSTAMY0o5Mo4HMAGiy/M/WY0wHou/aBhW07AKN9MNIzvAMD66qhmx3g2wHX1rAPNlEjAAYgELoy9U8AQcQdj6OtRwJV9DXcrp0PAO3ANIc/EPMBlZ1eMMWFGwCEMfNK+0zvALBKLS9fRQ8CEpGvpDjU2wN5rjj5LMjvANO4kBDXvLcBFITmOL9VDwAjszeCI0iRA0IJmNEEmR8AH7UBLOcNDwJuZJxnq50DAtsSn3hOwUcC8gr6QYyVQwEIbel/vLEnAfurYGST3ScApTBY9LldNwOu3VeaJd0vAdtJHeMZeE8ClWM7exos8wKfh9MiyI07A5RTDmMpaRsAzzgG+mPJNwO+8mAPZpkhAj6sFbS8kUkAhd4gh6b1AQMQ1Ww5I501AJy47gBg/SkBkq+E0mWpDQJVfQQq+8lBAlG+vByZ2RkBrhE9EffRHQOZRSp1BVVFALxN1M3MsTED0bAjqHNMaQPfAc4t7kDhA5Gprs07IDcCOgZNEx0A4QAwtYVfCdSBAzP6AOk1DB8DPni2683pCQFazpP6kBTzAFsUoc1GaM0DNMnaNXfI2QLS0dp7aevQ/7CRuzN5zOcARGqGmaa0VQB72L8aZLEzAWCrUYvIhQsDCliY5yuUowCK8lj7ssBXAKYs1ht92N0B1qRAd2380QAsA7aWjgUJApRtdTLKkMEBeE9zJQS0qwA5EspWdJQtAdIWWRxhm9r/1mFj1QxAZQKDfPqm6ECFAZoj+7rFLGEBs127AwMEwQGM40lJEuRpAK42T6Yi8B0DNDk379AYkwGBS9GIq/Na/E+yWJ8ezB0DSbhQ7H0JZwGjfIS2QfVTAi+RFC7dNWMCDUk5ob95cwNhyKJBL4FrA6TzfiqrQWcCc9sMCswBewFo96oJ2oEBALU2ReHmTNUAr7hK7GhUyQC1ZYJo7ND5AKZQ71APw9b/59TDjTEo/QAGU0XQa5CVA/uiwEkzxOUDaX4NZLpY1QJxckGab7TVAy/xjVivRF8AcOqTiWuQnwGJfHyB0WDpA02kQ4bjWMkCxrWhycAoeQDmC8kggnDtApA/oymL9SkDLq+RrlQVEQCTVrqF11SjAL/OzSX/O1D+Oc/aija88QFxKpePEFD3A8mV2avUBKcCllpAwhZpDQJUdLpcscEVArKlCZY8uQEB+G/C2y/s5QI39DfrNCUdA8A4gD9TiQECEfxfA+IQ1wGOzSQK14lBA3bKL5aNjAUAF+bOC3l9HQOZMObLXMzZAGOKs8CY/QkA4wjCktP9BQPU1hfxPqTBA9lDIYfoiP0C8yzCskLI1QAUCFOf3fSHAeLhPcyzQSUBLv9j7nfQ1QMBnI2KUVU1ArUPEr68sQ0DRPCauIBQ9QHoJ9sM/YgzAA4RXMdTzNUC3zdk/PJ1IQBlZEzXHn/K/iqLnLcb3UECK4ovJsc04QLUJPZPEk0BAO9qDY25oHsCsxbWr7P01QMC//lS7diLAlcB0KZzFSUCdGBUsTzk8QIkQ79wBKTxAVfPdP2FXL0A=",
                    "dtype": "f8"
                  }
                }
              ],
              "layout": {
                "coloraxis": {
                  "colorbar": {
                    "title": {
                      "text": "cluster"
                    }
                  },
                  "colorscale": [
                    [
                      0,
                      "#0d0887"
                    ],
                    [
                      0.1111111111111111,
                      "#46039f"
                    ],
                    [
                      0.2222222222222222,
                      "#7201a8"
                    ],
                    [
                      0.3333333333333333,
                      "#9c179e"
                    ],
                    [
                      0.4444444444444444,
                      "#bd3786"
                    ],
                    [
                      0.5555555555555556,
                      "#d8576b"
                    ],
                    [
                      0.6666666666666666,
                      "#ed7953"
                    ],
                    [
                      0.7777777777777778,
                      "#fb9f3a"
                    ],
                    [
                      0.8888888888888888,
                      "#fdca26"
                    ],
                    [
                      1,
                      "#f0f921"
                    ]
                  ]
                },
                "legend": {
                  "tracegroupgap": 0
                },
                "scene": {
                  "domain": {
                    "x": [
                      0,
                      1
                    ],
                    "y": [
                      0,
                      1
                    ]
                  },
                  "xaxis": {
                    "title": {
                      "text": "PC1"
                    }
                  },
                  "yaxis": {
                    "title": {
                      "text": "PC2"
                    }
                  },
                  "zaxis": {
                    "title": {
                      "text": "PC3"
                    }
                  }
                },
                "template": {
                  "data": {
                    "bar": [
                      {
                        "error_x": {
                          "color": "#2a3f5f"
                        },
                        "error_y": {
                          "color": "#2a3f5f"
                        },
                        "marker": {
                          "line": {
                            "color": "#E5ECF6",
                            "width": 0.5
                          },
                          "pattern": {
                            "fillmode": "overlay",
                            "size": 10,
                            "solidity": 0.2
                          }
                        },
                        "type": "bar"
                      }
                    ],
                    "barpolar": [
                      {
                        "marker": {
                          "line": {
                            "color": "#E5ECF6",
                            "width": 0.5
                          },
                          "pattern": {
                            "fillmode": "overlay",
                            "size": 10,
                            "solidity": 0.2
                          }
                        },
                        "type": "barpolar"
                      }
                    ],
                    "carpet": [
                      {
                        "aaxis": {
                          "endlinecolor": "#2a3f5f",
                          "gridcolor": "white",
                          "linecolor": "white",
                          "minorgridcolor": "white",
                          "startlinecolor": "#2a3f5f"
                        },
                        "baxis": {
                          "endlinecolor": "#2a3f5f",
                          "gridcolor": "white",
                          "linecolor": "white",
                          "minorgridcolor": "white",
                          "startlinecolor": "#2a3f5f"
                        },
                        "type": "carpet"
                      }
                    ],
                    "choropleth": [
                      {
                        "colorbar": {
                          "outlinewidth": 0,
                          "ticks": ""
                        },
                        "type": "choropleth"
                      }
                    ],
                    "contour": [
                      {
                        "colorbar": {
                          "outlinewidth": 0,
                          "ticks": ""
                        },
                        "colorscale": [
                          [
                            0,
                            "#0d0887"
                          ],
                          [
                            0.1111111111111111,
                            "#46039f"
                          ],
                          [
                            0.2222222222222222,
                            "#7201a8"
                          ],
                          [
                            0.3333333333333333,
                            "#9c179e"
                          ],
                          [
                            0.4444444444444444,
                            "#bd3786"
                          ],
                          [
                            0.5555555555555556,
                            "#d8576b"
                          ],
                          [
                            0.6666666666666666,
                            "#ed7953"
                          ],
                          [
                            0.7777777777777778,
                            "#fb9f3a"
                          ],
                          [
                            0.8888888888888888,
                            "#fdca26"
                          ],
                          [
                            1,
                            "#f0f921"
                          ]
                        ],
                        "type": "contour"
                      }
                    ],
                    "contourcarpet": [
                      {
                        "colorbar": {
                          "outlinewidth": 0,
                          "ticks": ""
                        },
                        "type": "contourcarpet"
                      }
                    ],
                    "heatmap": [
                      {
                        "colorbar": {
                          "outlinewidth": 0,
                          "ticks": ""
                        },
                        "colorscale": [
                          [
                            0,
                            "#0d0887"
                          ],
                          [
                            0.1111111111111111,
                            "#46039f"
                          ],
                          [
                            0.2222222222222222,
                            "#7201a8"
                          ],
                          [
                            0.3333333333333333,
                            "#9c179e"
                          ],
                          [
                            0.4444444444444444,
                            "#bd3786"
                          ],
                          [
                            0.5555555555555556,
                            "#d8576b"
                          ],
                          [
                            0.6666666666666666,
                            "#ed7953"
                          ],
                          [
                            0.7777777777777778,
                            "#fb9f3a"
                          ],
                          [
                            0.8888888888888888,
                            "#fdca26"
                          ],
                          [
                            1,
                            "#f0f921"
                          ]
                        ],
                        "type": "heatmap"
                      }
                    ],
                    "histogram": [
                      {
                        "marker": {
                          "pattern": {
                            "fillmode": "overlay",
                            "size": 10,
                            "solidity": 0.2
                          }
                        },
                        "type": "histogram"
                      }
                    ],
                    "histogram2d": [
                      {
                        "colorbar": {
                          "outlinewidth": 0,
                          "ticks": ""
                        },
                        "colorscale": [
                          [
                            0,
                            "#0d0887"
                          ],
                          [
                            0.1111111111111111,
                            "#46039f"
                          ],
                          [
                            0.2222222222222222,
                            "#7201a8"
                          ],
                          [
                            0.3333333333333333,
                            "#9c179e"
                          ],
                          [
                            0.4444444444444444,
                            "#bd3786"
                          ],
                          [
                            0.5555555555555556,
                            "#d8576b"
                          ],
                          [
                            0.6666666666666666,
                            "#ed7953"
                          ],
                          [
                            0.7777777777777778,
                            "#fb9f3a"
                          ],
                          [
                            0.8888888888888888,
                            "#fdca26"
                          ],
                          [
                            1,
                            "#f0f921"
                          ]
                        ],
                        "type": "histogram2d"
                      }
                    ],
                    "histogram2dcontour": [
                      {
                        "colorbar": {
                          "outlinewidth": 0,
                          "ticks": ""
                        },
                        "colorscale": [
                          [
                            0,
                            "#0d0887"
                          ],
                          [
                            0.1111111111111111,
                            "#46039f"
                          ],
                          [
                            0.2222222222222222,
                            "#7201a8"
                          ],
                          [
                            0.3333333333333333,
                            "#9c179e"
                          ],
                          [
                            0.4444444444444444,
                            "#bd3786"
                          ],
                          [
                            0.5555555555555556,
                            "#d8576b"
                          ],
                          [
                            0.6666666666666666,
                            "#ed7953"
                          ],
                          [
                            0.7777777777777778,
                            "#fb9f3a"
                          ],
                          [
                            0.8888888888888888,
                            "#fdca26"
                          ],
                          [
                            1,
                            "#f0f921"
                          ]
                        ],
                        "type": "histogram2dcontour"
                      }
                    ],
                    "mesh3d": [
                      {
                        "colorbar": {
                          "outlinewidth": 0,
                          "ticks": ""
                        },
                        "type": "mesh3d"
                      }
                    ],
                    "parcoords": [
                      {
                        "line": {
                          "colorbar": {
                            "outlinewidth": 0,
                            "ticks": ""
                          }
                        },
                        "type": "parcoords"
                      }
                    ],
                    "pie": [
                      {
                        "automargin": true,
                        "type": "pie"
                      }
                    ],
                    "scatter": [
                      {
                        "fillpattern": {
                          "fillmode": "overlay",
                          "size": 10,
                          "solidity": 0.2
                        },
                        "type": "scatter"
                      }
                    ],
                    "scatter3d": [
                      {
                        "line": {
                          "colorbar": {
                            "outlinewidth": 0,
                            "ticks": ""
                          }
                        },
                        "marker": {
                          "colorbar": {
                            "outlinewidth": 0,
                            "ticks": ""
                          }
                        },
                        "type": "scatter3d"
                      }
                    ],
                    "scattercarpet": [
                      {
                        "marker": {
                          "colorbar": {
                            "outlinewidth": 0,
                            "ticks": ""
                          }
                        },
                        "type": "scattercarpet"
                      }
                    ],
                    "scattergeo": [
                      {
                        "marker": {
                          "colorbar": {
                            "outlinewidth": 0,
                            "ticks": ""
                          }
                        },
                        "type": "scattergeo"
                      }
                    ],
                    "scattergl": [
                      {
                        "marker": {
                          "colorbar": {
                            "outlinewidth": 0,
                            "ticks": ""
                          }
                        },
                        "type": "scattergl"
                      }
                    ],
                    "scattermap": [
                      {
                        "marker": {
                          "colorbar": {
                            "outlinewidth": 0,
                            "ticks": ""
                          }
                        },
                        "type": "scattermap"
                      }
                    ],
                    "scattermapbox": [
                      {
                        "marker": {
                          "colorbar": {
                            "outlinewidth": 0,
                            "ticks": ""
                          }
                        },
                        "type": "scattermapbox"
                      }
                    ],
                    "scatterpolar": [
                      {
                        "marker": {
                          "colorbar": {
                            "outlinewidth": 0,
                            "ticks": ""
                          }
                        },
                        "type": "scatterpolar"
                      }
                    ],
                    "scatterpolargl": [
                      {
                        "marker": {
                          "colorbar": {
                            "outlinewidth": 0,
                            "ticks": ""
                          }
                        },
                        "type": "scatterpolargl"
                      }
                    ],
                    "scatterternary": [
                      {
                        "marker": {
                          "colorbar": {
                            "outlinewidth": 0,
                            "ticks": ""
                          }
                        },
                        "type": "scatterternary"
                      }
                    ],
                    "surface": [
                      {
                        "colorbar": {
                          "outlinewidth": 0,
                          "ticks": ""
                        },
                        "colorscale": [
                          [
                            0,
                            "#0d0887"
                          ],
                          [
                            0.1111111111111111,
                            "#46039f"
                          ],
                          [
                            0.2222222222222222,
                            "#7201a8"
                          ],
                          [
                            0.3333333333333333,
                            "#9c179e"
                          ],
                          [
                            0.4444444444444444,
                            "#bd3786"
                          ],
                          [
                            0.5555555555555556,
                            "#d8576b"
                          ],
                          [
                            0.6666666666666666,
                            "#ed7953"
                          ],
                          [
                            0.7777777777777778,
                            "#fb9f3a"
                          ],
                          [
                            0.8888888888888888,
                            "#fdca26"
                          ],
                          [
                            1,
                            "#f0f921"
                          ]
                        ],
                        "type": "surface"
                      }
                    ],
                    "table": [
                      {
                        "cells": {
                          "fill": {
                            "color": "#EBF0F8"
                          },
                          "line": {
                            "color": "white"
                          }
                        },
                        "header": {
                          "fill": {
                            "color": "#C8D4E3"
                          },
                          "line": {
                            "color": "white"
                          }
                        },
                        "type": "table"
                      }
                    ]
                  },
                  "layout": {
                    "annotationdefaults": {
                      "arrowcolor": "#2a3f5f",
                      "arrowhead": 0,
                      "arrowwidth": 1
                    },
                    "autotypenumbers": "strict",
                    "coloraxis": {
                      "colorbar": {
                        "outlinewidth": 0,
                        "ticks": ""
                      }
                    },
                    "colorscale": {
                      "diverging": [
                        [
                          0,
                          "#8e0152"
                        ],
                        [
                          0.1,
                          "#c51b7d"
                        ],
                        [
                          0.2,
                          "#de77ae"
                        ],
                        [
                          0.3,
                          "#f1b6da"
                        ],
                        [
                          0.4,
                          "#fde0ef"
                        ],
                        [
                          0.5,
                          "#f7f7f7"
                        ],
                        [
                          0.6,
                          "#e6f5d0"
                        ],
                        [
                          0.7,
                          "#b8e186"
                        ],
                        [
                          0.8,
                          "#7fbc41"
                        ],
                        [
                          0.9,
                          "#4d9221"
                        ],
                        [
                          1,
                          "#276419"
                        ]
                      ],
                      "sequential": [
                        [
                          0,
                          "#0d0887"
                        ],
                        [
                          0.1111111111111111,
                          "#46039f"
                        ],
                        [
                          0.2222222222222222,
                          "#7201a8"
                        ],
                        [
                          0.3333333333333333,
                          "#9c179e"
                        ],
                        [
                          0.4444444444444444,
                          "#bd3786"
                        ],
                        [
                          0.5555555555555556,
                          "#d8576b"
                        ],
                        [
                          0.6666666666666666,
                          "#ed7953"
                        ],
                        [
                          0.7777777777777778,
                          "#fb9f3a"
                        ],
                        [
                          0.8888888888888888,
                          "#fdca26"
                        ],
                        [
                          1,
                          "#f0f921"
                        ]
                      ],
                      "sequentialminus": [
                        [
                          0,
                          "#0d0887"
                        ],
                        [
                          0.1111111111111111,
                          "#46039f"
                        ],
                        [
                          0.2222222222222222,
                          "#7201a8"
                        ],
                        [
                          0.3333333333333333,
                          "#9c179e"
                        ],
                        [
                          0.4444444444444444,
                          "#bd3786"
                        ],
                        [
                          0.5555555555555556,
                          "#d8576b"
                        ],
                        [
                          0.6666666666666666,
                          "#ed7953"
                        ],
                        [
                          0.7777777777777778,
                          "#fb9f3a"
                        ],
                        [
                          0.8888888888888888,
                          "#fdca26"
                        ],
                        [
                          1,
                          "#f0f921"
                        ]
                      ]
                    },
                    "colorway": [
                      "#636efa",
                      "#EF553B",
                      "#00cc96",
                      "#ab63fa",
                      "#FFA15A",
                      "#19d3f3",
                      "#FF6692",
                      "#B6E880",
                      "#FF97FF",
                      "#FECB52"
                    ],
                    "font": {
                      "color": "#2a3f5f"
                    },
                    "geo": {
                      "bgcolor": "white",
                      "lakecolor": "white",
                      "landcolor": "#E5ECF6",
                      "showlakes": true,
                      "showland": true,
                      "subunitcolor": "white"
                    },
                    "hoverlabel": {
                      "align": "left"
                    },
                    "hovermode": "closest",
                    "mapbox": {
                      "style": "light"
                    },
                    "paper_bgcolor": "white",
                    "plot_bgcolor": "#E5ECF6",
                    "polar": {
                      "angularaxis": {
                        "gridcolor": "white",
                        "linecolor": "white",
                        "ticks": ""
                      },
                      "bgcolor": "#E5ECF6",
                      "radialaxis": {
                        "gridcolor": "white",
                        "linecolor": "white",
                        "ticks": ""
                      }
                    },
                    "scene": {
                      "xaxis": {
                        "backgroundcolor": "#E5ECF6",
                        "gridcolor": "white",
                        "gridwidth": 2,
                        "linecolor": "white",
                        "showbackground": true,
                        "ticks": "",
                        "zerolinecolor": "white"
                      },
                      "yaxis": {
                        "backgroundcolor": "#E5ECF6",
                        "gridcolor": "white",
                        "gridwidth": 2,
                        "linecolor": "white",
                        "showbackground": true,
                        "ticks": "",
                        "zerolinecolor": "white"
                      },
                      "zaxis": {
                        "backgroundcolor": "#E5ECF6",
                        "gridcolor": "white",
                        "gridwidth": 2,
                        "linecolor": "white",
                        "showbackground": true,
                        "ticks": "",
                        "zerolinecolor": "white"
                      }
                    },
                    "shapedefaults": {
                      "line": {
                        "color": "#2a3f5f"
                      }
                    },
                    "ternary": {
                      "aaxis": {
                        "gridcolor": "white",
                        "linecolor": "white",
                        "ticks": ""
                      },
                      "baxis": {
                        "gridcolor": "white",
                        "linecolor": "white",
                        "ticks": ""
                      },
                      "bgcolor": "#E5ECF6",
                      "caxis": {
                        "gridcolor": "white",
                        "linecolor": "white",
                        "ticks": ""
                      }
                    },
                    "title": {
                      "x": 0.05
                    },
                    "xaxis": {
                      "automargin": true,
                      "gridcolor": "white",
                      "linecolor": "white",
                      "ticks": "",
                      "title": {
                        "standoff": 15
                      },
                      "zerolinecolor": "white",
                      "zerolinewidth": 2
                    },
                    "yaxis": {
                      "automargin": true,
                      "gridcolor": "white",
                      "linecolor": "white",
                      "ticks": "",
                      "title": {
                        "standoff": 15
                      },
                      "zerolinecolor": "white",
                      "zerolinewidth": 2
                    }
                  }
                },
                "title": {
                  "text": "GMM Clusters(k=6) on PCA Space"
                }
              }
            }
          },
          "metadata": {},
          "output_type": "display_data"
        }
      ],
      "source": [
        "gmm = GaussianMixture(n_components=6, random_state=42).fit(X_umap)\n",
        "gmm_labels1 = gmm.predict(X_umap)\n",
        "df1 = pd.DataFrame(X_pca3, columns=[\"PC1\",\"PC2\",\"PC3\"])\n",
        "df1[\"cluster\"] = gmm_labels1\n",
        "fig = px.scatter_3d(df1, x=\"PC1\", y=\"PC2\", z=\"PC3\",\n",
        "                    color=\"cluster\", opacity=0.7,\n",
        "                    title=\"GMM Clusters(k=6) on PCA Space\")\n",
        "fig.show()"
      ]
    },
    {
      "cell_type": "markdown",
      "metadata": {
        "id": "tfaZwDeIIXDh"
      },
      "source": [
        "##For Optimal K determined using silhouette score"
      ]
    },
    {
      "cell_type": "code",
      "execution_count": 31,
      "metadata": {
        "colab": {
          "base_uri": "https://localhost:8080/"
        },
        "id": "W69w3oBGINlG",
        "outputId": "7afdb8c7-c8f8-4e4a-83cd-d72a692486d9"
      },
      "outputs": [
        {
          "name": "stdout",
          "output_type": "stream",
          "text": [
            "K=3, Silhouette Score: 0.5589\n",
            "K=4, Silhouette Score: 0.4837\n",
            "K=5, Silhouette Score: 0.5617\n",
            "K=6, Silhouette Score: 0.5698\n",
            "K=7, Silhouette Score: 0.4854\n",
            "K=8, Silhouette Score: 0.4640\n",
            "Best K: 6 with Silhouette Score: 0.5698\n"
          ]
        }
      ],
      "source": [
        "best_k = None\n",
        "best_score = -1\n",
        "for k in range(3, 9):\n",
        "    gmm = GaussianMixture(n_components=k, random_state=42)\n",
        "    y_gmm = gmm.fit_predict(X_umap)\n",
        "    score = silhouette_score(X_umap, y_gmm)\n",
        "    print(f\"K={k}, Silhouette Score: {score:.4f}\")\n",
        "\n",
        "    if score > best_score:\n",
        "        best_score = score\n",
        "        best_k = k\n",
        "\n",
        "print(f\"Best K: {best_k} with Silhouette Score: {best_score:.4f}\")"
      ]
    },
    {
      "cell_type": "markdown",
      "metadata": {
        "id": "oJ4aKDMtJDOS"
      },
      "source": [
        "##For optimal K determined using Silhouette score"
      ]
    },
    {
      "cell_type": "code",
      "execution_count": 32,
      "metadata": {
        "colab": {
          "base_uri": "https://localhost:8080/",
          "height": 542
        },
        "id": "NoGL3huxI_YX",
        "outputId": "65e90f38-f6c5-4dc5-95ee-31bafc801e98"
      },
      "outputs": [
        {
          "data": {
            "application/vnd.plotly.v1+json": {
              "config": {
                "plotlyServerURL": "https://plot.ly"
              },
              "data": [
                {
                  "hovertemplate": "PC1=%{x}<br>PC2=%{y}<br>PC3=%{z}<br>cluster=%{marker.color}<extra></extra>",
                  "legendgroup": "",
                  "marker": {
                    "color": {
                      "bdata": "AAAAAAAAAAAAAAAAAAAAAAAAAAAAAAAAAAAAAAAAAAAAAAAAAAAAAAAAAAAAAAAAAAAAAAAAAAAAAAAAAAAAAAAAAAAAAAACAgICAgICAgICAgICAgEBAQEBAQEBAQEBAQEBAQEBAQEBAQEBAQEBAQABAQEBAQEBAQEAAQEBAAEBAQEBAQABAAEBAQEBAQABAAEBAAEAAA==",
                      "dtype": "i1"
                    },
                    "coloraxis": "coloraxis",
                    "opacity": 0.7,
                    "symbol": "circle"
                  },
                  "mode": "markers",
                  "name": "",
                  "scene": "scene",
                  "showlegend": false,
                  "type": "scatter3d",
                  "x": {
                    "bdata": "9Z32lsYVWcAKOtef/qhRwL3VuLubyl7AMzdC8cZAT8BRJmyTnARRwMHzy9PFBk3AI/SCqxHUUcDnh9QaWnJOwHsUf5crnVHAaGJs0JHWUsChVpKqi/9HwDVZ9USe5kHAH943aq6nNcCvPJmC7kJJwGFC0xuTY0DAx65bsf1TSMCwwy/E/XQ0wB2gBSl8G1DAasq6xgQEPsCEF8f5aolAwPzI/PCaP1LAJlAySv3M9b9Cv2aG14pVwIxs5JAKA0PApMIiXHwaQcDVBF54jTM/wL/Um1xxG0HAAoUeMNmgTMCIInRJG504wD3YhTGFYUPAZjoYlrMsRMBBGzUr6LtKwG6i91LUKzHArCzgP5ByRMBsH1y2ka/iP3dtzwraOkXAFWXdEyEAJsBTjWf1oJI8wJYy2NK5HkbAWklDTGKkMMCgulGaIHhHwDIivTDZXwbAvUM6i0dORcB+58OXv7QYwLp65oedBzLAeDb68B9YScBMopC/IXImwPL0BaMtgz7ARWBlDMpiKsAnyYsv1B04wM3p6U/kTT3AHzmYDt4QLsBCOJMrDXZCQDNcpOsu6SLA2VWO5K7SE8DfmmM3feEQwOxZ21iz+DlAFN5AVfRiFUA6MdY8zWs4wCC03zubhjtAqel7Vkn3MED/8vAMx4MmwNz8rsH2lApAwT/5gB7pKUBp6BTAr9k8QNWRt8uRYztAl02pzQw1TMCwExVJ7OUuQONbUtlctUNAhEIkcqXY+r+HGQDtGX0gwOme+bsOF2LA3zNA7qsyYcBsV89d/xhawOd0TqxNbF/A6wOouI1KYMCJvfxM7TFhwBR1IGnQCl7AMCtYLeAuXcA57xkGpoViwEH7fgnU/1rApP+ATY59YsCqAJmotVlYwC0Kj9DzqGDAcCDgMsklX8BaoEki5HhYQD2OkHEfplhAhlsr7nBdXUC+pP9sK+9aQI9sPsOf8llAr5av7J7dWkCfjoTblgZZQIL8uqAD805AoZwE59xrT0B28wzKXHBQQMYE7oT/YExA3dBir2F5UEDsjHyRJDRHQEI5owRzgVJAEff8KCxGUEBmrQVlpmlTQHIK3LSNAlNAFEnBhC+nVkAayq1013dQQN2ah/3vtVJAoojcyljeUECq14R3IZ9SQL9LxFqnb1NA6qQEqKwRSkBSZMEaBhxIQEp3ApyzLFRAjcde/vNjV0BdQY2cPjBDQP+Gxm0ODFBACFFl/8D6VUCJdCiI+5ZNQLwTp/iuPElASOCAK/psTkCPrOg2ZfpWQNSxAZaAzkpAIemyf1hTTUBDLVduluhOQAdv2LtESArAsRhGT8ECP0AZMb6N9VJBQEFz0cmUjkVAIh1peuwL9r8woxzIkVNVQA2OO/m69UVA+pr7z/JfR0BlqdTWSU5OQId9+1l3DlJAbo6Nk/bFSEBX0PGsA6pHQA6iPwFIbUZAUWp07v6tNECbYNEAtxBJQMncxXa1YUtA+67MtrfDN0DKcF6c1+UxQBjBW9x4xk1AlmXxU2gHJcCYlxNYkag7QCi2oXbwnzhAkv0QZOrqRkCPexZNbVZCQIjyKeEaA01AdMQe0KMdMUA8T8Dd3ZgiQBGWBOSW5kNAsF/7trtzQ0A=",
                    "dtype": "f8"
                  },
                  "y": {
                    "bdata": "vIreEvd0SEDWe1lhJahNQGYpAUkdHzBA8sRR/PUbUEB/g0bQ1t1OQFl0REktIjtAE/KPDFPcRUCExhC+wYBQQHCmgz+8ZFJAr8X4J/1OVEDug8dibztKQJGIscbKlTpAmtgd67oTNUBtR5mkygVTQCUqvvFV3zNAIPnN6S5INUA+0AJRkpwUQFjw6jVUKUtARmIqghe3TkAxXqE5XAxUQJdWLuXAIThAgipazpqjTUBP9+liRtBIQKREJ7MztlFAhuKw0EKrRUB7rDOukqNCQCVF7AyHSkFATQuRd5ykSUDf5Q50qbZFQF0b2HIqhFNAW5wByRHaIUA7zt0qOto0QOaUyHnQFz9AslgQw75/NkAVq/metqpGQNMVXDIRkkdAyJMuYOdwKkDrlM3Jf59MQMdzq9BkYENArKuA8EUxHkApEZpQ8sswQIDM8Ig14kBA4msXw+MvOUCr+ywvFk5DQD9NEWgfRkdAuL3Qy+5yOED8Byn0at5LQCZx0SriCUpAVkO4PMayOkBUVLByoQFLQNvNyOdfgVBAMjY2JSmdPkCCYJvPJ7tCQHRW1kGXp/k/pplm3REnQUCvKPoKE41IQBQFD2SxSkRAaS3qTzM5QUBEN+7JcJMnwJ56TjAxbuA/jcDjt9DuTUB/F0XrtbY9QNKjsD55Q0FAwAuMZCZDQUBMUrG6v6gRwLHQte7RCyxAdmU2w+Q7SEAY0+MRcaJMQM7b354Z+y1AeXErBmIEIkBLTmIC7ZVDQERjY+9fyVnAVSMfAckzUsB5uBetKwBdwBRM5YOZQlTA4R3tTtAKXcCeyMv6btFWwC7PAZu1zFXAQd6MWuziXcAYdrPn9L5YwJMvDQnnFVzAr1jNX1unXMAttmTz8RJewCrV5Wx7xV3A1erwMNVMX8D9SSUvqURRwM0sM062fUTAn7rNLxBBRsBo7eyPk15RwLZvBwbQeU/A2rEM7sInVMBbpHgNmH1RwGLcYKAN9SRAiEGTbZ2NIkD4U5WcTKEiwMJj0OLrkSXAlFeVFSOIJ0DPs7tigUMlwIEb+wB4Ag3AnrWcIN7KF0AUJoNoC+ZFwJIOiXyIdRnAyrtJzc77QMC5biCzszQ9wEYUd3qDaDHAz2A93tO2KMAbJjySnFwmwAx0Eq3spjfANHjNkt7gI8DCVdPP2DktwCNGAPlGCkfAvzR+xpNI5T/fymLrkhgyQF3y+79Ys0TA31nHTFCqQMCxiXid5SdGwMbQ/IpEAzFABMniT72pIcCfqzSugD8pQHd1Ljxx+izA83F/lt9K+r9gUkJOPxMqwEP91ZlpWyBAleTk0moRBsAxGS1ovKc5wKcyqCfnpSXANpU1UFzPMsCLmKf3LhVFwDb76eIyoyDA0+eOR0DGKsDynNuZVZQ5wFbAu30viEnAp/I2FVOxPsBiOBHKq8Q1QB3W3ZicAkTAoP8s94ESOMBS+y2Ipxo9wMTKMszhvwhAFur0Ms3cOMDkthGNLoQkwA6vpLTYREHALno6zhcCMMCVxbjxDgBAQAOlqrcK5irA77xIZ+HuQEB4E+oasbsqwOfM+KALB0nAX2M9SdGFJ8CRSCuD+Sc6wPLtd47hZSbARJnGq1Q5QcA=",
                    "dtype": "f8"
                  },
                  "z": {
                    "bdata": "1tZrsf2dAMCXx1Sl9CclwPuqztmyiyHAi0O+ik0rHMClu1kth5Tpv+VxII2QsSHAthydROL+4z9ZzgLCApwUwFPnaUnFLSTAMY0o5Mo4HMAGiy/M/WY0wHou/aBhW07AKN9MNIzvAMD66qhmx3g2wHX1rAPNlEjAAYgELoy9U8AQcQdj6OtRwJV9DXcrp0PAO3ANIc/EPMBlZ1eMMWFGwCEMfNK+0zvALBKLS9fRQ8CEpGvpDjU2wN5rjj5LMjvANO4kBDXvLcBFITmOL9VDwAjszeCI0iRA0IJmNEEmR8AH7UBLOcNDwJuZJxnq50DAtsSn3hOwUcC8gr6QYyVQwEIbel/vLEnAfurYGST3ScApTBY9LldNwOu3VeaJd0vAdtJHeMZeE8ClWM7exos8wKfh9MiyI07A5RTDmMpaRsAzzgG+mPJNwO+8mAPZpkhAj6sFbS8kUkAhd4gh6b1AQMQ1Ww5I501AJy47gBg/SkBkq+E0mWpDQJVfQQq+8lBAlG+vByZ2RkBrhE9EffRHQOZRSp1BVVFALxN1M3MsTED0bAjqHNMaQPfAc4t7kDhA5Gprs07IDcCOgZNEx0A4QAwtYVfCdSBAzP6AOk1DB8DPni2683pCQFazpP6kBTzAFsUoc1GaM0DNMnaNXfI2QLS0dp7aevQ/7CRuzN5zOcARGqGmaa0VQB72L8aZLEzAWCrUYvIhQsDCliY5yuUowCK8lj7ssBXAKYs1ht92N0B1qRAd2380QAsA7aWjgUJApRtdTLKkMEBeE9zJQS0qwA5EspWdJQtAdIWWRxhm9r/1mFj1QxAZQKDfPqm6ECFAZoj+7rFLGEBs127AwMEwQGM40lJEuRpAK42T6Yi8B0DNDk379AYkwGBS9GIq/Na/E+yWJ8ezB0DSbhQ7H0JZwGjfIS2QfVTAi+RFC7dNWMCDUk5ob95cwNhyKJBL4FrA6TzfiqrQWcCc9sMCswBewFo96oJ2oEBALU2ReHmTNUAr7hK7GhUyQC1ZYJo7ND5AKZQ71APw9b/59TDjTEo/QAGU0XQa5CVA/uiwEkzxOUDaX4NZLpY1QJxckGab7TVAy/xjVivRF8AcOqTiWuQnwGJfHyB0WDpA02kQ4bjWMkCxrWhycAoeQDmC8kggnDtApA/oymL9SkDLq+RrlQVEQCTVrqF11SjAL/OzSX/O1D+Oc/aija88QFxKpePEFD3A8mV2avUBKcCllpAwhZpDQJUdLpcscEVArKlCZY8uQEB+G/C2y/s5QI39DfrNCUdA8A4gD9TiQECEfxfA+IQ1wGOzSQK14lBA3bKL5aNjAUAF+bOC3l9HQOZMObLXMzZAGOKs8CY/QkA4wjCktP9BQPU1hfxPqTBA9lDIYfoiP0C8yzCskLI1QAUCFOf3fSHAeLhPcyzQSUBLv9j7nfQ1QMBnI2KUVU1ArUPEr68sQ0DRPCauIBQ9QHoJ9sM/YgzAA4RXMdTzNUC3zdk/PJ1IQBlZEzXHn/K/iqLnLcb3UECK4ovJsc04QLUJPZPEk0BAO9qDY25oHsCsxbWr7P01QMC//lS7diLAlcB0KZzFSUCdGBUsTzk8QIkQ79wBKTxAVfPdP2FXL0A=",
                    "dtype": "f8"
                  }
                }
              ],
              "layout": {
                "coloraxis": {
                  "colorbar": {
                    "title": {
                      "text": "cluster"
                    }
                  },
                  "colorscale": [
                    [
                      0,
                      "#0d0887"
                    ],
                    [
                      0.1111111111111111,
                      "#46039f"
                    ],
                    [
                      0.2222222222222222,
                      "#7201a8"
                    ],
                    [
                      0.3333333333333333,
                      "#9c179e"
                    ],
                    [
                      0.4444444444444444,
                      "#bd3786"
                    ],
                    [
                      0.5555555555555556,
                      "#d8576b"
                    ],
                    [
                      0.6666666666666666,
                      "#ed7953"
                    ],
                    [
                      0.7777777777777778,
                      "#fb9f3a"
                    ],
                    [
                      0.8888888888888888,
                      "#fdca26"
                    ],
                    [
                      1,
                      "#f0f921"
                    ]
                  ]
                },
                "legend": {
                  "tracegroupgap": 0
                },
                "scene": {
                  "domain": {
                    "x": [
                      0,
                      1
                    ],
                    "y": [
                      0,
                      1
                    ]
                  },
                  "xaxis": {
                    "title": {
                      "text": "PC1"
                    }
                  },
                  "yaxis": {
                    "title": {
                      "text": "PC2"
                    }
                  },
                  "zaxis": {
                    "title": {
                      "text": "PC3"
                    }
                  }
                },
                "template": {
                  "data": {
                    "bar": [
                      {
                        "error_x": {
                          "color": "#2a3f5f"
                        },
                        "error_y": {
                          "color": "#2a3f5f"
                        },
                        "marker": {
                          "line": {
                            "color": "#E5ECF6",
                            "width": 0.5
                          },
                          "pattern": {
                            "fillmode": "overlay",
                            "size": 10,
                            "solidity": 0.2
                          }
                        },
                        "type": "bar"
                      }
                    ],
                    "barpolar": [
                      {
                        "marker": {
                          "line": {
                            "color": "#E5ECF6",
                            "width": 0.5
                          },
                          "pattern": {
                            "fillmode": "overlay",
                            "size": 10,
                            "solidity": 0.2
                          }
                        },
                        "type": "barpolar"
                      }
                    ],
                    "carpet": [
                      {
                        "aaxis": {
                          "endlinecolor": "#2a3f5f",
                          "gridcolor": "white",
                          "linecolor": "white",
                          "minorgridcolor": "white",
                          "startlinecolor": "#2a3f5f"
                        },
                        "baxis": {
                          "endlinecolor": "#2a3f5f",
                          "gridcolor": "white",
                          "linecolor": "white",
                          "minorgridcolor": "white",
                          "startlinecolor": "#2a3f5f"
                        },
                        "type": "carpet"
                      }
                    ],
                    "choropleth": [
                      {
                        "colorbar": {
                          "outlinewidth": 0,
                          "ticks": ""
                        },
                        "type": "choropleth"
                      }
                    ],
                    "contour": [
                      {
                        "colorbar": {
                          "outlinewidth": 0,
                          "ticks": ""
                        },
                        "colorscale": [
                          [
                            0,
                            "#0d0887"
                          ],
                          [
                            0.1111111111111111,
                            "#46039f"
                          ],
                          [
                            0.2222222222222222,
                            "#7201a8"
                          ],
                          [
                            0.3333333333333333,
                            "#9c179e"
                          ],
                          [
                            0.4444444444444444,
                            "#bd3786"
                          ],
                          [
                            0.5555555555555556,
                            "#d8576b"
                          ],
                          [
                            0.6666666666666666,
                            "#ed7953"
                          ],
                          [
                            0.7777777777777778,
                            "#fb9f3a"
                          ],
                          [
                            0.8888888888888888,
                            "#fdca26"
                          ],
                          [
                            1,
                            "#f0f921"
                          ]
                        ],
                        "type": "contour"
                      }
                    ],
                    "contourcarpet": [
                      {
                        "colorbar": {
                          "outlinewidth": 0,
                          "ticks": ""
                        },
                        "type": "contourcarpet"
                      }
                    ],
                    "heatmap": [
                      {
                        "colorbar": {
                          "outlinewidth": 0,
                          "ticks": ""
                        },
                        "colorscale": [
                          [
                            0,
                            "#0d0887"
                          ],
                          [
                            0.1111111111111111,
                            "#46039f"
                          ],
                          [
                            0.2222222222222222,
                            "#7201a8"
                          ],
                          [
                            0.3333333333333333,
                            "#9c179e"
                          ],
                          [
                            0.4444444444444444,
                            "#bd3786"
                          ],
                          [
                            0.5555555555555556,
                            "#d8576b"
                          ],
                          [
                            0.6666666666666666,
                            "#ed7953"
                          ],
                          [
                            0.7777777777777778,
                            "#fb9f3a"
                          ],
                          [
                            0.8888888888888888,
                            "#fdca26"
                          ],
                          [
                            1,
                            "#f0f921"
                          ]
                        ],
                        "type": "heatmap"
                      }
                    ],
                    "histogram": [
                      {
                        "marker": {
                          "pattern": {
                            "fillmode": "overlay",
                            "size": 10,
                            "solidity": 0.2
                          }
                        },
                        "type": "histogram"
                      }
                    ],
                    "histogram2d": [
                      {
                        "colorbar": {
                          "outlinewidth": 0,
                          "ticks": ""
                        },
                        "colorscale": [
                          [
                            0,
                            "#0d0887"
                          ],
                          [
                            0.1111111111111111,
                            "#46039f"
                          ],
                          [
                            0.2222222222222222,
                            "#7201a8"
                          ],
                          [
                            0.3333333333333333,
                            "#9c179e"
                          ],
                          [
                            0.4444444444444444,
                            "#bd3786"
                          ],
                          [
                            0.5555555555555556,
                            "#d8576b"
                          ],
                          [
                            0.6666666666666666,
                            "#ed7953"
                          ],
                          [
                            0.7777777777777778,
                            "#fb9f3a"
                          ],
                          [
                            0.8888888888888888,
                            "#fdca26"
                          ],
                          [
                            1,
                            "#f0f921"
                          ]
                        ],
                        "type": "histogram2d"
                      }
                    ],
                    "histogram2dcontour": [
                      {
                        "colorbar": {
                          "outlinewidth": 0,
                          "ticks": ""
                        },
                        "colorscale": [
                          [
                            0,
                            "#0d0887"
                          ],
                          [
                            0.1111111111111111,
                            "#46039f"
                          ],
                          [
                            0.2222222222222222,
                            "#7201a8"
                          ],
                          [
                            0.3333333333333333,
                            "#9c179e"
                          ],
                          [
                            0.4444444444444444,
                            "#bd3786"
                          ],
                          [
                            0.5555555555555556,
                            "#d8576b"
                          ],
                          [
                            0.6666666666666666,
                            "#ed7953"
                          ],
                          [
                            0.7777777777777778,
                            "#fb9f3a"
                          ],
                          [
                            0.8888888888888888,
                            "#fdca26"
                          ],
                          [
                            1,
                            "#f0f921"
                          ]
                        ],
                        "type": "histogram2dcontour"
                      }
                    ],
                    "mesh3d": [
                      {
                        "colorbar": {
                          "outlinewidth": 0,
                          "ticks": ""
                        },
                        "type": "mesh3d"
                      }
                    ],
                    "parcoords": [
                      {
                        "line": {
                          "colorbar": {
                            "outlinewidth": 0,
                            "ticks": ""
                          }
                        },
                        "type": "parcoords"
                      }
                    ],
                    "pie": [
                      {
                        "automargin": true,
                        "type": "pie"
                      }
                    ],
                    "scatter": [
                      {
                        "fillpattern": {
                          "fillmode": "overlay",
                          "size": 10,
                          "solidity": 0.2
                        },
                        "type": "scatter"
                      }
                    ],
                    "scatter3d": [
                      {
                        "line": {
                          "colorbar": {
                            "outlinewidth": 0,
                            "ticks": ""
                          }
                        },
                        "marker": {
                          "colorbar": {
                            "outlinewidth": 0,
                            "ticks": ""
                          }
                        },
                        "type": "scatter3d"
                      }
                    ],
                    "scattercarpet": [
                      {
                        "marker": {
                          "colorbar": {
                            "outlinewidth": 0,
                            "ticks": ""
                          }
                        },
                        "type": "scattercarpet"
                      }
                    ],
                    "scattergeo": [
                      {
                        "marker": {
                          "colorbar": {
                            "outlinewidth": 0,
                            "ticks": ""
                          }
                        },
                        "type": "scattergeo"
                      }
                    ],
                    "scattergl": [
                      {
                        "marker": {
                          "colorbar": {
                            "outlinewidth": 0,
                            "ticks": ""
                          }
                        },
                        "type": "scattergl"
                      }
                    ],
                    "scattermap": [
                      {
                        "marker": {
                          "colorbar": {
                            "outlinewidth": 0,
                            "ticks": ""
                          }
                        },
                        "type": "scattermap"
                      }
                    ],
                    "scattermapbox": [
                      {
                        "marker": {
                          "colorbar": {
                            "outlinewidth": 0,
                            "ticks": ""
                          }
                        },
                        "type": "scattermapbox"
                      }
                    ],
                    "scatterpolar": [
                      {
                        "marker": {
                          "colorbar": {
                            "outlinewidth": 0,
                            "ticks": ""
                          }
                        },
                        "type": "scatterpolar"
                      }
                    ],
                    "scatterpolargl": [
                      {
                        "marker": {
                          "colorbar": {
                            "outlinewidth": 0,
                            "ticks": ""
                          }
                        },
                        "type": "scatterpolargl"
                      }
                    ],
                    "scatterternary": [
                      {
                        "marker": {
                          "colorbar": {
                            "outlinewidth": 0,
                            "ticks": ""
                          }
                        },
                        "type": "scatterternary"
                      }
                    ],
                    "surface": [
                      {
                        "colorbar": {
                          "outlinewidth": 0,
                          "ticks": ""
                        },
                        "colorscale": [
                          [
                            0,
                            "#0d0887"
                          ],
                          [
                            0.1111111111111111,
                            "#46039f"
                          ],
                          [
                            0.2222222222222222,
                            "#7201a8"
                          ],
                          [
                            0.3333333333333333,
                            "#9c179e"
                          ],
                          [
                            0.4444444444444444,
                            "#bd3786"
                          ],
                          [
                            0.5555555555555556,
                            "#d8576b"
                          ],
                          [
                            0.6666666666666666,
                            "#ed7953"
                          ],
                          [
                            0.7777777777777778,
                            "#fb9f3a"
                          ],
                          [
                            0.8888888888888888,
                            "#fdca26"
                          ],
                          [
                            1,
                            "#f0f921"
                          ]
                        ],
                        "type": "surface"
                      }
                    ],
                    "table": [
                      {
                        "cells": {
                          "fill": {
                            "color": "#EBF0F8"
                          },
                          "line": {
                            "color": "white"
                          }
                        },
                        "header": {
                          "fill": {
                            "color": "#C8D4E3"
                          },
                          "line": {
                            "color": "white"
                          }
                        },
                        "type": "table"
                      }
                    ]
                  },
                  "layout": {
                    "annotationdefaults": {
                      "arrowcolor": "#2a3f5f",
                      "arrowhead": 0,
                      "arrowwidth": 1
                    },
                    "autotypenumbers": "strict",
                    "coloraxis": {
                      "colorbar": {
                        "outlinewidth": 0,
                        "ticks": ""
                      }
                    },
                    "colorscale": {
                      "diverging": [
                        [
                          0,
                          "#8e0152"
                        ],
                        [
                          0.1,
                          "#c51b7d"
                        ],
                        [
                          0.2,
                          "#de77ae"
                        ],
                        [
                          0.3,
                          "#f1b6da"
                        ],
                        [
                          0.4,
                          "#fde0ef"
                        ],
                        [
                          0.5,
                          "#f7f7f7"
                        ],
                        [
                          0.6,
                          "#e6f5d0"
                        ],
                        [
                          0.7,
                          "#b8e186"
                        ],
                        [
                          0.8,
                          "#7fbc41"
                        ],
                        [
                          0.9,
                          "#4d9221"
                        ],
                        [
                          1,
                          "#276419"
                        ]
                      ],
                      "sequential": [
                        [
                          0,
                          "#0d0887"
                        ],
                        [
                          0.1111111111111111,
                          "#46039f"
                        ],
                        [
                          0.2222222222222222,
                          "#7201a8"
                        ],
                        [
                          0.3333333333333333,
                          "#9c179e"
                        ],
                        [
                          0.4444444444444444,
                          "#bd3786"
                        ],
                        [
                          0.5555555555555556,
                          "#d8576b"
                        ],
                        [
                          0.6666666666666666,
                          "#ed7953"
                        ],
                        [
                          0.7777777777777778,
                          "#fb9f3a"
                        ],
                        [
                          0.8888888888888888,
                          "#fdca26"
                        ],
                        [
                          1,
                          "#f0f921"
                        ]
                      ],
                      "sequentialminus": [
                        [
                          0,
                          "#0d0887"
                        ],
                        [
                          0.1111111111111111,
                          "#46039f"
                        ],
                        [
                          0.2222222222222222,
                          "#7201a8"
                        ],
                        [
                          0.3333333333333333,
                          "#9c179e"
                        ],
                        [
                          0.4444444444444444,
                          "#bd3786"
                        ],
                        [
                          0.5555555555555556,
                          "#d8576b"
                        ],
                        [
                          0.6666666666666666,
                          "#ed7953"
                        ],
                        [
                          0.7777777777777778,
                          "#fb9f3a"
                        ],
                        [
                          0.8888888888888888,
                          "#fdca26"
                        ],
                        [
                          1,
                          "#f0f921"
                        ]
                      ]
                    },
                    "colorway": [
                      "#636efa",
                      "#EF553B",
                      "#00cc96",
                      "#ab63fa",
                      "#FFA15A",
                      "#19d3f3",
                      "#FF6692",
                      "#B6E880",
                      "#FF97FF",
                      "#FECB52"
                    ],
                    "font": {
                      "color": "#2a3f5f"
                    },
                    "geo": {
                      "bgcolor": "white",
                      "lakecolor": "white",
                      "landcolor": "#E5ECF6",
                      "showlakes": true,
                      "showland": true,
                      "subunitcolor": "white"
                    },
                    "hoverlabel": {
                      "align": "left"
                    },
                    "hovermode": "closest",
                    "mapbox": {
                      "style": "light"
                    },
                    "paper_bgcolor": "white",
                    "plot_bgcolor": "#E5ECF6",
                    "polar": {
                      "angularaxis": {
                        "gridcolor": "white",
                        "linecolor": "white",
                        "ticks": ""
                      },
                      "bgcolor": "#E5ECF6",
                      "radialaxis": {
                        "gridcolor": "white",
                        "linecolor": "white",
                        "ticks": ""
                      }
                    },
                    "scene": {
                      "xaxis": {
                        "backgroundcolor": "#E5ECF6",
                        "gridcolor": "white",
                        "gridwidth": 2,
                        "linecolor": "white",
                        "showbackground": true,
                        "ticks": "",
                        "zerolinecolor": "white"
                      },
                      "yaxis": {
                        "backgroundcolor": "#E5ECF6",
                        "gridcolor": "white",
                        "gridwidth": 2,
                        "linecolor": "white",
                        "showbackground": true,
                        "ticks": "",
                        "zerolinecolor": "white"
                      },
                      "zaxis": {
                        "backgroundcolor": "#E5ECF6",
                        "gridcolor": "white",
                        "gridwidth": 2,
                        "linecolor": "white",
                        "showbackground": true,
                        "ticks": "",
                        "zerolinecolor": "white"
                      }
                    },
                    "shapedefaults": {
                      "line": {
                        "color": "#2a3f5f"
                      }
                    },
                    "ternary": {
                      "aaxis": {
                        "gridcolor": "white",
                        "linecolor": "white",
                        "ticks": ""
                      },
                      "baxis": {
                        "gridcolor": "white",
                        "linecolor": "white",
                        "ticks": ""
                      },
                      "bgcolor": "#E5ECF6",
                      "caxis": {
                        "gridcolor": "white",
                        "linecolor": "white",
                        "ticks": ""
                      }
                    },
                    "title": {
                      "x": 0.05
                    },
                    "xaxis": {
                      "automargin": true,
                      "gridcolor": "white",
                      "linecolor": "white",
                      "ticks": "",
                      "title": {
                        "standoff": 15
                      },
                      "zerolinecolor": "white",
                      "zerolinewidth": 2
                    },
                    "yaxis": {
                      "automargin": true,
                      "gridcolor": "white",
                      "linecolor": "white",
                      "ticks": "",
                      "title": {
                        "standoff": 15
                      },
                      "zerolinecolor": "white",
                      "zerolinewidth": 2
                    }
                  }
                },
                "title": {
                  "text": "GMM Clusters(k=3) on PCA Space"
                }
              }
            }
          },
          "metadata": {},
          "output_type": "display_data"
        }
      ],
      "source": [
        "gmm = GaussianMixture(n_components=3, random_state=42).fit(X_umap)\n",
        "gmm_labels2 = gmm.predict(X_umap)\n",
        "df1 = pd.DataFrame(X_pca3, columns=[\"PC1\",\"PC2\",\"PC3\"])\n",
        "df1[\"cluster\"] = gmm_labels2\n",
        "fig = px.scatter_3d(df1, x=\"PC1\", y=\"PC2\", z=\"PC3\",\n",
        "                    color=\"cluster\", opacity=0.7,\n",
        "                    title=\"GMM Clusters(k=3) on PCA Space\")\n",
        "fig.show()"
      ]
    },
    {
      "cell_type": "code",
      "execution_count": 33,
      "metadata": {
        "colab": {
          "base_uri": "https://localhost:8080/",
          "height": 487
        },
        "id": "yC1UIcuUJZpK",
        "outputId": "cac6da9c-1647-46ec-9fab-1da233e3419c"
      },
      "outputs": [
        {
          "data": {
            "image/png": "[encoded data removed]",
            "text/plain": [
              "<Figure size 800x500 with 1 Axes>"
            ]
          },
          "metadata": {},
          "output_type": "display_data"
        }
      ],
      "source": [
        "from sklearn.neighbors import NearestNeighbors\n",
        "import numpy as np\n",
        "\n",
        "# Find the optimal eps value using K-distance plot\n",
        "neighbors = NearestNeighbors(n_neighbors=5)\n",
        "neighbors_fit = neighbors.fit(X_scaled)\n",
        "distances, indices = neighbors_fit.kneighbors(X_scaled)\n",
        "\n",
        "# Sort and plot the distances (Elbow method)\n",
        "distances = np.sort(distances[:, 4])\n",
        "plt.figure(figsize=(8, 5))\n",
        "plt.plot(distances)\n",
        "plt.xlabel(\"Data Points Sorted by Distance\")\n",
        "plt.ylabel(\"5th Nearest Neighbor Distance\")\n",
        "plt.title(\"Elbow Method for Optimal Epsilon\")\n",
        "plt.grid(True)\n",
        "plt.show()"
      ]
    },
    {
      "cell_type": "code",
      "execution_count": 34,
      "metadata": {
        "colab": {
          "base_uri": "https://localhost:8080/"
        },
        "id": "tTag9p-4J6fd",
        "outputId": "223ed0b5-ce4d-4061-961e-80a3aaa6f98d"
      },
      "outputs": [
        {
          "name": "stdout",
          "output_type": "stream",
          "text": [
            "DBSCAN found 1 clusters\n",
            "DBSCAN did not find valid clusters.\n"
          ]
        }
      ],
      "source": [
        "from sklearn.cluster import DBSCAN\n",
        "\n",
        "optimal_eps = 200\n",
        "min_samples = 5\n",
        "\n",
        "# Train DBSCAN\n",
        "dbscan = DBSCAN(eps=optimal_eps, min_samples=min_samples)\n",
        "y_dbscan1 = dbscan.fit_predict(X_scaled)\n",
        "\n",
        "# Count clusters\n",
        "num_clusters = len(set(y_dbscan1)) - (1 if -1 in y_dbscan1 else 0)\n",
        "print(f\"DBSCAN found {num_clusters} clusters\")\n",
        "\n",
        "# Evaluate only if DBSCAN found clusters\n",
        "if num_clusters <= 1:\n",
        "    print(\"DBSCAN did not find valid clusters.\")"
      ]
    },
    {
      "cell_type": "markdown",
      "metadata": {
        "id": "Pb-HAG_kKRKL"
      },
      "source": [
        "DBSCAN is not able to find any valid clusters"
      ]
    },
    {
      "cell_type": "code",
      "execution_count": 35,
      "metadata": {
        "colab": {
          "base_uri": "https://localhost:8080/",
          "height": 542
        },
        "id": "KzSbHyG5LGNQ",
        "outputId": "56fc32ea-065c-4d5a-fc75-a6a4c2160b01"
      },
      "outputs": [
        {
          "data": {
            "application/vnd.plotly.v1+json": {
              "config": {
                "plotlyServerURL": "https://plot.ly"
              },
              "data": [
                {
                  "hovertemplate": "PC1=%{x}<br>PC2=%{y}<br>PC3=%{z}<br>cluster=%{marker.color}<extra></extra>",
                  "legendgroup": "",
                  "marker": {
                    "color": {
                      "bdata": "AAD/AAD//wAAAAAAAAAAAAAAAAD/AAAA/wAAAAAAAAAAAAAAAAAAAAAAAAAAAAAAAAAAAAAAAAAAAAAAAAAAAAAAAAAA/wD//////////////////wAAAAAAAAAAAAAAAAAAAAAAAAAAAAAAAAAAAAAAAAAAAAAAAAAAAAAAAAAAAAAAAAAAAAAAAAAAAAAAAAAAAAAAAA==",
                      "dtype": "i1"
                    },
                    "coloraxis": "coloraxis",
                    "opacity": 0.7,
                    "symbol": "circle"
                  },
                  "mode": "markers",
                  "name": "",
                  "scene": "scene",
                  "showlegend": false,
                  "type": "scatter3d",
                  "x": {
                    "bdata": "9Z32lsYVWcAKOtef/qhRwL3VuLubyl7AMzdC8cZAT8BRJmyTnARRwMHzy9PFBk3AI/SCqxHUUcDnh9QaWnJOwHsUf5crnVHAaGJs0JHWUsChVpKqi/9HwDVZ9USe5kHAH943aq6nNcCvPJmC7kJJwGFC0xuTY0DAx65bsf1TSMCwwy/E/XQ0wB2gBSl8G1DAasq6xgQEPsCEF8f5aolAwPzI/PCaP1LAJlAySv3M9b9Cv2aG14pVwIxs5JAKA0PApMIiXHwaQcDVBF54jTM/wL/Um1xxG0HAAoUeMNmgTMCIInRJG504wD3YhTGFYUPAZjoYlrMsRMBBGzUr6LtKwG6i91LUKzHArCzgP5ByRMBsH1y2ka/iP3dtzwraOkXAFWXdEyEAJsBTjWf1oJI8wJYy2NK5HkbAWklDTGKkMMCgulGaIHhHwDIivTDZXwbAvUM6i0dORcB+58OXv7QYwLp65oedBzLAeDb68B9YScBMopC/IXImwPL0BaMtgz7ARWBlDMpiKsAnyYsv1B04wM3p6U/kTT3AHzmYDt4QLsBCOJMrDXZCQDNcpOsu6SLA2VWO5K7SE8DfmmM3feEQwOxZ21iz+DlAFN5AVfRiFUA6MdY8zWs4wCC03zubhjtAqel7Vkn3MED/8vAMx4MmwNz8rsH2lApAwT/5gB7pKUBp6BTAr9k8QNWRt8uRYztAl02pzQw1TMCwExVJ7OUuQONbUtlctUNAhEIkcqXY+r+HGQDtGX0gwOme+bsOF2LA3zNA7qsyYcBsV89d/xhawOd0TqxNbF/A6wOouI1KYMCJvfxM7TFhwBR1IGnQCl7AMCtYLeAuXcA57xkGpoViwEH7fgnU/1rApP+ATY59YsCqAJmotVlYwC0Kj9DzqGDAcCDgMsklX8BaoEki5HhYQD2OkHEfplhAhlsr7nBdXUC+pP9sK+9aQI9sPsOf8llAr5av7J7dWkCfjoTblgZZQIL8uqAD805AoZwE59xrT0B28wzKXHBQQMYE7oT/YExA3dBir2F5UEDsjHyRJDRHQEI5owRzgVJAEff8KCxGUEBmrQVlpmlTQHIK3LSNAlNAFEnBhC+nVkAayq1013dQQN2ah/3vtVJAoojcyljeUECq14R3IZ9SQL9LxFqnb1NA6qQEqKwRSkBSZMEaBhxIQEp3ApyzLFRAjcde/vNjV0BdQY2cPjBDQP+Gxm0ODFBACFFl/8D6VUCJdCiI+5ZNQLwTp/iuPElASOCAK/psTkCPrOg2ZfpWQNSxAZaAzkpAIemyf1hTTUBDLVduluhOQAdv2LtESArAsRhGT8ECP0AZMb6N9VJBQEFz0cmUjkVAIh1peuwL9r8woxzIkVNVQA2OO/m69UVA+pr7z/JfR0BlqdTWSU5OQId9+1l3DlJAbo6Nk/bFSEBX0PGsA6pHQA6iPwFIbUZAUWp07v6tNECbYNEAtxBJQMncxXa1YUtA+67MtrfDN0DKcF6c1+UxQBjBW9x4xk1AlmXxU2gHJcCYlxNYkag7QCi2oXbwnzhAkv0QZOrqRkCPexZNbVZCQIjyKeEaA01AdMQe0KMdMUA8T8Dd3ZgiQBGWBOSW5kNAsF/7trtzQ0A=",
                    "dtype": "f8"
                  },
                  "y": {
                    "bdata": "vIreEvd0SEDWe1lhJahNQGYpAUkdHzBA8sRR/PUbUEB/g0bQ1t1OQFl0REktIjtAE/KPDFPcRUCExhC+wYBQQHCmgz+8ZFJAr8X4J/1OVEDug8dibztKQJGIscbKlTpAmtgd67oTNUBtR5mkygVTQCUqvvFV3zNAIPnN6S5INUA+0AJRkpwUQFjw6jVUKUtARmIqghe3TkAxXqE5XAxUQJdWLuXAIThAgipazpqjTUBP9+liRtBIQKREJ7MztlFAhuKw0EKrRUB7rDOukqNCQCVF7AyHSkFATQuRd5ykSUDf5Q50qbZFQF0b2HIqhFNAW5wByRHaIUA7zt0qOto0QOaUyHnQFz9AslgQw75/NkAVq/metqpGQNMVXDIRkkdAyJMuYOdwKkDrlM3Jf59MQMdzq9BkYENArKuA8EUxHkApEZpQ8sswQIDM8Ig14kBA4msXw+MvOUCr+ywvFk5DQD9NEWgfRkdAuL3Qy+5yOED8Byn0at5LQCZx0SriCUpAVkO4PMayOkBUVLByoQFLQNvNyOdfgVBAMjY2JSmdPkCCYJvPJ7tCQHRW1kGXp/k/pplm3REnQUCvKPoKE41IQBQFD2SxSkRAaS3qTzM5QUBEN+7JcJMnwJ56TjAxbuA/jcDjt9DuTUB/F0XrtbY9QNKjsD55Q0FAwAuMZCZDQUBMUrG6v6gRwLHQte7RCyxAdmU2w+Q7SEAY0+MRcaJMQM7b354Z+y1AeXErBmIEIkBLTmIC7ZVDQERjY+9fyVnAVSMfAckzUsB5uBetKwBdwBRM5YOZQlTA4R3tTtAKXcCeyMv6btFWwC7PAZu1zFXAQd6MWuziXcAYdrPn9L5YwJMvDQnnFVzAr1jNX1unXMAttmTz8RJewCrV5Wx7xV3A1erwMNVMX8D9SSUvqURRwM0sM062fUTAn7rNLxBBRsBo7eyPk15RwLZvBwbQeU/A2rEM7sInVMBbpHgNmH1RwGLcYKAN9SRAiEGTbZ2NIkD4U5WcTKEiwMJj0OLrkSXAlFeVFSOIJ0DPs7tigUMlwIEb+wB4Ag3AnrWcIN7KF0AUJoNoC+ZFwJIOiXyIdRnAyrtJzc77QMC5biCzszQ9wEYUd3qDaDHAz2A93tO2KMAbJjySnFwmwAx0Eq3spjfANHjNkt7gI8DCVdPP2DktwCNGAPlGCkfAvzR+xpNI5T/fymLrkhgyQF3y+79Ys0TA31nHTFCqQMCxiXid5SdGwMbQ/IpEAzFABMniT72pIcCfqzSugD8pQHd1Ljxx+izA83F/lt9K+r9gUkJOPxMqwEP91ZlpWyBAleTk0moRBsAxGS1ovKc5wKcyqCfnpSXANpU1UFzPMsCLmKf3LhVFwDb76eIyoyDA0+eOR0DGKsDynNuZVZQ5wFbAu30viEnAp/I2FVOxPsBiOBHKq8Q1QB3W3ZicAkTAoP8s94ESOMBS+y2Ipxo9wMTKMszhvwhAFur0Ms3cOMDkthGNLoQkwA6vpLTYREHALno6zhcCMMCVxbjxDgBAQAOlqrcK5irA77xIZ+HuQEB4E+oasbsqwOfM+KALB0nAX2M9SdGFJ8CRSCuD+Sc6wPLtd47hZSbARJnGq1Q5QcA=",
                    "dtype": "f8"
                  },
                  "z": {
                    "bdata": "1tZrsf2dAMCXx1Sl9CclwPuqztmyiyHAi0O+ik0rHMClu1kth5Tpv+VxII2QsSHAthydROL+4z9ZzgLCApwUwFPnaUnFLSTAMY0o5Mo4HMAGiy/M/WY0wHou/aBhW07AKN9MNIzvAMD66qhmx3g2wHX1rAPNlEjAAYgELoy9U8AQcQdj6OtRwJV9DXcrp0PAO3ANIc/EPMBlZ1eMMWFGwCEMfNK+0zvALBKLS9fRQ8CEpGvpDjU2wN5rjj5LMjvANO4kBDXvLcBFITmOL9VDwAjszeCI0iRA0IJmNEEmR8AH7UBLOcNDwJuZJxnq50DAtsSn3hOwUcC8gr6QYyVQwEIbel/vLEnAfurYGST3ScApTBY9LldNwOu3VeaJd0vAdtJHeMZeE8ClWM7exos8wKfh9MiyI07A5RTDmMpaRsAzzgG+mPJNwO+8mAPZpkhAj6sFbS8kUkAhd4gh6b1AQMQ1Ww5I501AJy47gBg/SkBkq+E0mWpDQJVfQQq+8lBAlG+vByZ2RkBrhE9EffRHQOZRSp1BVVFALxN1M3MsTED0bAjqHNMaQPfAc4t7kDhA5Gprs07IDcCOgZNEx0A4QAwtYVfCdSBAzP6AOk1DB8DPni2683pCQFazpP6kBTzAFsUoc1GaM0DNMnaNXfI2QLS0dp7aevQ/7CRuzN5zOcARGqGmaa0VQB72L8aZLEzAWCrUYvIhQsDCliY5yuUowCK8lj7ssBXAKYs1ht92N0B1qRAd2380QAsA7aWjgUJApRtdTLKkMEBeE9zJQS0qwA5EspWdJQtAdIWWRxhm9r/1mFj1QxAZQKDfPqm6ECFAZoj+7rFLGEBs127AwMEwQGM40lJEuRpAK42T6Yi8B0DNDk379AYkwGBS9GIq/Na/E+yWJ8ezB0DSbhQ7H0JZwGjfIS2QfVTAi+RFC7dNWMCDUk5ob95cwNhyKJBL4FrA6TzfiqrQWcCc9sMCswBewFo96oJ2oEBALU2ReHmTNUAr7hK7GhUyQC1ZYJo7ND5AKZQ71APw9b/59TDjTEo/QAGU0XQa5CVA/uiwEkzxOUDaX4NZLpY1QJxckGab7TVAy/xjVivRF8AcOqTiWuQnwGJfHyB0WDpA02kQ4bjWMkCxrWhycAoeQDmC8kggnDtApA/oymL9SkDLq+RrlQVEQCTVrqF11SjAL/OzSX/O1D+Oc/aija88QFxKpePEFD3A8mV2avUBKcCllpAwhZpDQJUdLpcscEVArKlCZY8uQEB+G/C2y/s5QI39DfrNCUdA8A4gD9TiQECEfxfA+IQ1wGOzSQK14lBA3bKL5aNjAUAF+bOC3l9HQOZMObLXMzZAGOKs8CY/QkA4wjCktP9BQPU1hfxPqTBA9lDIYfoiP0C8yzCskLI1QAUCFOf3fSHAeLhPcyzQSUBLv9j7nfQ1QMBnI2KUVU1ArUPEr68sQ0DRPCauIBQ9QHoJ9sM/YgzAA4RXMdTzNUC3zdk/PJ1IQBlZEzXHn/K/iqLnLcb3UECK4ovJsc04QLUJPZPEk0BAO9qDY25oHsCsxbWr7P01QMC//lS7diLAlcB0KZzFSUCdGBUsTzk8QIkQ79wBKTxAVfPdP2FXL0A=",
                    "dtype": "f8"
                  }
                }
              ],
              "layout": {
                "coloraxis": {
                  "colorbar": {
                    "title": {
                      "text": "cluster"
                    }
                  },
                  "colorscale": [
                    [
                      0,
                      "#0d0887"
                    ],
                    [
                      0.1111111111111111,
                      "#46039f"
                    ],
                    [
                      0.2222222222222222,
                      "#7201a8"
                    ],
                    [
                      0.3333333333333333,
                      "#9c179e"
                    ],
                    [
                      0.4444444444444444,
                      "#bd3786"
                    ],
                    [
                      0.5555555555555556,
                      "#d8576b"
                    ],
                    [
                      0.6666666666666666,
                      "#ed7953"
                    ],
                    [
                      0.7777777777777778,
                      "#fb9f3a"
                    ],
                    [
                      0.8888888888888888,
                      "#fdca26"
                    ],
                    [
                      1,
                      "#f0f921"
                    ]
                  ]
                },
                "legend": {
                  "tracegroupgap": 0
                },
                "scene": {
                  "domain": {
                    "x": [
                      0,
                      1
                    ],
                    "y": [
                      0,
                      1
                    ]
                  },
                  "xaxis": {
                    "title": {
                      "text": "PC1"
                    }
                  },
                  "yaxis": {
                    "title": {
                      "text": "PC2"
                    }
                  },
                  "zaxis": {
                    "title": {
                      "text": "PC3"
                    }
                  }
                },
                "template": {
                  "data": {
                    "bar": [
                      {
                        "error_x": {
                          "color": "#2a3f5f"
                        },
                        "error_y": {
                          "color": "#2a3f5f"
                        },
                        "marker": {
                          "line": {
                            "color": "#E5ECF6",
                            "width": 0.5
                          },
                          "pattern": {
                            "fillmode": "overlay",
                            "size": 10,
                            "solidity": 0.2
                          }
                        },
                        "type": "bar"
                      }
                    ],
                    "barpolar": [
                      {
                        "marker": {
                          "line": {
                            "color": "#E5ECF6",
                            "width": 0.5
                          },
                          "pattern": {
                            "fillmode": "overlay",
                            "size": 10,
                            "solidity": 0.2
                          }
                        },
                        "type": "barpolar"
                      }
                    ],
                    "carpet": [
                      {
                        "aaxis": {
                          "endlinecolor": "#2a3f5f",
                          "gridcolor": "white",
                          "linecolor": "white",
                          "minorgridcolor": "white",
                          "startlinecolor": "#2a3f5f"
                        },
                        "baxis": {
                          "endlinecolor": "#2a3f5f",
                          "gridcolor": "white",
                          "linecolor": "white",
                          "minorgridcolor": "white",
                          "startlinecolor": "#2a3f5f"
                        },
                        "type": "carpet"
                      }
                    ],
                    "choropleth": [
                      {
                        "colorbar": {
                          "outlinewidth": 0,
                          "ticks": ""
                        },
                        "type": "choropleth"
                      }
                    ],
                    "contour": [
                      {
                        "colorbar": {
                          "outlinewidth": 0,
                          "ticks": ""
                        },
                        "colorscale": [
                          [
                            0,
                            "#0d0887"
                          ],
                          [
                            0.1111111111111111,
                            "#46039f"
                          ],
                          [
                            0.2222222222222222,
                            "#7201a8"
                          ],
                          [
                            0.3333333333333333,
                            "#9c179e"
                          ],
                          [
                            0.4444444444444444,
                            "#bd3786"
                          ],
                          [
                            0.5555555555555556,
                            "#d8576b"
                          ],
                          [
                            0.6666666666666666,
                            "#ed7953"
                          ],
                          [
                            0.7777777777777778,
                            "#fb9f3a"
                          ],
                          [
                            0.8888888888888888,
                            "#fdca26"
                          ],
                          [
                            1,
                            "#f0f921"
                          ]
                        ],
                        "type": "contour"
                      }
                    ],
                    "contourcarpet": [
                      {
                        "colorbar": {
                          "outlinewidth": 0,
                          "ticks": ""
                        },
                        "type": "contourcarpet"
                      }
                    ],
                    "heatmap": [
                      {
                        "colorbar": {
                          "outlinewidth": 0,
                          "ticks": ""
                        },
                        "colorscale": [
                          [
                            0,
                            "#0d0887"
                          ],
                          [
                            0.1111111111111111,
                            "#46039f"
                          ],
                          [
                            0.2222222222222222,
                            "#7201a8"
                          ],
                          [
                            0.3333333333333333,
                            "#9c179e"
                          ],
                          [
                            0.4444444444444444,
                            "#bd3786"
                          ],
                          [
                            0.5555555555555556,
                            "#d8576b"
                          ],
                          [
                            0.6666666666666666,
                            "#ed7953"
                          ],
                          [
                            0.7777777777777778,
                            "#fb9f3a"
                          ],
                          [
                            0.8888888888888888,
                            "#fdca26"
                          ],
                          [
                            1,
                            "#f0f921"
                          ]
                        ],
                        "type": "heatmap"
                      }
                    ],
                    "histogram": [
                      {
                        "marker": {
                          "pattern": {
                            "fillmode": "overlay",
                            "size": 10,
                            "solidity": 0.2
                          }
                        },
                        "type": "histogram"
                      }
                    ],
                    "histogram2d": [
                      {
                        "colorbar": {
                          "outlinewidth": 0,
                          "ticks": ""
                        },
                        "colorscale": [
                          [
                            0,
                            "#0d0887"
                          ],
                          [
                            0.1111111111111111,
                            "#46039f"
                          ],
                          [
                            0.2222222222222222,
                            "#7201a8"
                          ],
                          [
                            0.3333333333333333,
                            "#9c179e"
                          ],
                          [
                            0.4444444444444444,
                            "#bd3786"
                          ],
                          [
                            0.5555555555555556,
                            "#d8576b"
                          ],
                          [
                            0.6666666666666666,
                            "#ed7953"
                          ],
                          [
                            0.7777777777777778,
                            "#fb9f3a"
                          ],
                          [
                            0.8888888888888888,
                            "#fdca26"
                          ],
                          [
                            1,
                            "#f0f921"
                          ]
                        ],
                        "type": "histogram2d"
                      }
                    ],
                    "histogram2dcontour": [
                      {
                        "colorbar": {
                          "outlinewidth": 0,
                          "ticks": ""
                        },
                        "colorscale": [
                          [
                            0,
                            "#0d0887"
                          ],
                          [
                            0.1111111111111111,
                            "#46039f"
                          ],
                          [
                            0.2222222222222222,
                            "#7201a8"
                          ],
                          [
                            0.3333333333333333,
                            "#9c179e"
                          ],
                          [
                            0.4444444444444444,
                            "#bd3786"
                          ],
                          [
                            0.5555555555555556,
                            "#d8576b"
                          ],
                          [
                            0.6666666666666666,
                            "#ed7953"
                          ],
                          [
                            0.7777777777777778,
                            "#fb9f3a"
                          ],
                          [
                            0.8888888888888888,
                            "#fdca26"
                          ],
                          [
                            1,
                            "#f0f921"
                          ]
                        ],
                        "type": "histogram2dcontour"
                      }
                    ],
                    "mesh3d": [
                      {
                        "colorbar": {
                          "outlinewidth": 0,
                          "ticks": ""
                        },
                        "type": "mesh3d"
                      }
                    ],
                    "parcoords": [
                      {
                        "line": {
                          "colorbar": {
                            "outlinewidth": 0,
                            "ticks": ""
                          }
                        },
                        "type": "parcoords"
                      }
                    ],
                    "pie": [
                      {
                        "automargin": true,
                        "type": "pie"
                      }
                    ],
                    "scatter": [
                      {
                        "fillpattern": {
                          "fillmode": "overlay",
                          "size": 10,
                          "solidity": 0.2
                        },
                        "type": "scatter"
                      }
                    ],
                    "scatter3d": [
                      {
                        "line": {
                          "colorbar": {
                            "outlinewidth": 0,
                            "ticks": ""
                          }
                        },
                        "marker": {
                          "colorbar": {
                            "outlinewidth": 0,
                            "ticks": ""
                          }
                        },
                        "type": "scatter3d"
                      }
                    ],
                    "scattercarpet": [
                      {
                        "marker": {
                          "colorbar": {
                            "outlinewidth": 0,
                            "ticks": ""
                          }
                        },
                        "type": "scattercarpet"
                      }
                    ],
                    "scattergeo": [
                      {
                        "marker": {
                          "colorbar": {
                            "outlinewidth": 0,
                            "ticks": ""
                          }
                        },
                        "type": "scattergeo"
                      }
                    ],
                    "scattergl": [
                      {
                        "marker": {
                          "colorbar": {
                            "outlinewidth": 0,
                            "ticks": ""
                          }
                        },
                        "type": "scattergl"
                      }
                    ],
                    "scattermap": [
                      {
                        "marker": {
                          "colorbar": {
                            "outlinewidth": 0,
                            "ticks": ""
                          }
                        },
                        "type": "scattermap"
                      }
                    ],
                    "scattermapbox": [
                      {
                        "marker": {
                          "colorbar": {
                            "outlinewidth": 0,
                            "ticks": ""
                          }
                        },
                        "type": "scattermapbox"
                      }
                    ],
                    "scatterpolar": [
                      {
                        "marker": {
                          "colorbar": {
                            "outlinewidth": 0,
                            "ticks": ""
                          }
                        },
                        "type": "scatterpolar"
                      }
                    ],
                    "scatterpolargl": [
                      {
                        "marker": {
                          "colorbar": {
                            "outlinewidth": 0,
                            "ticks": ""
                          }
                        },
                        "type": "scatterpolargl"
                      }
                    ],
                    "scatterternary": [
                      {
                        "marker": {
                          "colorbar": {
                            "outlinewidth": 0,
                            "ticks": ""
                          }
                        },
                        "type": "scatterternary"
                      }
                    ],
                    "surface": [
                      {
                        "colorbar": {
                          "outlinewidth": 0,
                          "ticks": ""
                        },
                        "colorscale": [
                          [
                            0,
                            "#0d0887"
                          ],
                          [
                            0.1111111111111111,
                            "#46039f"
                          ],
                          [
                            0.2222222222222222,
                            "#7201a8"
                          ],
                          [
                            0.3333333333333333,
                            "#9c179e"
                          ],
                          [
                            0.4444444444444444,
                            "#bd3786"
                          ],
                          [
                            0.5555555555555556,
                            "#d8576b"
                          ],
                          [
                            0.6666666666666666,
                            "#ed7953"
                          ],
                          [
                            0.7777777777777778,
                            "#fb9f3a"
                          ],
                          [
                            0.8888888888888888,
                            "#fdca26"
                          ],
                          [
                            1,
                            "#f0f921"
                          ]
                        ],
                        "type": "surface"
                      }
                    ],
                    "table": [
                      {
                        "cells": {
                          "fill": {
                            "color": "#EBF0F8"
                          },
                          "line": {
                            "color": "white"
                          }
                        },
                        "header": {
                          "fill": {
                            "color": "#C8D4E3"
                          },
                          "line": {
                            "color": "white"
                          }
                        },
                        "type": "table"
                      }
                    ]
                  },
                  "layout": {
                    "annotationdefaults": {
                      "arrowcolor": "#2a3f5f",
                      "arrowhead": 0,
                      "arrowwidth": 1
                    },
                    "autotypenumbers": "strict",
                    "coloraxis": {
                      "colorbar": {
                        "outlinewidth": 0,
                        "ticks": ""
                      }
                    },
                    "colorscale": {
                      "diverging": [
                        [
                          0,
                          "#8e0152"
                        ],
                        [
                          0.1,
                          "#c51b7d"
                        ],
                        [
                          0.2,
                          "#de77ae"
                        ],
                        [
                          0.3,
                          "#f1b6da"
                        ],
                        [
                          0.4,
                          "#fde0ef"
                        ],
                        [
                          0.5,
                          "#f7f7f7"
                        ],
                        [
                          0.6,
                          "#e6f5d0"
                        ],
                        [
                          0.7,
                          "#b8e186"
                        ],
                        [
                          0.8,
                          "#7fbc41"
                        ],
                        [
                          0.9,
                          "#4d9221"
                        ],
                        [
                          1,
                          "#276419"
                        ]
                      ],
                      "sequential": [
                        [
                          0,
                          "#0d0887"
                        ],
                        [
                          0.1111111111111111,
                          "#46039f"
                        ],
                        [
                          0.2222222222222222,
                          "#7201a8"
                        ],
                        [
                          0.3333333333333333,
                          "#9c179e"
                        ],
                        [
                          0.4444444444444444,
                          "#bd3786"
                        ],
                        [
                          0.5555555555555556,
                          "#d8576b"
                        ],
                        [
                          0.6666666666666666,
                          "#ed7953"
                        ],
                        [
                          0.7777777777777778,
                          "#fb9f3a"
                        ],
                        [
                          0.8888888888888888,
                          "#fdca26"
                        ],
                        [
                          1,
                          "#f0f921"
                        ]
                      ],
                      "sequentialminus": [
                        [
                          0,
                          "#0d0887"
                        ],
                        [
                          0.1111111111111111,
                          "#46039f"
                        ],
                        [
                          0.2222222222222222,
                          "#7201a8"
                        ],
                        [
                          0.3333333333333333,
                          "#9c179e"
                        ],
                        [
                          0.4444444444444444,
                          "#bd3786"
                        ],
                        [
                          0.5555555555555556,
                          "#d8576b"
                        ],
                        [
                          0.6666666666666666,
                          "#ed7953"
                        ],
                        [
                          0.7777777777777778,
                          "#fb9f3a"
                        ],
                        [
                          0.8888888888888888,
                          "#fdca26"
                        ],
                        [
                          1,
                          "#f0f921"
                        ]
                      ]
                    },
                    "colorway": [
                      "#636efa",
                      "#EF553B",
                      "#00cc96",
                      "#ab63fa",
                      "#FFA15A",
                      "#19d3f3",
                      "#FF6692",
                      "#B6E880",
                      "#FF97FF",
                      "#FECB52"
                    ],
                    "font": {
                      "color": "#2a3f5f"
                    },
                    "geo": {
                      "bgcolor": "white",
                      "lakecolor": "white",
                      "landcolor": "#E5ECF6",
                      "showlakes": true,
                      "showland": true,
                      "subunitcolor": "white"
                    },
                    "hoverlabel": {
                      "align": "left"
                    },
                    "hovermode": "closest",
                    "mapbox": {
                      "style": "light"
                    },
                    "paper_bgcolor": "white",
                    "plot_bgcolor": "#E5ECF6",
                    "polar": {
                      "angularaxis": {
                        "gridcolor": "white",
                        "linecolor": "white",
                        "ticks": ""
                      },
                      "bgcolor": "#E5ECF6",
                      "radialaxis": {
                        "gridcolor": "white",
                        "linecolor": "white",
                        "ticks": ""
                      }
                    },
                    "scene": {
                      "xaxis": {
                        "backgroundcolor": "#E5ECF6",
                        "gridcolor": "white",
                        "gridwidth": 2,
                        "linecolor": "white",
                        "showbackground": true,
                        "ticks": "",
                        "zerolinecolor": "white"
                      },
                      "yaxis": {
                        "backgroundcolor": "#E5ECF6",
                        "gridcolor": "white",
                        "gridwidth": 2,
                        "linecolor": "white",
                        "showbackground": true,
                        "ticks": "",
                        "zerolinecolor": "white"
                      },
                      "zaxis": {
                        "backgroundcolor": "#E5ECF6",
                        "gridcolor": "white",
                        "gridwidth": 2,
                        "linecolor": "white",
                        "showbackground": true,
                        "ticks": "",
                        "zerolinecolor": "white"
                      }
                    },
                    "shapedefaults": {
                      "line": {
                        "color": "#2a3f5f"
                      }
                    },
                    "ternary": {
                      "aaxis": {
                        "gridcolor": "white",
                        "linecolor": "white",
                        "ticks": ""
                      },
                      "baxis": {
                        "gridcolor": "white",
                        "linecolor": "white",
                        "ticks": ""
                      },
                      "bgcolor": "#E5ECF6",
                      "caxis": {
                        "gridcolor": "white",
                        "linecolor": "white",
                        "ticks": ""
                      }
                    },
                    "title": {
                      "x": 0.05
                    },
                    "xaxis": {
                      "automargin": true,
                      "gridcolor": "white",
                      "linecolor": "white",
                      "ticks": "",
                      "title": {
                        "standoff": 15
                      },
                      "zerolinecolor": "white",
                      "zerolinewidth": 2
                    },
                    "yaxis": {
                      "automargin": true,
                      "gridcolor": "white",
                      "linecolor": "white",
                      "ticks": "",
                      "title": {
                        "standoff": 15
                      },
                      "zerolinecolor": "white",
                      "zerolinewidth": 2
                    }
                  }
                },
                "title": {
                  "text": "DBSCAN Clusters on PCA Space"
                }
              }
            }
          },
          "metadata": {},
          "output_type": "display_data"
        }
      ],
      "source": [
        "df1 = pd.DataFrame(X_pca3, columns=[\"PC1\",\"PC2\",\"PC3\"])\n",
        "df1[\"cluster\"] = y_dbscan1\n",
        "fig = px.scatter_3d(df1, x=\"PC1\", y=\"PC2\", z=\"PC3\",\n",
        "                    color=\"cluster\", opacity=0.7,\n",
        "                    title=\"DBSCAN Clusters on PCA Space\")\n",
        "fig.show()"
      ]
    },
    {
      "cell_type": "markdown",
      "metadata": {
        "id": "x4hqkIRjKjta"
      },
      "source": [
        "##Agglomerarive Clustering for k=6 using Cosine Distance"
      ]
    },
    {
      "cell_type": "code",
      "execution_count": 36,
      "metadata": {
        "id": "z09bTpf8Gt-u"
      },
      "outputs": [],
      "source": [
        "from sklearn.metrics.pairwise import cosine_distances\n",
        "\n",
        "#Cosine distance (better for high‑dimensional gene data)\n",
        "D = cosine_distances(X_umap)"
      ]
    },
    {
      "cell_type": "code",
      "execution_count": 37,
      "metadata": {
        "colab": {
          "base_uri": "https://localhost:8080/",
          "height": 542
        },
        "id": "pWBSJRCAKZrt",
        "outputId": "19127db5-118f-49a9-cf8a-48ade58aaec2"
      },
      "outputs": [
        {
          "data": {
            "application/vnd.plotly.v1+json": {
              "config": {
                "plotlyServerURL": "https://plot.ly"
              },
              "data": [
                {
                  "hovertemplate": "PC1=%{x}<br>PC2=%{y}<br>PC3=%{z}<br>cluster=%{marker.color}<extra></extra>",
                  "legendgroup": "",
                  "marker": {
                    "color": {
                      "bdata": "BAQEBAQEBAQEBAQEAAQEBAQEBAQEBAQEBAQABAQEBAQEBAQEAAQEBAQAAAAAAAAAAAAAAAAAAAAAAAAAAAAABAAEBAQAAAADAwMDAwMDAwMDAwMDAwUFBQUFBQUBAQEBAQEBAQEBAQEBAQEBAQEBAQIBAQEBAQEBAQECAQEBAQEBAQEBAQIBAQEBAQEBAQIBAgEBAQEBAQ==",
                      "dtype": "i1"
                    },
                    "coloraxis": "coloraxis",
                    "opacity": 0.7,
                    "symbol": "circle"
                  },
                  "mode": "markers",
                  "name": "",
                  "scene": "scene",
                  "showlegend": false,
                  "type": "scatter3d",
                  "x": {
                    "bdata": "9Z32lsYVWcAKOtef/qhRwL3VuLubyl7AMzdC8cZAT8BRJmyTnARRwMHzy9PFBk3AI/SCqxHUUcDnh9QaWnJOwHsUf5crnVHAaGJs0JHWUsChVpKqi/9HwDVZ9USe5kHAH943aq6nNcCvPJmC7kJJwGFC0xuTY0DAx65bsf1TSMCwwy/E/XQ0wB2gBSl8G1DAasq6xgQEPsCEF8f5aolAwPzI/PCaP1LAJlAySv3M9b9Cv2aG14pVwIxs5JAKA0PApMIiXHwaQcDVBF54jTM/wL/Um1xxG0HAAoUeMNmgTMCIInRJG504wD3YhTGFYUPAZjoYlrMsRMBBGzUr6LtKwG6i91LUKzHArCzgP5ByRMBsH1y2ka/iP3dtzwraOkXAFWXdEyEAJsBTjWf1oJI8wJYy2NK5HkbAWklDTGKkMMCgulGaIHhHwDIivTDZXwbAvUM6i0dORcB+58OXv7QYwLp65oedBzLAeDb68B9YScBMopC/IXImwPL0BaMtgz7ARWBlDMpiKsAnyYsv1B04wM3p6U/kTT3AHzmYDt4QLsBCOJMrDXZCQDNcpOsu6SLA2VWO5K7SE8DfmmM3feEQwOxZ21iz+DlAFN5AVfRiFUA6MdY8zWs4wCC03zubhjtAqel7Vkn3MED/8vAMx4MmwNz8rsH2lApAwT/5gB7pKUBp6BTAr9k8QNWRt8uRYztAl02pzQw1TMCwExVJ7OUuQONbUtlctUNAhEIkcqXY+r+HGQDtGX0gwOme+bsOF2LA3zNA7qsyYcBsV89d/xhawOd0TqxNbF/A6wOouI1KYMCJvfxM7TFhwBR1IGnQCl7AMCtYLeAuXcA57xkGpoViwEH7fgnU/1rApP+ATY59YsCqAJmotVlYwC0Kj9DzqGDAcCDgMsklX8BaoEki5HhYQD2OkHEfplhAhlsr7nBdXUC+pP9sK+9aQI9sPsOf8llAr5av7J7dWkCfjoTblgZZQIL8uqAD805AoZwE59xrT0B28wzKXHBQQMYE7oT/YExA3dBir2F5UEDsjHyRJDRHQEI5owRzgVJAEff8KCxGUEBmrQVlpmlTQHIK3LSNAlNAFEnBhC+nVkAayq1013dQQN2ah/3vtVJAoojcyljeUECq14R3IZ9SQL9LxFqnb1NA6qQEqKwRSkBSZMEaBhxIQEp3ApyzLFRAjcde/vNjV0BdQY2cPjBDQP+Gxm0ODFBACFFl/8D6VUCJdCiI+5ZNQLwTp/iuPElASOCAK/psTkCPrOg2ZfpWQNSxAZaAzkpAIemyf1hTTUBDLVduluhOQAdv2LtESArAsRhGT8ECP0AZMb6N9VJBQEFz0cmUjkVAIh1peuwL9r8woxzIkVNVQA2OO/m69UVA+pr7z/JfR0BlqdTWSU5OQId9+1l3DlJAbo6Nk/bFSEBX0PGsA6pHQA6iPwFIbUZAUWp07v6tNECbYNEAtxBJQMncxXa1YUtA+67MtrfDN0DKcF6c1+UxQBjBW9x4xk1AlmXxU2gHJcCYlxNYkag7QCi2oXbwnzhAkv0QZOrqRkCPexZNbVZCQIjyKeEaA01AdMQe0KMdMUA8T8Dd3ZgiQBGWBOSW5kNAsF/7trtzQ0A=",
                    "dtype": "f8"
                  },
                  "y": {
                    "bdata": "vIreEvd0SEDWe1lhJahNQGYpAUkdHzBA8sRR/PUbUEB/g0bQ1t1OQFl0REktIjtAE/KPDFPcRUCExhC+wYBQQHCmgz+8ZFJAr8X4J/1OVEDug8dibztKQJGIscbKlTpAmtgd67oTNUBtR5mkygVTQCUqvvFV3zNAIPnN6S5INUA+0AJRkpwUQFjw6jVUKUtARmIqghe3TkAxXqE5XAxUQJdWLuXAIThAgipazpqjTUBP9+liRtBIQKREJ7MztlFAhuKw0EKrRUB7rDOukqNCQCVF7AyHSkFATQuRd5ykSUDf5Q50qbZFQF0b2HIqhFNAW5wByRHaIUA7zt0qOto0QOaUyHnQFz9AslgQw75/NkAVq/metqpGQNMVXDIRkkdAyJMuYOdwKkDrlM3Jf59MQMdzq9BkYENArKuA8EUxHkApEZpQ8sswQIDM8Ig14kBA4msXw+MvOUCr+ywvFk5DQD9NEWgfRkdAuL3Qy+5yOED8Byn0at5LQCZx0SriCUpAVkO4PMayOkBUVLByoQFLQNvNyOdfgVBAMjY2JSmdPkCCYJvPJ7tCQHRW1kGXp/k/pplm3REnQUCvKPoKE41IQBQFD2SxSkRAaS3qTzM5QUBEN+7JcJMnwJ56TjAxbuA/jcDjt9DuTUB/F0XrtbY9QNKjsD55Q0FAwAuMZCZDQUBMUrG6v6gRwLHQte7RCyxAdmU2w+Q7SEAY0+MRcaJMQM7b354Z+y1AeXErBmIEIkBLTmIC7ZVDQERjY+9fyVnAVSMfAckzUsB5uBetKwBdwBRM5YOZQlTA4R3tTtAKXcCeyMv6btFWwC7PAZu1zFXAQd6MWuziXcAYdrPn9L5YwJMvDQnnFVzAr1jNX1unXMAttmTz8RJewCrV5Wx7xV3A1erwMNVMX8D9SSUvqURRwM0sM062fUTAn7rNLxBBRsBo7eyPk15RwLZvBwbQeU/A2rEM7sInVMBbpHgNmH1RwGLcYKAN9SRAiEGTbZ2NIkD4U5WcTKEiwMJj0OLrkSXAlFeVFSOIJ0DPs7tigUMlwIEb+wB4Ag3AnrWcIN7KF0AUJoNoC+ZFwJIOiXyIdRnAyrtJzc77QMC5biCzszQ9wEYUd3qDaDHAz2A93tO2KMAbJjySnFwmwAx0Eq3spjfANHjNkt7gI8DCVdPP2DktwCNGAPlGCkfAvzR+xpNI5T/fymLrkhgyQF3y+79Ys0TA31nHTFCqQMCxiXid5SdGwMbQ/IpEAzFABMniT72pIcCfqzSugD8pQHd1Ljxx+izA83F/lt9K+r9gUkJOPxMqwEP91ZlpWyBAleTk0moRBsAxGS1ovKc5wKcyqCfnpSXANpU1UFzPMsCLmKf3LhVFwDb76eIyoyDA0+eOR0DGKsDynNuZVZQ5wFbAu30viEnAp/I2FVOxPsBiOBHKq8Q1QB3W3ZicAkTAoP8s94ESOMBS+y2Ipxo9wMTKMszhvwhAFur0Ms3cOMDkthGNLoQkwA6vpLTYREHALno6zhcCMMCVxbjxDgBAQAOlqrcK5irA77xIZ+HuQEB4E+oasbsqwOfM+KALB0nAX2M9SdGFJ8CRSCuD+Sc6wPLtd47hZSbARJnGq1Q5QcA=",
                    "dtype": "f8"
                  },
                  "z": {
                    "bdata": "1tZrsf2dAMCXx1Sl9CclwPuqztmyiyHAi0O+ik0rHMClu1kth5Tpv+VxII2QsSHAthydROL+4z9ZzgLCApwUwFPnaUnFLSTAMY0o5Mo4HMAGiy/M/WY0wHou/aBhW07AKN9MNIzvAMD66qhmx3g2wHX1rAPNlEjAAYgELoy9U8AQcQdj6OtRwJV9DXcrp0PAO3ANIc/EPMBlZ1eMMWFGwCEMfNK+0zvALBKLS9fRQ8CEpGvpDjU2wN5rjj5LMjvANO4kBDXvLcBFITmOL9VDwAjszeCI0iRA0IJmNEEmR8AH7UBLOcNDwJuZJxnq50DAtsSn3hOwUcC8gr6QYyVQwEIbel/vLEnAfurYGST3ScApTBY9LldNwOu3VeaJd0vAdtJHeMZeE8ClWM7exos8wKfh9MiyI07A5RTDmMpaRsAzzgG+mPJNwO+8mAPZpkhAj6sFbS8kUkAhd4gh6b1AQMQ1Ww5I501AJy47gBg/SkBkq+E0mWpDQJVfQQq+8lBAlG+vByZ2RkBrhE9EffRHQOZRSp1BVVFALxN1M3MsTED0bAjqHNMaQPfAc4t7kDhA5Gprs07IDcCOgZNEx0A4QAwtYVfCdSBAzP6AOk1DB8DPni2683pCQFazpP6kBTzAFsUoc1GaM0DNMnaNXfI2QLS0dp7aevQ/7CRuzN5zOcARGqGmaa0VQB72L8aZLEzAWCrUYvIhQsDCliY5yuUowCK8lj7ssBXAKYs1ht92N0B1qRAd2380QAsA7aWjgUJApRtdTLKkMEBeE9zJQS0qwA5EspWdJQtAdIWWRxhm9r/1mFj1QxAZQKDfPqm6ECFAZoj+7rFLGEBs127AwMEwQGM40lJEuRpAK42T6Yi8B0DNDk379AYkwGBS9GIq/Na/E+yWJ8ezB0DSbhQ7H0JZwGjfIS2QfVTAi+RFC7dNWMCDUk5ob95cwNhyKJBL4FrA6TzfiqrQWcCc9sMCswBewFo96oJ2oEBALU2ReHmTNUAr7hK7GhUyQC1ZYJo7ND5AKZQ71APw9b/59TDjTEo/QAGU0XQa5CVA/uiwEkzxOUDaX4NZLpY1QJxckGab7TVAy/xjVivRF8AcOqTiWuQnwGJfHyB0WDpA02kQ4bjWMkCxrWhycAoeQDmC8kggnDtApA/oymL9SkDLq+RrlQVEQCTVrqF11SjAL/OzSX/O1D+Oc/aija88QFxKpePEFD3A8mV2avUBKcCllpAwhZpDQJUdLpcscEVArKlCZY8uQEB+G/C2y/s5QI39DfrNCUdA8A4gD9TiQECEfxfA+IQ1wGOzSQK14lBA3bKL5aNjAUAF+bOC3l9HQOZMObLXMzZAGOKs8CY/QkA4wjCktP9BQPU1hfxPqTBA9lDIYfoiP0C8yzCskLI1QAUCFOf3fSHAeLhPcyzQSUBLv9j7nfQ1QMBnI2KUVU1ArUPEr68sQ0DRPCauIBQ9QHoJ9sM/YgzAA4RXMdTzNUC3zdk/PJ1IQBlZEzXHn/K/iqLnLcb3UECK4ovJsc04QLUJPZPEk0BAO9qDY25oHsCsxbWr7P01QMC//lS7diLAlcB0KZzFSUCdGBUsTzk8QIkQ79wBKTxAVfPdP2FXL0A=",
                    "dtype": "f8"
                  }
                }
              ],
              "layout": {
                "coloraxis": {
                  "colorbar": {
                    "title": {
                      "text": "cluster"
                    }
                  },
                  "colorscale": [
                    [
                      0,
                      "#0d0887"
                    ],
                    [
                      0.1111111111111111,
                      "#46039f"
                    ],
                    [
                      0.2222222222222222,
                      "#7201a8"
                    ],
                    [
                      0.3333333333333333,
                      "#9c179e"
                    ],
                    [
                      0.4444444444444444,
                      "#bd3786"
                    ],
                    [
                      0.5555555555555556,
                      "#d8576b"
                    ],
                    [
                      0.6666666666666666,
                      "#ed7953"
                    ],
                    [
                      0.7777777777777778,
                      "#fb9f3a"
                    ],
                    [
                      0.8888888888888888,
                      "#fdca26"
                    ],
                    [
                      1,
                      "#f0f921"
                    ]
                  ]
                },
                "legend": {
                  "tracegroupgap": 0
                },
                "scene": {
                  "domain": {
                    "x": [
                      0,
                      1
                    ],
                    "y": [
                      0,
                      1
                    ]
                  },
                  "xaxis": {
                    "title": {
                      "text": "PC1"
                    }
                  },
                  "yaxis": {
                    "title": {
                      "text": "PC2"
                    }
                  },
                  "zaxis": {
                    "title": {
                      "text": "PC3"
                    }
                  }
                },
                "template": {
                  "data": {
                    "bar": [
                      {
                        "error_x": {
                          "color": "#2a3f5f"
                        },
                        "error_y": {
                          "color": "#2a3f5f"
                        },
                        "marker": {
                          "line": {
                            "color": "#E5ECF6",
                            "width": 0.5
                          },
                          "pattern": {
                            "fillmode": "overlay",
                            "size": 10,
                            "solidity": 0.2
                          }
                        },
                        "type": "bar"
                      }
                    ],
                    "barpolar": [
                      {
                        "marker": {
                          "line": {
                            "color": "#E5ECF6",
                            "width": 0.5
                          },
                          "pattern": {
                            "fillmode": "overlay",
                            "size": 10,
                            "solidity": 0.2
                          }
                        },
                        "type": "barpolar"
                      }
                    ],
                    "carpet": [
                      {
                        "aaxis": {
                          "endlinecolor": "#2a3f5f",
                          "gridcolor": "white",
                          "linecolor": "white",
                          "minorgridcolor": "white",
                          "startlinecolor": "#2a3f5f"
                        },
                        "baxis": {
                          "endlinecolor": "#2a3f5f",
                          "gridcolor": "white",
                          "linecolor": "white",
                          "minorgridcolor": "white",
                          "startlinecolor": "#2a3f5f"
                        },
                        "type": "carpet"
                      }
                    ],
                    "choropleth": [
                      {
                        "colorbar": {
                          "outlinewidth": 0,
                          "ticks": ""
                        },
                        "type": "choropleth"
                      }
                    ],
                    "contour": [
                      {
                        "colorbar": {
                          "outlinewidth": 0,
                          "ticks": ""
                        },
                        "colorscale": [
                          [
                            0,
                            "#0d0887"
                          ],
                          [
                            0.1111111111111111,
                            "#46039f"
                          ],
                          [
                            0.2222222222222222,
                            "#7201a8"
                          ],
                          [
                            0.3333333333333333,
                            "#9c179e"
                          ],
                          [
                            0.4444444444444444,
                            "#bd3786"
                          ],
                          [
                            0.5555555555555556,
                            "#d8576b"
                          ],
                          [
                            0.6666666666666666,
                            "#ed7953"
                          ],
                          [
                            0.7777777777777778,
                            "#fb9f3a"
                          ],
                          [
                            0.8888888888888888,
                            "#fdca26"
                          ],
                          [
                            1,
                            "#f0f921"
                          ]
                        ],
                        "type": "contour"
                      }
                    ],
                    "contourcarpet": [
                      {
                        "colorbar": {
                          "outlinewidth": 0,
                          "ticks": ""
                        },
                        "type": "contourcarpet"
                      }
                    ],
                    "heatmap": [
                      {
                        "colorbar": {
                          "outlinewidth": 0,
                          "ticks": ""
                        },
                        "colorscale": [
                          [
                            0,
                            "#0d0887"
                          ],
                          [
                            0.1111111111111111,
                            "#46039f"
                          ],
                          [
                            0.2222222222222222,
                            "#7201a8"
                          ],
                          [
                            0.3333333333333333,
                            "#9c179e"
                          ],
                          [
                            0.4444444444444444,
                            "#bd3786"
                          ],
                          [
                            0.5555555555555556,
                            "#d8576b"
                          ],
                          [
                            0.6666666666666666,
                            "#ed7953"
                          ],
                          [
                            0.7777777777777778,
                            "#fb9f3a"
                          ],
                          [
                            0.8888888888888888,
                            "#fdca26"
                          ],
                          [
                            1,
                            "#f0f921"
                          ]
                        ],
                        "type": "heatmap"
                      }
                    ],
                    "histogram": [
                      {
                        "marker": {
                          "pattern": {
                            "fillmode": "overlay",
                            "size": 10,
                            "solidity": 0.2
                          }
                        },
                        "type": "histogram"
                      }
                    ],
                    "histogram2d": [
                      {
                        "colorbar": {
                          "outlinewidth": 0,
                          "ticks": ""
                        },
                        "colorscale": [
                          [
                            0,
                            "#0d0887"
                          ],
                          [
                            0.1111111111111111,
                            "#46039f"
                          ],
                          [
                            0.2222222222222222,
                            "#7201a8"
                          ],
                          [
                            0.3333333333333333,
                            "#9c179e"
                          ],
                          [
                            0.4444444444444444,
                            "#bd3786"
                          ],
                          [
                            0.5555555555555556,
                            "#d8576b"
                          ],
                          [
                            0.6666666666666666,
                            "#ed7953"
                          ],
                          [
                            0.7777777777777778,
                            "#fb9f3a"
                          ],
                          [
                            0.8888888888888888,
                            "#fdca26"
                          ],
                          [
                            1,
                            "#f0f921"
                          ]
                        ],
                        "type": "histogram2d"
                      }
                    ],
                    "histogram2dcontour": [
                      {
                        "colorbar": {
                          "outlinewidth": 0,
                          "ticks": ""
                        },
                        "colorscale": [
                          [
                            0,
                            "#0d0887"
                          ],
                          [
                            0.1111111111111111,
                            "#46039f"
                          ],
                          [
                            0.2222222222222222,
                            "#7201a8"
                          ],
                          [
                            0.3333333333333333,
                            "#9c179e"
                          ],
                          [
                            0.4444444444444444,
                            "#bd3786"
                          ],
                          [
                            0.5555555555555556,
                            "#d8576b"
                          ],
                          [
                            0.6666666666666666,
                            "#ed7953"
                          ],
                          [
                            0.7777777777777778,
                            "#fb9f3a"
                          ],
                          [
                            0.8888888888888888,
                            "#fdca26"
                          ],
                          [
                            1,
                            "#f0f921"
                          ]
                        ],
                        "type": "histogram2dcontour"
                      }
                    ],
                    "mesh3d": [
                      {
                        "colorbar": {
                          "outlinewidth": 0,
                          "ticks": ""
                        },
                        "type": "mesh3d"
                      }
                    ],
                    "parcoords": [
                      {
                        "line": {
                          "colorbar": {
                            "outlinewidth": 0,
                            "ticks": ""
                          }
                        },
                        "type": "parcoords"
                      }
                    ],
                    "pie": [
                      {
                        "automargin": true,
                        "type": "pie"
                      }
                    ],
                    "scatter": [
                      {
                        "fillpattern": {
                          "fillmode": "overlay",
                          "size": 10,
                          "solidity": 0.2
                        },
                        "type": "scatter"
                      }
                    ],
                    "scatter3d": [
                      {
                        "line": {
                          "colorbar": {
                            "outlinewidth": 0,
                            "ticks": ""
                          }
                        },
                        "marker": {
                          "colorbar": {
                            "outlinewidth": 0,
                            "ticks": ""
                          }
                        },
                        "type": "scatter3d"
                      }
                    ],
                    "scattercarpet": [
                      {
                        "marker": {
                          "colorbar": {
                            "outlinewidth": 0,
                            "ticks": ""
                          }
                        },
                        "type": "scattercarpet"
                      }
                    ],
                    "scattergeo": [
                      {
                        "marker": {
                          "colorbar": {
                            "outlinewidth": 0,
                            "ticks": ""
                          }
                        },
                        "type": "scattergeo"
                      }
                    ],
                    "scattergl": [
                      {
                        "marker": {
                          "colorbar": {
                            "outlinewidth": 0,
                            "ticks": ""
                          }
                        },
                        "type": "scattergl"
                      }
                    ],
                    "scattermap": [
                      {
                        "marker": {
                          "colorbar": {
                            "outlinewidth": 0,
                            "ticks": ""
                          }
                        },
                        "type": "scattermap"
                      }
                    ],
                    "scattermapbox": [
                      {
                        "marker": {
                          "colorbar": {
                            "outlinewidth": 0,
                            "ticks": ""
                          }
                        },
                        "type": "scattermapbox"
                      }
                    ],
                    "scatterpolar": [
                      {
                        "marker": {
                          "colorbar": {
                            "outlinewidth": 0,
                            "ticks": ""
                          }
                        },
                        "type": "scatterpolar"
                      }
                    ],
                    "scatterpolargl": [
                      {
                        "marker": {
                          "colorbar": {
                            "outlinewidth": 0,
                            "ticks": ""
                          }
                        },
                        "type": "scatterpolargl"
                      }
                    ],
                    "scatterternary": [
                      {
                        "marker": {
                          "colorbar": {
                            "outlinewidth": 0,
                            "ticks": ""
                          }
                        },
                        "type": "scatterternary"
                      }
                    ],
                    "surface": [
                      {
                        "colorbar": {
                          "outlinewidth": 0,
                          "ticks": ""
                        },
                        "colorscale": [
                          [
                            0,
                            "#0d0887"
                          ],
                          [
                            0.1111111111111111,
                            "#46039f"
                          ],
                          [
                            0.2222222222222222,
                            "#7201a8"
                          ],
                          [
                            0.3333333333333333,
                            "#9c179e"
                          ],
                          [
                            0.4444444444444444,
                            "#bd3786"
                          ],
                          [
                            0.5555555555555556,
                            "#d8576b"
                          ],
                          [
                            0.6666666666666666,
                            "#ed7953"
                          ],
                          [
                            0.7777777777777778,
                            "#fb9f3a"
                          ],
                          [
                            0.8888888888888888,
                            "#fdca26"
                          ],
                          [
                            1,
                            "#f0f921"
                          ]
                        ],
                        "type": "surface"
                      }
                    ],
                    "table": [
                      {
                        "cells": {
                          "fill": {
                            "color": "#EBF0F8"
                          },
                          "line": {
                            "color": "white"
                          }
                        },
                        "header": {
                          "fill": {
                            "color": "#C8D4E3"
                          },
                          "line": {
                            "color": "white"
                          }
                        },
                        "type": "table"
                      }
                    ]
                  },
                  "layout": {
                    "annotationdefaults": {
                      "arrowcolor": "#2a3f5f",
                      "arrowhead": 0,
                      "arrowwidth": 1
                    },
                    "autotypenumbers": "strict",
                    "coloraxis": {
                      "colorbar": {
                        "outlinewidth": 0,
                        "ticks": ""
                      }
                    },
                    "colorscale": {
                      "diverging": [
                        [
                          0,
                          "#8e0152"
                        ],
                        [
                          0.1,
                          "#c51b7d"
                        ],
                        [
                          0.2,
                          "#de77ae"
                        ],
                        [
                          0.3,
                          "#f1b6da"
                        ],
                        [
                          0.4,
                          "#fde0ef"
                        ],
                        [
                          0.5,
                          "#f7f7f7"
                        ],
                        [
                          0.6,
                          "#e6f5d0"
                        ],
                        [
                          0.7,
                          "#b8e186"
                        ],
                        [
                          0.8,
                          "#7fbc41"
                        ],
                        [
                          0.9,
                          "#4d9221"
                        ],
                        [
                          1,
                          "#276419"
                        ]
                      ],
                      "sequential": [
                        [
                          0,
                          "#0d0887"
                        ],
                        [
                          0.1111111111111111,
                          "#46039f"
                        ],
                        [
                          0.2222222222222222,
                          "#7201a8"
                        ],
                        [
                          0.3333333333333333,
                          "#9c179e"
                        ],
                        [
                          0.4444444444444444,
                          "#bd3786"
                        ],
                        [
                          0.5555555555555556,
                          "#d8576b"
                        ],
                        [
                          0.6666666666666666,
                          "#ed7953"
                        ],
                        [
                          0.7777777777777778,
                          "#fb9f3a"
                        ],
                        [
                          0.8888888888888888,
                          "#fdca26"
                        ],
                        [
                          1,
                          "#f0f921"
                        ]
                      ],
                      "sequentialminus": [
                        [
                          0,
                          "#0d0887"
                        ],
                        [
                          0.1111111111111111,
                          "#46039f"
                        ],
                        [
                          0.2222222222222222,
                          "#7201a8"
                        ],
                        [
                          0.3333333333333333,
                          "#9c179e"
                        ],
                        [
                          0.4444444444444444,
                          "#bd3786"
                        ],
                        [
                          0.5555555555555556,
                          "#d8576b"
                        ],
                        [
                          0.6666666666666666,
                          "#ed7953"
                        ],
                        [
                          0.7777777777777778,
                          "#fb9f3a"
                        ],
                        [
                          0.8888888888888888,
                          "#fdca26"
                        ],
                        [
                          1,
                          "#f0f921"
                        ]
                      ]
                    },
                    "colorway": [
                      "#636efa",
                      "#EF553B",
                      "#00cc96",
                      "#ab63fa",
                      "#FFA15A",
                      "#19d3f3",
                      "#FF6692",
                      "#B6E880",
                      "#FF97FF",
                      "#FECB52"
                    ],
                    "font": {
                      "color": "#2a3f5f"
                    },
                    "geo": {
                      "bgcolor": "white",
                      "lakecolor": "white",
                      "landcolor": "#E5ECF6",
                      "showlakes": true,
                      "showland": true,
                      "subunitcolor": "white"
                    },
                    "hoverlabel": {
                      "align": "left"
                    },
                    "hovermode": "closest",
                    "mapbox": {
                      "style": "light"
                    },
                    "paper_bgcolor": "white",
                    "plot_bgcolor": "#E5ECF6",
                    "polar": {
                      "angularaxis": {
                        "gridcolor": "white",
                        "linecolor": "white",
                        "ticks": ""
                      },
                      "bgcolor": "#E5ECF6",
                      "radialaxis": {
                        "gridcolor": "white",
                        "linecolor": "white",
                        "ticks": ""
                      }
                    },
                    "scene": {
                      "xaxis": {
                        "backgroundcolor": "#E5ECF6",
                        "gridcolor": "white",
                        "gridwidth": 2,
                        "linecolor": "white",
                        "showbackground": true,
                        "ticks": "",
                        "zerolinecolor": "white"
                      },
                      "yaxis": {
                        "backgroundcolor": "#E5ECF6",
                        "gridcolor": "white",
                        "gridwidth": 2,
                        "linecolor": "white",
                        "showbackground": true,
                        "ticks": "",
                        "zerolinecolor": "white"
                      },
                      "zaxis": {
                        "backgroundcolor": "#E5ECF6",
                        "gridcolor": "white",
                        "gridwidth": 2,
                        "linecolor": "white",
                        "showbackground": true,
                        "ticks": "",
                        "zerolinecolor": "white"
                      }
                    },
                    "shapedefaults": {
                      "line": {
                        "color": "#2a3f5f"
                      }
                    },
                    "ternary": {
                      "aaxis": {
                        "gridcolor": "white",
                        "linecolor": "white",
                        "ticks": ""
                      },
                      "baxis": {
                        "gridcolor": "white",
                        "linecolor": "white",
                        "ticks": ""
                      },
                      "bgcolor": "#E5ECF6",
                      "caxis": {
                        "gridcolor": "white",
                        "linecolor": "white",
                        "ticks": ""
                      }
                    },
                    "title": {
                      "x": 0.05
                    },
                    "xaxis": {
                      "automargin": true,
                      "gridcolor": "white",
                      "linecolor": "white",
                      "ticks": "",
                      "title": {
                        "standoff": 15
                      },
                      "zerolinecolor": "white",
                      "zerolinewidth": 2
                    },
                    "yaxis": {
                      "automargin": true,
                      "gridcolor": "white",
                      "linecolor": "white",
                      "ticks": "",
                      "title": {
                        "standoff": 15
                      },
                      "zerolinecolor": "white",
                      "zerolinewidth": 2
                    }
                  }
                },
                "title": {
                  "text": "AGNES Clusters(k=6) on PCA Space"
                }
              }
            }
          },
          "metadata": {},
          "output_type": "display_data"
        }
      ],
      "source": [
        "from sklearn.cluster import AgglomerativeClustering\n",
        "agglo = AgglomerativeClustering(n_clusters=6,metric='precomputed',linkage='average').fit(D)\n",
        "agglo_labels1 = agglo.labels_\n",
        "df1 = pd.DataFrame(X_pca3, columns=[\"PC1\",\"PC2\",\"PC3\"])\n",
        "df1[\"cluster\"] = agglo_labels1\n",
        "fig = px.scatter_3d(df1, x=\"PC1\", y=\"PC2\", z=\"PC3\",\n",
        "                    color=\"cluster\", opacity=0.7,\n",
        "                    title=\"AGNES Clusters(k=6) on PCA Space\")\n",
        "fig.show()"
      ]
    },
    {
      "cell_type": "code",
      "execution_count": 38,
      "metadata": {
        "colab": {
          "base_uri": "https://localhost:8080/",
          "height": 641
        },
        "id": "-ybY9yzpLzLI",
        "outputId": "abb7efe1-44af-43ef-ba0a-245c283e97d6"
      },
      "outputs": [
        {
          "data": {
            "image/png": "[encoded data removed]",
            "text/plain": [
              "<Figure size 1000x700 with 1 Axes>"
            ]
          },
          "metadata": {},
          "output_type": "display_data"
        }
      ],
      "source": [
        "from scipy.cluster.hierarchy import linkage, dendrogram\n",
        "from scipy.spatial.distance import squareform\n",
        "condensed_dist_matrix = squareform(D)\n",
        "linkage_matrix = linkage(condensed_dist_matrix, method='average')\n",
        "plt.figure(figsize=(10, 7))\n",
        "dendrogram(linkage_matrix)\n",
        "plt.title('Hierarchical Clustering Dendrogram (Cosine Distance)')\n",
        "plt.xlabel('Sample Index')\n",
        "plt.ylabel('Cosine Distance')\n",
        "plt.show()"
      ]
    },
    {
      "cell_type": "code",
      "execution_count": 39,
      "metadata": {
        "colab": {
          "base_uri": "https://localhost:8080/"
        },
        "id": "pWMhs1EEMDbY",
        "outputId": "6fa989e9-e3a5-4f6f-a39e-c23e04e634ad"
      },
      "outputs": [
        {
          "name": "stdout",
          "output_type": "stream",
          "text": [
            "K=3, Silhouette Score: 0.7968\n",
            "K=4, Silhouette Score: 0.8595\n",
            "K=5, Silhouette Score: 0.7414\n",
            "K=6, Silhouette Score: 0.6465\n",
            "K=7, Silhouette Score: 0.6505\n",
            "K=8, Silhouette Score: 0.5830\n",
            "Best K: 4 with Silhouette Score: 0.8595\n"
          ]
        }
      ],
      "source": [
        "best_k = None\n",
        "best_score = -1\n",
        "for k in range(3, 9):\n",
        "    agglo = AgglomerativeClustering(n_clusters=k)\n",
        "    y_agglo = agglo.fit_predict(X_umap)\n",
        "    score = silhouette_score(D, y_agglo,metric=\"precomputed\")\n",
        "    print(f\"K={k}, Silhouette Score: {score:.4f}\")\n",
        "\n",
        "    if score > best_score:\n",
        "        best_score = score\n",
        "        best_k = k\n",
        "\n",
        "print(f\"Best K: {best_k} with Silhouette Score: {best_score:.4f}\")"
      ]
    },
    {
      "cell_type": "markdown",
      "metadata": {
        "id": "Utz1LMYUMWB-"
      },
      "source": [
        "##For optimal number of clusters determined by Silhouette score"
      ]
    },
    {
      "cell_type": "code",
      "execution_count": 40,
      "metadata": {
        "colab": {
          "base_uri": "https://localhost:8080/",
          "height": 542
        },
        "id": "ycGiXEzqMVjp",
        "outputId": "03485212-28ec-46b5-a2f6-97f3bc07bc60"
      },
      "outputs": [
        {
          "data": {
            "application/vnd.plotly.v1+json": {
              "config": {
                "plotlyServerURL": "https://plot.ly"
              },
              "data": [
                {
                  "hovertemplate": "PC1=%{x}<br>PC2=%{y}<br>PC3=%{z}<br>cluster=%{marker.color}<extra></extra>",
                  "legendgroup": "",
                  "marker": {
                    "color": {
                      "bdata": "AAAAAAAAAAAAAAAAAAAAAAAAAAAAAAAAAAAAAAAAAAAAAAAAAAAAAAAAAAAAAAAAAAAAAAAAAAAAAAAAAAAAAAAAAAAAAAADAwMDAwMDAwMDAwMDAwICAgICAgIBAQEBAQEBAQEBAQEBAQEBAQEBAQABAQEBAQEBAQEAAQEBAQEBAQEBAQABAQEBAQEBAQABAAEBAQEBAQ==",
                      "dtype": "i1"
                    },
                    "coloraxis": "coloraxis",
                    "opacity": 0.7,
                    "symbol": "circle"
                  },
                  "mode": "markers",
                  "name": "",
                  "scene": "scene",
                  "showlegend": false,
                  "type": "scatter3d",
                  "x": {
                    "bdata": "9Z32lsYVWcAKOtef/qhRwL3VuLubyl7AMzdC8cZAT8BRJmyTnARRwMHzy9PFBk3AI/SCqxHUUcDnh9QaWnJOwHsUf5crnVHAaGJs0JHWUsChVpKqi/9HwDVZ9USe5kHAH943aq6nNcCvPJmC7kJJwGFC0xuTY0DAx65bsf1TSMCwwy/E/XQ0wB2gBSl8G1DAasq6xgQEPsCEF8f5aolAwPzI/PCaP1LAJlAySv3M9b9Cv2aG14pVwIxs5JAKA0PApMIiXHwaQcDVBF54jTM/wL/Um1xxG0HAAoUeMNmgTMCIInRJG504wD3YhTGFYUPAZjoYlrMsRMBBGzUr6LtKwG6i91LUKzHArCzgP5ByRMBsH1y2ka/iP3dtzwraOkXAFWXdEyEAJsBTjWf1oJI8wJYy2NK5HkbAWklDTGKkMMCgulGaIHhHwDIivTDZXwbAvUM6i0dORcB+58OXv7QYwLp65oedBzLAeDb68B9YScBMopC/IXImwPL0BaMtgz7ARWBlDMpiKsAnyYsv1B04wM3p6U/kTT3AHzmYDt4QLsBCOJMrDXZCQDNcpOsu6SLA2VWO5K7SE8DfmmM3feEQwOxZ21iz+DlAFN5AVfRiFUA6MdY8zWs4wCC03zubhjtAqel7Vkn3MED/8vAMx4MmwNz8rsH2lApAwT/5gB7pKUBp6BTAr9k8QNWRt8uRYztAl02pzQw1TMCwExVJ7OUuQONbUtlctUNAhEIkcqXY+r+HGQDtGX0gwOme+bsOF2LA3zNA7qsyYcBsV89d/xhawOd0TqxNbF/A6wOouI1KYMCJvfxM7TFhwBR1IGnQCl7AMCtYLeAuXcA57xkGpoViwEH7fgnU/1rApP+ATY59YsCqAJmotVlYwC0Kj9DzqGDAcCDgMsklX8BaoEki5HhYQD2OkHEfplhAhlsr7nBdXUC+pP9sK+9aQI9sPsOf8llAr5av7J7dWkCfjoTblgZZQIL8uqAD805AoZwE59xrT0B28wzKXHBQQMYE7oT/YExA3dBir2F5UEDsjHyRJDRHQEI5owRzgVJAEff8KCxGUEBmrQVlpmlTQHIK3LSNAlNAFEnBhC+nVkAayq1013dQQN2ah/3vtVJAoojcyljeUECq14R3IZ9SQL9LxFqnb1NA6qQEqKwRSkBSZMEaBhxIQEp3ApyzLFRAjcde/vNjV0BdQY2cPjBDQP+Gxm0ODFBACFFl/8D6VUCJdCiI+5ZNQLwTp/iuPElASOCAK/psTkCPrOg2ZfpWQNSxAZaAzkpAIemyf1hTTUBDLVduluhOQAdv2LtESArAsRhGT8ECP0AZMb6N9VJBQEFz0cmUjkVAIh1peuwL9r8woxzIkVNVQA2OO/m69UVA+pr7z/JfR0BlqdTWSU5OQId9+1l3DlJAbo6Nk/bFSEBX0PGsA6pHQA6iPwFIbUZAUWp07v6tNECbYNEAtxBJQMncxXa1YUtA+67MtrfDN0DKcF6c1+UxQBjBW9x4xk1AlmXxU2gHJcCYlxNYkag7QCi2oXbwnzhAkv0QZOrqRkCPexZNbVZCQIjyKeEaA01AdMQe0KMdMUA8T8Dd3ZgiQBGWBOSW5kNAsF/7trtzQ0A=",
                    "dtype": "f8"
                  },
                  "y": {
                    "bdata": "vIreEvd0SEDWe1lhJahNQGYpAUkdHzBA8sRR/PUbUEB/g0bQ1t1OQFl0REktIjtAE/KPDFPcRUCExhC+wYBQQHCmgz+8ZFJAr8X4J/1OVEDug8dibztKQJGIscbKlTpAmtgd67oTNUBtR5mkygVTQCUqvvFV3zNAIPnN6S5INUA+0AJRkpwUQFjw6jVUKUtARmIqghe3TkAxXqE5XAxUQJdWLuXAIThAgipazpqjTUBP9+liRtBIQKREJ7MztlFAhuKw0EKrRUB7rDOukqNCQCVF7AyHSkFATQuRd5ykSUDf5Q50qbZFQF0b2HIqhFNAW5wByRHaIUA7zt0qOto0QOaUyHnQFz9AslgQw75/NkAVq/metqpGQNMVXDIRkkdAyJMuYOdwKkDrlM3Jf59MQMdzq9BkYENArKuA8EUxHkApEZpQ8sswQIDM8Ig14kBA4msXw+MvOUCr+ywvFk5DQD9NEWgfRkdAuL3Qy+5yOED8Byn0at5LQCZx0SriCUpAVkO4PMayOkBUVLByoQFLQNvNyOdfgVBAMjY2JSmdPkCCYJvPJ7tCQHRW1kGXp/k/pplm3REnQUCvKPoKE41IQBQFD2SxSkRAaS3qTzM5QUBEN+7JcJMnwJ56TjAxbuA/jcDjt9DuTUB/F0XrtbY9QNKjsD55Q0FAwAuMZCZDQUBMUrG6v6gRwLHQte7RCyxAdmU2w+Q7SEAY0+MRcaJMQM7b354Z+y1AeXErBmIEIkBLTmIC7ZVDQERjY+9fyVnAVSMfAckzUsB5uBetKwBdwBRM5YOZQlTA4R3tTtAKXcCeyMv6btFWwC7PAZu1zFXAQd6MWuziXcAYdrPn9L5YwJMvDQnnFVzAr1jNX1unXMAttmTz8RJewCrV5Wx7xV3A1erwMNVMX8D9SSUvqURRwM0sM062fUTAn7rNLxBBRsBo7eyPk15RwLZvBwbQeU/A2rEM7sInVMBbpHgNmH1RwGLcYKAN9SRAiEGTbZ2NIkD4U5WcTKEiwMJj0OLrkSXAlFeVFSOIJ0DPs7tigUMlwIEb+wB4Ag3AnrWcIN7KF0AUJoNoC+ZFwJIOiXyIdRnAyrtJzc77QMC5biCzszQ9wEYUd3qDaDHAz2A93tO2KMAbJjySnFwmwAx0Eq3spjfANHjNkt7gI8DCVdPP2DktwCNGAPlGCkfAvzR+xpNI5T/fymLrkhgyQF3y+79Ys0TA31nHTFCqQMCxiXid5SdGwMbQ/IpEAzFABMniT72pIcCfqzSugD8pQHd1Ljxx+izA83F/lt9K+r9gUkJOPxMqwEP91ZlpWyBAleTk0moRBsAxGS1ovKc5wKcyqCfnpSXANpU1UFzPMsCLmKf3LhVFwDb76eIyoyDA0+eOR0DGKsDynNuZVZQ5wFbAu30viEnAp/I2FVOxPsBiOBHKq8Q1QB3W3ZicAkTAoP8s94ESOMBS+y2Ipxo9wMTKMszhvwhAFur0Ms3cOMDkthGNLoQkwA6vpLTYREHALno6zhcCMMCVxbjxDgBAQAOlqrcK5irA77xIZ+HuQEB4E+oasbsqwOfM+KALB0nAX2M9SdGFJ8CRSCuD+Sc6wPLtd47hZSbARJnGq1Q5QcA=",
                    "dtype": "f8"
                  },
                  "z": {
                    "bdata": "1tZrsf2dAMCXx1Sl9CclwPuqztmyiyHAi0O+ik0rHMClu1kth5Tpv+VxII2QsSHAthydROL+4z9ZzgLCApwUwFPnaUnFLSTAMY0o5Mo4HMAGiy/M/WY0wHou/aBhW07AKN9MNIzvAMD66qhmx3g2wHX1rAPNlEjAAYgELoy9U8AQcQdj6OtRwJV9DXcrp0PAO3ANIc/EPMBlZ1eMMWFGwCEMfNK+0zvALBKLS9fRQ8CEpGvpDjU2wN5rjj5LMjvANO4kBDXvLcBFITmOL9VDwAjszeCI0iRA0IJmNEEmR8AH7UBLOcNDwJuZJxnq50DAtsSn3hOwUcC8gr6QYyVQwEIbel/vLEnAfurYGST3ScApTBY9LldNwOu3VeaJd0vAdtJHeMZeE8ClWM7exos8wKfh9MiyI07A5RTDmMpaRsAzzgG+mPJNwO+8mAPZpkhAj6sFbS8kUkAhd4gh6b1AQMQ1Ww5I501AJy47gBg/SkBkq+E0mWpDQJVfQQq+8lBAlG+vByZ2RkBrhE9EffRHQOZRSp1BVVFALxN1M3MsTED0bAjqHNMaQPfAc4t7kDhA5Gprs07IDcCOgZNEx0A4QAwtYVfCdSBAzP6AOk1DB8DPni2683pCQFazpP6kBTzAFsUoc1GaM0DNMnaNXfI2QLS0dp7aevQ/7CRuzN5zOcARGqGmaa0VQB72L8aZLEzAWCrUYvIhQsDCliY5yuUowCK8lj7ssBXAKYs1ht92N0B1qRAd2380QAsA7aWjgUJApRtdTLKkMEBeE9zJQS0qwA5EspWdJQtAdIWWRxhm9r/1mFj1QxAZQKDfPqm6ECFAZoj+7rFLGEBs127AwMEwQGM40lJEuRpAK42T6Yi8B0DNDk379AYkwGBS9GIq/Na/E+yWJ8ezB0DSbhQ7H0JZwGjfIS2QfVTAi+RFC7dNWMCDUk5ob95cwNhyKJBL4FrA6TzfiqrQWcCc9sMCswBewFo96oJ2oEBALU2ReHmTNUAr7hK7GhUyQC1ZYJo7ND5AKZQ71APw9b/59TDjTEo/QAGU0XQa5CVA/uiwEkzxOUDaX4NZLpY1QJxckGab7TVAy/xjVivRF8AcOqTiWuQnwGJfHyB0WDpA02kQ4bjWMkCxrWhycAoeQDmC8kggnDtApA/oymL9SkDLq+RrlQVEQCTVrqF11SjAL/OzSX/O1D+Oc/aija88QFxKpePEFD3A8mV2avUBKcCllpAwhZpDQJUdLpcscEVArKlCZY8uQEB+G/C2y/s5QI39DfrNCUdA8A4gD9TiQECEfxfA+IQ1wGOzSQK14lBA3bKL5aNjAUAF+bOC3l9HQOZMObLXMzZAGOKs8CY/QkA4wjCktP9BQPU1hfxPqTBA9lDIYfoiP0C8yzCskLI1QAUCFOf3fSHAeLhPcyzQSUBLv9j7nfQ1QMBnI2KUVU1ArUPEr68sQ0DRPCauIBQ9QHoJ9sM/YgzAA4RXMdTzNUC3zdk/PJ1IQBlZEzXHn/K/iqLnLcb3UECK4ovJsc04QLUJPZPEk0BAO9qDY25oHsCsxbWr7P01QMC//lS7diLAlcB0KZzFSUCdGBUsTzk8QIkQ79wBKTxAVfPdP2FXL0A=",
                    "dtype": "f8"
                  }
                }
              ],
              "layout": {
                "coloraxis": {
                  "colorbar": {
                    "title": {
                      "text": "cluster"
                    }
                  },
                  "colorscale": [
                    [
                      0,
                      "#0d0887"
                    ],
                    [
                      0.1111111111111111,
                      "#46039f"
                    ],
                    [
                      0.2222222222222222,
                      "#7201a8"
                    ],
                    [
                      0.3333333333333333,
                      "#9c179e"
                    ],
                    [
                      0.4444444444444444,
                      "#bd3786"
                    ],
                    [
                      0.5555555555555556,
                      "#d8576b"
                    ],
                    [
                      0.6666666666666666,
                      "#ed7953"
                    ],
                    [
                      0.7777777777777778,
                      "#fb9f3a"
                    ],
                    [
                      0.8888888888888888,
                      "#fdca26"
                    ],
                    [
                      1,
                      "#f0f921"
                    ]
                  ]
                },
                "legend": {
                  "tracegroupgap": 0
                },
                "scene": {
                  "domain": {
                    "x": [
                      0,
                      1
                    ],
                    "y": [
                      0,
                      1
                    ]
                  },
                  "xaxis": {
                    "title": {
                      "text": "PC1"
                    }
                  },
                  "yaxis": {
                    "title": {
                      "text": "PC2"
                    }
                  },
                  "zaxis": {
                    "title": {
                      "text": "PC3"
                    }
                  }
                },
                "template": {
                  "data": {
                    "bar": [
                      {
                        "error_x": {
                          "color": "#2a3f5f"
                        },
                        "error_y": {
                          "color": "#2a3f5f"
                        },
                        "marker": {
                          "line": {
                            "color": "#E5ECF6",
                            "width": 0.5
                          },
                          "pattern": {
                            "fillmode": "overlay",
                            "size": 10,
                            "solidity": 0.2
                          }
                        },
                        "type": "bar"
                      }
                    ],
                    "barpolar": [
                      {
                        "marker": {
                          "line": {
                            "color": "#E5ECF6",
                            "width": 0.5
                          },
                          "pattern": {
                            "fillmode": "overlay",
                            "size": 10,
                            "solidity": 0.2
                          }
                        },
                        "type": "barpolar"
                      }
                    ],
                    "carpet": [
                      {
                        "aaxis": {
                          "endlinecolor": "#2a3f5f",
                          "gridcolor": "white",
                          "linecolor": "white",
                          "minorgridcolor": "white",
                          "startlinecolor": "#2a3f5f"
                        },
                        "baxis": {
                          "endlinecolor": "#2a3f5f",
                          "gridcolor": "white",
                          "linecolor": "white",
                          "minorgridcolor": "white",
                          "startlinecolor": "#2a3f5f"
                        },
                        "type": "carpet"
                      }
                    ],
                    "choropleth": [
                      {
                        "colorbar": {
                          "outlinewidth": 0,
                          "ticks": ""
                        },
                        "type": "choropleth"
                      }
                    ],
                    "contour": [
                      {
                        "colorbar": {
                          "outlinewidth": 0,
                          "ticks": ""
                        },
                        "colorscale": [
                          [
                            0,
                            "#0d0887"
                          ],
                          [
                            0.1111111111111111,
                            "#46039f"
                          ],
                          [
                            0.2222222222222222,
                            "#7201a8"
                          ],
                          [
                            0.3333333333333333,
                            "#9c179e"
                          ],
                          [
                            0.4444444444444444,
                            "#bd3786"
                          ],
                          [
                            0.5555555555555556,
                            "#d8576b"
                          ],
                          [
                            0.6666666666666666,
                            "#ed7953"
                          ],
                          [
                            0.7777777777777778,
                            "#fb9f3a"
                          ],
                          [
                            0.8888888888888888,
                            "#fdca26"
                          ],
                          [
                            1,
                            "#f0f921"
                          ]
                        ],
                        "type": "contour"
                      }
                    ],
                    "contourcarpet": [
                      {
                        "colorbar": {
                          "outlinewidth": 0,
                          "ticks": ""
                        },
                        "type": "contourcarpet"
                      }
                    ],
                    "heatmap": [
                      {
                        "colorbar": {
                          "outlinewidth": 0,
                          "ticks": ""
                        },
                        "colorscale": [
                          [
                            0,
                            "#0d0887"
                          ],
                          [
                            0.1111111111111111,
                            "#46039f"
                          ],
                          [
                            0.2222222222222222,
                            "#7201a8"
                          ],
                          [
                            0.3333333333333333,
                            "#9c179e"
                          ],
                          [
                            0.4444444444444444,
                            "#bd3786"
                          ],
                          [
                            0.5555555555555556,
                            "#d8576b"
                          ],
                          [
                            0.6666666666666666,
                            "#ed7953"
                          ],
                          [
                            0.7777777777777778,
                            "#fb9f3a"
                          ],
                          [
                            0.8888888888888888,
                            "#fdca26"
                          ],
                          [
                            1,
                            "#f0f921"
                          ]
                        ],
                        "type": "heatmap"
                      }
                    ],
                    "histogram": [
                      {
                        "marker": {
                          "pattern": {
                            "fillmode": "overlay",
                            "size": 10,
                            "solidity": 0.2
                          }
                        },
                        "type": "histogram"
                      }
                    ],
                    "histogram2d": [
                      {
                        "colorbar": {
                          "outlinewidth": 0,
                          "ticks": ""
                        },
                        "colorscale": [
                          [
                            0,
                            "#0d0887"
                          ],
                          [
                            0.1111111111111111,
                            "#46039f"
                          ],
                          [
                            0.2222222222222222,
                            "#7201a8"
                          ],
                          [
                            0.3333333333333333,
                            "#9c179e"
                          ],
                          [
                            0.4444444444444444,
                            "#bd3786"
                          ],
                          [
                            0.5555555555555556,
                            "#d8576b"
                          ],
                          [
                            0.6666666666666666,
                            "#ed7953"
                          ],
                          [
                            0.7777777777777778,
                            "#fb9f3a"
                          ],
                          [
                            0.8888888888888888,
                            "#fdca26"
                          ],
                          [
                            1,
                            "#f0f921"
                          ]
                        ],
                        "type": "histogram2d"
                      }
                    ],
                    "histogram2dcontour": [
                      {
                        "colorbar": {
                          "outlinewidth": 0,
                          "ticks": ""
                        },
                        "colorscale": [
                          [
                            0,
                            "#0d0887"
                          ],
                          [
                            0.1111111111111111,
                            "#46039f"
                          ],
                          [
                            0.2222222222222222,
                            "#7201a8"
                          ],
                          [
                            0.3333333333333333,
                            "#9c179e"
                          ],
                          [
                            0.4444444444444444,
                            "#bd3786"
                          ],
                          [
                            0.5555555555555556,
                            "#d8576b"
                          ],
                          [
                            0.6666666666666666,
                            "#ed7953"
                          ],
                          [
                            0.7777777777777778,
                            "#fb9f3a"
                          ],
                          [
                            0.8888888888888888,
                            "#fdca26"
                          ],
                          [
                            1,
                            "#f0f921"
                          ]
                        ],
                        "type": "histogram2dcontour"
                      }
                    ],
                    "mesh3d": [
                      {
                        "colorbar": {
                          "outlinewidth": 0,
                          "ticks": ""
                        },
                        "type": "mesh3d"
                      }
                    ],
                    "parcoords": [
                      {
                        "line": {
                          "colorbar": {
                            "outlinewidth": 0,
                            "ticks": ""
                          }
                        },
                        "type": "parcoords"
                      }
                    ],
                    "pie": [
                      {
                        "automargin": true,
                        "type": "pie"
                      }
                    ],
                    "scatter": [
                      {
                        "fillpattern": {
                          "fillmode": "overlay",
                          "size": 10,
                          "solidity": 0.2
                        },
                        "type": "scatter"
                      }
                    ],
                    "scatter3d": [
                      {
                        "line": {
                          "colorbar": {
                            "outlinewidth": 0,
                            "ticks": ""
                          }
                        },
                        "marker": {
                          "colorbar": {
                            "outlinewidth": 0,
                            "ticks": ""
                          }
                        },
                        "type": "scatter3d"
                      }
                    ],
                    "scattercarpet": [
                      {
                        "marker": {
                          "colorbar": {
                            "outlinewidth": 0,
                            "ticks": ""
                          }
                        },
                        "type": "scattercarpet"
                      }
                    ],
                    "scattergeo": [
                      {
                        "marker": {
                          "colorbar": {
                            "outlinewidth": 0,
                            "ticks": ""
                          }
                        },
                        "type": "scattergeo"
                      }
                    ],
                    "scattergl": [
                      {
                        "marker": {
                          "colorbar": {
                            "outlinewidth": 0,
                            "ticks": ""
                          }
                        },
                        "type": "scattergl"
                      }
                    ],
                    "scattermap": [
                      {
                        "marker": {
                          "colorbar": {
                            "outlinewidth": 0,
                            "ticks": ""
                          }
                        },
                        "type": "scattermap"
                      }
                    ],
                    "scattermapbox": [
                      {
                        "marker": {
                          "colorbar": {
                            "outlinewidth": 0,
                            "ticks": ""
                          }
                        },
                        "type": "scattermapbox"
                      }
                    ],
                    "scatterpolar": [
                      {
                        "marker": {
                          "colorbar": {
                            "outlinewidth": 0,
                            "ticks": ""
                          }
                        },
                        "type": "scatterpolar"
                      }
                    ],
                    "scatterpolargl": [
                      {
                        "marker": {
                          "colorbar": {
                            "outlinewidth": 0,
                            "ticks": ""
                          }
                        },
                        "type": "scatterpolargl"
                      }
                    ],
                    "scatterternary": [
                      {
                        "marker": {
                          "colorbar": {
                            "outlinewidth": 0,
                            "ticks": ""
                          }
                        },
                        "type": "scatterternary"
                      }
                    ],
                    "surface": [
                      {
                        "colorbar": {
                          "outlinewidth": 0,
                          "ticks": ""
                        },
                        "colorscale": [
                          [
                            0,
                            "#0d0887"
                          ],
                          [
                            0.1111111111111111,
                            "#46039f"
                          ],
                          [
                            0.2222222222222222,
                            "#7201a8"
                          ],
                          [
                            0.3333333333333333,
                            "#9c179e"
                          ],
                          [
                            0.4444444444444444,
                            "#bd3786"
                          ],
                          [
                            0.5555555555555556,
                            "#d8576b"
                          ],
                          [
                            0.6666666666666666,
                            "#ed7953"
                          ],
                          [
                            0.7777777777777778,
                            "#fb9f3a"
                          ],
                          [
                            0.8888888888888888,
                            "#fdca26"
                          ],
                          [
                            1,
                            "#f0f921"
                          ]
                        ],
                        "type": "surface"
                      }
                    ],
                    "table": [
                      {
                        "cells": {
                          "fill": {
                            "color": "#EBF0F8"
                          },
                          "line": {
                            "color": "white"
                          }
                        },
                        "header": {
                          "fill": {
                            "color": "#C8D4E3"
                          },
                          "line": {
                            "color": "white"
                          }
                        },
                        "type": "table"
                      }
                    ]
                  },
                  "layout": {
                    "annotationdefaults": {
                      "arrowcolor": "#2a3f5f",
                      "arrowhead": 0,
                      "arrowwidth": 1
                    },
                    "autotypenumbers": "strict",
                    "coloraxis": {
                      "colorbar": {
                        "outlinewidth": 0,
                        "ticks": ""
                      }
                    },
                    "colorscale": {
                      "diverging": [
                        [
                          0,
                          "#8e0152"
                        ],
                        [
                          0.1,
                          "#c51b7d"
                        ],
                        [
                          0.2,
                          "#de77ae"
                        ],
                        [
                          0.3,
                          "#f1b6da"
                        ],
                        [
                          0.4,
                          "#fde0ef"
                        ],
                        [
                          0.5,
                          "#f7f7f7"
                        ],
                        [
                          0.6,
                          "#e6f5d0"
                        ],
                        [
                          0.7,
                          "#b8e186"
                        ],
                        [
                          0.8,
                          "#7fbc41"
                        ],
                        [
                          0.9,
                          "#4d9221"
                        ],
                        [
                          1,
                          "#276419"
                        ]
                      ],
                      "sequential": [
                        [
                          0,
                          "#0d0887"
                        ],
                        [
                          0.1111111111111111,
                          "#46039f"
                        ],
                        [
                          0.2222222222222222,
                          "#7201a8"
                        ],
                        [
                          0.3333333333333333,
                          "#9c179e"
                        ],
                        [
                          0.4444444444444444,
                          "#bd3786"
                        ],
                        [
                          0.5555555555555556,
                          "#d8576b"
                        ],
                        [
                          0.6666666666666666,
                          "#ed7953"
                        ],
                        [
                          0.7777777777777778,
                          "#fb9f3a"
                        ],
                        [
                          0.8888888888888888,
                          "#fdca26"
                        ],
                        [
                          1,
                          "#f0f921"
                        ]
                      ],
                      "sequentialminus": [
                        [
                          0,
                          "#0d0887"
                        ],
                        [
                          0.1111111111111111,
                          "#46039f"
                        ],
                        [
                          0.2222222222222222,
                          "#7201a8"
                        ],
                        [
                          0.3333333333333333,
                          "#9c179e"
                        ],
                        [
                          0.4444444444444444,
                          "#bd3786"
                        ],
                        [
                          0.5555555555555556,
                          "#d8576b"
                        ],
                        [
                          0.6666666666666666,
                          "#ed7953"
                        ],
                        [
                          0.7777777777777778,
                          "#fb9f3a"
                        ],
                        [
                          0.8888888888888888,
                          "#fdca26"
                        ],
                        [
                          1,
                          "#f0f921"
                        ]
                      ]
                    },
                    "colorway": [
                      "#636efa",
                      "#EF553B",
                      "#00cc96",
                      "#ab63fa",
                      "#FFA15A",
                      "#19d3f3",
                      "#FF6692",
                      "#B6E880",
                      "#FF97FF",
                      "#FECB52"
                    ],
                    "font": {
                      "color": "#2a3f5f"
                    },
                    "geo": {
                      "bgcolor": "white",
                      "lakecolor": "white",
                      "landcolor": "#E5ECF6",
                      "showlakes": true,
                      "showland": true,
                      "subunitcolor": "white"
                    },
                    "hoverlabel": {
                      "align": "left"
                    },
                    "hovermode": "closest",
                    "mapbox": {
                      "style": "light"
                    },
                    "paper_bgcolor": "white",
                    "plot_bgcolor": "#E5ECF6",
                    "polar": {
                      "angularaxis": {
                        "gridcolor": "white",
                        "linecolor": "white",
                        "ticks": ""
                      },
                      "bgcolor": "#E5ECF6",
                      "radialaxis": {
                        "gridcolor": "white",
                        "linecolor": "white",
                        "ticks": ""
                      }
                    },
                    "scene": {
                      "xaxis": {
                        "backgroundcolor": "#E5ECF6",
                        "gridcolor": "white",
                        "gridwidth": 2,
                        "linecolor": "white",
                        "showbackground": true,
                        "ticks": "",
                        "zerolinecolor": "white"
                      },
                      "yaxis": {
                        "backgroundcolor": "#E5ECF6",
                        "gridcolor": "white",
                        "gridwidth": 2,
                        "linecolor": "white",
                        "showbackground": true,
                        "ticks": "",
                        "zerolinecolor": "white"
                      },
                      "zaxis": {
                        "backgroundcolor": "#E5ECF6",
                        "gridcolor": "white",
                        "gridwidth": 2,
                        "linecolor": "white",
                        "showbackground": true,
                        "ticks": "",
                        "zerolinecolor": "white"
                      }
                    },
                    "shapedefaults": {
                      "line": {
                        "color": "#2a3f5f"
                      }
                    },
                    "ternary": {
                      "aaxis": {
                        "gridcolor": "white",
                        "linecolor": "white",
                        "ticks": ""
                      },
                      "baxis": {
                        "gridcolor": "white",
                        "linecolor": "white",
                        "ticks": ""
                      },
                      "bgcolor": "#E5ECF6",
                      "caxis": {
                        "gridcolor": "white",
                        "linecolor": "white",
                        "ticks": ""
                      }
                    },
                    "title": {
                      "x": 0.05
                    },
                    "xaxis": {
                      "automargin": true,
                      "gridcolor": "white",
                      "linecolor": "white",
                      "ticks": "",
                      "title": {
                        "standoff": 15
                      },
                      "zerolinecolor": "white",
                      "zerolinewidth": 2
                    },
                    "yaxis": {
                      "automargin": true,
                      "gridcolor": "white",
                      "linecolor": "white",
                      "ticks": "",
                      "title": {
                        "standoff": 15
                      },
                      "zerolinecolor": "white",
                      "zerolinewidth": 2
                    }
                  }
                },
                "title": {
                  "text": "AGNES Clusters(k=4) on PCA Space"
                }
              }
            }
          },
          "metadata": {},
          "output_type": "display_data"
        }
      ],
      "source": [
        "agglo = AgglomerativeClustering(n_clusters=4,metric='precomputed',linkage='average').fit(D)\n",
        "agglo_labels2 = agglo.labels_\n",
        "df1 = pd.DataFrame(X_pca3, columns=[\"PC1\",\"PC2\",\"PC3\"])\n",
        "df1[\"cluster\"] = agglo_labels2\n",
        "fig = px.scatter_3d(df1, x=\"PC1\", y=\"PC2\", z=\"PC3\",\n",
        "                    color=\"cluster\", opacity=0.7,\n",
        "                    title=\"AGNES Clusters(k=4) on PCA Space\")\n",
        "fig.show()"
      ]
    },
    {
      "cell_type": "markdown",
      "metadata": {
        "id": "zWOEyDuzMlDh"
      },
      "source": [
        "##Fuzzy CMEANS for k=6"
      ]
    },
    {
      "cell_type": "code",
      "execution_count": 41,
      "metadata": {
        "colab": {
          "base_uri": "https://localhost:8080/"
        },
        "id": "7xSDEPh-8Z2K",
        "outputId": "ac785937-6b0f-4702-ea4f-68eb9d9fab1e"
      },
      "outputs": [
        {
          "name": "stdout",
          "output_type": "stream",
          "text": [
            "Requirement already satisfied: scikit-fuzzy in /Library/Frameworks/Python.framework/Versions/3.12/lib/python3.12/site-packages (0.5.0)\n"
          ]
        }
      ],
      "source": [
        "!pip install scikit-fuzzy"
      ]
    },
    {
      "cell_type": "code",
      "execution_count": 42,
      "metadata": {
        "colab": {
          "base_uri": "https://localhost:8080/",
          "height": 542
        },
        "id": "FQNt9wYO9BYg",
        "outputId": "405e632a-db77-466a-8625-ae73d01fa7d8"
      },
      "outputs": [
        {
          "data": {
            "application/vnd.plotly.v1+json": {
              "config": {
                "plotlyServerURL": "https://plot.ly"
              },
              "data": [
                {
                  "hovertemplate": "PC1=%{x}<br>PC2=%{y}<br>PC3=%{z}<br>cluster=%{marker.color}<extra></extra>",
                  "legendgroup": "",
                  "marker": {
                    "color": {
                      "bdata": "BAQEBAQEBAQEBAQEAAQEBAQEBAQEBAQEAAQABAQEBAQEBAQEAAQEBAQAAAAAAAAAAAAAAAAAAAAAAAAAAAAAAAAABAAAAAACAgICAgICAgICAgICAgUFBQUFBQUDAwMDAwMDAwMDAwMDAwMDAwMDAwEDAwMDAwMDAwEBAQEBAQEBAQEBAQEDAQMBAwEDAQEDAQEBAQEBAQ==",
                      "dtype": "i1"
                    },
                    "coloraxis": "coloraxis",
                    "opacity": 0.7,
                    "symbol": "circle"
                  },
                  "mode": "markers",
                  "name": "",
                  "scene": "scene",
                  "showlegend": false,
                  "type": "scatter3d",
                  "x": {
                    "bdata": "9Z32lsYVWcAKOtef/qhRwL3VuLubyl7AMzdC8cZAT8BRJmyTnARRwMHzy9PFBk3AI/SCqxHUUcDnh9QaWnJOwHsUf5crnVHAaGJs0JHWUsChVpKqi/9HwDVZ9USe5kHAH943aq6nNcCvPJmC7kJJwGFC0xuTY0DAx65bsf1TSMCwwy/E/XQ0wB2gBSl8G1DAasq6xgQEPsCEF8f5aolAwPzI/PCaP1LAJlAySv3M9b9Cv2aG14pVwIxs5JAKA0PApMIiXHwaQcDVBF54jTM/wL/Um1xxG0HAAoUeMNmgTMCIInRJG504wD3YhTGFYUPAZjoYlrMsRMBBGzUr6LtKwG6i91LUKzHArCzgP5ByRMBsH1y2ka/iP3dtzwraOkXAFWXdEyEAJsBTjWf1oJI8wJYy2NK5HkbAWklDTGKkMMCgulGaIHhHwDIivTDZXwbAvUM6i0dORcB+58OXv7QYwLp65oedBzLAeDb68B9YScBMopC/IXImwPL0BaMtgz7ARWBlDMpiKsAnyYsv1B04wM3p6U/kTT3AHzmYDt4QLsBCOJMrDXZCQDNcpOsu6SLA2VWO5K7SE8DfmmM3feEQwOxZ21iz+DlAFN5AVfRiFUA6MdY8zWs4wCC03zubhjtAqel7Vkn3MED/8vAMx4MmwNz8rsH2lApAwT/5gB7pKUBp6BTAr9k8QNWRt8uRYztAl02pzQw1TMCwExVJ7OUuQONbUtlctUNAhEIkcqXY+r+HGQDtGX0gwOme+bsOF2LA3zNA7qsyYcBsV89d/xhawOd0TqxNbF/A6wOouI1KYMCJvfxM7TFhwBR1IGnQCl7AMCtYLeAuXcA57xkGpoViwEH7fgnU/1rApP+ATY59YsCqAJmotVlYwC0Kj9DzqGDAcCDgMsklX8BaoEki5HhYQD2OkHEfplhAhlsr7nBdXUC+pP9sK+9aQI9sPsOf8llAr5av7J7dWkCfjoTblgZZQIL8uqAD805AoZwE59xrT0B28wzKXHBQQMYE7oT/YExA3dBir2F5UEDsjHyRJDRHQEI5owRzgVJAEff8KCxGUEBmrQVlpmlTQHIK3LSNAlNAFEnBhC+nVkAayq1013dQQN2ah/3vtVJAoojcyljeUECq14R3IZ9SQL9LxFqnb1NA6qQEqKwRSkBSZMEaBhxIQEp3ApyzLFRAjcde/vNjV0BdQY2cPjBDQP+Gxm0ODFBACFFl/8D6VUCJdCiI+5ZNQLwTp/iuPElASOCAK/psTkCPrOg2ZfpWQNSxAZaAzkpAIemyf1hTTUBDLVduluhOQAdv2LtESArAsRhGT8ECP0AZMb6N9VJBQEFz0cmUjkVAIh1peuwL9r8woxzIkVNVQA2OO/m69UVA+pr7z/JfR0BlqdTWSU5OQId9+1l3DlJAbo6Nk/bFSEBX0PGsA6pHQA6iPwFIbUZAUWp07v6tNECbYNEAtxBJQMncxXa1YUtA+67MtrfDN0DKcF6c1+UxQBjBW9x4xk1AlmXxU2gHJcCYlxNYkag7QCi2oXbwnzhAkv0QZOrqRkCPexZNbVZCQIjyKeEaA01AdMQe0KMdMUA8T8Dd3ZgiQBGWBOSW5kNAsF/7trtzQ0A=",
                    "dtype": "f8"
                  },
                  "y": {
                    "bdata": "vIreEvd0SEDWe1lhJahNQGYpAUkdHzBA8sRR/PUbUEB/g0bQ1t1OQFl0REktIjtAE/KPDFPcRUCExhC+wYBQQHCmgz+8ZFJAr8X4J/1OVEDug8dibztKQJGIscbKlTpAmtgd67oTNUBtR5mkygVTQCUqvvFV3zNAIPnN6S5INUA+0AJRkpwUQFjw6jVUKUtARmIqghe3TkAxXqE5XAxUQJdWLuXAIThAgipazpqjTUBP9+liRtBIQKREJ7MztlFAhuKw0EKrRUB7rDOukqNCQCVF7AyHSkFATQuRd5ykSUDf5Q50qbZFQF0b2HIqhFNAW5wByRHaIUA7zt0qOto0QOaUyHnQFz9AslgQw75/NkAVq/metqpGQNMVXDIRkkdAyJMuYOdwKkDrlM3Jf59MQMdzq9BkYENArKuA8EUxHkApEZpQ8sswQIDM8Ig14kBA4msXw+MvOUCr+ywvFk5DQD9NEWgfRkdAuL3Qy+5yOED8Byn0at5LQCZx0SriCUpAVkO4PMayOkBUVLByoQFLQNvNyOdfgVBAMjY2JSmdPkCCYJvPJ7tCQHRW1kGXp/k/pplm3REnQUCvKPoKE41IQBQFD2SxSkRAaS3qTzM5QUBEN+7JcJMnwJ56TjAxbuA/jcDjt9DuTUB/F0XrtbY9QNKjsD55Q0FAwAuMZCZDQUBMUrG6v6gRwLHQte7RCyxAdmU2w+Q7SEAY0+MRcaJMQM7b354Z+y1AeXErBmIEIkBLTmIC7ZVDQERjY+9fyVnAVSMfAckzUsB5uBetKwBdwBRM5YOZQlTA4R3tTtAKXcCeyMv6btFWwC7PAZu1zFXAQd6MWuziXcAYdrPn9L5YwJMvDQnnFVzAr1jNX1unXMAttmTz8RJewCrV5Wx7xV3A1erwMNVMX8D9SSUvqURRwM0sM062fUTAn7rNLxBBRsBo7eyPk15RwLZvBwbQeU/A2rEM7sInVMBbpHgNmH1RwGLcYKAN9SRAiEGTbZ2NIkD4U5WcTKEiwMJj0OLrkSXAlFeVFSOIJ0DPs7tigUMlwIEb+wB4Ag3AnrWcIN7KF0AUJoNoC+ZFwJIOiXyIdRnAyrtJzc77QMC5biCzszQ9wEYUd3qDaDHAz2A93tO2KMAbJjySnFwmwAx0Eq3spjfANHjNkt7gI8DCVdPP2DktwCNGAPlGCkfAvzR+xpNI5T/fymLrkhgyQF3y+79Ys0TA31nHTFCqQMCxiXid5SdGwMbQ/IpEAzFABMniT72pIcCfqzSugD8pQHd1Ljxx+izA83F/lt9K+r9gUkJOPxMqwEP91ZlpWyBAleTk0moRBsAxGS1ovKc5wKcyqCfnpSXANpU1UFzPMsCLmKf3LhVFwDb76eIyoyDA0+eOR0DGKsDynNuZVZQ5wFbAu30viEnAp/I2FVOxPsBiOBHKq8Q1QB3W3ZicAkTAoP8s94ESOMBS+y2Ipxo9wMTKMszhvwhAFur0Ms3cOMDkthGNLoQkwA6vpLTYREHALno6zhcCMMCVxbjxDgBAQAOlqrcK5irA77xIZ+HuQEB4E+oasbsqwOfM+KALB0nAX2M9SdGFJ8CRSCuD+Sc6wPLtd47hZSbARJnGq1Q5QcA=",
                    "dtype": "f8"
                  },
                  "z": {
                    "bdata": "1tZrsf2dAMCXx1Sl9CclwPuqztmyiyHAi0O+ik0rHMClu1kth5Tpv+VxII2QsSHAthydROL+4z9ZzgLCApwUwFPnaUnFLSTAMY0o5Mo4HMAGiy/M/WY0wHou/aBhW07AKN9MNIzvAMD66qhmx3g2wHX1rAPNlEjAAYgELoy9U8AQcQdj6OtRwJV9DXcrp0PAO3ANIc/EPMBlZ1eMMWFGwCEMfNK+0zvALBKLS9fRQ8CEpGvpDjU2wN5rjj5LMjvANO4kBDXvLcBFITmOL9VDwAjszeCI0iRA0IJmNEEmR8AH7UBLOcNDwJuZJxnq50DAtsSn3hOwUcC8gr6QYyVQwEIbel/vLEnAfurYGST3ScApTBY9LldNwOu3VeaJd0vAdtJHeMZeE8ClWM7exos8wKfh9MiyI07A5RTDmMpaRsAzzgG+mPJNwO+8mAPZpkhAj6sFbS8kUkAhd4gh6b1AQMQ1Ww5I501AJy47gBg/SkBkq+E0mWpDQJVfQQq+8lBAlG+vByZ2RkBrhE9EffRHQOZRSp1BVVFALxN1M3MsTED0bAjqHNMaQPfAc4t7kDhA5Gprs07IDcCOgZNEx0A4QAwtYVfCdSBAzP6AOk1DB8DPni2683pCQFazpP6kBTzAFsUoc1GaM0DNMnaNXfI2QLS0dp7aevQ/7CRuzN5zOcARGqGmaa0VQB72L8aZLEzAWCrUYvIhQsDCliY5yuUowCK8lj7ssBXAKYs1ht92N0B1qRAd2380QAsA7aWjgUJApRtdTLKkMEBeE9zJQS0qwA5EspWdJQtAdIWWRxhm9r/1mFj1QxAZQKDfPqm6ECFAZoj+7rFLGEBs127AwMEwQGM40lJEuRpAK42T6Yi8B0DNDk379AYkwGBS9GIq/Na/E+yWJ8ezB0DSbhQ7H0JZwGjfIS2QfVTAi+RFC7dNWMCDUk5ob95cwNhyKJBL4FrA6TzfiqrQWcCc9sMCswBewFo96oJ2oEBALU2ReHmTNUAr7hK7GhUyQC1ZYJo7ND5AKZQ71APw9b/59TDjTEo/QAGU0XQa5CVA/uiwEkzxOUDaX4NZLpY1QJxckGab7TVAy/xjVivRF8AcOqTiWuQnwGJfHyB0WDpA02kQ4bjWMkCxrWhycAoeQDmC8kggnDtApA/oymL9SkDLq+RrlQVEQCTVrqF11SjAL/OzSX/O1D+Oc/aija88QFxKpePEFD3A8mV2avUBKcCllpAwhZpDQJUdLpcscEVArKlCZY8uQEB+G/C2y/s5QI39DfrNCUdA8A4gD9TiQECEfxfA+IQ1wGOzSQK14lBA3bKL5aNjAUAF+bOC3l9HQOZMObLXMzZAGOKs8CY/QkA4wjCktP9BQPU1hfxPqTBA9lDIYfoiP0C8yzCskLI1QAUCFOf3fSHAeLhPcyzQSUBLv9j7nfQ1QMBnI2KUVU1ArUPEr68sQ0DRPCauIBQ9QHoJ9sM/YgzAA4RXMdTzNUC3zdk/PJ1IQBlZEzXHn/K/iqLnLcb3UECK4ovJsc04QLUJPZPEk0BAO9qDY25oHsCsxbWr7P01QMC//lS7diLAlcB0KZzFSUCdGBUsTzk8QIkQ79wBKTxAVfPdP2FXL0A=",
                    "dtype": "f8"
                  }
                }
              ],
              "layout": {
                "coloraxis": {
                  "colorbar": {
                    "title": {
                      "text": "cluster"
                    }
                  },
                  "colorscale": [
                    [
                      0,
                      "#0d0887"
                    ],
                    [
                      0.1111111111111111,
                      "#46039f"
                    ],
                    [
                      0.2222222222222222,
                      "#7201a8"
                    ],
                    [
                      0.3333333333333333,
                      "#9c179e"
                    ],
                    [
                      0.4444444444444444,
                      "#bd3786"
                    ],
                    [
                      0.5555555555555556,
                      "#d8576b"
                    ],
                    [
                      0.6666666666666666,
                      "#ed7953"
                    ],
                    [
                      0.7777777777777778,
                      "#fb9f3a"
                    ],
                    [
                      0.8888888888888888,
                      "#fdca26"
                    ],
                    [
                      1,
                      "#f0f921"
                    ]
                  ]
                },
                "legend": {
                  "tracegroupgap": 0
                },
                "scene": {
                  "domain": {
                    "x": [
                      0,
                      1
                    ],
                    "y": [
                      0,
                      1
                    ]
                  },
                  "xaxis": {
                    "title": {
                      "text": "PC1"
                    }
                  },
                  "yaxis": {
                    "title": {
                      "text": "PC2"
                    }
                  },
                  "zaxis": {
                    "title": {
                      "text": "PC3"
                    }
                  }
                },
                "template": {
                  "data": {
                    "bar": [
                      {
                        "error_x": {
                          "color": "#2a3f5f"
                        },
                        "error_y": {
                          "color": "#2a3f5f"
                        },
                        "marker": {
                          "line": {
                            "color": "#E5ECF6",
                            "width": 0.5
                          },
                          "pattern": {
                            "fillmode": "overlay",
                            "size": 10,
                            "solidity": 0.2
                          }
                        },
                        "type": "bar"
                      }
                    ],
                    "barpolar": [
                      {
                        "marker": {
                          "line": {
                            "color": "#E5ECF6",
                            "width": 0.5
                          },
                          "pattern": {
                            "fillmode": "overlay",
                            "size": 10,
                            "solidity": 0.2
                          }
                        },
                        "type": "barpolar"
                      }
                    ],
                    "carpet": [
                      {
                        "aaxis": {
                          "endlinecolor": "#2a3f5f",
                          "gridcolor": "white",
                          "linecolor": "white",
                          "minorgridcolor": "white",
                          "startlinecolor": "#2a3f5f"
                        },
                        "baxis": {
                          "endlinecolor": "#2a3f5f",
                          "gridcolor": "white",
                          "linecolor": "white",
                          "minorgridcolor": "white",
                          "startlinecolor": "#2a3f5f"
                        },
                        "type": "carpet"
                      }
                    ],
                    "choropleth": [
                      {
                        "colorbar": {
                          "outlinewidth": 0,
                          "ticks": ""
                        },
                        "type": "choropleth"
                      }
                    ],
                    "contour": [
                      {
                        "colorbar": {
                          "outlinewidth": 0,
                          "ticks": ""
                        },
                        "colorscale": [
                          [
                            0,
                            "#0d0887"
                          ],
                          [
                            0.1111111111111111,
                            "#46039f"
                          ],
                          [
                            0.2222222222222222,
                            "#7201a8"
                          ],
                          [
                            0.3333333333333333,
                            "#9c179e"
                          ],
                          [
                            0.4444444444444444,
                            "#bd3786"
                          ],
                          [
                            0.5555555555555556,
                            "#d8576b"
                          ],
                          [
                            0.6666666666666666,
                            "#ed7953"
                          ],
                          [
                            0.7777777777777778,
                            "#fb9f3a"
                          ],
                          [
                            0.8888888888888888,
                            "#fdca26"
                          ],
                          [
                            1,
                            "#f0f921"
                          ]
                        ],
                        "type": "contour"
                      }
                    ],
                    "contourcarpet": [
                      {
                        "colorbar": {
                          "outlinewidth": 0,
                          "ticks": ""
                        },
                        "type": "contourcarpet"
                      }
                    ],
                    "heatmap": [
                      {
                        "colorbar": {
                          "outlinewidth": 0,
                          "ticks": ""
                        },
                        "colorscale": [
                          [
                            0,
                            "#0d0887"
                          ],
                          [
                            0.1111111111111111,
                            "#46039f"
                          ],
                          [
                            0.2222222222222222,
                            "#7201a8"
                          ],
                          [
                            0.3333333333333333,
                            "#9c179e"
                          ],
                          [
                            0.4444444444444444,
                            "#bd3786"
                          ],
                          [
                            0.5555555555555556,
                            "#d8576b"
                          ],
                          [
                            0.6666666666666666,
                            "#ed7953"
                          ],
                          [
                            0.7777777777777778,
                            "#fb9f3a"
                          ],
                          [
                            0.8888888888888888,
                            "#fdca26"
                          ],
                          [
                            1,
                            "#f0f921"
                          ]
                        ],
                        "type": "heatmap"
                      }
                    ],
                    "histogram": [
                      {
                        "marker": {
                          "pattern": {
                            "fillmode": "overlay",
                            "size": 10,
                            "solidity": 0.2
                          }
                        },
                        "type": "histogram"
                      }
                    ],
                    "histogram2d": [
                      {
                        "colorbar": {
                          "outlinewidth": 0,
                          "ticks": ""
                        },
                        "colorscale": [
                          [
                            0,
                            "#0d0887"
                          ],
                          [
                            0.1111111111111111,
                            "#46039f"
                          ],
                          [
                            0.2222222222222222,
                            "#7201a8"
                          ],
                          [
                            0.3333333333333333,
                            "#9c179e"
                          ],
                          [
                            0.4444444444444444,
                            "#bd3786"
                          ],
                          [
                            0.5555555555555556,
                            "#d8576b"
                          ],
                          [
                            0.6666666666666666,
                            "#ed7953"
                          ],
                          [
                            0.7777777777777778,
                            "#fb9f3a"
                          ],
                          [
                            0.8888888888888888,
                            "#fdca26"
                          ],
                          [
                            1,
                            "#f0f921"
                          ]
                        ],
                        "type": "histogram2d"
                      }
                    ],
                    "histogram2dcontour": [
                      {
                        "colorbar": {
                          "outlinewidth": 0,
                          "ticks": ""
                        },
                        "colorscale": [
                          [
                            0,
                            "#0d0887"
                          ],
                          [
                            0.1111111111111111,
                            "#46039f"
                          ],
                          [
                            0.2222222222222222,
                            "#7201a8"
                          ],
                          [
                            0.3333333333333333,
                            "#9c179e"
                          ],
                          [
                            0.4444444444444444,
                            "#bd3786"
                          ],
                          [
                            0.5555555555555556,
                            "#d8576b"
                          ],
                          [
                            0.6666666666666666,
                            "#ed7953"
                          ],
                          [
                            0.7777777777777778,
                            "#fb9f3a"
                          ],
                          [
                            0.8888888888888888,
                            "#fdca26"
                          ],
                          [
                            1,
                            "#f0f921"
                          ]
                        ],
                        "type": "histogram2dcontour"
                      }
                    ],
                    "mesh3d": [
                      {
                        "colorbar": {
                          "outlinewidth": 0,
                          "ticks": ""
                        },
                        "type": "mesh3d"
                      }
                    ],
                    "parcoords": [
                      {
                        "line": {
                          "colorbar": {
                            "outlinewidth": 0,
                            "ticks": ""
                          }
                        },
                        "type": "parcoords"
                      }
                    ],
                    "pie": [
                      {
                        "automargin": true,
                        "type": "pie"
                      }
                    ],
                    "scatter": [
                      {
                        "fillpattern": {
                          "fillmode": "overlay",
                          "size": 10,
                          "solidity": 0.2
                        },
                        "type": "scatter"
                      }
                    ],
                    "scatter3d": [
                      {
                        "line": {
                          "colorbar": {
                            "outlinewidth": 0,
                            "ticks": ""
                          }
                        },
                        "marker": {
                          "colorbar": {
                            "outlinewidth": 0,
                            "ticks": ""
                          }
                        },
                        "type": "scatter3d"
                      }
                    ],
                    "scattercarpet": [
                      {
                        "marker": {
                          "colorbar": {
                            "outlinewidth": 0,
                            "ticks": ""
                          }
                        },
                        "type": "scattercarpet"
                      }
                    ],
                    "scattergeo": [
                      {
                        "marker": {
                          "colorbar": {
                            "outlinewidth": 0,
                            "ticks": ""
                          }
                        },
                        "type": "scattergeo"
                      }
                    ],
                    "scattergl": [
                      {
                        "marker": {
                          "colorbar": {
                            "outlinewidth": 0,
                            "ticks": ""
                          }
                        },
                        "type": "scattergl"
                      }
                    ],
                    "scattermap": [
                      {
                        "marker": {
                          "colorbar": {
                            "outlinewidth": 0,
                            "ticks": ""
                          }
                        },
                        "type": "scattermap"
                      }
                    ],
                    "scattermapbox": [
                      {
                        "marker": {
                          "colorbar": {
                            "outlinewidth": 0,
                            "ticks": ""
                          }
                        },
                        "type": "scattermapbox"
                      }
                    ],
                    "scatterpolar": [
                      {
                        "marker": {
                          "colorbar": {
                            "outlinewidth": 0,
                            "ticks": ""
                          }
                        },
                        "type": "scatterpolar"
                      }
                    ],
                    "scatterpolargl": [
                      {
                        "marker": {
                          "colorbar": {
                            "outlinewidth": 0,
                            "ticks": ""
                          }
                        },
                        "type": "scatterpolargl"
                      }
                    ],
                    "scatterternary": [
                      {
                        "marker": {
                          "colorbar": {
                            "outlinewidth": 0,
                            "ticks": ""
                          }
                        },
                        "type": "scatterternary"
                      }
                    ],
                    "surface": [
                      {
                        "colorbar": {
                          "outlinewidth": 0,
                          "ticks": ""
                        },
                        "colorscale": [
                          [
                            0,
                            "#0d0887"
                          ],
                          [
                            0.1111111111111111,
                            "#46039f"
                          ],
                          [
                            0.2222222222222222,
                            "#7201a8"
                          ],
                          [
                            0.3333333333333333,
                            "#9c179e"
                          ],
                          [
                            0.4444444444444444,
                            "#bd3786"
                          ],
                          [
                            0.5555555555555556,
                            "#d8576b"
                          ],
                          [
                            0.6666666666666666,
                            "#ed7953"
                          ],
                          [
                            0.7777777777777778,
                            "#fb9f3a"
                          ],
                          [
                            0.8888888888888888,
                            "#fdca26"
                          ],
                          [
                            1,
                            "#f0f921"
                          ]
                        ],
                        "type": "surface"
                      }
                    ],
                    "table": [
                      {
                        "cells": {
                          "fill": {
                            "color": "#EBF0F8"
                          },
                          "line": {
                            "color": "white"
                          }
                        },
                        "header": {
                          "fill": {
                            "color": "#C8D4E3"
                          },
                          "line": {
                            "color": "white"
                          }
                        },
                        "type": "table"
                      }
                    ]
                  },
                  "layout": {
                    "annotationdefaults": {
                      "arrowcolor": "#2a3f5f",
                      "arrowhead": 0,
                      "arrowwidth": 1
                    },
                    "autotypenumbers": "strict",
                    "coloraxis": {
                      "colorbar": {
                        "outlinewidth": 0,
                        "ticks": ""
                      }
                    },
                    "colorscale": {
                      "diverging": [
                        [
                          0,
                          "#8e0152"
                        ],
                        [
                          0.1,
                          "#c51b7d"
                        ],
                        [
                          0.2,
                          "#de77ae"
                        ],
                        [
                          0.3,
                          "#f1b6da"
                        ],
                        [
                          0.4,
                          "#fde0ef"
                        ],
                        [
                          0.5,
                          "#f7f7f7"
                        ],
                        [
                          0.6,
                          "#e6f5d0"
                        ],
                        [
                          0.7,
                          "#b8e186"
                        ],
                        [
                          0.8,
                          "#7fbc41"
                        ],
                        [
                          0.9,
                          "#4d9221"
                        ],
                        [
                          1,
                          "#276419"
                        ]
                      ],
                      "sequential": [
                        [
                          0,
                          "#0d0887"
                        ],
                        [
                          0.1111111111111111,
                          "#46039f"
                        ],
                        [
                          0.2222222222222222,
                          "#7201a8"
                        ],
                        [
                          0.3333333333333333,
                          "#9c179e"
                        ],
                        [
                          0.4444444444444444,
                          "#bd3786"
                        ],
                        [
                          0.5555555555555556,
                          "#d8576b"
                        ],
                        [
                          0.6666666666666666,
                          "#ed7953"
                        ],
                        [
                          0.7777777777777778,
                          "#fb9f3a"
                        ],
                        [
                          0.8888888888888888,
                          "#fdca26"
                        ],
                        [
                          1,
                          "#f0f921"
                        ]
                      ],
                      "sequentialminus": [
                        [
                          0,
                          "#0d0887"
                        ],
                        [
                          0.1111111111111111,
                          "#46039f"
                        ],
                        [
                          0.2222222222222222,
                          "#7201a8"
                        ],
                        [
                          0.3333333333333333,
                          "#9c179e"
                        ],
                        [
                          0.4444444444444444,
                          "#bd3786"
                        ],
                        [
                          0.5555555555555556,
                          "#d8576b"
                        ],
                        [
                          0.6666666666666666,
                          "#ed7953"
                        ],
                        [
                          0.7777777777777778,
                          "#fb9f3a"
                        ],
                        [
                          0.8888888888888888,
                          "#fdca26"
                        ],
                        [
                          1,
                          "#f0f921"
                        ]
                      ]
                    },
                    "colorway": [
                      "#636efa",
                      "#EF553B",
                      "#00cc96",
                      "#ab63fa",
                      "#FFA15A",
                      "#19d3f3",
                      "#FF6692",
                      "#B6E880",
                      "#FF97FF",
                      "#FECB52"
                    ],
                    "font": {
                      "color": "#2a3f5f"
                    },
                    "geo": {
                      "bgcolor": "white",
                      "lakecolor": "white",
                      "landcolor": "#E5ECF6",
                      "showlakes": true,
                      "showland": true,
                      "subunitcolor": "white"
                    },
                    "hoverlabel": {
                      "align": "left"
                    },
                    "hovermode": "closest",
                    "mapbox": {
                      "style": "light"
                    },
                    "paper_bgcolor": "white",
                    "plot_bgcolor": "#E5ECF6",
                    "polar": {
                      "angularaxis": {
                        "gridcolor": "white",
                        "linecolor": "white",
                        "ticks": ""
                      },
                      "bgcolor": "#E5ECF6",
                      "radialaxis": {
                        "gridcolor": "white",
                        "linecolor": "white",
                        "ticks": ""
                      }
                    },
                    "scene": {
                      "xaxis": {
                        "backgroundcolor": "#E5ECF6",
                        "gridcolor": "white",
                        "gridwidth": 2,
                        "linecolor": "white",
                        "showbackground": true,
                        "ticks": "",
                        "zerolinecolor": "white"
                      },
                      "yaxis": {
                        "backgroundcolor": "#E5ECF6",
                        "gridcolor": "white",
                        "gridwidth": 2,
                        "linecolor": "white",
                        "showbackground": true,
                        "ticks": "",
                        "zerolinecolor": "white"
                      },
                      "zaxis": {
                        "backgroundcolor": "#E5ECF6",
                        "gridcolor": "white",
                        "gridwidth": 2,
                        "linecolor": "white",
                        "showbackground": true,
                        "ticks": "",
                        "zerolinecolor": "white"
                      }
                    },
                    "shapedefaults": {
                      "line": {
                        "color": "#2a3f5f"
                      }
                    },
                    "ternary": {
                      "aaxis": {
                        "gridcolor": "white",
                        "linecolor": "white",
                        "ticks": ""
                      },
                      "baxis": {
                        "gridcolor": "white",
                        "linecolor": "white",
                        "ticks": ""
                      },
                      "bgcolor": "#E5ECF6",
                      "caxis": {
                        "gridcolor": "white",
                        "linecolor": "white",
                        "ticks": ""
                      }
                    },
                    "title": {
                      "x": 0.05
                    },
                    "xaxis": {
                      "automargin": true,
                      "gridcolor": "white",
                      "linecolor": "white",
                      "ticks": "",
                      "title": {
                        "standoff": 15
                      },
                      "zerolinecolor": "white",
                      "zerolinewidth": 2
                    },
                    "yaxis": {
                      "automargin": true,
                      "gridcolor": "white",
                      "linecolor": "white",
                      "ticks": "",
                      "title": {
                        "standoff": 15
                      },
                      "zerolinecolor": "white",
                      "zerolinewidth": 2
                    }
                  }
                },
                "title": {
                  "text": "FCMEANS Clusters(k=6) on PCA Space"
                }
              }
            }
          },
          "metadata": {},
          "output_type": "display_data"
        }
      ],
      "source": [
        "import numpy as np\n",
        "import skfuzzy as fuzz\n",
        "\n",
        "\n",
        "data = X_umap.T\n",
        "\n",
        "n_clusters = 6\n",
        "cntr, u, u0, d, jm, p, fpc = fuzz.cluster.cmeans(\n",
        "    data, c=n_clusters, m=2.0, error=0.005, maxiter=1000, init=None, seed=0\n",
        ")\n",
        "\n",
        "fcm_labels1 = np.argmax(u, axis=0)\n",
        "df1 = pd.DataFrame(X_pca3, columns=[\"PC1\",\"PC2\",\"PC3\"])\n",
        "df1[\"cluster\"] = fcm_labels1\n",
        "fig = px.scatter_3d(df1, x=\"PC1\", y=\"PC2\", z=\"PC3\",\n",
        "                    color=\"cluster\", opacity=0.7,\n",
        "                    title=\"FCMEANS Clusters(k=6) on PCA Space\")\n",
        "fig.show()"
      ]
    },
    {
      "cell_type": "code",
      "execution_count": 43,
      "metadata": {
        "colab": {
          "base_uri": "https://localhost:8080/"
        },
        "id": "c_SjSe1GNJMQ",
        "outputId": "545d6288-f332-4dcb-d463-d566707df9a7"
      },
      "outputs": [
        {
          "name": "stdout",
          "output_type": "stream",
          "text": [
            "K=3, Silhouette Score: 0.6189\n",
            "K=4, Silhouette Score: 0.4846\n",
            "K=5, Silhouette Score: 0.4195\n",
            "K=6, Silhouette Score: 0.4808\n",
            "K=7, Silhouette Score: 0.5067\n",
            "K=8, Silhouette Score: 0.4794\n",
            "Best K: 3 with Silhouette Score: 0.6189\n"
          ]
        }
      ],
      "source": [
        "best_k = None\n",
        "best_score = -1\n",
        "for k in range(3, 9):\n",
        "    n_clusters = k\n",
        "    cntr, u, u0, d, jm, p, fpc = fuzz.cluster.cmeans(\n",
        "    data, c=n_clusters, m=2.0, error=0.005, maxiter=1000, init=None, seed=0\n",
        ")\n",
        "\n",
        "    fcm_labels = np.argmax(u, axis=0)\n",
        "    score = silhouette_score(X_umap, fcm_labels)\n",
        "    print(f\"K={k}, Silhouette Score: {score:.4f}\")\n",
        "\n",
        "    if score > best_score:\n",
        "        best_score = score\n",
        "        best_k = k\n",
        "\n",
        "print(f\"Best K: {best_k} with Silhouette Score: {best_score:.4f}\")"
      ]
    },
    {
      "cell_type": "markdown",
      "metadata": {
        "id": "Jlg1ygtGNo5_"
      },
      "source": [
        "##For optimal number of clusters determined by Silhouette score"
      ]
    },
    {
      "cell_type": "code",
      "execution_count": 44,
      "metadata": {
        "colab": {
          "base_uri": "https://localhost:8080/",
          "height": 542
        },
        "id": "3uFw7tTfNkAM",
        "outputId": "67a81a84-e51b-4da3-dcf9-e3582a90b455"
      },
      "outputs": [
        {
          "data": {
            "application/vnd.plotly.v1+json": {
              "config": {
                "plotlyServerURL": "https://plot.ly"
              },
              "data": [
                {
                  "hovertemplate": "PC1=%{x}<br>PC2=%{y}<br>PC3=%{z}<br>cluster=%{marker.color}<extra></extra>",
                  "legendgroup": "",
                  "marker": {
                    "color": {
                      "bdata": "AAAAAAAAAAAAAAAAAAAAAAAAAAAAAAAAAAAAAAAAAAAAAAAAAAAAAAAAAAAAAAAAAAAAAAAAAAAAAAAAAAAAAAAAAAAAAAACAgICAgICAgICAgICAgEBAQEBAQEBAQEBAQEBAQEBAQEBAQEBAQEBAQEBAQEBAQEBAQEBAQEBAQEBAQEBAQEBAQEBAQEBAQEBAQEBAQEBAQ==",
                      "dtype": "i1"
                    },
                    "coloraxis": "coloraxis",
                    "opacity": 0.7,
                    "symbol": "circle"
                  },
                  "mode": "markers",
                  "name": "",
                  "scene": "scene",
                  "showlegend": false,
                  "type": "scatter3d",
                  "x": {
                    "bdata": "9Z32lsYVWcAKOtef/qhRwL3VuLubyl7AMzdC8cZAT8BRJmyTnARRwMHzy9PFBk3AI/SCqxHUUcDnh9QaWnJOwHsUf5crnVHAaGJs0JHWUsChVpKqi/9HwDVZ9USe5kHAH943aq6nNcCvPJmC7kJJwGFC0xuTY0DAx65bsf1TSMCwwy/E/XQ0wB2gBSl8G1DAasq6xgQEPsCEF8f5aolAwPzI/PCaP1LAJlAySv3M9b9Cv2aG14pVwIxs5JAKA0PApMIiXHwaQcDVBF54jTM/wL/Um1xxG0HAAoUeMNmgTMCIInRJG504wD3YhTGFYUPAZjoYlrMsRMBBGzUr6LtKwG6i91LUKzHArCzgP5ByRMBsH1y2ka/iP3dtzwraOkXAFWXdEyEAJsBTjWf1oJI8wJYy2NK5HkbAWklDTGKkMMCgulGaIHhHwDIivTDZXwbAvUM6i0dORcB+58OXv7QYwLp65oedBzLAeDb68B9YScBMopC/IXImwPL0BaMtgz7ARWBlDMpiKsAnyYsv1B04wM3p6U/kTT3AHzmYDt4QLsBCOJMrDXZCQDNcpOsu6SLA2VWO5K7SE8DfmmM3feEQwOxZ21iz+DlAFN5AVfRiFUA6MdY8zWs4wCC03zubhjtAqel7Vkn3MED/8vAMx4MmwNz8rsH2lApAwT/5gB7pKUBp6BTAr9k8QNWRt8uRYztAl02pzQw1TMCwExVJ7OUuQONbUtlctUNAhEIkcqXY+r+HGQDtGX0gwOme+bsOF2LA3zNA7qsyYcBsV89d/xhawOd0TqxNbF/A6wOouI1KYMCJvfxM7TFhwBR1IGnQCl7AMCtYLeAuXcA57xkGpoViwEH7fgnU/1rApP+ATY59YsCqAJmotVlYwC0Kj9DzqGDAcCDgMsklX8BaoEki5HhYQD2OkHEfplhAhlsr7nBdXUC+pP9sK+9aQI9sPsOf8llAr5av7J7dWkCfjoTblgZZQIL8uqAD805AoZwE59xrT0B28wzKXHBQQMYE7oT/YExA3dBir2F5UEDsjHyRJDRHQEI5owRzgVJAEff8KCxGUEBmrQVlpmlTQHIK3LSNAlNAFEnBhC+nVkAayq1013dQQN2ah/3vtVJAoojcyljeUECq14R3IZ9SQL9LxFqnb1NA6qQEqKwRSkBSZMEaBhxIQEp3ApyzLFRAjcde/vNjV0BdQY2cPjBDQP+Gxm0ODFBACFFl/8D6VUCJdCiI+5ZNQLwTp/iuPElASOCAK/psTkCPrOg2ZfpWQNSxAZaAzkpAIemyf1hTTUBDLVduluhOQAdv2LtESArAsRhGT8ECP0AZMb6N9VJBQEFz0cmUjkVAIh1peuwL9r8woxzIkVNVQA2OO/m69UVA+pr7z/JfR0BlqdTWSU5OQId9+1l3DlJAbo6Nk/bFSEBX0PGsA6pHQA6iPwFIbUZAUWp07v6tNECbYNEAtxBJQMncxXa1YUtA+67MtrfDN0DKcF6c1+UxQBjBW9x4xk1AlmXxU2gHJcCYlxNYkag7QCi2oXbwnzhAkv0QZOrqRkCPexZNbVZCQIjyKeEaA01AdMQe0KMdMUA8T8Dd3ZgiQBGWBOSW5kNAsF/7trtzQ0A=",
                    "dtype": "f8"
                  },
                  "y": {
                    "bdata": "vIreEvd0SEDWe1lhJahNQGYpAUkdHzBA8sRR/PUbUEB/g0bQ1t1OQFl0REktIjtAE/KPDFPcRUCExhC+wYBQQHCmgz+8ZFJAr8X4J/1OVEDug8dibztKQJGIscbKlTpAmtgd67oTNUBtR5mkygVTQCUqvvFV3zNAIPnN6S5INUA+0AJRkpwUQFjw6jVUKUtARmIqghe3TkAxXqE5XAxUQJdWLuXAIThAgipazpqjTUBP9+liRtBIQKREJ7MztlFAhuKw0EKrRUB7rDOukqNCQCVF7AyHSkFATQuRd5ykSUDf5Q50qbZFQF0b2HIqhFNAW5wByRHaIUA7zt0qOto0QOaUyHnQFz9AslgQw75/NkAVq/metqpGQNMVXDIRkkdAyJMuYOdwKkDrlM3Jf59MQMdzq9BkYENArKuA8EUxHkApEZpQ8sswQIDM8Ig14kBA4msXw+MvOUCr+ywvFk5DQD9NEWgfRkdAuL3Qy+5yOED8Byn0at5LQCZx0SriCUpAVkO4PMayOkBUVLByoQFLQNvNyOdfgVBAMjY2JSmdPkCCYJvPJ7tCQHRW1kGXp/k/pplm3REnQUCvKPoKE41IQBQFD2SxSkRAaS3qTzM5QUBEN+7JcJMnwJ56TjAxbuA/jcDjt9DuTUB/F0XrtbY9QNKjsD55Q0FAwAuMZCZDQUBMUrG6v6gRwLHQte7RCyxAdmU2w+Q7SEAY0+MRcaJMQM7b354Z+y1AeXErBmIEIkBLTmIC7ZVDQERjY+9fyVnAVSMfAckzUsB5uBetKwBdwBRM5YOZQlTA4R3tTtAKXcCeyMv6btFWwC7PAZu1zFXAQd6MWuziXcAYdrPn9L5YwJMvDQnnFVzAr1jNX1unXMAttmTz8RJewCrV5Wx7xV3A1erwMNVMX8D9SSUvqURRwM0sM062fUTAn7rNLxBBRsBo7eyPk15RwLZvBwbQeU/A2rEM7sInVMBbpHgNmH1RwGLcYKAN9SRAiEGTbZ2NIkD4U5WcTKEiwMJj0OLrkSXAlFeVFSOIJ0DPs7tigUMlwIEb+wB4Ag3AnrWcIN7KF0AUJoNoC+ZFwJIOiXyIdRnAyrtJzc77QMC5biCzszQ9wEYUd3qDaDHAz2A93tO2KMAbJjySnFwmwAx0Eq3spjfANHjNkt7gI8DCVdPP2DktwCNGAPlGCkfAvzR+xpNI5T/fymLrkhgyQF3y+79Ys0TA31nHTFCqQMCxiXid5SdGwMbQ/IpEAzFABMniT72pIcCfqzSugD8pQHd1Ljxx+izA83F/lt9K+r9gUkJOPxMqwEP91ZlpWyBAleTk0moRBsAxGS1ovKc5wKcyqCfnpSXANpU1UFzPMsCLmKf3LhVFwDb76eIyoyDA0+eOR0DGKsDynNuZVZQ5wFbAu30viEnAp/I2FVOxPsBiOBHKq8Q1QB3W3ZicAkTAoP8s94ESOMBS+y2Ipxo9wMTKMszhvwhAFur0Ms3cOMDkthGNLoQkwA6vpLTYREHALno6zhcCMMCVxbjxDgBAQAOlqrcK5irA77xIZ+HuQEB4E+oasbsqwOfM+KALB0nAX2M9SdGFJ8CRSCuD+Sc6wPLtd47hZSbARJnGq1Q5QcA=",
                    "dtype": "f8"
                  },
                  "z": {
                    "bdata": "1tZrsf2dAMCXx1Sl9CclwPuqztmyiyHAi0O+ik0rHMClu1kth5Tpv+VxII2QsSHAthydROL+4z9ZzgLCApwUwFPnaUnFLSTAMY0o5Mo4HMAGiy/M/WY0wHou/aBhW07AKN9MNIzvAMD66qhmx3g2wHX1rAPNlEjAAYgELoy9U8AQcQdj6OtRwJV9DXcrp0PAO3ANIc/EPMBlZ1eMMWFGwCEMfNK+0zvALBKLS9fRQ8CEpGvpDjU2wN5rjj5LMjvANO4kBDXvLcBFITmOL9VDwAjszeCI0iRA0IJmNEEmR8AH7UBLOcNDwJuZJxnq50DAtsSn3hOwUcC8gr6QYyVQwEIbel/vLEnAfurYGST3ScApTBY9LldNwOu3VeaJd0vAdtJHeMZeE8ClWM7exos8wKfh9MiyI07A5RTDmMpaRsAzzgG+mPJNwO+8mAPZpkhAj6sFbS8kUkAhd4gh6b1AQMQ1Ww5I501AJy47gBg/SkBkq+E0mWpDQJVfQQq+8lBAlG+vByZ2RkBrhE9EffRHQOZRSp1BVVFALxN1M3MsTED0bAjqHNMaQPfAc4t7kDhA5Gprs07IDcCOgZNEx0A4QAwtYVfCdSBAzP6AOk1DB8DPni2683pCQFazpP6kBTzAFsUoc1GaM0DNMnaNXfI2QLS0dp7aevQ/7CRuzN5zOcARGqGmaa0VQB72L8aZLEzAWCrUYvIhQsDCliY5yuUowCK8lj7ssBXAKYs1ht92N0B1qRAd2380QAsA7aWjgUJApRtdTLKkMEBeE9zJQS0qwA5EspWdJQtAdIWWRxhm9r/1mFj1QxAZQKDfPqm6ECFAZoj+7rFLGEBs127AwMEwQGM40lJEuRpAK42T6Yi8B0DNDk379AYkwGBS9GIq/Na/E+yWJ8ezB0DSbhQ7H0JZwGjfIS2QfVTAi+RFC7dNWMCDUk5ob95cwNhyKJBL4FrA6TzfiqrQWcCc9sMCswBewFo96oJ2oEBALU2ReHmTNUAr7hK7GhUyQC1ZYJo7ND5AKZQ71APw9b/59TDjTEo/QAGU0XQa5CVA/uiwEkzxOUDaX4NZLpY1QJxckGab7TVAy/xjVivRF8AcOqTiWuQnwGJfHyB0WDpA02kQ4bjWMkCxrWhycAoeQDmC8kggnDtApA/oymL9SkDLq+RrlQVEQCTVrqF11SjAL/OzSX/O1D+Oc/aija88QFxKpePEFD3A8mV2avUBKcCllpAwhZpDQJUdLpcscEVArKlCZY8uQEB+G/C2y/s5QI39DfrNCUdA8A4gD9TiQECEfxfA+IQ1wGOzSQK14lBA3bKL5aNjAUAF+bOC3l9HQOZMObLXMzZAGOKs8CY/QkA4wjCktP9BQPU1hfxPqTBA9lDIYfoiP0C8yzCskLI1QAUCFOf3fSHAeLhPcyzQSUBLv9j7nfQ1QMBnI2KUVU1ArUPEr68sQ0DRPCauIBQ9QHoJ9sM/YgzAA4RXMdTzNUC3zdk/PJ1IQBlZEzXHn/K/iqLnLcb3UECK4ovJsc04QLUJPZPEk0BAO9qDY25oHsCsxbWr7P01QMC//lS7diLAlcB0KZzFSUCdGBUsTzk8QIkQ79wBKTxAVfPdP2FXL0A=",
                    "dtype": "f8"
                  }
                }
              ],
              "layout": {
                "coloraxis": {
                  "colorbar": {
                    "title": {
                      "text": "cluster"
                    }
                  },
                  "colorscale": [
                    [
                      0,
                      "#0d0887"
                    ],
                    [
                      0.1111111111111111,
                      "#46039f"
                    ],
                    [
                      0.2222222222222222,
                      "#7201a8"
                    ],
                    [
                      0.3333333333333333,
                      "#9c179e"
                    ],
                    [
                      0.4444444444444444,
                      "#bd3786"
                    ],
                    [
                      0.5555555555555556,
                      "#d8576b"
                    ],
                    [
                      0.6666666666666666,
                      "#ed7953"
                    ],
                    [
                      0.7777777777777778,
                      "#fb9f3a"
                    ],
                    [
                      0.8888888888888888,
                      "#fdca26"
                    ],
                    [
                      1,
                      "#f0f921"
                    ]
                  ]
                },
                "legend": {
                  "tracegroupgap": 0
                },
                "scene": {
                  "domain": {
                    "x": [
                      0,
                      1
                    ],
                    "y": [
                      0,
                      1
                    ]
                  },
                  "xaxis": {
                    "title": {
                      "text": "PC1"
                    }
                  },
                  "yaxis": {
                    "title": {
                      "text": "PC2"
                    }
                  },
                  "zaxis": {
                    "title": {
                      "text": "PC3"
                    }
                  }
                },
                "template": {
                  "data": {
                    "bar": [
                      {
                        "error_x": {
                          "color": "#2a3f5f"
                        },
                        "error_y": {
                          "color": "#2a3f5f"
                        },
                        "marker": {
                          "line": {
                            "color": "#E5ECF6",
                            "width": 0.5
                          },
                          "pattern": {
                            "fillmode": "overlay",
                            "size": 10,
                            "solidity": 0.2
                          }
                        },
                        "type": "bar"
                      }
                    ],
                    "barpolar": [
                      {
                        "marker": {
                          "line": {
                            "color": "#E5ECF6",
                            "width": 0.5
                          },
                          "pattern": {
                            "fillmode": "overlay",
                            "size": 10,
                            "solidity": 0.2
                          }
                        },
                        "type": "barpolar"
                      }
                    ],
                    "carpet": [
                      {
                        "aaxis": {
                          "endlinecolor": "#2a3f5f",
                          "gridcolor": "white",
                          "linecolor": "white",
                          "minorgridcolor": "white",
                          "startlinecolor": "#2a3f5f"
                        },
                        "baxis": {
                          "endlinecolor": "#2a3f5f",
                          "gridcolor": "white",
                          "linecolor": "white",
                          "minorgridcolor": "white",
                          "startlinecolor": "#2a3f5f"
                        },
                        "type": "carpet"
                      }
                    ],
                    "choropleth": [
                      {
                        "colorbar": {
                          "outlinewidth": 0,
                          "ticks": ""
                        },
                        "type": "choropleth"
                      }
                    ],
                    "contour": [
                      {
                        "colorbar": {
                          "outlinewidth": 0,
                          "ticks": ""
                        },
                        "colorscale": [
                          [
                            0,
                            "#0d0887"
                          ],
                          [
                            0.1111111111111111,
                            "#46039f"
                          ],
                          [
                            0.2222222222222222,
                            "#7201a8"
                          ],
                          [
                            0.3333333333333333,
                            "#9c179e"
                          ],
                          [
                            0.4444444444444444,
                            "#bd3786"
                          ],
                          [
                            0.5555555555555556,
                            "#d8576b"
                          ],
                          [
                            0.6666666666666666,
                            "#ed7953"
                          ],
                          [
                            0.7777777777777778,
                            "#fb9f3a"
                          ],
                          [
                            0.8888888888888888,
                            "#fdca26"
                          ],
                          [
                            1,
                            "#f0f921"
                          ]
                        ],
                        "type": "contour"
                      }
                    ],
                    "contourcarpet": [
                      {
                        "colorbar": {
                          "outlinewidth": 0,
                          "ticks": ""
                        },
                        "type": "contourcarpet"
                      }
                    ],
                    "heatmap": [
                      {
                        "colorbar": {
                          "outlinewidth": 0,
                          "ticks": ""
                        },
                        "colorscale": [
                          [
                            0,
                            "#0d0887"
                          ],
                          [
                            0.1111111111111111,
                            "#46039f"
                          ],
                          [
                            0.2222222222222222,
                            "#7201a8"
                          ],
                          [
                            0.3333333333333333,
                            "#9c179e"
                          ],
                          [
                            0.4444444444444444,
                            "#bd3786"
                          ],
                          [
                            0.5555555555555556,
                            "#d8576b"
                          ],
                          [
                            0.6666666666666666,
                            "#ed7953"
                          ],
                          [
                            0.7777777777777778,
                            "#fb9f3a"
                          ],
                          [
                            0.8888888888888888,
                            "#fdca26"
                          ],
                          [
                            1,
                            "#f0f921"
                          ]
                        ],
                        "type": "heatmap"
                      }
                    ],
                    "histogram": [
                      {
                        "marker": {
                          "pattern": {
                            "fillmode": "overlay",
                            "size": 10,
                            "solidity": 0.2
                          }
                        },
                        "type": "histogram"
                      }
                    ],
                    "histogram2d": [
                      {
                        "colorbar": {
                          "outlinewidth": 0,
                          "ticks": ""
                        },
                        "colorscale": [
                          [
                            0,
                            "#0d0887"
                          ],
                          [
                            0.1111111111111111,
                            "#46039f"
                          ],
                          [
                            0.2222222222222222,
                            "#7201a8"
                          ],
                          [
                            0.3333333333333333,
                            "#9c179e"
                          ],
                          [
                            0.4444444444444444,
                            "#bd3786"
                          ],
                          [
                            0.5555555555555556,
                            "#d8576b"
                          ],
                          [
                            0.6666666666666666,
                            "#ed7953"
                          ],
                          [
                            0.7777777777777778,
                            "#fb9f3a"
                          ],
                          [
                            0.8888888888888888,
                            "#fdca26"
                          ],
                          [
                            1,
                            "#f0f921"
                          ]
                        ],
                        "type": "histogram2d"
                      }
                    ],
                    "histogram2dcontour": [
                      {
                        "colorbar": {
                          "outlinewidth": 0,
                          "ticks": ""
                        },
                        "colorscale": [
                          [
                            0,
                            "#0d0887"
                          ],
                          [
                            0.1111111111111111,
                            "#46039f"
                          ],
                          [
                            0.2222222222222222,
                            "#7201a8"
                          ],
                          [
                            0.3333333333333333,
                            "#9c179e"
                          ],
                          [
                            0.4444444444444444,
                            "#bd3786"
                          ],
                          [
                            0.5555555555555556,
                            "#d8576b"
                          ],
                          [
                            0.6666666666666666,
                            "#ed7953"
                          ],
                          [
                            0.7777777777777778,
                            "#fb9f3a"
                          ],
                          [
                            0.8888888888888888,
                            "#fdca26"
                          ],
                          [
                            1,
                            "#f0f921"
                          ]
                        ],
                        "type": "histogram2dcontour"
                      }
                    ],
                    "mesh3d": [
                      {
                        "colorbar": {
                          "outlinewidth": 0,
                          "ticks": ""
                        },
                        "type": "mesh3d"
                      }
                    ],
                    "parcoords": [
                      {
                        "line": {
                          "colorbar": {
                            "outlinewidth": 0,
                            "ticks": ""
                          }
                        },
                        "type": "parcoords"
                      }
                    ],
                    "pie": [
                      {
                        "automargin": true,
                        "type": "pie"
                      }
                    ],
                    "scatter": [
                      {
                        "fillpattern": {
                          "fillmode": "overlay",
                          "size": 10,
                          "solidity": 0.2
                        },
                        "type": "scatter"
                      }
                    ],
                    "scatter3d": [
                      {
                        "line": {
                          "colorbar": {
                            "outlinewidth": 0,
                            "ticks": ""
                          }
                        },
                        "marker": {
                          "colorbar": {
                            "outlinewidth": 0,
                            "ticks": ""
                          }
                        },
                        "type": "scatter3d"
                      }
                    ],
                    "scattercarpet": [
                      {
                        "marker": {
                          "colorbar": {
                            "outlinewidth": 0,
                            "ticks": ""
                          }
                        },
                        "type": "scattercarpet"
                      }
                    ],
                    "scattergeo": [
                      {
                        "marker": {
                          "colorbar": {
                            "outlinewidth": 0,
                            "ticks": ""
                          }
                        },
                        "type": "scattergeo"
                      }
                    ],
                    "scattergl": [
                      {
                        "marker": {
                          "colorbar": {
                            "outlinewidth": 0,
                            "ticks": ""
                          }
                        },
                        "type": "scattergl"
                      }
                    ],
                    "scattermap": [
                      {
                        "marker": {
                          "colorbar": {
                            "outlinewidth": 0,
                            "ticks": ""
                          }
                        },
                        "type": "scattermap"
                      }
                    ],
                    "scattermapbox": [
                      {
                        "marker": {
                          "colorbar": {
                            "outlinewidth": 0,
                            "ticks": ""
                          }
                        },
                        "type": "scattermapbox"
                      }
                    ],
                    "scatterpolar": [
                      {
                        "marker": {
                          "colorbar": {
                            "outlinewidth": 0,
                            "ticks": ""
                          }
                        },
                        "type": "scatterpolar"
                      }
                    ],
                    "scatterpolargl": [
                      {
                        "marker": {
                          "colorbar": {
                            "outlinewidth": 0,
                            "ticks": ""
                          }
                        },
                        "type": "scatterpolargl"
                      }
                    ],
                    "scatterternary": [
                      {
                        "marker": {
                          "colorbar": {
                            "outlinewidth": 0,
                            "ticks": ""
                          }
                        },
                        "type": "scatterternary"
                      }
                    ],
                    "surface": [
                      {
                        "colorbar": {
                          "outlinewidth": 0,
                          "ticks": ""
                        },
                        "colorscale": [
                          [
                            0,
                            "#0d0887"
                          ],
                          [
                            0.1111111111111111,
                            "#46039f"
                          ],
                          [
                            0.2222222222222222,
                            "#7201a8"
                          ],
                          [
                            0.3333333333333333,
                            "#9c179e"
                          ],
                          [
                            0.4444444444444444,
                            "#bd3786"
                          ],
                          [
                            0.5555555555555556,
                            "#d8576b"
                          ],
                          [
                            0.6666666666666666,
                            "#ed7953"
                          ],
                          [
                            0.7777777777777778,
                            "#fb9f3a"
                          ],
                          [
                            0.8888888888888888,
                            "#fdca26"
                          ],
                          [
                            1,
                            "#f0f921"
                          ]
                        ],
                        "type": "surface"
                      }
                    ],
                    "table": [
                      {
                        "cells": {
                          "fill": {
                            "color": "#EBF0F8"
                          },
                          "line": {
                            "color": "white"
                          }
                        },
                        "header": {
                          "fill": {
                            "color": "#C8D4E3"
                          },
                          "line": {
                            "color": "white"
                          }
                        },
                        "type": "table"
                      }
                    ]
                  },
                  "layout": {
                    "annotationdefaults": {
                      "arrowcolor": "#2a3f5f",
                      "arrowhead": 0,
                      "arrowwidth": 1
                    },
                    "autotypenumbers": "strict",
                    "coloraxis": {
                      "colorbar": {
                        "outlinewidth": 0,
                        "ticks": ""
                      }
                    },
                    "colorscale": {
                      "diverging": [
                        [
                          0,
                          "#8e0152"
                        ],
                        [
                          0.1,
                          "#c51b7d"
                        ],
                        [
                          0.2,
                          "#de77ae"
                        ],
                        [
                          0.3,
                          "#f1b6da"
                        ],
                        [
                          0.4,
                          "#fde0ef"
                        ],
                        [
                          0.5,
                          "#f7f7f7"
                        ],
                        [
                          0.6,
                          "#e6f5d0"
                        ],
                        [
                          0.7,
                          "#b8e186"
                        ],
                        [
                          0.8,
                          "#7fbc41"
                        ],
                        [
                          0.9,
                          "#4d9221"
                        ],
                        [
                          1,
                          "#276419"
                        ]
                      ],
                      "sequential": [
                        [
                          0,
                          "#0d0887"
                        ],
                        [
                          0.1111111111111111,
                          "#46039f"
                        ],
                        [
                          0.2222222222222222,
                          "#7201a8"
                        ],
                        [
                          0.3333333333333333,
                          "#9c179e"
                        ],
                        [
                          0.4444444444444444,
                          "#bd3786"
                        ],
                        [
                          0.5555555555555556,
                          "#d8576b"
                        ],
                        [
                          0.6666666666666666,
                          "#ed7953"
                        ],
                        [
                          0.7777777777777778,
                          "#fb9f3a"
                        ],
                        [
                          0.8888888888888888,
                          "#fdca26"
                        ],
                        [
                          1,
                          "#f0f921"
                        ]
                      ],
                      "sequentialminus": [
                        [
                          0,
                          "#0d0887"
                        ],
                        [
                          0.1111111111111111,
                          "#46039f"
                        ],
                        [
                          0.2222222222222222,
                          "#7201a8"
                        ],
                        [
                          0.3333333333333333,
                          "#9c179e"
                        ],
                        [
                          0.4444444444444444,
                          "#bd3786"
                        ],
                        [
                          0.5555555555555556,
                          "#d8576b"
                        ],
                        [
                          0.6666666666666666,
                          "#ed7953"
                        ],
                        [
                          0.7777777777777778,
                          "#fb9f3a"
                        ],
                        [
                          0.8888888888888888,
                          "#fdca26"
                        ],
                        [
                          1,
                          "#f0f921"
                        ]
                      ]
                    },
                    "colorway": [
                      "#636efa",
                      "#EF553B",
                      "#00cc96",
                      "#ab63fa",
                      "#FFA15A",
                      "#19d3f3",
                      "#FF6692",
                      "#B6E880",
                      "#FF97FF",
                      "#FECB52"
                    ],
                    "font": {
                      "color": "#2a3f5f"
                    },
                    "geo": {
                      "bgcolor": "white",
                      "lakecolor": "white",
                      "landcolor": "#E5ECF6",
                      "showlakes": true,
                      "showland": true,
                      "subunitcolor": "white"
                    },
                    "hoverlabel": {
                      "align": "left"
                    },
                    "hovermode": "closest",
                    "mapbox": {
                      "style": "light"
                    },
                    "paper_bgcolor": "white",
                    "plot_bgcolor": "#E5ECF6",
                    "polar": {
                      "angularaxis": {
                        "gridcolor": "white",
                        "linecolor": "white",
                        "ticks": ""
                      },
                      "bgcolor": "#E5ECF6",
                      "radialaxis": {
                        "gridcolor": "white",
                        "linecolor": "white",
                        "ticks": ""
                      }
                    },
                    "scene": {
                      "xaxis": {
                        "backgroundcolor": "#E5ECF6",
                        "gridcolor": "white",
                        "gridwidth": 2,
                        "linecolor": "white",
                        "showbackground": true,
                        "ticks": "",
                        "zerolinecolor": "white"
                      },
                      "yaxis": {
                        "backgroundcolor": "#E5ECF6",
                        "gridcolor": "white",
                        "gridwidth": 2,
                        "linecolor": "white",
                        "showbackground": true,
                        "ticks": "",
                        "zerolinecolor": "white"
                      },
                      "zaxis": {
                        "backgroundcolor": "#E5ECF6",
                        "gridcolor": "white",
                        "gridwidth": 2,
                        "linecolor": "white",
                        "showbackground": true,
                        "ticks": "",
                        "zerolinecolor": "white"
                      }
                    },
                    "shapedefaults": {
                      "line": {
                        "color": "#2a3f5f"
                      }
                    },
                    "ternary": {
                      "aaxis": {
                        "gridcolor": "white",
                        "linecolor": "white",
                        "ticks": ""
                      },
                      "baxis": {
                        "gridcolor": "white",
                        "linecolor": "white",
                        "ticks": ""
                      },
                      "bgcolor": "#E5ECF6",
                      "caxis": {
                        "gridcolor": "white",
                        "linecolor": "white",
                        "ticks": ""
                      }
                    },
                    "title": {
                      "x": 0.05
                    },
                    "xaxis": {
                      "automargin": true,
                      "gridcolor": "white",
                      "linecolor": "white",
                      "ticks": "",
                      "title": {
                        "standoff": 15
                      },
                      "zerolinecolor": "white",
                      "zerolinewidth": 2
                    },
                    "yaxis": {
                      "automargin": true,
                      "gridcolor": "white",
                      "linecolor": "white",
                      "ticks": "",
                      "title": {
                        "standoff": 15
                      },
                      "zerolinecolor": "white",
                      "zerolinewidth": 2
                    }
                  }
                },
                "title": {
                  "text": "FCMEANS Clusters(k=3) on PCA Space"
                }
              }
            }
          },
          "metadata": {},
          "output_type": "display_data"
        }
      ],
      "source": [
        "n_clusters = 3\n",
        "cntr, u, u0, d, jm, p, fpc = fuzz.cluster.cmeans(\n",
        "    data, c=n_clusters, m=2.0, error=0.005, maxiter=1000, init=None, seed=0\n",
        ")\n",
        "\n",
        "fcm_labels2 = np.argmax(u, axis=0)\n",
        "df1 = pd.DataFrame(X_pca3, columns=[\"PC1\",\"PC2\",\"PC3\"])\n",
        "df1[\"cluster\"] = fcm_labels2\n",
        "fig = px.scatter_3d(df1, x=\"PC1\", y=\"PC2\", z=\"PC3\",\n",
        "                    color=\"cluster\", opacity=0.7,\n",
        "                    title=\"FCMEANS Clusters(k=3) on PCA Space\")\n",
        "fig.show()"
      ]
    },
    {
      "cell_type": "markdown",
      "metadata": {
        "id": "222Z_LDDVSIO"
      },
      "source": [
        "##Metrics"
      ]
    },
    {
      "cell_type": "markdown",
      "metadata": {
        "id": "dqhhoFskVgws"
      },
      "source": [
        "##For k=6"
      ]
    },
    {
      "cell_type": "code",
      "execution_count": 45,
      "metadata": {
        "id": "dYKQOjwBbCbL"
      },
      "outputs": [],
      "source": [
        "labels=df[\"type\"]"
      ]
    },
    {
      "cell_type": "code",
      "execution_count": 46,
      "metadata": {
        "colab": {
          "base_uri": "https://localhost:8080/"
        },
        "id": "Gyx-iNFNVZeo",
        "outputId": "655d9d8b-de87-4cfd-f567-886e40820ae0"
      },
      "outputs": [
        {
          "name": "stdout",
          "output_type": "stream",
          "text": [
            "          Method       ARI  Silhouette    Purity\n",
            "0         KMeans  0.644721    0.585260  0.768212\n",
            "1    Mahalanobis  0.334609    0.107651  0.569536\n",
            "2            GMM  0.594070    0.569849  0.741722\n",
            "3         DBSCAN  0.080284    0.443117  0.331126\n",
            "4            FCM  0.817347    0.480810  0.927152\n",
            "5  Agglomerative  0.666021    0.601356  0.774834\n"
          ]
        }
      ],
      "source": [
        "from sklearn.metrics import adjusted_rand_score, silhouette_score\n",
        "import numpy as np\n",
        "\n",
        "def purity_score(y_true, y_pred):\n",
        "    contingency = pd.crosstab(y_true, y_pred)\n",
        "    return np.sum(np.max(contingency.values, axis=0)) / np.sum(contingency.values)\n",
        "\n",
        "methods = {\n",
        "    \"KMeans\": km_labels1,\n",
        "    \"Mahalanobis\": labels_maha1,\n",
        "    \"GMM\": gmm_labels1,\n",
        "    \"DBSCAN\": y_dbscan1,\n",
        "    \"FCM\": fcm_labels1,\n",
        "}\n",
        "\n",
        "results = []\n",
        "for name, pred in methods.items():\n",
        "    sil = silhouette_score(X_umap, pred)\n",
        "    ari = adjusted_rand_score(labels, pred)\n",
        "    pur = purity_score(labels, pred)\n",
        "    results.append((name, ari, sil, pur))\n",
        "sil_agglo=silhouette_score(D, agglo_labels1,metric=\"precomputed\")\n",
        "ari_agglo=adjusted_rand_score(labels, agglo_labels1)\n",
        "pur_agglo=purity_score(labels, agglo_labels1)\n",
        "results.append((\"Agglomerative\", ari_agglo, sil_agglo, pur_agglo))\n",
        "results_df = pd.DataFrame(results, columns=[\"Method\",\"ARI\",\"Silhouette\",\"Purity\"])\n",
        "print(results_df)"
      ]
    },
    {
      "cell_type": "markdown",
      "metadata": {
        "id": "h2bB_2uqXG39"
      },
      "source": [
        "##For optimal k"
      ]
    },
    {
      "cell_type": "code",
      "execution_count": 47,
      "metadata": {
        "colab": {
          "base_uri": "https://localhost:8080/"
        },
        "id": "xDokr0eDYGCQ",
        "outputId": "16351adb-e046-4a10-9206-68c3516c02e6"
      },
      "outputs": [
        {
          "name": "stdout",
          "output_type": "stream",
          "text": [
            "          Method       ARI  Silhouette    Purity\n",
            "0         KMeans  0.506105    0.618886  0.562914\n",
            "1    Mahalanobis  0.413677    0.395145  0.556291\n",
            "2            GMM  0.402081    0.558870  0.549669\n",
            "3         DBSCAN  0.080284    0.443117  0.331126\n",
            "4            FCM  0.506105    0.618886  0.562914\n",
            "5  Agglomerative  0.498979    0.825417  0.596026\n"
          ]
        }
      ],
      "source": [
        "methods = {\n",
        "    \"KMeans\": km_labels2,\n",
        "    \"Mahalanobis\": labels_maha2,\n",
        "    \"GMM\": gmm_labels2,\n",
        "    \"DBSCAN\": y_dbscan1,\n",
        "    \"FCM\": fcm_labels2,\n",
        "}\n",
        "\n",
        "results = []\n",
        "for name, pred in methods.items():\n",
        "    sil = silhouette_score(X_umap, pred)\n",
        "    ari = adjusted_rand_score(labels, pred)\n",
        "    pur = purity_score(labels, pred)\n",
        "    results.append((name, ari, sil, pur))\n",
        "sil_agglo=silhouette_score(D, agglo_labels2,metric=\"precomputed\")\n",
        "ari_agglo=adjusted_rand_score(labels, agglo_labels2)\n",
        "pur_agglo=purity_score(labels, agglo_labels2)\n",
        "results.append((\"Agglomerative\", ari_agglo, sil_agglo, pur_agglo))\n",
        "results_df = pd.DataFrame(results, columns=[\"Method\",\"ARI\",\"Silhouette\",\"Purity\"])\n",
        "print(results_df)"
      ]
    },
    {
      "cell_type": "markdown",
      "metadata": {
        "id": "AD7M0kfAVhQS"
      },
      "source": [
        "#Determinig Potential Biomarkers within each cluster"
      ]
    },
    {
      "cell_type": "code",
      "execution_count": 48,
      "metadata": {
        "colab": {
          "base_uri": "https://localhost:8080/"
        },
        "id": "zKaLEZtM9u__",
        "outputId": "54031da6-f8a7-4e05-a815-34ed8d9d0ce7"
      },
      "outputs": [
        {
          "name": "stdout",
          "output_type": "stream",
          "text": [
            "Cluster 0 biomarkers: ['216836_s_at', '210930_s_at', '210761_s_at', '224447_s_at', '234354_x_at']\n",
            "Cluster 1 biomarkers: ['218211_s_at', '226961_at', '235046_at', '229150_at', '228302_x_at']\n",
            "Cluster 2 biomarkers: ['202878_s_at', '225353_s_at', '223343_at', '200795_at', '213975_s_at']\n",
            "Cluster 3 biomarkers: ['204603_at', '212195_at', '236641_at', '205046_at', '219010_at']\n",
            "Cluster 4 biomarkers: ['228241_at', '205225_at', '232322_x_at', '209173_at', '223103_at']\n",
            "Cluster 5 biomarkers: ['222981_s_at', '219935_at', '222262_s_at', '240277_at', '215438_x_at']\n"
          ]
        }
      ],
      "source": [
        "import numpy as np\n",
        "import pandas as pd\n",
        "from scipy.stats import ttest_ind\n",
        "\n",
        "biomarkers = {}\n",
        "for k in np.unique(labels):\n",
        "    idx_in  = labels == k\n",
        "    idx_out = ~idx_in\n",
        "\n",
        "    # Perform t‐tests across genes:\n",
        "    # expr_filt is genes × samples, so transpose to samples × genes\n",
        "    data_in  = expr_filt.T[idx_in]\n",
        "    data_out = expr_filt.T[idx_out]\n",
        "\n",
        "    # ttest_ind returns (tstats, pvalues)\n",
        "    tstats, pvals = ttest_ind(data_in, data_out, axis=0, equal_var=False)\n",
        "\n",
        "    # Select genes with p < 0.01\n",
        "    sig_idx = np.where(pvals < 0.01)[0]\n",
        "    # Rank by absolute t‐statistic\n",
        "    top_idx = sig_idx[np.argsort(-np.abs(tstats[sig_idx]))]\n",
        "    top_genes = expr_filt.index[top_idx][:5]  # top 5 genes\n",
        "\n",
        "    biomarkers[k] = list(top_genes)\n",
        "\n",
        "for k, genes in biomarkers.items():\n",
        "    print(f\"Cluster {k} biomarkers:\", genes)\n"
      ]
    },
    {
      "cell_type": "markdown",
      "metadata": {
        "id": "HweatAsiVxWt"
      },
      "source": [
        "#Gene Expression Heatmap"
      ]
    },
    {
      "cell_type": "code",
      "execution_count": 49,
      "metadata": {
        "colab": {
          "base_uri": "https://localhost:8080/",
          "height": 1000
        },
        "id": "zdwhc6nU_67v",
        "outputId": "2de0f0a0-d79e-423e-a512-df6f997b563b"
      },
      "outputs": [
        {
          "data": {
            "image/png": "[encoded data removed]",
            "text/plain": [
              "<Figure size 800x1000 with 4 Axes>"
            ]
          },
          "metadata": {},
          "output_type": "display_data"
        }
      ],
      "source": [
        "import seaborn as sns\n",
        "import matplotlib.pyplot as plt\n",
        "from scipy.cluster.hierarchy import linkage\n",
        "\n",
        "\n",
        "top25= expr_filt.var(axis=1).sort_values(ascending=False).index[:25]\n",
        "data_hm = expr_filt.loc[top25].T.copy()\n",
        "data_hm['cluster'] = agglo_labels1\n",
        "data_hm_sorted = data_hm.sort_values('cluster')\n",
        "heatmap_data = data_hm_sorted.drop('cluster', axis=1)\n",
        "row_linkage = linkage(heatmap_data, method='average')\n",
        "\n",
        "\n",
        "sns.clustermap(\n",
        "    heatmap_data,\n",
        "    row_linkage=row_linkage,\n",
        "    col_cluster=False,\n",
        "    cmap='vlag',\n",
        "    figsize=(8, 10)\n",
        ")\n",
        "plt.title(\"Heatmap of Top 25 Variable Genes (Samples Ordered by Agglomerative Cluster)\")\n",
        "plt.show()\n"
      ]
    },
    {
      "cell_type": "code",
      "execution_count": 79,
      "metadata": {
        "id": "eR6tx9JqGQrY"
      },
      "outputs": [],
      "source": []
    }
  ],
  "metadata": {
    "colab": {
      "provenance": []
    },
    "kernelspec": {
      "display_name": "Python 3",
      "name": "python3"
    },
    "language_info": {
      "codemirror_mode": {
        "name": "ipython",
        "version": 3
      },
      "file_extension": ".py",
      "mimetype": "text/x-python",
      "name": "python",
      "nbconvert_exporter": "python",
      "pygments_lexer": "ipython3",
      "version": "3.12.3"
    }
  },
  "nbformat": 4,
  "nbformat_minor": 0
}
